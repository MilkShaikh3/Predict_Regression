{
 "cells": [
  {
   "cell_type": "markdown",
   "metadata": {
    "colab_type": "text",
    "id": "VxL8mqyppwFd"
   },
   "source": [
    "# Introduction"
   ]
  },
  {
   "cell_type": "markdown",
   "metadata": {
    "colab_type": "text",
    "id": "BDb9lZ4Qp2Ut"
   },
   "source": [
    "Logistics in Sub-Saharan Africa increases the cost of manufactured goods by up to 320%; while in Europe, it only accounts for up to 90% of the manufacturing cost.\n",
    "\n",
    "Economies are better when logistics is efficient and affordable."
   ]
  },
  {
   "cell_type": "markdown",
   "metadata": {
    "colab_type": "text",
    "id": "jVvpMtGyqYQd"
   },
   "source": [
    "Sendy is a business-to-business platform established in 2014, to enable businesses of all types and sizes to transport goods more efficiently across East Africa.                                                                   \n",
    "\n",
    "Sendy is hosting a challenge to predict the estimated time of delivery of orders, from the point of driver pickup to the point of arrival at final destination.\n",
    "\n",
    "The solution will help Sendy enhance customer communication and improve the reliability of its service; which will ultimately improve customer experience. In addition, the solution will enable Sendy to realise cost savings, and ultimately reduce the cost of doing business, through improved resource management and planning for order scheduling."
   ]
  },
  {
   "cell_type": "markdown",
   "metadata": {
    "colab_type": "text",
    "id": "JO7bc0tLrPeY"
   },
   "source": [
    "The purpose of this notebook is to build a model that predicts an accurate delivery time, from picking up a package to arriving at the final destination. An accurate arrival time prediction will help Sendy to improve their logistics and communicate an accurate time to their customers."
   ]
  },
  {
   "cell_type": "markdown",
   "metadata": {
    "colab_type": "text",
    "id": "qFg9Yjg5r2FB"
   },
   "source": [
    "## Outline\n",
    "\n",
    "In order to meet this objective, the notebook will cover the following sections:\n",
    "\n",
    "\n",
    "\n",
    "*   Data Preprocessing applied to both the train and test datasets\n",
    "\n",
    "*   The building of various models \n",
    "\n",
    "*   The selection of the best model\n",
    "\n",
    "\n",
    "\n",
    "\n",
    "\n"
   ]
  },
  {
   "cell_type": "markdown",
   "metadata": {
    "colab_type": "text",
    "id": "V48RbNRxtXk9"
   },
   "source": [
    "## The dataset \n",
    "\n",
    "The dataset provided by Sendy includes order details and rider metrics based on orders made on the Sendy platform. \n",
    "\n",
    "\n",
    "*  **Order No** – Unique number identifying the order\n",
    "*  **User Id** – Unique number identifying the customer on a platform\n",
    "*  **Vehicle Type** – For this challenge limited to bikes, however in practice,    Sendy service extends to trucks and vans\n",
    "*  **Platform Type** – Platform used to place the order, there are 4 types\n",
    "*   **Personal or Business** – Customer type\n",
    "*   **Placement - Day of Month** i.e 1-31\n",
    "*   **Placement - Weekday (Monday = 1)**\n",
    "*   **Placement - Time** - Time of day the order was placed\n",
    "*   **Confirmation - Day of Month** i.e 1-31\n",
    "*   **Confirmation - Weekday (Monday = 1)**\n",
    "*   **Confirmation - Time** - time of day the order was confirmed by a rider\n",
    "*   **Arrival at Pickup - Day of Month** i.e 1-31\n",
    "*   **Arrival at Pickup - Weekday (Monday = 1)**\n",
    "*   **Arrival at Pickup - Time** - Time of day the rider arrived at the     location to pick up the order - as marked by the rider through the Sendy application\n",
    "\n",
    "*   **Pickup - Day of Month** i.e 1-31\n",
    "*   **Pickup - Weekday (Monday = 1)**\n",
    "*   **Pickup - Time** - Time of day the rider picked up the order - as marked by the rider through the Sendy application\n",
    "*   **Arrival at Delivery - Day of Month** i.e 1-31 **(NOT IN TEST SET)**\n",
    "*   **Arrival at Delivery - Weekday (Monday = 1)** **(NOT IN TEST SET)**\n",
    "*   **Arrival at Delivery - Time** - Time of day the rider arrived at the destination to deliver the order - as marked by the rider through the Sendy application **(NOT IN TEST SET)**\n",
    "*   **Distance covered (KM)** - The distance from Pickup to Destination\n",
    "*   **Temperature** -Temperature at the time of order placement in Degrees Celsius (measured every three hours)\n",
    "*   **Precipitation in Millimeters** - Precipitation at the time of order placement (measured every three hours)\n",
    "*   **Pickup Latitude and Longitude** - Latitude and longitude of pick up location\n",
    "*   **Destination Latitude and Longitude** - Latitude and longitude of delivery location\n",
    "*   **Rider ID** - ID of the Rider who accepted the order\n",
    "*   **Time from Pickup to Arrival** - Time in seconds between ‘Pickup’ and ‘Arrival at Destination’ - calculated from the columns for the purpose of facilitating the task\n",
    "*  **No of Orders** – Number of Orders the rider has delivered\n",
    "*  **Age** – Number of days since the rider delivered the first order\n",
    "*  **Average Rating** – Average rating of the rider\n",
    "*  **No of Ratings** - Number of ratings the rider has received. Rating an order is optional for the customer.\n",
    "\n",
    "\n",
    "\n",
    "\n",
    "\n",
    "\n",
    "\n",
    "\n",
    "\n",
    "\n",
    "\n",
    "\n",
    "\n",
    "\n",
    "\n",
    "\n",
    "\n",
    "\n",
    "\n",
    "\n",
    "\n",
    "\n",
    "\n",
    "\n",
    "\n",
    "\n",
    "\n",
    "\n",
    "\n"
   ]
  },
  {
   "cell_type": "markdown",
   "metadata": {
    "colab_type": "text",
    "id": "UjtAu6g4XwV5"
   },
   "source": [
    "# **Data Preprocessing**"
   ]
  },
  {
   "cell_type": "markdown",
   "metadata": {
    "colab_type": "text",
    "id": "v3e_DRkEscuC"
   },
   "source": [
    "## Train Data"
   ]
  },
  {
   "cell_type": "markdown",
   "metadata": {
    "colab_type": "text",
    "id": "eVk1qx5GWWEn"
   },
   "source": [
    "### Importing the libraries and the dataset"
   ]
  },
  {
   "cell_type": "code",
   "execution_count": 3,
   "metadata": {
    "colab": {},
    "colab_type": "code",
    "id": "Mg8p4I7EBs03"
   },
   "outputs": [],
   "source": [
    "import pandas as pd\n",
    "import matplotlib.pyplot as plt\n",
    "import numpy as np"
   ]
  },
  {
   "cell_type": "code",
   "execution_count": 4,
   "metadata": {
    "colab": {},
    "colab_type": "code",
    "id": "mHBI0FXwDcjy"
   },
   "outputs": [],
   "source": [
    "dataset1 = pd.read_csv('https://raw.githubusercontent.com/MilkShaikh3/Predict_Regression/master/Train.csv')\n",
    "dataset2 = pd.read_csv('https://raw.githubusercontent.com/MilkShaikh3/Predict_Regression/master/Riders.csv')"
   ]
  },
  {
   "cell_type": "markdown",
   "metadata": {
    "colab_type": "text",
    "id": "8gDbfi7bf-pg"
   },
   "source": [
    "The 2 datasets are now merged in order to have all the information contained in one DataFrame. "
   ]
  },
  {
   "cell_type": "code",
   "execution_count": 5,
   "metadata": {
    "colab": {},
    "colab_type": "code",
    "id": "5DXC-ynmZtVt"
   },
   "outputs": [],
   "source": [
    "train = pd.merge(dataset1, dataset2, how='left', on='Rider Id') "
   ]
  },
  {
   "cell_type": "code",
   "execution_count": 6,
   "metadata": {
    "colab": {
     "base_uri": "https://localhost:8080/",
     "height": 711
    },
    "colab_type": "code",
    "executionInfo": {
     "elapsed": 25021,
     "status": "ok",
     "timestamp": 1590332424365,
     "user": {
      "displayName": "abdullah shaikh",
      "photoUrl": "",
      "userId": "08883111522238731033"
     },
     "user_tz": -120
    },
    "id": "RcZRrUMXePBm",
    "outputId": "4c36a992-7798-48fd-89e6-ca5dbec4b06a"
   },
   "outputs": [
    {
     "output_type": "execute_result",
     "data": {
      "text/plain": "             Order No       User Id Vehicle Type  Platform Type  \\\n0       Order_No_4211   User_Id_633         Bike              3   \n1      Order_No_25375  User_Id_2285         Bike              3   \n2       Order_No_1899   User_Id_265         Bike              3   \n3       Order_No_9336  User_Id_1402         Bike              3   \n4      Order_No_27883  User_Id_1737         Bike              1   \n...               ...           ...          ...            ...   \n21196   Order_No_8834  User_Id_2001         Bike              3   \n21197  Order_No_22892  User_Id_1796         Bike              3   \n21198   Order_No_2831  User_Id_2956         Bike              3   \n21199   Order_No_6174  User_Id_2524         Bike              1   \n21200   Order_No_9836   User_Id_718         Bike              3   \n\n      Personal or Business  Placement - Day of Month  \\\n0                 Business                         9   \n1                 Personal                        12   \n2                 Business                        30   \n3                 Business                        15   \n4                 Personal                        13   \n...                    ...                       ...   \n21196             Personal                        20   \n21197             Business                        13   \n21198             Business                         7   \n21199             Personal                         4   \n21200             Business                        26   \n\n       Placement - Weekday (Mo = 1) Placement - Time  \\\n0                                 5       9:35:46 AM   \n1                                 5      11:16:16 AM   \n2                                 2      12:39:25 PM   \n3                                 5       9:25:34 AM   \n4                                 1       9:55:18 AM   \n...                             ...              ...   \n21196                             3       3:54:38 PM   \n21197                             6      10:13:34 AM   \n21198                             4       5:06:16 PM   \n21199                             3       9:31:39 AM   \n21200                             2       2:19:47 PM   \n\n       Confirmation - Day of Month  Confirmation - Weekday (Mo = 1)  ...  \\\n0                                9                                5  ...   \n1                               12                                5  ...   \n2                               30                                2  ...   \n3                               15                                5  ...   \n4                               13                                1  ...   \n...                            ...                              ...  ...   \n21196                           20                                3  ...   \n21197                           13                                6  ...   \n21198                            7                                4  ...   \n21199                            4                                3  ...   \n21200                           26                                2  ...   \n\n      Pickup Lat  Pickup Long  Destination Lat Destination Long      Rider Id  \\\n0      -1.317755    36.830370        -1.300406        36.829741  Rider_Id_432   \n1      -1.351453    36.899315        -1.295004        36.814358  Rider_Id_856   \n2      -1.308284    36.843419        -1.300921        36.828195  Rider_Id_155   \n3      -1.281301    36.832396        -1.257147        36.795063  Rider_Id_855   \n4      -1.266597    36.792118        -1.295041        36.809817  Rider_Id_770   \n...          ...          ...              ...              ...           ...   \n21196  -1.258414    36.804800        -1.275285        36.802702  Rider_Id_953   \n21197  -1.307143    36.825009        -1.331619        36.847976  Rider_Id_155   \n21198  -1.286018    36.897534        -1.258414        36.804800  Rider_Id_697   \n21199  -1.250030    36.874167        -1.279209        36.794872  Rider_Id_347   \n21200  -1.255189    36.782203        -1.320157        36.830887  Rider_Id_177   \n\n       Time from Pickup to Arrival No_Of_Orders   Age  Average_Rating  \\\n0                              745         1637  1309            13.8   \n1                             1993          396   339            13.6   \n2                              455         1023   242            12.5   \n3                             1341          886   283            14.5   \n4                             1214         2311   872            14.1   \n...                            ...          ...   ...             ...   \n21196                            9         1270   367            14.4   \n21197                          770         1023   242            12.5   \n21198                         2953          314   473            13.8   \n21199                         1380         2451  1821            14.0   \n21200                         2128          526   286            13.6   \n\n      No_of_Ratings  \n0               549  \n1                69  \n2               114  \n3               113  \n4               533  \n...             ...  \n21196           131  \n21197           114  \n21198            29  \n21199          1101  \n21200            70  \n\n[21201 rows x 33 columns]",
      "text/html": "<div>\n<style scoped>\n    .dataframe tbody tr th:only-of-type {\n        vertical-align: middle;\n    }\n\n    .dataframe tbody tr th {\n        vertical-align: top;\n    }\n\n    .dataframe thead th {\n        text-align: right;\n    }\n</style>\n<table border=\"1\" class=\"dataframe\">\n  <thead>\n    <tr style=\"text-align: right;\">\n      <th></th>\n      <th>Order No</th>\n      <th>User Id</th>\n      <th>Vehicle Type</th>\n      <th>Platform Type</th>\n      <th>Personal or Business</th>\n      <th>Placement - Day of Month</th>\n      <th>Placement - Weekday (Mo = 1)</th>\n      <th>Placement - Time</th>\n      <th>Confirmation - Day of Month</th>\n      <th>Confirmation - Weekday (Mo = 1)</th>\n      <th>...</th>\n      <th>Pickup Lat</th>\n      <th>Pickup Long</th>\n      <th>Destination Lat</th>\n      <th>Destination Long</th>\n      <th>Rider Id</th>\n      <th>Time from Pickup to Arrival</th>\n      <th>No_Of_Orders</th>\n      <th>Age</th>\n      <th>Average_Rating</th>\n      <th>No_of_Ratings</th>\n    </tr>\n  </thead>\n  <tbody>\n    <tr>\n      <th>0</th>\n      <td>Order_No_4211</td>\n      <td>User_Id_633</td>\n      <td>Bike</td>\n      <td>3</td>\n      <td>Business</td>\n      <td>9</td>\n      <td>5</td>\n      <td>9:35:46 AM</td>\n      <td>9</td>\n      <td>5</td>\n      <td>...</td>\n      <td>-1.317755</td>\n      <td>36.830370</td>\n      <td>-1.300406</td>\n      <td>36.829741</td>\n      <td>Rider_Id_432</td>\n      <td>745</td>\n      <td>1637</td>\n      <td>1309</td>\n      <td>13.8</td>\n      <td>549</td>\n    </tr>\n    <tr>\n      <th>1</th>\n      <td>Order_No_25375</td>\n      <td>User_Id_2285</td>\n      <td>Bike</td>\n      <td>3</td>\n      <td>Personal</td>\n      <td>12</td>\n      <td>5</td>\n      <td>11:16:16 AM</td>\n      <td>12</td>\n      <td>5</td>\n      <td>...</td>\n      <td>-1.351453</td>\n      <td>36.899315</td>\n      <td>-1.295004</td>\n      <td>36.814358</td>\n      <td>Rider_Id_856</td>\n      <td>1993</td>\n      <td>396</td>\n      <td>339</td>\n      <td>13.6</td>\n      <td>69</td>\n    </tr>\n    <tr>\n      <th>2</th>\n      <td>Order_No_1899</td>\n      <td>User_Id_265</td>\n      <td>Bike</td>\n      <td>3</td>\n      <td>Business</td>\n      <td>30</td>\n      <td>2</td>\n      <td>12:39:25 PM</td>\n      <td>30</td>\n      <td>2</td>\n      <td>...</td>\n      <td>-1.308284</td>\n      <td>36.843419</td>\n      <td>-1.300921</td>\n      <td>36.828195</td>\n      <td>Rider_Id_155</td>\n      <td>455</td>\n      <td>1023</td>\n      <td>242</td>\n      <td>12.5</td>\n      <td>114</td>\n    </tr>\n    <tr>\n      <th>3</th>\n      <td>Order_No_9336</td>\n      <td>User_Id_1402</td>\n      <td>Bike</td>\n      <td>3</td>\n      <td>Business</td>\n      <td>15</td>\n      <td>5</td>\n      <td>9:25:34 AM</td>\n      <td>15</td>\n      <td>5</td>\n      <td>...</td>\n      <td>-1.281301</td>\n      <td>36.832396</td>\n      <td>-1.257147</td>\n      <td>36.795063</td>\n      <td>Rider_Id_855</td>\n      <td>1341</td>\n      <td>886</td>\n      <td>283</td>\n      <td>14.5</td>\n      <td>113</td>\n    </tr>\n    <tr>\n      <th>4</th>\n      <td>Order_No_27883</td>\n      <td>User_Id_1737</td>\n      <td>Bike</td>\n      <td>1</td>\n      <td>Personal</td>\n      <td>13</td>\n      <td>1</td>\n      <td>9:55:18 AM</td>\n      <td>13</td>\n      <td>1</td>\n      <td>...</td>\n      <td>-1.266597</td>\n      <td>36.792118</td>\n      <td>-1.295041</td>\n      <td>36.809817</td>\n      <td>Rider_Id_770</td>\n      <td>1214</td>\n      <td>2311</td>\n      <td>872</td>\n      <td>14.1</td>\n      <td>533</td>\n    </tr>\n    <tr>\n      <th>...</th>\n      <td>...</td>\n      <td>...</td>\n      <td>...</td>\n      <td>...</td>\n      <td>...</td>\n      <td>...</td>\n      <td>...</td>\n      <td>...</td>\n      <td>...</td>\n      <td>...</td>\n      <td>...</td>\n      <td>...</td>\n      <td>...</td>\n      <td>...</td>\n      <td>...</td>\n      <td>...</td>\n      <td>...</td>\n      <td>...</td>\n      <td>...</td>\n      <td>...</td>\n      <td>...</td>\n    </tr>\n    <tr>\n      <th>21196</th>\n      <td>Order_No_8834</td>\n      <td>User_Id_2001</td>\n      <td>Bike</td>\n      <td>3</td>\n      <td>Personal</td>\n      <td>20</td>\n      <td>3</td>\n      <td>3:54:38 PM</td>\n      <td>20</td>\n      <td>3</td>\n      <td>...</td>\n      <td>-1.258414</td>\n      <td>36.804800</td>\n      <td>-1.275285</td>\n      <td>36.802702</td>\n      <td>Rider_Id_953</td>\n      <td>9</td>\n      <td>1270</td>\n      <td>367</td>\n      <td>14.4</td>\n      <td>131</td>\n    </tr>\n    <tr>\n      <th>21197</th>\n      <td>Order_No_22892</td>\n      <td>User_Id_1796</td>\n      <td>Bike</td>\n      <td>3</td>\n      <td>Business</td>\n      <td>13</td>\n      <td>6</td>\n      <td>10:13:34 AM</td>\n      <td>13</td>\n      <td>6</td>\n      <td>...</td>\n      <td>-1.307143</td>\n      <td>36.825009</td>\n      <td>-1.331619</td>\n      <td>36.847976</td>\n      <td>Rider_Id_155</td>\n      <td>770</td>\n      <td>1023</td>\n      <td>242</td>\n      <td>12.5</td>\n      <td>114</td>\n    </tr>\n    <tr>\n      <th>21198</th>\n      <td>Order_No_2831</td>\n      <td>User_Id_2956</td>\n      <td>Bike</td>\n      <td>3</td>\n      <td>Business</td>\n      <td>7</td>\n      <td>4</td>\n      <td>5:06:16 PM</td>\n      <td>7</td>\n      <td>4</td>\n      <td>...</td>\n      <td>-1.286018</td>\n      <td>36.897534</td>\n      <td>-1.258414</td>\n      <td>36.804800</td>\n      <td>Rider_Id_697</td>\n      <td>2953</td>\n      <td>314</td>\n      <td>473</td>\n      <td>13.8</td>\n      <td>29</td>\n    </tr>\n    <tr>\n      <th>21199</th>\n      <td>Order_No_6174</td>\n      <td>User_Id_2524</td>\n      <td>Bike</td>\n      <td>1</td>\n      <td>Personal</td>\n      <td>4</td>\n      <td>3</td>\n      <td>9:31:39 AM</td>\n      <td>4</td>\n      <td>3</td>\n      <td>...</td>\n      <td>-1.250030</td>\n      <td>36.874167</td>\n      <td>-1.279209</td>\n      <td>36.794872</td>\n      <td>Rider_Id_347</td>\n      <td>1380</td>\n      <td>2451</td>\n      <td>1821</td>\n      <td>14.0</td>\n      <td>1101</td>\n    </tr>\n    <tr>\n      <th>21200</th>\n      <td>Order_No_9836</td>\n      <td>User_Id_718</td>\n      <td>Bike</td>\n      <td>3</td>\n      <td>Business</td>\n      <td>26</td>\n      <td>2</td>\n      <td>2:19:47 PM</td>\n      <td>26</td>\n      <td>2</td>\n      <td>...</td>\n      <td>-1.255189</td>\n      <td>36.782203</td>\n      <td>-1.320157</td>\n      <td>36.830887</td>\n      <td>Rider_Id_177</td>\n      <td>2128</td>\n      <td>526</td>\n      <td>286</td>\n      <td>13.6</td>\n      <td>70</td>\n    </tr>\n  </tbody>\n</table>\n<p>21201 rows × 33 columns</p>\n</div>"
     },
     "metadata": {},
     "execution_count": 6
    }
   ],
   "source": [
    "train"
   ]
  },
  {
   "cell_type": "markdown",
   "metadata": {
    "colab_type": "text",
    "id": "G_aV7lAHfPo4"
   },
   "source": [
    "After inspecting the data, it can be verified that the merge was successful. "
   ]
  },
  {
   "cell_type": "markdown",
   "metadata": {
    "colab_type": "text",
    "id": "TvgWlAxiag-8"
   },
   "source": [
    "Some of the columns have white spaces, brackets and dashes that should be replaced with an underscore (in order to avoid using the column names as variable names later on)."
   ]
  },
  {
   "cell_type": "code",
   "execution_count": 7,
   "metadata": {
    "colab": {
     "base_uri": "https://localhost:8080/",
     "height": 224
    },
    "colab_type": "code",
    "executionInfo": {
     "elapsed": 24991,
     "status": "ok",
     "timestamp": 1590332424368,
     "user": {
      "displayName": "abdullah shaikh",
      "photoUrl": "",
      "userId": "08883111522238731033"
     },
     "user_tz": -120
    },
    "id": "qbHUm32SGiJc",
    "outputId": "58bff477-650b-4933-a0f4-c07482d154f7"
   },
   "outputs": [
    {
     "output_type": "execute_result",
     "data": {
      "text/plain": "         Order_No       User_Id Vehicle_Type  Platform_Type  \\\n0   Order_No_4211   User_Id_633         Bike              3   \n1  Order_No_25375  User_Id_2285         Bike              3   \n2   Order_No_1899   User_Id_265         Bike              3   \n3   Order_No_9336  User_Id_1402         Bike              3   \n4  Order_No_27883  User_Id_1737         Bike              1   \n\n  Personal_or_Business  Placement_Day_of_Month  Placement_Weekday  \\\n0             Business                       9                  5   \n1             Personal                      12                  5   \n2             Business                      30                  2   \n3             Business                      15                  5   \n4             Personal                      13                  1   \n\n  Placement_Time  Confirmation_Day_of_Month  Confirmation_Weekday  ...  \\\n0     9:35:46 AM                          9                     5  ...   \n1    11:16:16 AM                         12                     5  ...   \n2    12:39:25 PM                         30                     2  ...   \n3     9:25:34 AM                         15                     5  ...   \n4     9:55:18 AM                         13                     1  ...   \n\n  Pickup_Lat  Pickup_Long  Destination_Lat Destination_Long      Rider_Id  \\\n0  -1.317755    36.830370        -1.300406        36.829741  Rider_Id_432   \n1  -1.351453    36.899315        -1.295004        36.814358  Rider_Id_856   \n2  -1.308284    36.843419        -1.300921        36.828195  Rider_Id_155   \n3  -1.281301    36.832396        -1.257147        36.795063  Rider_Id_855   \n4  -1.266597    36.792118        -1.295041        36.809817  Rider_Id_770   \n\n   Time_from_Pickup_to_Arrival No_Of_Orders   Age  Average_Rating  \\\n0                          745         1637  1309            13.8   \n1                         1993          396   339            13.6   \n2                          455         1023   242            12.5   \n3                         1341          886   283            14.5   \n4                         1214         2311   872            14.1   \n\n  No_of_Ratings  \n0           549  \n1            69  \n2           114  \n3           113  \n4           533  \n\n[5 rows x 33 columns]",
      "text/html": "<div>\n<style scoped>\n    .dataframe tbody tr th:only-of-type {\n        vertical-align: middle;\n    }\n\n    .dataframe tbody tr th {\n        vertical-align: top;\n    }\n\n    .dataframe thead th {\n        text-align: right;\n    }\n</style>\n<table border=\"1\" class=\"dataframe\">\n  <thead>\n    <tr style=\"text-align: right;\">\n      <th></th>\n      <th>Order_No</th>\n      <th>User_Id</th>\n      <th>Vehicle_Type</th>\n      <th>Platform_Type</th>\n      <th>Personal_or_Business</th>\n      <th>Placement_Day_of_Month</th>\n      <th>Placement_Weekday</th>\n      <th>Placement_Time</th>\n      <th>Confirmation_Day_of_Month</th>\n      <th>Confirmation_Weekday</th>\n      <th>...</th>\n      <th>Pickup_Lat</th>\n      <th>Pickup_Long</th>\n      <th>Destination_Lat</th>\n      <th>Destination_Long</th>\n      <th>Rider_Id</th>\n      <th>Time_from_Pickup_to_Arrival</th>\n      <th>No_Of_Orders</th>\n      <th>Age</th>\n      <th>Average_Rating</th>\n      <th>No_of_Ratings</th>\n    </tr>\n  </thead>\n  <tbody>\n    <tr>\n      <th>0</th>\n      <td>Order_No_4211</td>\n      <td>User_Id_633</td>\n      <td>Bike</td>\n      <td>3</td>\n      <td>Business</td>\n      <td>9</td>\n      <td>5</td>\n      <td>9:35:46 AM</td>\n      <td>9</td>\n      <td>5</td>\n      <td>...</td>\n      <td>-1.317755</td>\n      <td>36.830370</td>\n      <td>-1.300406</td>\n      <td>36.829741</td>\n      <td>Rider_Id_432</td>\n      <td>745</td>\n      <td>1637</td>\n      <td>1309</td>\n      <td>13.8</td>\n      <td>549</td>\n    </tr>\n    <tr>\n      <th>1</th>\n      <td>Order_No_25375</td>\n      <td>User_Id_2285</td>\n      <td>Bike</td>\n      <td>3</td>\n      <td>Personal</td>\n      <td>12</td>\n      <td>5</td>\n      <td>11:16:16 AM</td>\n      <td>12</td>\n      <td>5</td>\n      <td>...</td>\n      <td>-1.351453</td>\n      <td>36.899315</td>\n      <td>-1.295004</td>\n      <td>36.814358</td>\n      <td>Rider_Id_856</td>\n      <td>1993</td>\n      <td>396</td>\n      <td>339</td>\n      <td>13.6</td>\n      <td>69</td>\n    </tr>\n    <tr>\n      <th>2</th>\n      <td>Order_No_1899</td>\n      <td>User_Id_265</td>\n      <td>Bike</td>\n      <td>3</td>\n      <td>Business</td>\n      <td>30</td>\n      <td>2</td>\n      <td>12:39:25 PM</td>\n      <td>30</td>\n      <td>2</td>\n      <td>...</td>\n      <td>-1.308284</td>\n      <td>36.843419</td>\n      <td>-1.300921</td>\n      <td>36.828195</td>\n      <td>Rider_Id_155</td>\n      <td>455</td>\n      <td>1023</td>\n      <td>242</td>\n      <td>12.5</td>\n      <td>114</td>\n    </tr>\n    <tr>\n      <th>3</th>\n      <td>Order_No_9336</td>\n      <td>User_Id_1402</td>\n      <td>Bike</td>\n      <td>3</td>\n      <td>Business</td>\n      <td>15</td>\n      <td>5</td>\n      <td>9:25:34 AM</td>\n      <td>15</td>\n      <td>5</td>\n      <td>...</td>\n      <td>-1.281301</td>\n      <td>36.832396</td>\n      <td>-1.257147</td>\n      <td>36.795063</td>\n      <td>Rider_Id_855</td>\n      <td>1341</td>\n      <td>886</td>\n      <td>283</td>\n      <td>14.5</td>\n      <td>113</td>\n    </tr>\n    <tr>\n      <th>4</th>\n      <td>Order_No_27883</td>\n      <td>User_Id_1737</td>\n      <td>Bike</td>\n      <td>1</td>\n      <td>Personal</td>\n      <td>13</td>\n      <td>1</td>\n      <td>9:55:18 AM</td>\n      <td>13</td>\n      <td>1</td>\n      <td>...</td>\n      <td>-1.266597</td>\n      <td>36.792118</td>\n      <td>-1.295041</td>\n      <td>36.809817</td>\n      <td>Rider_Id_770</td>\n      <td>1214</td>\n      <td>2311</td>\n      <td>872</td>\n      <td>14.1</td>\n      <td>533</td>\n    </tr>\n  </tbody>\n</table>\n<p>5 rows × 33 columns</p>\n</div>"
     },
     "metadata": {},
     "execution_count": 7
    }
   ],
   "source": [
    "train.columns = [col.replace(\" - \",\" \") for col in train.columns]\n",
    "train.columns = [col.replace(\" \",\"_\") for col in train.columns]\n",
    "train.columns = [col.replace(\"_(Mo_=_1)\",\"\") for col in train.columns]\n",
    "train.columns = [col.replace(\"(KM)\",\"KM\") for col in train.columns]\n",
    "train.head()"
   ]
  },
  {
   "cell_type": "markdown",
   "metadata": {
    "colab_type": "text",
    "id": "uFfBaScVXti4"
   },
   "source": [
    "### Taking care of missing data"
   ]
  },
  {
   "cell_type": "markdown",
   "metadata": {
    "colab_type": "text",
    "id": "5how_mQJf2U3"
   },
   "source": [
    "Firstly, the data types and number of entries of each column are inspected."
   ]
  },
  {
   "cell_type": "code",
   "execution_count": 8,
   "metadata": {
    "colab": {
     "base_uri": "https://localhost:8080/",
     "height": 697
    },
    "colab_type": "code",
    "executionInfo": {
     "elapsed": 24963,
     "status": "ok",
     "timestamp": 1590332424370,
     "user": {
      "displayName": "abdullah shaikh",
      "photoUrl": "",
      "userId": "08883111522238731033"
     },
     "user_tz": -120
    },
    "id": "GJ8eYu9nef-U",
    "outputId": "66d2d92a-a604-44eb-fb8f-d5003b0b8c46"
   },
   "outputs": [
    {
     "output_type": "stream",
     "name": "stdout",
     "text": "<class 'pandas.core.frame.DataFrame'>\nInt64Index: 21201 entries, 0 to 21200\nData columns (total 33 columns):\n #   Column                               Non-Null Count  Dtype  \n---  ------                               --------------  -----  \n 0   Order_No                             21201 non-null  object \n 1   User_Id                              21201 non-null  object \n 2   Vehicle_Type                         21201 non-null  object \n 3   Platform_Type                        21201 non-null  int64  \n 4   Personal_or_Business                 21201 non-null  object \n 5   Placement_Day_of_Month               21201 non-null  int64  \n 6   Placement_Weekday                    21201 non-null  int64  \n 7   Placement_Time                       21201 non-null  object \n 8   Confirmation_Day_of_Month            21201 non-null  int64  \n 9   Confirmation_Weekday                 21201 non-null  int64  \n 10  Confirmation_Time                    21201 non-null  object \n 11  Arrival_at_Pickup_Day_of_Month       21201 non-null  int64  \n 12  Arrival_at_Pickup_Weekday            21201 non-null  int64  \n 13  Arrival_at_Pickup_Time               21201 non-null  object \n 14  Pickup_Day_of_Month                  21201 non-null  int64  \n 15  Pickup_Weekday                       21201 non-null  int64  \n 16  Pickup_Time                          21201 non-null  object \n 17  Arrival_at_Destination_Day_of_Month  21201 non-null  int64  \n 18  Arrival_at_Destination_Weekday       21201 non-null  int64  \n 19  Arrival_at_Destination_Time          21201 non-null  object \n 20  Distance_KM                          21201 non-null  int64  \n 21  Temperature                          16835 non-null  float64\n 22  Precipitation_in_millimeters         552 non-null    float64\n 23  Pickup_Lat                           21201 non-null  float64\n 24  Pickup_Long                          21201 non-null  float64\n 25  Destination_Lat                      21201 non-null  float64\n 26  Destination_Long                     21201 non-null  float64\n 27  Rider_Id                             21201 non-null  object \n 28  Time_from_Pickup_to_Arrival          21201 non-null  int64  \n 29  No_Of_Orders                         21201 non-null  int64  \n 30  Age                                  21201 non-null  int64  \n 31  Average_Rating                       21201 non-null  float64\n 32  No_of_Ratings                        21201 non-null  int64  \ndtypes: float64(7), int64(16), object(10)\nmemory usage: 5.5+ MB\n"
    }
   ],
   "source": [
    "train.info() "
   ]
  },
  {
   "cell_type": "markdown",
   "metadata": {
    "colab_type": "text",
    "id": "uS4flZLqHMPG"
   },
   "source": [
    "`train.info()` specifically outputs the number of non-null entries in each column. As such, it can be assured that the data has missing values if columns have a varying number of non-null entries."
   ]
  },
  {
   "cell_type": "markdown",
   "metadata": {
    "colab_type": "text",
    "id": "xGAhwXUKhzre"
   },
   "source": [
    "From this, it is observed that Temperature and Precipitation have some missing values that needs to be taken care of.\n",
    "\n",
    "The `SimpleImputer` module from the `sklearn.impute` library will not be used to impute the missing values. A more intuitive approach is followed. "
   ]
  },
  {
   "cell_type": "markdown",
   "metadata": {
    "colab_type": "text",
    "id": "jqJ4RtzH2PE6"
   },
   "source": [
    "A function `imputer(input_df, column)` is built to impute the missing values."
   ]
  },
  {
   "cell_type": "code",
   "execution_count": 9,
   "metadata": {
    "colab": {},
    "colab_type": "code",
    "id": "tewpJx3VX7DA"
   },
   "outputs": [],
   "source": [
    "def imputer(input_df, column):\n",
    "\n",
    "  a = input_df.loc[pd.isna(input_df[column]), :].index # Obtaining the index of null values\n",
    "  x = input_df[[column, 'Placement_Day_of_Month']]   \n",
    "  y = x.groupby('Placement_Day_of_Month').mean()     # Aggregating values according to the day of the month\n",
    "\n",
    "  for i in a:\n",
    "    input_df.at[i, column] = round(y.loc[input_df.loc[i]['Placement_Day_of_Month']], 1)\n",
    "\n",
    "  return input_df"
   ]
  },
  {
   "cell_type": "markdown",
   "metadata": {
    "colab_type": "text",
    "id": "Wrc5Qd1xu76_"
   },
   "source": [
    "The function takes in the DataFrame and the column(string) to be imputed as input, and returns the DataFrame with imputed values for the column. \n",
    "\n",
    "The average temperature and precipitation for each day of the month is calculated, and null values are imputed according to the average value on that day. "
   ]
  },
  {
   "cell_type": "code",
   "execution_count": 10,
   "metadata": {
    "colab": {
     "base_uri": "https://localhost:8080/",
     "height": 439
    },
    "colab_type": "code",
    "executionInfo": {
     "elapsed": 28241,
     "status": "ok",
     "timestamp": 1590332427697,
     "user": {
      "displayName": "abdullah shaikh",
      "photoUrl": "",
      "userId": "08883111522238731033"
     },
     "user_tz": -120
    },
    "id": "s7Qls0a30Pn4",
    "outputId": "88ed7c31-3b3b-4ff3-8913-318127cf816d"
   },
   "outputs": [
    {
     "output_type": "execute_result",
     "data": {
      "text/plain": "             Order_No       User_Id Vehicle_Type  Platform_Type  \\\n0       Order_No_4211   User_Id_633         Bike              3   \n1      Order_No_25375  User_Id_2285         Bike              3   \n2       Order_No_1899   User_Id_265         Bike              3   \n3       Order_No_9336  User_Id_1402         Bike              3   \n4      Order_No_27883  User_Id_1737         Bike              1   \n...               ...           ...          ...            ...   \n21196   Order_No_8834  User_Id_2001         Bike              3   \n21197  Order_No_22892  User_Id_1796         Bike              3   \n21198   Order_No_2831  User_Id_2956         Bike              3   \n21199   Order_No_6174  User_Id_2524         Bike              1   \n21200   Order_No_9836   User_Id_718         Bike              3   \n\n      Personal_or_Business  Placement_Day_of_Month  Placement_Weekday  \\\n0                 Business                       9                  5   \n1                 Personal                      12                  5   \n2                 Business                      30                  2   \n3                 Business                      15                  5   \n4                 Personal                      13                  1   \n...                    ...                     ...                ...   \n21196             Personal                      20                  3   \n21197             Business                      13                  6   \n21198             Business                       7                  4   \n21199             Personal                       4                  3   \n21200             Business                      26                  2   \n\n      Placement_Time  Confirmation_Day_of_Month  Confirmation_Weekday  ...  \\\n0         9:35:46 AM                          9                     5  ...   \n1        11:16:16 AM                         12                     5  ...   \n2        12:39:25 PM                         30                     2  ...   \n3         9:25:34 AM                         15                     5  ...   \n4         9:55:18 AM                         13                     1  ...   \n...              ...                        ...                   ...  ...   \n21196     3:54:38 PM                         20                     3  ...   \n21197    10:13:34 AM                         13                     6  ...   \n21198     5:06:16 PM                          7                     4  ...   \n21199     9:31:39 AM                          4                     3  ...   \n21200     2:19:47 PM                         26                     2  ...   \n\n      Pickup_Lat  Pickup_Long  Destination_Lat Destination_Long      Rider_Id  \\\n0      -1.317755    36.830370        -1.300406        36.829741  Rider_Id_432   \n1      -1.351453    36.899315        -1.295004        36.814358  Rider_Id_856   \n2      -1.308284    36.843419        -1.300921        36.828195  Rider_Id_155   \n3      -1.281301    36.832396        -1.257147        36.795063  Rider_Id_855   \n4      -1.266597    36.792118        -1.295041        36.809817  Rider_Id_770   \n...          ...          ...              ...              ...           ...   \n21196  -1.258414    36.804800        -1.275285        36.802702  Rider_Id_953   \n21197  -1.307143    36.825009        -1.331619        36.847976  Rider_Id_155   \n21198  -1.286018    36.897534        -1.258414        36.804800  Rider_Id_697   \n21199  -1.250030    36.874167        -1.279209        36.794872  Rider_Id_347   \n21200  -1.255189    36.782203        -1.320157        36.830887  Rider_Id_177   \n\n       Time_from_Pickup_to_Arrival No_Of_Orders   Age  Average_Rating  \\\n0                              745         1637  1309            13.8   \n1                             1993          396   339            13.6   \n2                              455         1023   242            12.5   \n3                             1341          886   283            14.5   \n4                             1214         2311   872            14.1   \n...                            ...          ...   ...             ...   \n21196                            9         1270   367            14.4   \n21197                          770         1023   242            12.5   \n21198                         2953          314   473            13.8   \n21199                         1380         2451  1821            14.0   \n21200                         2128          526   286            13.6   \n\n      No_of_Ratings  \n0               549  \n1                69  \n2               114  \n3               113  \n4               533  \n...             ...  \n21196           131  \n21197           114  \n21198            29  \n21199          1101  \n21200            70  \n\n[21201 rows x 33 columns]",
      "text/html": "<div>\n<style scoped>\n    .dataframe tbody tr th:only-of-type {\n        vertical-align: middle;\n    }\n\n    .dataframe tbody tr th {\n        vertical-align: top;\n    }\n\n    .dataframe thead th {\n        text-align: right;\n    }\n</style>\n<table border=\"1\" class=\"dataframe\">\n  <thead>\n    <tr style=\"text-align: right;\">\n      <th></th>\n      <th>Order_No</th>\n      <th>User_Id</th>\n      <th>Vehicle_Type</th>\n      <th>Platform_Type</th>\n      <th>Personal_or_Business</th>\n      <th>Placement_Day_of_Month</th>\n      <th>Placement_Weekday</th>\n      <th>Placement_Time</th>\n      <th>Confirmation_Day_of_Month</th>\n      <th>Confirmation_Weekday</th>\n      <th>...</th>\n      <th>Pickup_Lat</th>\n      <th>Pickup_Long</th>\n      <th>Destination_Lat</th>\n      <th>Destination_Long</th>\n      <th>Rider_Id</th>\n      <th>Time_from_Pickup_to_Arrival</th>\n      <th>No_Of_Orders</th>\n      <th>Age</th>\n      <th>Average_Rating</th>\n      <th>No_of_Ratings</th>\n    </tr>\n  </thead>\n  <tbody>\n    <tr>\n      <th>0</th>\n      <td>Order_No_4211</td>\n      <td>User_Id_633</td>\n      <td>Bike</td>\n      <td>3</td>\n      <td>Business</td>\n      <td>9</td>\n      <td>5</td>\n      <td>9:35:46 AM</td>\n      <td>9</td>\n      <td>5</td>\n      <td>...</td>\n      <td>-1.317755</td>\n      <td>36.830370</td>\n      <td>-1.300406</td>\n      <td>36.829741</td>\n      <td>Rider_Id_432</td>\n      <td>745</td>\n      <td>1637</td>\n      <td>1309</td>\n      <td>13.8</td>\n      <td>549</td>\n    </tr>\n    <tr>\n      <th>1</th>\n      <td>Order_No_25375</td>\n      <td>User_Id_2285</td>\n      <td>Bike</td>\n      <td>3</td>\n      <td>Personal</td>\n      <td>12</td>\n      <td>5</td>\n      <td>11:16:16 AM</td>\n      <td>12</td>\n      <td>5</td>\n      <td>...</td>\n      <td>-1.351453</td>\n      <td>36.899315</td>\n      <td>-1.295004</td>\n      <td>36.814358</td>\n      <td>Rider_Id_856</td>\n      <td>1993</td>\n      <td>396</td>\n      <td>339</td>\n      <td>13.6</td>\n      <td>69</td>\n    </tr>\n    <tr>\n      <th>2</th>\n      <td>Order_No_1899</td>\n      <td>User_Id_265</td>\n      <td>Bike</td>\n      <td>3</td>\n      <td>Business</td>\n      <td>30</td>\n      <td>2</td>\n      <td>12:39:25 PM</td>\n      <td>30</td>\n      <td>2</td>\n      <td>...</td>\n      <td>-1.308284</td>\n      <td>36.843419</td>\n      <td>-1.300921</td>\n      <td>36.828195</td>\n      <td>Rider_Id_155</td>\n      <td>455</td>\n      <td>1023</td>\n      <td>242</td>\n      <td>12.5</td>\n      <td>114</td>\n    </tr>\n    <tr>\n      <th>3</th>\n      <td>Order_No_9336</td>\n      <td>User_Id_1402</td>\n      <td>Bike</td>\n      <td>3</td>\n      <td>Business</td>\n      <td>15</td>\n      <td>5</td>\n      <td>9:25:34 AM</td>\n      <td>15</td>\n      <td>5</td>\n      <td>...</td>\n      <td>-1.281301</td>\n      <td>36.832396</td>\n      <td>-1.257147</td>\n      <td>36.795063</td>\n      <td>Rider_Id_855</td>\n      <td>1341</td>\n      <td>886</td>\n      <td>283</td>\n      <td>14.5</td>\n      <td>113</td>\n    </tr>\n    <tr>\n      <th>4</th>\n      <td>Order_No_27883</td>\n      <td>User_Id_1737</td>\n      <td>Bike</td>\n      <td>1</td>\n      <td>Personal</td>\n      <td>13</td>\n      <td>1</td>\n      <td>9:55:18 AM</td>\n      <td>13</td>\n      <td>1</td>\n      <td>...</td>\n      <td>-1.266597</td>\n      <td>36.792118</td>\n      <td>-1.295041</td>\n      <td>36.809817</td>\n      <td>Rider_Id_770</td>\n      <td>1214</td>\n      <td>2311</td>\n      <td>872</td>\n      <td>14.1</td>\n      <td>533</td>\n    </tr>\n    <tr>\n      <th>...</th>\n      <td>...</td>\n      <td>...</td>\n      <td>...</td>\n      <td>...</td>\n      <td>...</td>\n      <td>...</td>\n      <td>...</td>\n      <td>...</td>\n      <td>...</td>\n      <td>...</td>\n      <td>...</td>\n      <td>...</td>\n      <td>...</td>\n      <td>...</td>\n      <td>...</td>\n      <td>...</td>\n      <td>...</td>\n      <td>...</td>\n      <td>...</td>\n      <td>...</td>\n      <td>...</td>\n    </tr>\n    <tr>\n      <th>21196</th>\n      <td>Order_No_8834</td>\n      <td>User_Id_2001</td>\n      <td>Bike</td>\n      <td>3</td>\n      <td>Personal</td>\n      <td>20</td>\n      <td>3</td>\n      <td>3:54:38 PM</td>\n      <td>20</td>\n      <td>3</td>\n      <td>...</td>\n      <td>-1.258414</td>\n      <td>36.804800</td>\n      <td>-1.275285</td>\n      <td>36.802702</td>\n      <td>Rider_Id_953</td>\n      <td>9</td>\n      <td>1270</td>\n      <td>367</td>\n      <td>14.4</td>\n      <td>131</td>\n    </tr>\n    <tr>\n      <th>21197</th>\n      <td>Order_No_22892</td>\n      <td>User_Id_1796</td>\n      <td>Bike</td>\n      <td>3</td>\n      <td>Business</td>\n      <td>13</td>\n      <td>6</td>\n      <td>10:13:34 AM</td>\n      <td>13</td>\n      <td>6</td>\n      <td>...</td>\n      <td>-1.307143</td>\n      <td>36.825009</td>\n      <td>-1.331619</td>\n      <td>36.847976</td>\n      <td>Rider_Id_155</td>\n      <td>770</td>\n      <td>1023</td>\n      <td>242</td>\n      <td>12.5</td>\n      <td>114</td>\n    </tr>\n    <tr>\n      <th>21198</th>\n      <td>Order_No_2831</td>\n      <td>User_Id_2956</td>\n      <td>Bike</td>\n      <td>3</td>\n      <td>Business</td>\n      <td>7</td>\n      <td>4</td>\n      <td>5:06:16 PM</td>\n      <td>7</td>\n      <td>4</td>\n      <td>...</td>\n      <td>-1.286018</td>\n      <td>36.897534</td>\n      <td>-1.258414</td>\n      <td>36.804800</td>\n      <td>Rider_Id_697</td>\n      <td>2953</td>\n      <td>314</td>\n      <td>473</td>\n      <td>13.8</td>\n      <td>29</td>\n    </tr>\n    <tr>\n      <th>21199</th>\n      <td>Order_No_6174</td>\n      <td>User_Id_2524</td>\n      <td>Bike</td>\n      <td>1</td>\n      <td>Personal</td>\n      <td>4</td>\n      <td>3</td>\n      <td>9:31:39 AM</td>\n      <td>4</td>\n      <td>3</td>\n      <td>...</td>\n      <td>-1.250030</td>\n      <td>36.874167</td>\n      <td>-1.279209</td>\n      <td>36.794872</td>\n      <td>Rider_Id_347</td>\n      <td>1380</td>\n      <td>2451</td>\n      <td>1821</td>\n      <td>14.0</td>\n      <td>1101</td>\n    </tr>\n    <tr>\n      <th>21200</th>\n      <td>Order_No_9836</td>\n      <td>User_Id_718</td>\n      <td>Bike</td>\n      <td>3</td>\n      <td>Business</td>\n      <td>26</td>\n      <td>2</td>\n      <td>2:19:47 PM</td>\n      <td>26</td>\n      <td>2</td>\n      <td>...</td>\n      <td>-1.255189</td>\n      <td>36.782203</td>\n      <td>-1.320157</td>\n      <td>36.830887</td>\n      <td>Rider_Id_177</td>\n      <td>2128</td>\n      <td>526</td>\n      <td>286</td>\n      <td>13.6</td>\n      <td>70</td>\n    </tr>\n  </tbody>\n</table>\n<p>21201 rows × 33 columns</p>\n</div>"
     },
     "metadata": {},
     "execution_count": 10
    }
   ],
   "source": [
    "imputer(train, 'Temperature')"
   ]
  },
  {
   "cell_type": "code",
   "execution_count": 11,
   "metadata": {
    "colab": {},
    "colab_type": "code",
    "id": "IFhHZaQi1IDB"
   },
   "outputs": [
    {
     "output_type": "execute_result",
     "data": {
      "text/plain": "             Order_No       User_Id Vehicle_Type  Platform_Type  \\\n0       Order_No_4211   User_Id_633         Bike              3   \n1      Order_No_25375  User_Id_2285         Bike              3   \n2       Order_No_1899   User_Id_265         Bike              3   \n3       Order_No_9336  User_Id_1402         Bike              3   \n4      Order_No_27883  User_Id_1737         Bike              1   \n...               ...           ...          ...            ...   \n21196   Order_No_8834  User_Id_2001         Bike              3   \n21197  Order_No_22892  User_Id_1796         Bike              3   \n21198   Order_No_2831  User_Id_2956         Bike              3   \n21199   Order_No_6174  User_Id_2524         Bike              1   \n21200   Order_No_9836   User_Id_718         Bike              3   \n\n      Personal_or_Business  Placement_Day_of_Month  Placement_Weekday  \\\n0                 Business                       9                  5   \n1                 Personal                      12                  5   \n2                 Business                      30                  2   \n3                 Business                      15                  5   \n4                 Personal                      13                  1   \n...                    ...                     ...                ...   \n21196             Personal                      20                  3   \n21197             Business                      13                  6   \n21198             Business                       7                  4   \n21199             Personal                       4                  3   \n21200             Business                      26                  2   \n\n      Placement_Time  Confirmation_Day_of_Month  Confirmation_Weekday  ...  \\\n0         9:35:46 AM                          9                     5  ...   \n1        11:16:16 AM                         12                     5  ...   \n2        12:39:25 PM                         30                     2  ...   \n3         9:25:34 AM                         15                     5  ...   \n4         9:55:18 AM                         13                     1  ...   \n...              ...                        ...                   ...  ...   \n21196     3:54:38 PM                         20                     3  ...   \n21197    10:13:34 AM                         13                     6  ...   \n21198     5:06:16 PM                          7                     4  ...   \n21199     9:31:39 AM                          4                     3  ...   \n21200     2:19:47 PM                         26                     2  ...   \n\n      Pickup_Lat  Pickup_Long  Destination_Lat Destination_Long      Rider_Id  \\\n0      -1.317755    36.830370        -1.300406        36.829741  Rider_Id_432   \n1      -1.351453    36.899315        -1.295004        36.814358  Rider_Id_856   \n2      -1.308284    36.843419        -1.300921        36.828195  Rider_Id_155   \n3      -1.281301    36.832396        -1.257147        36.795063  Rider_Id_855   \n4      -1.266597    36.792118        -1.295041        36.809817  Rider_Id_770   \n...          ...          ...              ...              ...           ...   \n21196  -1.258414    36.804800        -1.275285        36.802702  Rider_Id_953   \n21197  -1.307143    36.825009        -1.331619        36.847976  Rider_Id_155   \n21198  -1.286018    36.897534        -1.258414        36.804800  Rider_Id_697   \n21199  -1.250030    36.874167        -1.279209        36.794872  Rider_Id_347   \n21200  -1.255189    36.782203        -1.320157        36.830887  Rider_Id_177   \n\n       Time_from_Pickup_to_Arrival No_Of_Orders   Age  Average_Rating  \\\n0                              745         1637  1309            13.8   \n1                             1993          396   339            13.6   \n2                              455         1023   242            12.5   \n3                             1341          886   283            14.5   \n4                             1214         2311   872            14.1   \n...                            ...          ...   ...             ...   \n21196                            9         1270   367            14.4   \n21197                          770         1023   242            12.5   \n21198                         2953          314   473            13.8   \n21199                         1380         2451  1821            14.0   \n21200                         2128          526   286            13.6   \n\n      No_of_Ratings  \n0               549  \n1                69  \n2               114  \n3               113  \n4               533  \n...             ...  \n21196           131  \n21197           114  \n21198            29  \n21199          1101  \n21200            70  \n\n[21201 rows x 33 columns]",
      "text/html": "<div>\n<style scoped>\n    .dataframe tbody tr th:only-of-type {\n        vertical-align: middle;\n    }\n\n    .dataframe tbody tr th {\n        vertical-align: top;\n    }\n\n    .dataframe thead th {\n        text-align: right;\n    }\n</style>\n<table border=\"1\" class=\"dataframe\">\n  <thead>\n    <tr style=\"text-align: right;\">\n      <th></th>\n      <th>Order_No</th>\n      <th>User_Id</th>\n      <th>Vehicle_Type</th>\n      <th>Platform_Type</th>\n      <th>Personal_or_Business</th>\n      <th>Placement_Day_of_Month</th>\n      <th>Placement_Weekday</th>\n      <th>Placement_Time</th>\n      <th>Confirmation_Day_of_Month</th>\n      <th>Confirmation_Weekday</th>\n      <th>...</th>\n      <th>Pickup_Lat</th>\n      <th>Pickup_Long</th>\n      <th>Destination_Lat</th>\n      <th>Destination_Long</th>\n      <th>Rider_Id</th>\n      <th>Time_from_Pickup_to_Arrival</th>\n      <th>No_Of_Orders</th>\n      <th>Age</th>\n      <th>Average_Rating</th>\n      <th>No_of_Ratings</th>\n    </tr>\n  </thead>\n  <tbody>\n    <tr>\n      <th>0</th>\n      <td>Order_No_4211</td>\n      <td>User_Id_633</td>\n      <td>Bike</td>\n      <td>3</td>\n      <td>Business</td>\n      <td>9</td>\n      <td>5</td>\n      <td>9:35:46 AM</td>\n      <td>9</td>\n      <td>5</td>\n      <td>...</td>\n      <td>-1.317755</td>\n      <td>36.830370</td>\n      <td>-1.300406</td>\n      <td>36.829741</td>\n      <td>Rider_Id_432</td>\n      <td>745</td>\n      <td>1637</td>\n      <td>1309</td>\n      <td>13.8</td>\n      <td>549</td>\n    </tr>\n    <tr>\n      <th>1</th>\n      <td>Order_No_25375</td>\n      <td>User_Id_2285</td>\n      <td>Bike</td>\n      <td>3</td>\n      <td>Personal</td>\n      <td>12</td>\n      <td>5</td>\n      <td>11:16:16 AM</td>\n      <td>12</td>\n      <td>5</td>\n      <td>...</td>\n      <td>-1.351453</td>\n      <td>36.899315</td>\n      <td>-1.295004</td>\n      <td>36.814358</td>\n      <td>Rider_Id_856</td>\n      <td>1993</td>\n      <td>396</td>\n      <td>339</td>\n      <td>13.6</td>\n      <td>69</td>\n    </tr>\n    <tr>\n      <th>2</th>\n      <td>Order_No_1899</td>\n      <td>User_Id_265</td>\n      <td>Bike</td>\n      <td>3</td>\n      <td>Business</td>\n      <td>30</td>\n      <td>2</td>\n      <td>12:39:25 PM</td>\n      <td>30</td>\n      <td>2</td>\n      <td>...</td>\n      <td>-1.308284</td>\n      <td>36.843419</td>\n      <td>-1.300921</td>\n      <td>36.828195</td>\n      <td>Rider_Id_155</td>\n      <td>455</td>\n      <td>1023</td>\n      <td>242</td>\n      <td>12.5</td>\n      <td>114</td>\n    </tr>\n    <tr>\n      <th>3</th>\n      <td>Order_No_9336</td>\n      <td>User_Id_1402</td>\n      <td>Bike</td>\n      <td>3</td>\n      <td>Business</td>\n      <td>15</td>\n      <td>5</td>\n      <td>9:25:34 AM</td>\n      <td>15</td>\n      <td>5</td>\n      <td>...</td>\n      <td>-1.281301</td>\n      <td>36.832396</td>\n      <td>-1.257147</td>\n      <td>36.795063</td>\n      <td>Rider_Id_855</td>\n      <td>1341</td>\n      <td>886</td>\n      <td>283</td>\n      <td>14.5</td>\n      <td>113</td>\n    </tr>\n    <tr>\n      <th>4</th>\n      <td>Order_No_27883</td>\n      <td>User_Id_1737</td>\n      <td>Bike</td>\n      <td>1</td>\n      <td>Personal</td>\n      <td>13</td>\n      <td>1</td>\n      <td>9:55:18 AM</td>\n      <td>13</td>\n      <td>1</td>\n      <td>...</td>\n      <td>-1.266597</td>\n      <td>36.792118</td>\n      <td>-1.295041</td>\n      <td>36.809817</td>\n      <td>Rider_Id_770</td>\n      <td>1214</td>\n      <td>2311</td>\n      <td>872</td>\n      <td>14.1</td>\n      <td>533</td>\n    </tr>\n    <tr>\n      <th>...</th>\n      <td>...</td>\n      <td>...</td>\n      <td>...</td>\n      <td>...</td>\n      <td>...</td>\n      <td>...</td>\n      <td>...</td>\n      <td>...</td>\n      <td>...</td>\n      <td>...</td>\n      <td>...</td>\n      <td>...</td>\n      <td>...</td>\n      <td>...</td>\n      <td>...</td>\n      <td>...</td>\n      <td>...</td>\n      <td>...</td>\n      <td>...</td>\n      <td>...</td>\n      <td>...</td>\n    </tr>\n    <tr>\n      <th>21196</th>\n      <td>Order_No_8834</td>\n      <td>User_Id_2001</td>\n      <td>Bike</td>\n      <td>3</td>\n      <td>Personal</td>\n      <td>20</td>\n      <td>3</td>\n      <td>3:54:38 PM</td>\n      <td>20</td>\n      <td>3</td>\n      <td>...</td>\n      <td>-1.258414</td>\n      <td>36.804800</td>\n      <td>-1.275285</td>\n      <td>36.802702</td>\n      <td>Rider_Id_953</td>\n      <td>9</td>\n      <td>1270</td>\n      <td>367</td>\n      <td>14.4</td>\n      <td>131</td>\n    </tr>\n    <tr>\n      <th>21197</th>\n      <td>Order_No_22892</td>\n      <td>User_Id_1796</td>\n      <td>Bike</td>\n      <td>3</td>\n      <td>Business</td>\n      <td>13</td>\n      <td>6</td>\n      <td>10:13:34 AM</td>\n      <td>13</td>\n      <td>6</td>\n      <td>...</td>\n      <td>-1.307143</td>\n      <td>36.825009</td>\n      <td>-1.331619</td>\n      <td>36.847976</td>\n      <td>Rider_Id_155</td>\n      <td>770</td>\n      <td>1023</td>\n      <td>242</td>\n      <td>12.5</td>\n      <td>114</td>\n    </tr>\n    <tr>\n      <th>21198</th>\n      <td>Order_No_2831</td>\n      <td>User_Id_2956</td>\n      <td>Bike</td>\n      <td>3</td>\n      <td>Business</td>\n      <td>7</td>\n      <td>4</td>\n      <td>5:06:16 PM</td>\n      <td>7</td>\n      <td>4</td>\n      <td>...</td>\n      <td>-1.286018</td>\n      <td>36.897534</td>\n      <td>-1.258414</td>\n      <td>36.804800</td>\n      <td>Rider_Id_697</td>\n      <td>2953</td>\n      <td>314</td>\n      <td>473</td>\n      <td>13.8</td>\n      <td>29</td>\n    </tr>\n    <tr>\n      <th>21199</th>\n      <td>Order_No_6174</td>\n      <td>User_Id_2524</td>\n      <td>Bike</td>\n      <td>1</td>\n      <td>Personal</td>\n      <td>4</td>\n      <td>3</td>\n      <td>9:31:39 AM</td>\n      <td>4</td>\n      <td>3</td>\n      <td>...</td>\n      <td>-1.250030</td>\n      <td>36.874167</td>\n      <td>-1.279209</td>\n      <td>36.794872</td>\n      <td>Rider_Id_347</td>\n      <td>1380</td>\n      <td>2451</td>\n      <td>1821</td>\n      <td>14.0</td>\n      <td>1101</td>\n    </tr>\n    <tr>\n      <th>21200</th>\n      <td>Order_No_9836</td>\n      <td>User_Id_718</td>\n      <td>Bike</td>\n      <td>3</td>\n      <td>Business</td>\n      <td>26</td>\n      <td>2</td>\n      <td>2:19:47 PM</td>\n      <td>26</td>\n      <td>2</td>\n      <td>...</td>\n      <td>-1.255189</td>\n      <td>36.782203</td>\n      <td>-1.320157</td>\n      <td>36.830887</td>\n      <td>Rider_Id_177</td>\n      <td>2128</td>\n      <td>526</td>\n      <td>286</td>\n      <td>13.6</td>\n      <td>70</td>\n    </tr>\n  </tbody>\n</table>\n<p>21201 rows × 33 columns</p>\n</div>"
     },
     "metadata": {},
     "execution_count": 11
    }
   ],
   "source": [
    "imputer(train, 'Precipitation_in_millimeters')"
   ]
  },
  {
   "cell_type": "code",
   "execution_count": 12,
   "metadata": {
    "colab": {
     "base_uri": "https://localhost:8080/",
     "height": 1000
    },
    "colab_type": "code",
    "executionInfo": {
     "elapsed": 37591,
     "status": "ok",
     "timestamp": 1590332437099,
     "user": {
      "displayName": "abdullah shaikh",
      "photoUrl": "",
      "userId": "08883111522238731033"
     },
     "user_tz": -120
    },
    "id": "0FMeP2Tfl7Bb",
    "outputId": "f1023585-79ca-4d4f-cdb6-ecb28c171444"
   },
   "outputs": [
    {
     "output_type": "stream",
     "name": "stdout",
     "text": "<class 'pandas.core.frame.DataFrame'>\nInt64Index: 21201 entries, 0 to 21200\nData columns (total 33 columns):\n #   Column                               Non-Null Count  Dtype  \n---  ------                               --------------  -----  \n 0   Order_No                             21201 non-null  object \n 1   User_Id                              21201 non-null  object \n 2   Vehicle_Type                         21201 non-null  object \n 3   Platform_Type                        21201 non-null  int64  \n 4   Personal_or_Business                 21201 non-null  object \n 5   Placement_Day_of_Month               21201 non-null  int64  \n 6   Placement_Weekday                    21201 non-null  int64  \n 7   Placement_Time                       21201 non-null  object \n 8   Confirmation_Day_of_Month            21201 non-null  int64  \n 9   Confirmation_Weekday                 21201 non-null  int64  \n 10  Confirmation_Time                    21201 non-null  object \n 11  Arrival_at_Pickup_Day_of_Month       21201 non-null  int64  \n 12  Arrival_at_Pickup_Weekday            21201 non-null  int64  \n 13  Arrival_at_Pickup_Time               21201 non-null  object \n 14  Pickup_Day_of_Month                  21201 non-null  int64  \n 15  Pickup_Weekday                       21201 non-null  int64  \n 16  Pickup_Time                          21201 non-null  object \n 17  Arrival_at_Destination_Day_of_Month  21201 non-null  int64  \n 18  Arrival_at_Destination_Weekday       21201 non-null  int64  \n 19  Arrival_at_Destination_Time          21201 non-null  object \n 20  Distance_KM                          21201 non-null  int64  \n 21  Temperature                          21201 non-null  float64\n 22  Precipitation_in_millimeters         20636 non-null  float64\n 23  Pickup_Lat                           21201 non-null  float64\n 24  Pickup_Long                          21201 non-null  float64\n 25  Destination_Lat                      21201 non-null  float64\n 26  Destination_Long                     21201 non-null  float64\n 27  Rider_Id                             21201 non-null  object \n 28  Time_from_Pickup_to_Arrival          21201 non-null  int64  \n 29  No_Of_Orders                         21201 non-null  int64  \n 30  Age                                  21201 non-null  int64  \n 31  Average_Rating                       21201 non-null  float64\n 32  No_of_Ratings                        21201 non-null  int64  \ndtypes: float64(7), int64(16), object(10)\nmemory usage: 6.1+ MB\n"
    }
   ],
   "source": [
    "train.info()"
   ]
  },
  {
   "cell_type": "markdown",
   "metadata": {
    "colab_type": "text",
    "id": "JvH9LbQ91ery"
   },
   "source": [
    "It can be seen that the temperature values have been successfully imputed; however the precipitation still has null values. An investigation is now conducted to find out why is this the case. "
   ]
  },
  {
   "cell_type": "code",
   "execution_count": 13,
   "metadata": {
    "colab": {
     "base_uri": "https://localhost:8080/",
     "height": 841
    },
    "colab_type": "code",
    "executionInfo": {
     "elapsed": 37557,
     "status": "ok",
     "timestamp": 1590332437100,
     "user": {
      "displayName": "abdullah shaikh",
      "photoUrl": "",
      "userId": "08883111522238731033"
     },
     "user_tz": -120
    },
    "id": "iS8lU37R15Tf",
    "outputId": "f493f8e2-8759-41c0-ca76-52cc5f1c9ece"
   },
   "outputs": [
    {
     "output_type": "execute_result",
     "data": {
      "text/plain": "             Order_No       User_Id Vehicle_Type  Platform_Type  \\\n45     Order_No_13052   User_Id_250         Bike              2   \n68     Order_No_28095   User_Id_633         Bike              3   \n112    Order_No_23454  User_Id_2587         Bike              3   \n155    Order_No_10054  User_Id_1927         Bike              3   \n196      Order_No_834   User_Id_788         Bike              3   \n...               ...           ...          ...            ...   \n21086   Order_No_2209  User_Id_2412         Bike              3   \n21097  Order_No_27731  User_Id_1904         Bike              1   \n21105  Order_No_27247   User_Id_302         Bike              3   \n21106  Order_No_19762  User_Id_2174         Bike              3   \n21116  Order_No_20087  User_Id_2956         Bike              3   \n\n      Personal_or_Business  Placement_Day_of_Month  Placement_Weekday  \\\n45                Personal                      16                  4   \n68                Business                      16                  3   \n112               Business                      16                  2   \n155               Business                      16                  4   \n196               Business                      16                  3   \n...                    ...                     ...                ...   \n21086             Business                      16                  4   \n21097             Personal                      16                  1   \n21105             Business                      16                  6   \n21106             Business                      16                  4   \n21116             Business                      16                  4   \n\n      Placement_Time  Confirmation_Day_of_Month  Confirmation_Weekday  ...  \\\n45       11:19:46 AM                         16                     4  ...   \n68        2:29:26 PM                         16                     3  ...   \n112       2:25:06 PM                         16                     2  ...   \n155       4:22:55 PM                         16                     4  ...   \n196       9:00:30 AM                         16                     3  ...   \n...              ...                        ...                   ...  ...   \n21086    11:39:53 AM                         16                     4  ...   \n21097     1:28:18 PM                         16                     1  ...   \n21105     7:24:39 PM                         16                     6  ...   \n21106     3:27:34 PM                         16                     4  ...   \n21116     9:21:02 AM                         16                     4  ...   \n\n      Pickup_Lat  Pickup_Long  Destination_Lat Destination_Long      Rider_Id  \\\n45     -1.264290    36.800214        -1.269534        36.806970  Rider_Id_650   \n68     -1.307787    36.844321        -1.300406        36.829741  Rider_Id_188   \n112    -1.276574    36.851365        -1.288780        36.816831  Rider_Id_438   \n155    -1.347207    36.769264        -1.310634        36.680977  Rider_Id_821   \n196    -1.225322    36.808550        -1.291768        36.829721  Rider_Id_101   \n...          ...          ...              ...              ...           ...   \n21086  -1.281059    36.883829        -1.229720        36.881951  Rider_Id_249   \n21097  -1.325747    36.859207        -1.290405        36.805515   Rider_Id_88   \n21105  -1.264960    36.798178        -1.311233        36.814632  Rider_Id_314   \n21106  -1.248278    36.884092        -1.297924        36.790242  Rider_Id_946   \n21116  -1.258414    36.804800        -1.302082        36.894467  Rider_Id_882   \n\n       Time_from_Pickup_to_Arrival No_Of_Orders   Age  Average_Rating  \\\n45                             628         4375  2362            14.4   \n68                             490         3837  2018            14.1   \n112                           1052          557   239            14.6   \n155                           2412           94   155            14.6   \n196                           2761         1299   986            13.1   \n...                            ...          ...   ...             ...   \n21086                         1325          191   713            14.0   \n21097                         1863         1450   872            13.8   \n21105                           27          201   306            12.6   \n21106                         1929         2336  2184            13.7   \n21116                         2609          730   740            13.8   \n\n      No_of_Ratings  \n45             1152  \n68              786  \n112              55  \n155              15  \n196             287  \n...             ...  \n21086            29  \n21097           329  \n21105            21  \n21106           524  \n21116            71  \n\n[565 rows x 33 columns]",
      "text/html": "<div>\n<style scoped>\n    .dataframe tbody tr th:only-of-type {\n        vertical-align: middle;\n    }\n\n    .dataframe tbody tr th {\n        vertical-align: top;\n    }\n\n    .dataframe thead th {\n        text-align: right;\n    }\n</style>\n<table border=\"1\" class=\"dataframe\">\n  <thead>\n    <tr style=\"text-align: right;\">\n      <th></th>\n      <th>Order_No</th>\n      <th>User_Id</th>\n      <th>Vehicle_Type</th>\n      <th>Platform_Type</th>\n      <th>Personal_or_Business</th>\n      <th>Placement_Day_of_Month</th>\n      <th>Placement_Weekday</th>\n      <th>Placement_Time</th>\n      <th>Confirmation_Day_of_Month</th>\n      <th>Confirmation_Weekday</th>\n      <th>...</th>\n      <th>Pickup_Lat</th>\n      <th>Pickup_Long</th>\n      <th>Destination_Lat</th>\n      <th>Destination_Long</th>\n      <th>Rider_Id</th>\n      <th>Time_from_Pickup_to_Arrival</th>\n      <th>No_Of_Orders</th>\n      <th>Age</th>\n      <th>Average_Rating</th>\n      <th>No_of_Ratings</th>\n    </tr>\n  </thead>\n  <tbody>\n    <tr>\n      <th>45</th>\n      <td>Order_No_13052</td>\n      <td>User_Id_250</td>\n      <td>Bike</td>\n      <td>2</td>\n      <td>Personal</td>\n      <td>16</td>\n      <td>4</td>\n      <td>11:19:46 AM</td>\n      <td>16</td>\n      <td>4</td>\n      <td>...</td>\n      <td>-1.264290</td>\n      <td>36.800214</td>\n      <td>-1.269534</td>\n      <td>36.806970</td>\n      <td>Rider_Id_650</td>\n      <td>628</td>\n      <td>4375</td>\n      <td>2362</td>\n      <td>14.4</td>\n      <td>1152</td>\n    </tr>\n    <tr>\n      <th>68</th>\n      <td>Order_No_28095</td>\n      <td>User_Id_633</td>\n      <td>Bike</td>\n      <td>3</td>\n      <td>Business</td>\n      <td>16</td>\n      <td>3</td>\n      <td>2:29:26 PM</td>\n      <td>16</td>\n      <td>3</td>\n      <td>...</td>\n      <td>-1.307787</td>\n      <td>36.844321</td>\n      <td>-1.300406</td>\n      <td>36.829741</td>\n      <td>Rider_Id_188</td>\n      <td>490</td>\n      <td>3837</td>\n      <td>2018</td>\n      <td>14.1</td>\n      <td>786</td>\n    </tr>\n    <tr>\n      <th>112</th>\n      <td>Order_No_23454</td>\n      <td>User_Id_2587</td>\n      <td>Bike</td>\n      <td>3</td>\n      <td>Business</td>\n      <td>16</td>\n      <td>2</td>\n      <td>2:25:06 PM</td>\n      <td>16</td>\n      <td>2</td>\n      <td>...</td>\n      <td>-1.276574</td>\n      <td>36.851365</td>\n      <td>-1.288780</td>\n      <td>36.816831</td>\n      <td>Rider_Id_438</td>\n      <td>1052</td>\n      <td>557</td>\n      <td>239</td>\n      <td>14.6</td>\n      <td>55</td>\n    </tr>\n    <tr>\n      <th>155</th>\n      <td>Order_No_10054</td>\n      <td>User_Id_1927</td>\n      <td>Bike</td>\n      <td>3</td>\n      <td>Business</td>\n      <td>16</td>\n      <td>4</td>\n      <td>4:22:55 PM</td>\n      <td>16</td>\n      <td>4</td>\n      <td>...</td>\n      <td>-1.347207</td>\n      <td>36.769264</td>\n      <td>-1.310634</td>\n      <td>36.680977</td>\n      <td>Rider_Id_821</td>\n      <td>2412</td>\n      <td>94</td>\n      <td>155</td>\n      <td>14.6</td>\n      <td>15</td>\n    </tr>\n    <tr>\n      <th>196</th>\n      <td>Order_No_834</td>\n      <td>User_Id_788</td>\n      <td>Bike</td>\n      <td>3</td>\n      <td>Business</td>\n      <td>16</td>\n      <td>3</td>\n      <td>9:00:30 AM</td>\n      <td>16</td>\n      <td>3</td>\n      <td>...</td>\n      <td>-1.225322</td>\n      <td>36.808550</td>\n      <td>-1.291768</td>\n      <td>36.829721</td>\n      <td>Rider_Id_101</td>\n      <td>2761</td>\n      <td>1299</td>\n      <td>986</td>\n      <td>13.1</td>\n      <td>287</td>\n    </tr>\n    <tr>\n      <th>...</th>\n      <td>...</td>\n      <td>...</td>\n      <td>...</td>\n      <td>...</td>\n      <td>...</td>\n      <td>...</td>\n      <td>...</td>\n      <td>...</td>\n      <td>...</td>\n      <td>...</td>\n      <td>...</td>\n      <td>...</td>\n      <td>...</td>\n      <td>...</td>\n      <td>...</td>\n      <td>...</td>\n      <td>...</td>\n      <td>...</td>\n      <td>...</td>\n      <td>...</td>\n      <td>...</td>\n    </tr>\n    <tr>\n      <th>21086</th>\n      <td>Order_No_2209</td>\n      <td>User_Id_2412</td>\n      <td>Bike</td>\n      <td>3</td>\n      <td>Business</td>\n      <td>16</td>\n      <td>4</td>\n      <td>11:39:53 AM</td>\n      <td>16</td>\n      <td>4</td>\n      <td>...</td>\n      <td>-1.281059</td>\n      <td>36.883829</td>\n      <td>-1.229720</td>\n      <td>36.881951</td>\n      <td>Rider_Id_249</td>\n      <td>1325</td>\n      <td>191</td>\n      <td>713</td>\n      <td>14.0</td>\n      <td>29</td>\n    </tr>\n    <tr>\n      <th>21097</th>\n      <td>Order_No_27731</td>\n      <td>User_Id_1904</td>\n      <td>Bike</td>\n      <td>1</td>\n      <td>Personal</td>\n      <td>16</td>\n      <td>1</td>\n      <td>1:28:18 PM</td>\n      <td>16</td>\n      <td>1</td>\n      <td>...</td>\n      <td>-1.325747</td>\n      <td>36.859207</td>\n      <td>-1.290405</td>\n      <td>36.805515</td>\n      <td>Rider_Id_88</td>\n      <td>1863</td>\n      <td>1450</td>\n      <td>872</td>\n      <td>13.8</td>\n      <td>329</td>\n    </tr>\n    <tr>\n      <th>21105</th>\n      <td>Order_No_27247</td>\n      <td>User_Id_302</td>\n      <td>Bike</td>\n      <td>3</td>\n      <td>Business</td>\n      <td>16</td>\n      <td>6</td>\n      <td>7:24:39 PM</td>\n      <td>16</td>\n      <td>6</td>\n      <td>...</td>\n      <td>-1.264960</td>\n      <td>36.798178</td>\n      <td>-1.311233</td>\n      <td>36.814632</td>\n      <td>Rider_Id_314</td>\n      <td>27</td>\n      <td>201</td>\n      <td>306</td>\n      <td>12.6</td>\n      <td>21</td>\n    </tr>\n    <tr>\n      <th>21106</th>\n      <td>Order_No_19762</td>\n      <td>User_Id_2174</td>\n      <td>Bike</td>\n      <td>3</td>\n      <td>Business</td>\n      <td>16</td>\n      <td>4</td>\n      <td>3:27:34 PM</td>\n      <td>16</td>\n      <td>4</td>\n      <td>...</td>\n      <td>-1.248278</td>\n      <td>36.884092</td>\n      <td>-1.297924</td>\n      <td>36.790242</td>\n      <td>Rider_Id_946</td>\n      <td>1929</td>\n      <td>2336</td>\n      <td>2184</td>\n      <td>13.7</td>\n      <td>524</td>\n    </tr>\n    <tr>\n      <th>21116</th>\n      <td>Order_No_20087</td>\n      <td>User_Id_2956</td>\n      <td>Bike</td>\n      <td>3</td>\n      <td>Business</td>\n      <td>16</td>\n      <td>4</td>\n      <td>9:21:02 AM</td>\n      <td>16</td>\n      <td>4</td>\n      <td>...</td>\n      <td>-1.258414</td>\n      <td>36.804800</td>\n      <td>-1.302082</td>\n      <td>36.894467</td>\n      <td>Rider_Id_882</td>\n      <td>2609</td>\n      <td>730</td>\n      <td>740</td>\n      <td>13.8</td>\n      <td>71</td>\n    </tr>\n  </tbody>\n</table>\n<p>565 rows × 33 columns</p>\n</div>"
     },
     "metadata": {},
     "execution_count": 13
    }
   ],
   "source": [
    "train[train['Precipitation_in_millimeters'].isnull()]"
   ]
  },
  {
   "cell_type": "markdown",
   "metadata": {
    "colab_type": "text",
    "id": "ew4oLM732cxE"
   },
   "source": [
    "After investigating, it has been found that all the null values fall on the 16th day of the month. This gives cause to believe that it may not have rained on that day at all. Hence the precipitation on that day will be imputed with the value zero. "
   ]
  },
  {
   "cell_type": "code",
   "execution_count": 14,
   "metadata": {
    "colab": {},
    "colab_type": "code",
    "id": "NwP8_QMK2p1H"
   },
   "outputs": [],
   "source": [
    "train['Precipitation_in_millimeters'].fillna(0, inplace=True)"
   ]
  },
  {
   "cell_type": "code",
   "execution_count": 15,
   "metadata": {
    "colab": {
     "base_uri": "https://localhost:8080/",
     "height": 1000
    },
    "colab_type": "code",
    "executionInfo": {
     "elapsed": 37509,
     "status": "ok",
     "timestamp": 1590332437102,
     "user": {
      "displayName": "abdullah shaikh",
      "photoUrl": "",
      "userId": "08883111522238731033"
     },
     "user_tz": -120
    },
    "id": "fNbIHqXf2wZY",
    "outputId": "c387dbe0-0d0d-4b44-b637-87d3c6666fb8"
   },
   "outputs": [
    {
     "output_type": "stream",
     "name": "stdout",
     "text": "<class 'pandas.core.frame.DataFrame'>\nInt64Index: 21201 entries, 0 to 21200\nData columns (total 33 columns):\n #   Column                               Non-Null Count  Dtype  \n---  ------                               --------------  -----  \n 0   Order_No                             21201 non-null  object \n 1   User_Id                              21201 non-null  object \n 2   Vehicle_Type                         21201 non-null  object \n 3   Platform_Type                        21201 non-null  int64  \n 4   Personal_or_Business                 21201 non-null  object \n 5   Placement_Day_of_Month               21201 non-null  int64  \n 6   Placement_Weekday                    21201 non-null  int64  \n 7   Placement_Time                       21201 non-null  object \n 8   Confirmation_Day_of_Month            21201 non-null  int64  \n 9   Confirmation_Weekday                 21201 non-null  int64  \n 10  Confirmation_Time                    21201 non-null  object \n 11  Arrival_at_Pickup_Day_of_Month       21201 non-null  int64  \n 12  Arrival_at_Pickup_Weekday            21201 non-null  int64  \n 13  Arrival_at_Pickup_Time               21201 non-null  object \n 14  Pickup_Day_of_Month                  21201 non-null  int64  \n 15  Pickup_Weekday                       21201 non-null  int64  \n 16  Pickup_Time                          21201 non-null  object \n 17  Arrival_at_Destination_Day_of_Month  21201 non-null  int64  \n 18  Arrival_at_Destination_Weekday       21201 non-null  int64  \n 19  Arrival_at_Destination_Time          21201 non-null  object \n 20  Distance_KM                          21201 non-null  int64  \n 21  Temperature                          21201 non-null  float64\n 22  Precipitation_in_millimeters         21201 non-null  float64\n 23  Pickup_Lat                           21201 non-null  float64\n 24  Pickup_Long                          21201 non-null  float64\n 25  Destination_Lat                      21201 non-null  float64\n 26  Destination_Long                     21201 non-null  float64\n 27  Rider_Id                             21201 non-null  object \n 28  Time_from_Pickup_to_Arrival          21201 non-null  int64  \n 29  No_Of_Orders                         21201 non-null  int64  \n 30  Age                                  21201 non-null  int64  \n 31  Average_Rating                       21201 non-null  float64\n 32  No_of_Ratings                        21201 non-null  int64  \ndtypes: float64(7), int64(16), object(10)\nmemory usage: 6.1+ MB\n"
    }
   ],
   "source": [
    "train.info()"
   ]
  },
  {
   "cell_type": "markdown",
   "metadata": {
    "colab_type": "text",
    "id": "zWEa-oxM21qL"
   },
   "source": [
    "It has now been verified that all missing values have been successfully imputed."
   ]
  },
  {
   "cell_type": "markdown",
   "metadata": {
    "colab_type": "text",
    "id": "sztjGQ8hZmu1"
   },
   "source": [
    "### Encoding our data"
   ]
  },
  {
   "cell_type": "markdown",
   "metadata": {
    "colab_type": "text",
    "id": "7yjkhAIWH6uQ"
   },
   "source": [
    "Now let's look at a table showcasing the summary statistics of the data"
   ]
  },
  {
   "cell_type": "code",
   "execution_count": 16,
   "metadata": {
    "colab": {
     "base_uri": "https://localhost:8080/",
     "height": 597
    },
    "colab_type": "code",
    "executionInfo": {
     "elapsed": 37487,
     "status": "ok",
     "timestamp": 1590332437103,
     "user": {
      "displayName": "abdullah shaikh",
      "photoUrl": "",
      "userId": "08883111522238731033"
     },
     "user_tz": -120
    },
    "id": "by_JSlEvGCg2",
    "outputId": "6270c9bc-1b79-4975-9585-8383f906aa0d"
   },
   "outputs": [
    {
     "output_type": "execute_result",
     "data": {
      "text/plain": "       Platform_Type  Placement_Day_of_Month  Placement_Weekday  \\\ncount   21201.000000            21201.000000       21201.000000   \nmean        2.752182               15.653696           3.240083   \nstd         0.625178                8.798916           1.567295   \nmin         1.000000                1.000000           1.000000   \n25%         3.000000                8.000000           2.000000   \n50%         3.000000               15.000000           3.000000   \n75%         3.000000               23.000000           5.000000   \nmax         4.000000               31.000000           7.000000   \n\n       Confirmation_Day_of_Month  Confirmation_Weekday  \\\ncount               21201.000000          21201.000000   \nmean                   15.653837              3.240225   \nstd                     8.798886              1.567228   \nmin                     1.000000              1.000000   \n25%                     8.000000              2.000000   \n50%                    15.000000              3.000000   \n75%                    23.000000              5.000000   \nmax                    31.000000              7.000000   \n\n       Arrival_at_Pickup_Day_of_Month  Arrival_at_Pickup_Weekday  \\\ncount                    21201.000000               21201.000000   \nmean                        15.653837                   3.240225   \nstd                          8.798886                   1.567228   \nmin                          1.000000                   1.000000   \n25%                          8.000000                   2.000000   \n50%                         15.000000                   3.000000   \n75%                         23.000000                   5.000000   \nmax                         31.000000                   7.000000   \n\n       Pickup_Day_of_Month  Pickup_Weekday  \\\ncount         21201.000000    21201.000000   \nmean             15.653837        3.240225   \nstd               8.798886        1.567228   \nmin               1.000000        1.000000   \n25%               8.000000        2.000000   \n50%              15.000000        3.000000   \n75%              23.000000        5.000000   \nmax              31.000000        7.000000   \n\n       Arrival_at_Destination_Day_of_Month  ...  Precipitation_in_millimeters  \\\ncount                         21201.000000  ...                  21201.000000   \nmean                             15.653837  ...                      6.245135   \nstd                               8.798886  ...                     11.180166   \nmin                               1.000000  ...                      0.000000   \n25%                               8.000000  ...                      1.000000   \n50%                              15.000000  ...                      2.100000   \n75%                              23.000000  ...                      5.900000   \nmax                              31.000000  ...                     99.100000   \n\n         Pickup_Lat   Pickup_Long  Destination_Lat  Destination_Long  \\\ncount  21201.000000  21201.000000     21201.000000      21201.000000   \nmean      -1.281470     36.811264        -1.282581         36.811220   \nstd        0.030507      0.037473         0.034824          0.044721   \nmin       -1.438302     36.653621        -1.430298         36.606594   \n25%       -1.300921     36.784605        -1.301201         36.785661   \n50%       -1.279395     36.807040        -1.284382         36.808002   \n75%       -1.257147     36.829741        -1.261177         36.829477   \nmax       -1.147170     36.991046        -1.030225         37.016779   \n\n       Time_from_Pickup_to_Arrival  No_Of_Orders           Age  \\\ncount                 21201.000000  21201.000000  21201.000000   \nmean                   1556.920947   1692.423706    984.742842   \nstd                     987.270788   1574.308302    646.652835   \nmin                       1.000000      2.000000     96.000000   \n25%                     882.000000    557.000000    495.000000   \n50%                    1369.000000   1212.000000    872.000000   \n75%                    2040.000000   2311.000000   1236.000000   \nmax                    7883.000000   9756.000000   3764.000000   \n\n       Average_Rating  No_of_Ratings  \ncount    21201.000000   21201.000000  \nmean        13.882520     341.067119  \nstd          0.916071     402.867746  \nmin          0.000000       0.000000  \n25%         13.600000      61.000000  \n50%         14.000000     161.000000  \n75%         14.300000     495.000000  \nmax         15.200000    2298.000000  \n\n[8 rows x 23 columns]",
      "text/html": "<div>\n<style scoped>\n    .dataframe tbody tr th:only-of-type {\n        vertical-align: middle;\n    }\n\n    .dataframe tbody tr th {\n        vertical-align: top;\n    }\n\n    .dataframe thead th {\n        text-align: right;\n    }\n</style>\n<table border=\"1\" class=\"dataframe\">\n  <thead>\n    <tr style=\"text-align: right;\">\n      <th></th>\n      <th>Platform_Type</th>\n      <th>Placement_Day_of_Month</th>\n      <th>Placement_Weekday</th>\n      <th>Confirmation_Day_of_Month</th>\n      <th>Confirmation_Weekday</th>\n      <th>Arrival_at_Pickup_Day_of_Month</th>\n      <th>Arrival_at_Pickup_Weekday</th>\n      <th>Pickup_Day_of_Month</th>\n      <th>Pickup_Weekday</th>\n      <th>Arrival_at_Destination_Day_of_Month</th>\n      <th>...</th>\n      <th>Precipitation_in_millimeters</th>\n      <th>Pickup_Lat</th>\n      <th>Pickup_Long</th>\n      <th>Destination_Lat</th>\n      <th>Destination_Long</th>\n      <th>Time_from_Pickup_to_Arrival</th>\n      <th>No_Of_Orders</th>\n      <th>Age</th>\n      <th>Average_Rating</th>\n      <th>No_of_Ratings</th>\n    </tr>\n  </thead>\n  <tbody>\n    <tr>\n      <th>count</th>\n      <td>21201.000000</td>\n      <td>21201.000000</td>\n      <td>21201.000000</td>\n      <td>21201.000000</td>\n      <td>21201.000000</td>\n      <td>21201.000000</td>\n      <td>21201.000000</td>\n      <td>21201.000000</td>\n      <td>21201.000000</td>\n      <td>21201.000000</td>\n      <td>...</td>\n      <td>21201.000000</td>\n      <td>21201.000000</td>\n      <td>21201.000000</td>\n      <td>21201.000000</td>\n      <td>21201.000000</td>\n      <td>21201.000000</td>\n      <td>21201.000000</td>\n      <td>21201.000000</td>\n      <td>21201.000000</td>\n      <td>21201.000000</td>\n    </tr>\n    <tr>\n      <th>mean</th>\n      <td>2.752182</td>\n      <td>15.653696</td>\n      <td>3.240083</td>\n      <td>15.653837</td>\n      <td>3.240225</td>\n      <td>15.653837</td>\n      <td>3.240225</td>\n      <td>15.653837</td>\n      <td>3.240225</td>\n      <td>15.653837</td>\n      <td>...</td>\n      <td>6.245135</td>\n      <td>-1.281470</td>\n      <td>36.811264</td>\n      <td>-1.282581</td>\n      <td>36.811220</td>\n      <td>1556.920947</td>\n      <td>1692.423706</td>\n      <td>984.742842</td>\n      <td>13.882520</td>\n      <td>341.067119</td>\n    </tr>\n    <tr>\n      <th>std</th>\n      <td>0.625178</td>\n      <td>8.798916</td>\n      <td>1.567295</td>\n      <td>8.798886</td>\n      <td>1.567228</td>\n      <td>8.798886</td>\n      <td>1.567228</td>\n      <td>8.798886</td>\n      <td>1.567228</td>\n      <td>8.798886</td>\n      <td>...</td>\n      <td>11.180166</td>\n      <td>0.030507</td>\n      <td>0.037473</td>\n      <td>0.034824</td>\n      <td>0.044721</td>\n      <td>987.270788</td>\n      <td>1574.308302</td>\n      <td>646.652835</td>\n      <td>0.916071</td>\n      <td>402.867746</td>\n    </tr>\n    <tr>\n      <th>min</th>\n      <td>1.000000</td>\n      <td>1.000000</td>\n      <td>1.000000</td>\n      <td>1.000000</td>\n      <td>1.000000</td>\n      <td>1.000000</td>\n      <td>1.000000</td>\n      <td>1.000000</td>\n      <td>1.000000</td>\n      <td>1.000000</td>\n      <td>...</td>\n      <td>0.000000</td>\n      <td>-1.438302</td>\n      <td>36.653621</td>\n      <td>-1.430298</td>\n      <td>36.606594</td>\n      <td>1.000000</td>\n      <td>2.000000</td>\n      <td>96.000000</td>\n      <td>0.000000</td>\n      <td>0.000000</td>\n    </tr>\n    <tr>\n      <th>25%</th>\n      <td>3.000000</td>\n      <td>8.000000</td>\n      <td>2.000000</td>\n      <td>8.000000</td>\n      <td>2.000000</td>\n      <td>8.000000</td>\n      <td>2.000000</td>\n      <td>8.000000</td>\n      <td>2.000000</td>\n      <td>8.000000</td>\n      <td>...</td>\n      <td>1.000000</td>\n      <td>-1.300921</td>\n      <td>36.784605</td>\n      <td>-1.301201</td>\n      <td>36.785661</td>\n      <td>882.000000</td>\n      <td>557.000000</td>\n      <td>495.000000</td>\n      <td>13.600000</td>\n      <td>61.000000</td>\n    </tr>\n    <tr>\n      <th>50%</th>\n      <td>3.000000</td>\n      <td>15.000000</td>\n      <td>3.000000</td>\n      <td>15.000000</td>\n      <td>3.000000</td>\n      <td>15.000000</td>\n      <td>3.000000</td>\n      <td>15.000000</td>\n      <td>3.000000</td>\n      <td>15.000000</td>\n      <td>...</td>\n      <td>2.100000</td>\n      <td>-1.279395</td>\n      <td>36.807040</td>\n      <td>-1.284382</td>\n      <td>36.808002</td>\n      <td>1369.000000</td>\n      <td>1212.000000</td>\n      <td>872.000000</td>\n      <td>14.000000</td>\n      <td>161.000000</td>\n    </tr>\n    <tr>\n      <th>75%</th>\n      <td>3.000000</td>\n      <td>23.000000</td>\n      <td>5.000000</td>\n      <td>23.000000</td>\n      <td>5.000000</td>\n      <td>23.000000</td>\n      <td>5.000000</td>\n      <td>23.000000</td>\n      <td>5.000000</td>\n      <td>23.000000</td>\n      <td>...</td>\n      <td>5.900000</td>\n      <td>-1.257147</td>\n      <td>36.829741</td>\n      <td>-1.261177</td>\n      <td>36.829477</td>\n      <td>2040.000000</td>\n      <td>2311.000000</td>\n      <td>1236.000000</td>\n      <td>14.300000</td>\n      <td>495.000000</td>\n    </tr>\n    <tr>\n      <th>max</th>\n      <td>4.000000</td>\n      <td>31.000000</td>\n      <td>7.000000</td>\n      <td>31.000000</td>\n      <td>7.000000</td>\n      <td>31.000000</td>\n      <td>7.000000</td>\n      <td>31.000000</td>\n      <td>7.000000</td>\n      <td>31.000000</td>\n      <td>...</td>\n      <td>99.100000</td>\n      <td>-1.147170</td>\n      <td>36.991046</td>\n      <td>-1.030225</td>\n      <td>37.016779</td>\n      <td>7883.000000</td>\n      <td>9756.000000</td>\n      <td>3764.000000</td>\n      <td>15.200000</td>\n      <td>2298.000000</td>\n    </tr>\n  </tbody>\n</table>\n<p>8 rows × 23 columns</p>\n</div>"
     },
     "metadata": {},
     "execution_count": 16
    }
   ],
   "source": [
    "train.describe()"
   ]
  },
  {
   "cell_type": "markdown",
   "metadata": {
    "colab_type": "text",
    "id": "Ycjpg1jJIZaJ"
   },
   "source": [
    "As can be observed in the above table, little information is obtained from summary statistics of our numerical categorical data (such as `'Platform_Type'`) at the moment.\n",
    "\n",
    "All input data for regression model building purposes needs to be numerical. Therefore text data (found in columns such as `'Pickup_Time'` and `'Personal_or_Business'`) has to be transformed into numbers before the machine learning model can be trained."
   ]
  },
  {
   "cell_type": "markdown",
   "metadata": {
    "colab_type": "text",
    "id": "CX5-hrwx3F6b"
   },
   "source": [
    "A function `convert_time(input_df, column_name)` is built to convert time to the part of day it falls in (like afternoon, evening, etc).  "
   ]
  },
  {
   "cell_type": "code",
   "execution_count": 17,
   "metadata": {
    "colab": {},
    "colab_type": "code",
    "id": "yQZDqw8RSxOL"
   },
   "outputs": [],
   "source": [
    "def convert_time(input_df, column_name):\n",
    "\n",
    "  input_df[column_name] = pd.to_datetime(input_df[column_name]).dt.hour #Convert time to the hour in a 24-hour day\n",
    "\n",
    "  bins=[-1, 3, 7, 11, 15, 19, 23]\n",
    "  labels=pd.Categorical(['Night', 'EarlyMorning', 'Morning', 'Afternoon', 'Evening', 'Night'])\n",
    "  input_df[column_name] = pd.cut(x=input_df[column_name], bins=bins, labels=labels)\n",
    "  \n",
    "  return input_df"
   ]
  },
  {
   "cell_type": "markdown",
   "metadata": {
    "colab_type": "text",
    "id": "UEzCtw-Wek1y"
   },
   "source": [
    "The function takes in a DataFrame and a column(string) as input, and returns a modified DataFrame. The times in the column inputted are first converted to the hour (24-hour clock), and then categorised accordingly. "
   ]
  },
  {
   "cell_type": "code",
   "execution_count": 18,
   "metadata": {
    "colab": {
     "base_uri": "https://localhost:8080/",
     "height": 841
    },
    "colab_type": "code",
    "executionInfo": {
     "elapsed": 43637,
     "status": "ok",
     "timestamp": 1590332443318,
     "user": {
      "displayName": "abdullah shaikh",
      "photoUrl": "",
      "userId": "08883111522238731033"
     },
     "user_tz": -120
    },
    "id": "Otnx19QAD-Mw",
    "outputId": "264cd693-57f7-4983-9608-06df3ef41e35"
   },
   "outputs": [
    {
     "output_type": "execute_result",
     "data": {
      "text/plain": "             Order_No       User_Id Vehicle_Type  Platform_Type  \\\n0       Order_No_4211   User_Id_633         Bike              3   \n1      Order_No_25375  User_Id_2285         Bike              3   \n2       Order_No_1899   User_Id_265         Bike              3   \n3       Order_No_9336  User_Id_1402         Bike              3   \n4      Order_No_27883  User_Id_1737         Bike              1   \n...               ...           ...          ...            ...   \n21196   Order_No_8834  User_Id_2001         Bike              3   \n21197  Order_No_22892  User_Id_1796         Bike              3   \n21198   Order_No_2831  User_Id_2956         Bike              3   \n21199   Order_No_6174  User_Id_2524         Bike              1   \n21200   Order_No_9836   User_Id_718         Bike              3   \n\n      Personal_or_Business  Placement_Day_of_Month  Placement_Weekday  \\\n0                 Business                       9                  5   \n1                 Personal                      12                  5   \n2                 Business                      30                  2   \n3                 Business                      15                  5   \n4                 Personal                      13                  1   \n...                    ...                     ...                ...   \n21196             Personal                      20                  3   \n21197             Business                      13                  6   \n21198             Business                       7                  4   \n21199             Personal                       4                  3   \n21200             Business                      26                  2   \n\n      Placement_Time  Confirmation_Day_of_Month  Confirmation_Weekday  ...  \\\n0            Morning                          9                     5  ...   \n1            Morning                         12                     5  ...   \n2          Afternoon                         30                     2  ...   \n3            Morning                         15                     5  ...   \n4            Morning                         13                     1  ...   \n...              ...                        ...                   ...  ...   \n21196      Afternoon                         20                     3  ...   \n21197        Morning                         13                     6  ...   \n21198        Evening                          7                     4  ...   \n21199        Morning                          4                     3  ...   \n21200      Afternoon                         26                     2  ...   \n\n      Pickup_Lat  Pickup_Long  Destination_Lat Destination_Long      Rider_Id  \\\n0      -1.317755    36.830370        -1.300406        36.829741  Rider_Id_432   \n1      -1.351453    36.899315        -1.295004        36.814358  Rider_Id_856   \n2      -1.308284    36.843419        -1.300921        36.828195  Rider_Id_155   \n3      -1.281301    36.832396        -1.257147        36.795063  Rider_Id_855   \n4      -1.266597    36.792118        -1.295041        36.809817  Rider_Id_770   \n...          ...          ...              ...              ...           ...   \n21196  -1.258414    36.804800        -1.275285        36.802702  Rider_Id_953   \n21197  -1.307143    36.825009        -1.331619        36.847976  Rider_Id_155   \n21198  -1.286018    36.897534        -1.258414        36.804800  Rider_Id_697   \n21199  -1.250030    36.874167        -1.279209        36.794872  Rider_Id_347   \n21200  -1.255189    36.782203        -1.320157        36.830887  Rider_Id_177   \n\n       Time_from_Pickup_to_Arrival No_Of_Orders   Age  Average_Rating  \\\n0                              745         1637  1309            13.8   \n1                             1993          396   339            13.6   \n2                              455         1023   242            12.5   \n3                             1341          886   283            14.5   \n4                             1214         2311   872            14.1   \n...                            ...          ...   ...             ...   \n21196                            9         1270   367            14.4   \n21197                          770         1023   242            12.5   \n21198                         2953          314   473            13.8   \n21199                         1380         2451  1821            14.0   \n21200                         2128          526   286            13.6   \n\n      No_of_Ratings  \n0               549  \n1                69  \n2               114  \n3               113  \n4               533  \n...             ...  \n21196           131  \n21197           114  \n21198            29  \n21199          1101  \n21200            70  \n\n[21201 rows x 33 columns]",
      "text/html": "<div>\n<style scoped>\n    .dataframe tbody tr th:only-of-type {\n        vertical-align: middle;\n    }\n\n    .dataframe tbody tr th {\n        vertical-align: top;\n    }\n\n    .dataframe thead th {\n        text-align: right;\n    }\n</style>\n<table border=\"1\" class=\"dataframe\">\n  <thead>\n    <tr style=\"text-align: right;\">\n      <th></th>\n      <th>Order_No</th>\n      <th>User_Id</th>\n      <th>Vehicle_Type</th>\n      <th>Platform_Type</th>\n      <th>Personal_or_Business</th>\n      <th>Placement_Day_of_Month</th>\n      <th>Placement_Weekday</th>\n      <th>Placement_Time</th>\n      <th>Confirmation_Day_of_Month</th>\n      <th>Confirmation_Weekday</th>\n      <th>...</th>\n      <th>Pickup_Lat</th>\n      <th>Pickup_Long</th>\n      <th>Destination_Lat</th>\n      <th>Destination_Long</th>\n      <th>Rider_Id</th>\n      <th>Time_from_Pickup_to_Arrival</th>\n      <th>No_Of_Orders</th>\n      <th>Age</th>\n      <th>Average_Rating</th>\n      <th>No_of_Ratings</th>\n    </tr>\n  </thead>\n  <tbody>\n    <tr>\n      <th>0</th>\n      <td>Order_No_4211</td>\n      <td>User_Id_633</td>\n      <td>Bike</td>\n      <td>3</td>\n      <td>Business</td>\n      <td>9</td>\n      <td>5</td>\n      <td>Morning</td>\n      <td>9</td>\n      <td>5</td>\n      <td>...</td>\n      <td>-1.317755</td>\n      <td>36.830370</td>\n      <td>-1.300406</td>\n      <td>36.829741</td>\n      <td>Rider_Id_432</td>\n      <td>745</td>\n      <td>1637</td>\n      <td>1309</td>\n      <td>13.8</td>\n      <td>549</td>\n    </tr>\n    <tr>\n      <th>1</th>\n      <td>Order_No_25375</td>\n      <td>User_Id_2285</td>\n      <td>Bike</td>\n      <td>3</td>\n      <td>Personal</td>\n      <td>12</td>\n      <td>5</td>\n      <td>Morning</td>\n      <td>12</td>\n      <td>5</td>\n      <td>...</td>\n      <td>-1.351453</td>\n      <td>36.899315</td>\n      <td>-1.295004</td>\n      <td>36.814358</td>\n      <td>Rider_Id_856</td>\n      <td>1993</td>\n      <td>396</td>\n      <td>339</td>\n      <td>13.6</td>\n      <td>69</td>\n    </tr>\n    <tr>\n      <th>2</th>\n      <td>Order_No_1899</td>\n      <td>User_Id_265</td>\n      <td>Bike</td>\n      <td>3</td>\n      <td>Business</td>\n      <td>30</td>\n      <td>2</td>\n      <td>Afternoon</td>\n      <td>30</td>\n      <td>2</td>\n      <td>...</td>\n      <td>-1.308284</td>\n      <td>36.843419</td>\n      <td>-1.300921</td>\n      <td>36.828195</td>\n      <td>Rider_Id_155</td>\n      <td>455</td>\n      <td>1023</td>\n      <td>242</td>\n      <td>12.5</td>\n      <td>114</td>\n    </tr>\n    <tr>\n      <th>3</th>\n      <td>Order_No_9336</td>\n      <td>User_Id_1402</td>\n      <td>Bike</td>\n      <td>3</td>\n      <td>Business</td>\n      <td>15</td>\n      <td>5</td>\n      <td>Morning</td>\n      <td>15</td>\n      <td>5</td>\n      <td>...</td>\n      <td>-1.281301</td>\n      <td>36.832396</td>\n      <td>-1.257147</td>\n      <td>36.795063</td>\n      <td>Rider_Id_855</td>\n      <td>1341</td>\n      <td>886</td>\n      <td>283</td>\n      <td>14.5</td>\n      <td>113</td>\n    </tr>\n    <tr>\n      <th>4</th>\n      <td>Order_No_27883</td>\n      <td>User_Id_1737</td>\n      <td>Bike</td>\n      <td>1</td>\n      <td>Personal</td>\n      <td>13</td>\n      <td>1</td>\n      <td>Morning</td>\n      <td>13</td>\n      <td>1</td>\n      <td>...</td>\n      <td>-1.266597</td>\n      <td>36.792118</td>\n      <td>-1.295041</td>\n      <td>36.809817</td>\n      <td>Rider_Id_770</td>\n      <td>1214</td>\n      <td>2311</td>\n      <td>872</td>\n      <td>14.1</td>\n      <td>533</td>\n    </tr>\n    <tr>\n      <th>...</th>\n      <td>...</td>\n      <td>...</td>\n      <td>...</td>\n      <td>...</td>\n      <td>...</td>\n      <td>...</td>\n      <td>...</td>\n      <td>...</td>\n      <td>...</td>\n      <td>...</td>\n      <td>...</td>\n      <td>...</td>\n      <td>...</td>\n      <td>...</td>\n      <td>...</td>\n      <td>...</td>\n      <td>...</td>\n      <td>...</td>\n      <td>...</td>\n      <td>...</td>\n      <td>...</td>\n    </tr>\n    <tr>\n      <th>21196</th>\n      <td>Order_No_8834</td>\n      <td>User_Id_2001</td>\n      <td>Bike</td>\n      <td>3</td>\n      <td>Personal</td>\n      <td>20</td>\n      <td>3</td>\n      <td>Afternoon</td>\n      <td>20</td>\n      <td>3</td>\n      <td>...</td>\n      <td>-1.258414</td>\n      <td>36.804800</td>\n      <td>-1.275285</td>\n      <td>36.802702</td>\n      <td>Rider_Id_953</td>\n      <td>9</td>\n      <td>1270</td>\n      <td>367</td>\n      <td>14.4</td>\n      <td>131</td>\n    </tr>\n    <tr>\n      <th>21197</th>\n      <td>Order_No_22892</td>\n      <td>User_Id_1796</td>\n      <td>Bike</td>\n      <td>3</td>\n      <td>Business</td>\n      <td>13</td>\n      <td>6</td>\n      <td>Morning</td>\n      <td>13</td>\n      <td>6</td>\n      <td>...</td>\n      <td>-1.307143</td>\n      <td>36.825009</td>\n      <td>-1.331619</td>\n      <td>36.847976</td>\n      <td>Rider_Id_155</td>\n      <td>770</td>\n      <td>1023</td>\n      <td>242</td>\n      <td>12.5</td>\n      <td>114</td>\n    </tr>\n    <tr>\n      <th>21198</th>\n      <td>Order_No_2831</td>\n      <td>User_Id_2956</td>\n      <td>Bike</td>\n      <td>3</td>\n      <td>Business</td>\n      <td>7</td>\n      <td>4</td>\n      <td>Evening</td>\n      <td>7</td>\n      <td>4</td>\n      <td>...</td>\n      <td>-1.286018</td>\n      <td>36.897534</td>\n      <td>-1.258414</td>\n      <td>36.804800</td>\n      <td>Rider_Id_697</td>\n      <td>2953</td>\n      <td>314</td>\n      <td>473</td>\n      <td>13.8</td>\n      <td>29</td>\n    </tr>\n    <tr>\n      <th>21199</th>\n      <td>Order_No_6174</td>\n      <td>User_Id_2524</td>\n      <td>Bike</td>\n      <td>1</td>\n      <td>Personal</td>\n      <td>4</td>\n      <td>3</td>\n      <td>Morning</td>\n      <td>4</td>\n      <td>3</td>\n      <td>...</td>\n      <td>-1.250030</td>\n      <td>36.874167</td>\n      <td>-1.279209</td>\n      <td>36.794872</td>\n      <td>Rider_Id_347</td>\n      <td>1380</td>\n      <td>2451</td>\n      <td>1821</td>\n      <td>14.0</td>\n      <td>1101</td>\n    </tr>\n    <tr>\n      <th>21200</th>\n      <td>Order_No_9836</td>\n      <td>User_Id_718</td>\n      <td>Bike</td>\n      <td>3</td>\n      <td>Business</td>\n      <td>26</td>\n      <td>2</td>\n      <td>Afternoon</td>\n      <td>26</td>\n      <td>2</td>\n      <td>...</td>\n      <td>-1.255189</td>\n      <td>36.782203</td>\n      <td>-1.320157</td>\n      <td>36.830887</td>\n      <td>Rider_Id_177</td>\n      <td>2128</td>\n      <td>526</td>\n      <td>286</td>\n      <td>13.6</td>\n      <td>70</td>\n    </tr>\n  </tbody>\n</table>\n<p>21201 rows × 33 columns</p>\n</div>"
     },
     "metadata": {},
     "execution_count": 18
    }
   ],
   "source": [
    "convert_time(train, 'Pickup_Time')\n",
    "convert_time(train, 'Placement_Time')\n",
    "convert_time(train, 'Confirmation_Time')\n",
    "convert_time(train, 'Arrival_at_Pickup_Time')\n",
    "convert_time(train, 'Arrival_at_Destination_Time')"
   ]
  },
  {
   "cell_type": "markdown",
   "metadata": {
    "colab_type": "text",
    "id": "pWkv2aSlgNqF"
   },
   "source": [
    "Time has now converted into categories according to the time of day. However, text data is to be converted into numerical data before it can be fed into the machine learning model.\n",
    "\n",
    "To facilitate this transformation from textual-categorical data to numerical equivalents, we use dummy variable encoding. "
   ]
  },
  {
   "cell_type": "code",
   "execution_count": 19,
   "metadata": {
    "colab": {},
    "colab_type": "code",
    "id": "uCm7pd5UNIH5"
   },
   "outputs": [],
   "source": [
    "columns = ['Personal_or_Business', 'Platform_Type', 'Arrival_at_Pickup_Time', \n",
    "           'Confirmation_Time', 'Placement_Time', 'Pickup_Time']\n",
    "           \n",
    "train_dummies = pd.get_dummies(train, columns=columns, drop_first=True) \n",
    "\n",
    "# Again make sure that all the column names have underscores instead of whitespaces\n",
    "train_dummies.columns = [col.replace(\" \", \"_\") for col in train_dummies.columns]"
   ]
  },
  {
   "cell_type": "markdown",
   "metadata": {
    "colab_type": "text",
    "id": "eC83cmAjBlzr"
   },
   "source": [
    "In order to ensure that an underlying relationship between the categories are not assumed, we can call `pd.get_dummies` with the argument `drop_first=True` so that only n-1 columns for each variable with n categories are created. "
   ]
  },
  {
   "cell_type": "code",
   "execution_count": 20,
   "metadata": {
    "colab": {
     "base_uri": "https://localhost:8080/",
     "height": 34
    },
    "colab_type": "code",
    "executionInfo": {
     "elapsed": 43589,
     "status": "ok",
     "timestamp": 1590332443322,
     "user": {
      "displayName": "abdullah shaikh",
      "photoUrl": "",
      "userId": "08883111522238731033"
     },
     "user_tz": -120
    },
    "id": "vREaZus3RdJ1",
    "outputId": "8e63875b-c2ed-438b-d8ae-9c7ac04fe561"
   },
   "outputs": [
    {
     "output_type": "execute_result",
     "data": {
      "text/plain": "(21201, 47)"
     },
     "metadata": {},
     "execution_count": 20
    }
   ],
   "source": [
    "train_dummies.shape"
   ]
  },
  {
   "cell_type": "markdown",
   "metadata": {
    "colab_type": "text",
    "id": "pcpz7HBQj8iN"
   },
   "source": [
    "Suddenly, we have many more variable columns given the dummy variable encoding. \n"
   ]
  },
  {
   "cell_type": "markdown",
   "metadata": {
    "colab_type": "text",
    "id": "G7_m8zILg30c"
   },
   "source": [
    "Acting on intuition, the remaining textual data can be removed. \n",
    "\n",
    "`Vehicle_Type`: Since the dataset contains data on bikes only, this column is unnecessary, and hence dropped.\n",
    "\n",
    "`Rider_Id`: Each Rider_Id contains specific data relevant to that driver (such as ratings, number of deliveries, etc). This data is already contained in the dataset (over the various columns), and hence this column is dropped.\n",
    "\n",
    "`User_Id`: (Same intuition as Rider_Id).\n",
    "\n",
    "`Order_No`: Since this has to be preserved, but we can not include it inside our model, it is made to be the index. \n",
    "\n",
    "The four columns dealing with co-ordinates (i.e `Pickup_Lat`, `Pickup_Long`, `Destination_Lat` and `Destination_Long`) are not numerical data and essentially needs to be removed. Furthermore, the `Distance_KM` column suffices."
   ]
  },
  {
   "cell_type": "markdown",
   "metadata": {
    "colab_type": "text",
    "id": "IxTx8uT25A_c"
   },
   "source": [
    "The columns `Arrival_at_Destination_Day_of_Month`,\t`Arrival_at_Destination_Weekday` and `Arrival_at_Destination_Time` are to also be dropped since it is not included in our test dataset, and is also not required for modelling. \n"
   ]
  },
  {
   "cell_type": "code",
   "execution_count": 21,
   "metadata": {
    "colab": {},
    "colab_type": "code",
    "id": "cCsaDsHdDj9q"
   },
   "outputs": [],
   "source": [
    "train_dummies.drop('Vehicle_Type', axis=1, inplace=True)\n",
    "train_dummies.drop('User_Id', axis=1, inplace=True)\n",
    "train_dummies.drop('Rider_Id', axis=1, inplace=True)\n",
    "train_dummies.drop('Pickup_Lat', axis=1, inplace=True)\n",
    "train_dummies.drop('Pickup_Long', axis=1, inplace=True)\n",
    "train_dummies.drop('Destination_Lat', axis=1, inplace=True)\n",
    "train_dummies.drop('Destination_Long', axis=1, inplace=True)\n",
    "train_dummies.drop('Arrival_at_Destination_Day_of_Month', axis=1, inplace=True)\n",
    "train_dummies.drop('Arrival_at_Destination_Weekday', axis=1, inplace=True)\n",
    "train_dummies.drop('Arrival_at_Destination_Time', axis=1, inplace=True)"
   ]
  },
  {
   "cell_type": "code",
   "execution_count": 22,
   "metadata": {
    "colab": {},
    "colab_type": "code",
    "id": "6Fdaped-TxQA"
   },
   "outputs": [],
   "source": [
    "train_dummies.set_index('Order_No', inplace=True)"
   ]
  },
  {
   "cell_type": "code",
   "execution_count": 23,
   "metadata": {
    "colab": {
     "base_uri": "https://localhost:8080/",
     "height": 903
    },
    "colab_type": "code",
    "executionInfo": {
     "elapsed": 43477,
     "status": "ok",
     "timestamp": 1590332443324,
     "user": {
      "displayName": "abdullah shaikh",
      "photoUrl": "",
      "userId": "08883111522238731033"
     },
     "user_tz": -120
    },
    "id": "rEqquJDVGJl3",
    "outputId": "2b4d4ec4-8bc5-4cb5-bff2-510a0aacf8de"
   },
   "outputs": [
    {
     "output_type": "execute_result",
     "data": {
      "text/plain": "                Placement_Day_of_Month  Placement_Weekday  \\\nOrder_No                                                    \nOrder_No_4211                        9                  5   \nOrder_No_25375                      12                  5   \nOrder_No_1899                       30                  2   \nOrder_No_9336                       15                  5   \nOrder_No_27883                      13                  1   \n...                                ...                ...   \nOrder_No_8834                       20                  3   \nOrder_No_22892                      13                  6   \nOrder_No_2831                        7                  4   \nOrder_No_6174                        4                  3   \nOrder_No_9836                       26                  2   \n\n                Confirmation_Day_of_Month  Confirmation_Weekday  \\\nOrder_No                                                          \nOrder_No_4211                           9                     5   \nOrder_No_25375                         12                     5   \nOrder_No_1899                          30                     2   \nOrder_No_9336                          15                     5   \nOrder_No_27883                         13                     1   \n...                                   ...                   ...   \nOrder_No_8834                          20                     3   \nOrder_No_22892                         13                     6   \nOrder_No_2831                           7                     4   \nOrder_No_6174                           4                     3   \nOrder_No_9836                          26                     2   \n\n                Arrival_at_Pickup_Day_of_Month  Arrival_at_Pickup_Weekday  \\\nOrder_No                                                                    \nOrder_No_4211                                9                          5   \nOrder_No_25375                              12                          5   \nOrder_No_1899                               30                          2   \nOrder_No_9336                               15                          5   \nOrder_No_27883                              13                          1   \n...                                        ...                        ...   \nOrder_No_8834                               20                          3   \nOrder_No_22892                              13                          6   \nOrder_No_2831                                7                          4   \nOrder_No_6174                                4                          3   \nOrder_No_9836                               26                          2   \n\n                Pickup_Day_of_Month  Pickup_Weekday  Distance_KM  Temperature  \\\nOrder_No                                                                        \nOrder_No_4211                     9               5            4         20.4   \nOrder_No_25375                   12               5           16         26.4   \nOrder_No_1899                    30               2            3         23.0   \nOrder_No_9336                    15               5            9         19.2   \nOrder_No_27883                   13               1            9         15.4   \n...                             ...             ...          ...          ...   \nOrder_No_8834                    20               3            3         28.6   \nOrder_No_22892                   13               6            7         26.0   \nOrder_No_2831                     7               4           20         29.2   \nOrder_No_6174                     4               3           13         15.0   \nOrder_No_9836                    26               2           12         30.9   \n\n                ...  Confirmation_Time_Morning  Confirmation_Time_Night  \\\nOrder_No        ...                                                       \nOrder_No_4211   ...                          1                        0   \nOrder_No_25375  ...                          1                        0   \nOrder_No_1899   ...                          0                        0   \nOrder_No_9336   ...                          1                        0   \nOrder_No_27883  ...                          1                        0   \n...             ...                        ...                      ...   \nOrder_No_8834   ...                          0                        0   \nOrder_No_22892  ...                          1                        0   \nOrder_No_2831   ...                          0                        0   \nOrder_No_6174   ...                          1                        0   \nOrder_No_9836   ...                          0                        0   \n\n                Placement_Time_EarlyMorning  Placement_Time_Evening  \\\nOrder_No                                                              \nOrder_No_4211                             0                       0   \nOrder_No_25375                            0                       0   \nOrder_No_1899                             0                       0   \nOrder_No_9336                             0                       0   \nOrder_No_27883                            0                       0   \n...                                     ...                     ...   \nOrder_No_8834                             0                       0   \nOrder_No_22892                            0                       0   \nOrder_No_2831                             0                       1   \nOrder_No_6174                             0                       0   \nOrder_No_9836                             0                       0   \n\n                Placement_Time_Morning  Placement_Time_Night  \\\nOrder_No                                                       \nOrder_No_4211                        1                     0   \nOrder_No_25375                       1                     0   \nOrder_No_1899                        0                     0   \nOrder_No_9336                        1                     0   \nOrder_No_27883                       1                     0   \n...                                ...                   ...   \nOrder_No_8834                        0                     0   \nOrder_No_22892                       1                     0   \nOrder_No_2831                        0                     0   \nOrder_No_6174                        1                     0   \nOrder_No_9836                        0                     0   \n\n                Pickup_Time_EarlyMorning  Pickup_Time_Evening  \\\nOrder_No                                                        \nOrder_No_4211                          0                    0   \nOrder_No_25375                         0                    0   \nOrder_No_1899                          0                    0   \nOrder_No_9336                          0                    0   \nOrder_No_27883                         0                    0   \n...                                  ...                  ...   \nOrder_No_8834                          0                    1   \nOrder_No_22892                         0                    0   \nOrder_No_2831                          0                    1   \nOrder_No_6174                          0                    0   \nOrder_No_9836                          0                    0   \n\n                Pickup_Time_Morning  Pickup_Time_Night  \nOrder_No                                                \nOrder_No_4211                     1                  0  \nOrder_No_25375                    1                  0  \nOrder_No_1899                     0                  0  \nOrder_No_9336                     1                  0  \nOrder_No_27883                    1                  0  \n...                             ...                ...  \nOrder_No_8834                     0                  0  \nOrder_No_22892                    1                  0  \nOrder_No_2831                     0                  0  \nOrder_No_6174                     1                  0  \nOrder_No_9836                     0                  0  \n\n[21201 rows x 36 columns]",
      "text/html": "<div>\n<style scoped>\n    .dataframe tbody tr th:only-of-type {\n        vertical-align: middle;\n    }\n\n    .dataframe tbody tr th {\n        vertical-align: top;\n    }\n\n    .dataframe thead th {\n        text-align: right;\n    }\n</style>\n<table border=\"1\" class=\"dataframe\">\n  <thead>\n    <tr style=\"text-align: right;\">\n      <th></th>\n      <th>Placement_Day_of_Month</th>\n      <th>Placement_Weekday</th>\n      <th>Confirmation_Day_of_Month</th>\n      <th>Confirmation_Weekday</th>\n      <th>Arrival_at_Pickup_Day_of_Month</th>\n      <th>Arrival_at_Pickup_Weekday</th>\n      <th>Pickup_Day_of_Month</th>\n      <th>Pickup_Weekday</th>\n      <th>Distance_KM</th>\n      <th>Temperature</th>\n      <th>...</th>\n      <th>Confirmation_Time_Morning</th>\n      <th>Confirmation_Time_Night</th>\n      <th>Placement_Time_EarlyMorning</th>\n      <th>Placement_Time_Evening</th>\n      <th>Placement_Time_Morning</th>\n      <th>Placement_Time_Night</th>\n      <th>Pickup_Time_EarlyMorning</th>\n      <th>Pickup_Time_Evening</th>\n      <th>Pickup_Time_Morning</th>\n      <th>Pickup_Time_Night</th>\n    </tr>\n    <tr>\n      <th>Order_No</th>\n      <th></th>\n      <th></th>\n      <th></th>\n      <th></th>\n      <th></th>\n      <th></th>\n      <th></th>\n      <th></th>\n      <th></th>\n      <th></th>\n      <th></th>\n      <th></th>\n      <th></th>\n      <th></th>\n      <th></th>\n      <th></th>\n      <th></th>\n      <th></th>\n      <th></th>\n      <th></th>\n      <th></th>\n    </tr>\n  </thead>\n  <tbody>\n    <tr>\n      <th>Order_No_4211</th>\n      <td>9</td>\n      <td>5</td>\n      <td>9</td>\n      <td>5</td>\n      <td>9</td>\n      <td>5</td>\n      <td>9</td>\n      <td>5</td>\n      <td>4</td>\n      <td>20.4</td>\n      <td>...</td>\n      <td>1</td>\n      <td>0</td>\n      <td>0</td>\n      <td>0</td>\n      <td>1</td>\n      <td>0</td>\n      <td>0</td>\n      <td>0</td>\n      <td>1</td>\n      <td>0</td>\n    </tr>\n    <tr>\n      <th>Order_No_25375</th>\n      <td>12</td>\n      <td>5</td>\n      <td>12</td>\n      <td>5</td>\n      <td>12</td>\n      <td>5</td>\n      <td>12</td>\n      <td>5</td>\n      <td>16</td>\n      <td>26.4</td>\n      <td>...</td>\n      <td>1</td>\n      <td>0</td>\n      <td>0</td>\n      <td>0</td>\n      <td>1</td>\n      <td>0</td>\n      <td>0</td>\n      <td>0</td>\n      <td>1</td>\n      <td>0</td>\n    </tr>\n    <tr>\n      <th>Order_No_1899</th>\n      <td>30</td>\n      <td>2</td>\n      <td>30</td>\n      <td>2</td>\n      <td>30</td>\n      <td>2</td>\n      <td>30</td>\n      <td>2</td>\n      <td>3</td>\n      <td>23.0</td>\n      <td>...</td>\n      <td>0</td>\n      <td>0</td>\n      <td>0</td>\n      <td>0</td>\n      <td>0</td>\n      <td>0</td>\n      <td>0</td>\n      <td>0</td>\n      <td>0</td>\n      <td>0</td>\n    </tr>\n    <tr>\n      <th>Order_No_9336</th>\n      <td>15</td>\n      <td>5</td>\n      <td>15</td>\n      <td>5</td>\n      <td>15</td>\n      <td>5</td>\n      <td>15</td>\n      <td>5</td>\n      <td>9</td>\n      <td>19.2</td>\n      <td>...</td>\n      <td>1</td>\n      <td>0</td>\n      <td>0</td>\n      <td>0</td>\n      <td>1</td>\n      <td>0</td>\n      <td>0</td>\n      <td>0</td>\n      <td>1</td>\n      <td>0</td>\n    </tr>\n    <tr>\n      <th>Order_No_27883</th>\n      <td>13</td>\n      <td>1</td>\n      <td>13</td>\n      <td>1</td>\n      <td>13</td>\n      <td>1</td>\n      <td>13</td>\n      <td>1</td>\n      <td>9</td>\n      <td>15.4</td>\n      <td>...</td>\n      <td>1</td>\n      <td>0</td>\n      <td>0</td>\n      <td>0</td>\n      <td>1</td>\n      <td>0</td>\n      <td>0</td>\n      <td>0</td>\n      <td>1</td>\n      <td>0</td>\n    </tr>\n    <tr>\n      <th>...</th>\n      <td>...</td>\n      <td>...</td>\n      <td>...</td>\n      <td>...</td>\n      <td>...</td>\n      <td>...</td>\n      <td>...</td>\n      <td>...</td>\n      <td>...</td>\n      <td>...</td>\n      <td>...</td>\n      <td>...</td>\n      <td>...</td>\n      <td>...</td>\n      <td>...</td>\n      <td>...</td>\n      <td>...</td>\n      <td>...</td>\n      <td>...</td>\n      <td>...</td>\n      <td>...</td>\n    </tr>\n    <tr>\n      <th>Order_No_8834</th>\n      <td>20</td>\n      <td>3</td>\n      <td>20</td>\n      <td>3</td>\n      <td>20</td>\n      <td>3</td>\n      <td>20</td>\n      <td>3</td>\n      <td>3</td>\n      <td>28.6</td>\n      <td>...</td>\n      <td>0</td>\n      <td>0</td>\n      <td>0</td>\n      <td>0</td>\n      <td>0</td>\n      <td>0</td>\n      <td>0</td>\n      <td>1</td>\n      <td>0</td>\n      <td>0</td>\n    </tr>\n    <tr>\n      <th>Order_No_22892</th>\n      <td>13</td>\n      <td>6</td>\n      <td>13</td>\n      <td>6</td>\n      <td>13</td>\n      <td>6</td>\n      <td>13</td>\n      <td>6</td>\n      <td>7</td>\n      <td>26.0</td>\n      <td>...</td>\n      <td>1</td>\n      <td>0</td>\n      <td>0</td>\n      <td>0</td>\n      <td>1</td>\n      <td>0</td>\n      <td>0</td>\n      <td>0</td>\n      <td>1</td>\n      <td>0</td>\n    </tr>\n    <tr>\n      <th>Order_No_2831</th>\n      <td>7</td>\n      <td>4</td>\n      <td>7</td>\n      <td>4</td>\n      <td>7</td>\n      <td>4</td>\n      <td>7</td>\n      <td>4</td>\n      <td>20</td>\n      <td>29.2</td>\n      <td>...</td>\n      <td>0</td>\n      <td>0</td>\n      <td>0</td>\n      <td>1</td>\n      <td>0</td>\n      <td>0</td>\n      <td>0</td>\n      <td>1</td>\n      <td>0</td>\n      <td>0</td>\n    </tr>\n    <tr>\n      <th>Order_No_6174</th>\n      <td>4</td>\n      <td>3</td>\n      <td>4</td>\n      <td>3</td>\n      <td>4</td>\n      <td>3</td>\n      <td>4</td>\n      <td>3</td>\n      <td>13</td>\n      <td>15.0</td>\n      <td>...</td>\n      <td>1</td>\n      <td>0</td>\n      <td>0</td>\n      <td>0</td>\n      <td>1</td>\n      <td>0</td>\n      <td>0</td>\n      <td>0</td>\n      <td>1</td>\n      <td>0</td>\n    </tr>\n    <tr>\n      <th>Order_No_9836</th>\n      <td>26</td>\n      <td>2</td>\n      <td>26</td>\n      <td>2</td>\n      <td>26</td>\n      <td>2</td>\n      <td>26</td>\n      <td>2</td>\n      <td>12</td>\n      <td>30.9</td>\n      <td>...</td>\n      <td>0</td>\n      <td>0</td>\n      <td>0</td>\n      <td>0</td>\n      <td>0</td>\n      <td>0</td>\n      <td>0</td>\n      <td>0</td>\n      <td>0</td>\n      <td>0</td>\n    </tr>\n  </tbody>\n</table>\n<p>21201 rows × 36 columns</p>\n</div>"
     },
     "metadata": {},
     "execution_count": 23
    }
   ],
   "source": [
    "train_dummies"
   ]
  },
  {
   "cell_type": "markdown",
   "metadata": {
    "colab_type": "text",
    "id": "Ex9bH7xYnIgL"
   },
   "source": [
    "The final `train_dummies` DataFrame is obtained. "
   ]
  },
  {
   "cell_type": "markdown",
   "metadata": {
    "colab_type": "text",
    "id": "ErTsgkKTlm0W"
   },
   "source": [
    "### Correlations"
   ]
  },
  {
   "cell_type": "code",
   "execution_count": 24,
   "metadata": {
    "colab": {
     "base_uri": "https://localhost:8080/",
     "height": 34
    },
    "colab_type": "code",
    "executionInfo": {
     "elapsed": 43435,
     "status": "ok",
     "timestamp": 1590332443325,
     "user": {
      "displayName": "abdullah shaikh",
      "photoUrl": "",
      "userId": "08883111522238731033"
     },
     "user_tz": -120
    },
    "id": "XEcJ28t6F408",
    "outputId": "12932d37-24fe-45fd-f81d-fc6ae2873c75"
   },
   "outputs": [
    {
     "output_type": "execute_result",
     "data": {
      "text/plain": "(21201, 36)"
     },
     "metadata": {},
     "execution_count": 24
    }
   ],
   "source": [
    "train_dummies.shape"
   ]
  },
  {
   "cell_type": "markdown",
   "metadata": {
    "colab_type": "text",
    "id": "5KNgZ7YBnQcm"
   },
   "source": [
    "Using this dataframe, a model predicting `'Time_from_Pickup_to_Arrival'` as a function of 35 potential different independent variables can be built. \n",
    "\n",
    "Firstly, the columns are re-ordered so that our dependent variable is the last column of the dataframe. \n",
    "This makes a heatmap visualisation representing a correlation matrix of our data easier to interpret."
   ]
  },
  {
   "cell_type": "code",
   "execution_count": 25,
   "metadata": {
    "colab": {},
    "colab_type": "code",
    "id": "JEjvREkEn3Vk"
   },
   "outputs": [],
   "source": [
    "column_titles = [col for col in train_dummies.columns if col!= 'Time_from_Pickup_to_Arrival'] + ['Time_from_Pickup_to_Arrival']\n",
    "train_dummies=train_dummies.reindex(columns=column_titles)"
   ]
  },
  {
   "cell_type": "markdown",
   "metadata": {
    "colab_type": "text",
    "id": "pFgzENQKoYgC"
   },
   "source": [
    "The correlation matrix is inspected:"
   ]
  },
  {
   "cell_type": "code",
   "execution_count": 26,
   "metadata": {
    "colab": {
     "base_uri": "https://localhost:8080/",
     "height": 1000
    },
    "colab_type": "code",
    "executionInfo": {
     "elapsed": 43378,
     "status": "ok",
     "timestamp": 1590332443327,
     "user": {
      "displayName": "abdullah shaikh",
      "photoUrl": "",
      "userId": "08883111522238731033"
     },
     "user_tz": -120
    },
    "id": "cslybcMTonzQ",
    "outputId": "8edd822d-08c1-46c7-989e-0d3f3e0ab5ca"
   },
   "outputs": [
    {
     "output_type": "execute_result",
     "data": {
      "text/plain": "ment_Time_Evening                             -0.003472   \nPlacement_Time_Morning                             -0.038637   \nPlacement_Time_Night                                0.957337   \nPickup_Time_EarlyMorning                           -0.001909   \nPickup_Time_Evening                                -0.021493   \nPickup_Time_Morning                                -0.033870   \nPickup_Time_Night                                   0.769200   \nTime_from_Pickup_to_Arrival                        -0.018756   \n\n                                     Placement_Time_EarlyMorning  \\\nPlacement_Day_of_Month                                  0.005861   \nPlacement_Weekday                                       0.002276   \nConfirmation_Day_of_Month                               0.005860   \nConfirmation_Weekday                                    0.002268   \nArrival_at_Pickup_Day_of_Month                          0.005860   \nArrival_at_Pickup_Weekday                               0.002268   \nPickup_Day_of_Month                                     0.005860   \nPickup_Weekday                                          0.002268   \nDistance_KM                                             0.001038   \nTemperature                                            -0.109156   \nPrecipitation_in_millimeters                            0.000587   \nNo_Of_Orders                                            0.012777   \nAge                                                     0.016704   \nAverage_Rating                                         -0.001371   \nNo_of_Ratings                                           0.007372   \nPersonal_or_Business_Personal                           0.031491   \nPlatform_Type_2                                         0.024151   \nPlatform_Type_3                                        -0.031280   \nPlatform_Type_4                                        -0.002713   \nArrival_at_Pickup_Time_EarlyMorning                     0.637700   \nArrival_at_Pickup_Time_Evening                         -0.036443   \nArrival_at_Pickup_Time_Morning                          0.042580   \nArrival_at_Pickup_Time_Night                           -0.004820   \nConfirmation_Time_EarlyMorning                          0.836415   \nConfirmation_Time_Evening                              -0.032909   \nConfirmation_Time_Morning                              -0.015773   \nConfirmation_Time_Night                                -0.004206   \nPlacement_Time_EarlyMorning                             1.000000   \nPlacement_Time_Evening                                 -0.030363   \nPlacement_Time_Morning                                 -0.071615   \nPlacement_Time_Night                                   -0.004027   \nPickup_Time_EarlyMorning                                0.453920   \nPickup_Time_Evening                                    -0.039838   \nPickup_Time_Morning                                     0.085421   \nPickup_Time_Night                                      -0.005468   \nTime_from_Pickup_to_Arrival                            -0.002831   \n\n                                     Placement_Time_Evening  \\\nPlacement_Day_of_Month                             0.005516   \nPlacement_Weekday                                  0.015926   \nConfirmation_Day_of_Month                          0.005510   \nConfirmation_Weekday                               0.015896   \nArrival_at_Pickup_Day_of_Month                     0.005510   \nArrival_at_Pickup_Weekday                          0.015896   \nPickup_Day_of_Month                                0.005510   \nPickup_Weekday                                     0.015896   \nDistance_KM                                       -0.033298   \nTemperature                                        0.021322   \nPrecipitation_in_millimeters                      -0.008215   \nNo_Of_Orders                                      -0.007072   \nAge                                               -0.014458   \nAverage_Rating                                     0.006010   \nNo_of_Ratings                                      0.001552   \nPersonal_or_Business_Personal                      0.057626   \nPlatform_Type_2                                    0.043366   \nPlatform_Type_3                                   -0.071704   \nPlatform_Type_4                                    0.009418   \nArrival_at_Pickup_Time_EarlyMorning               -0.019362   \nArrival_at_Pickup_Time_Evening                     0.824902   \nArrival_at_Pickup_Time_Morning                    -0.257902   \nArrival_at_Pickup_Time_Night                       0.034767   \nConfirmation_Time_EarlyMorning                    -0.025396   \nConfirmation_Time_Evening                          0.920755   \nConfirmation_Time_Morning                         -0.272507   \nConfirmation_Time_Night                           -0.003472   \nPlacement_Time_EarlyMorning                       -0.030363   \nPlacement_Time_Evening                             1.000000   \nPlacement_Time_Morning                            -0.278923   \nPlacement_Time_Night                              -0.015682   \nPickup_Time_EarlyMorning                          -0.013782   \nPickup_Time_Evening                                0.747022   \nPickup_Time_Morning                               -0.244505   \nPickup_Time_Night                                  0.070694   \nTime_from_Pickup_to_Arrival                       -0.008623   \n\n                                     Placement_Time_Morning  \\\nPlacement_Day_of_Month                            -0.010109   \nPlacement_Weekday                                  0.020865   \nConfirmation_Day_of_Month                         -0.010122   \nConfirmation_Weekday                               0.020792   \nArrival_at_Pickup_Day_of_Month                    -0.010122   \nArrival_at_Pickup_Weekday                          0.020792   \nPickup_Day_of_Month                               -0.010122   \nPickup_Weekday                                     0.020792   \nDistance_KM                                        0.032187   \nTemperature                                       -0.337349   \nPrecipitation_in_millimeters                       0.009192   \nNo_Of_Orders                                       0.000836   \nAge                                               -0.006354   \nAverage_Rating                                     0.005827   \nNo_of_Ratings                                     -0.009179   \nPersonal_or_Business_Personal                     -0.006691   \nPlatform_Type_2                                   -0.008212   \nPlatform_Type_3                                    0.008080   \nPlatform_Type_4                                    0.003340   \nArrival_at_Pickup_Time_EarlyMorning               -0.045669   \nArrival_at_Pickup_Time_Evening                    -0.334775   \nArrival_at_Pickup_Time_Morning                     0.905154   \nArrival_at_Pickup_Time_Night                      -0.044280   \nConfirmation_Time_EarlyMorning                    -0.059900   \nConfirmation_Time_Evening                         -0.302313   \nConfirmation_Time_Morning                          0.967293   \nConfirmation_Time_Night                           -0.038637   \nPlacement_Time_EarlyMorning                       -0.071615   \nPlacement_Time_Evening                            -0.278923   \nPlacement_Time_Morning                             1.000000   \nPlacement_Time_Night                              -0.036989   \nPickup_Time_EarlyMorning                          -0.032508   \nPickup_Time_Evening                               -0.365964   \nPickup_Time_Morning                                0.850065   \nPickup_Time_Night                                 -0.050231   \nTime_from_Pickup_to_Arrival                       -0.007352   \n\n                                     Placement_Time_Night  \\\nPlacement_Day_of_Month                          -0.003506   \nPlacement_Weekday                                0.018805   \nConfirmation_Day_of_Month                       -0.003507   \nConfirmation_Weekday                             0.018802   \nArrival_at_Pickup_Day_of_Month                  -0.003507   \nArrival_at_Pickup_Weekday                        0.018802   \nPickup_Day_of_Month                             -0.003507   \nPickup_Weekday                                   0.018802   \nDistance_KM                                     -0.016507   \nTemperature                                     -0.050140   \nPrecipitation_in_millimeters                    -0.008797   \nNo_Of_Orders                                     0.015342   \nAge                                              0.017954   \nAverage_Rating                                   0.013769   \nNo_of_Ratings                                    0.020474   \nPersonal_or_Business_Personal                    0.046069   \nPlatform_Type_2                                  0.024514   \nPlatform_Type_3                                 -0.036349   \nPlatform_Type_4                                 -0.001401   \nArrival_at_Pickup_Time_EarlyMorning             -0.002568   \nArrival_at_Pickup_Time_Evening                  -0.018823   \nArrival_at_Pickup_Time_Morning                  -0.034201   \nArrival_at_Pickup_Time_Night                     0.835336   \nConfirmation_Time_EarlyMorning                  -0.003368   \nConfirmation_Time_Evening                       -0.016997   \nConfirmation_Time_Morning                       -0.036138   \nConfirmation_Time_Night                          0.957337   \nPlacement_Time_EarlyMorning                     -0.004027   \nPlacement_Time_Evening                          -0.015682   \nPlacement_Time_Morning                          -0.036989   \nPlacement_Time_Night                             1.000000   \nPickup_Time_EarlyMorning                        -0.001828   \nPickup_Time_Evening                             -0.020576   \nPickup_Time_Morning                             -0.032425   \nPickup_Time_Night                                0.736383   \nTime_from_Pickup_to_Arrival                     -0.017283   \n\n                                     Pickup_Time_EarlyMorning  \\\nPlacement_Day_of_Month                               0.004525   \nPlacement_Weekday                                   -0.003131   \nConfirmation_Day_of_Month                            0.004524   \nConfirmation_Weekday                                -0.003135   \nArrival_at_Pickup_Day_of_Month                       0.004524   \nArrival_at_Pickup_Weekday                           -0.003135   \nPickup_Day_of_Month                                  0.004524   \nPickup_Weekday                                      -0.003135   \nDistance_KM                                          0.019500   \nTemperature                                         -0.060662   \nPrecipitation_in_millimeters                         0.021600   \nNo_Of_Orders                                         0.006798   \nAge                                                  0.008405   \nAverage_Rating                                      -0.002324   \nNo_of_Ratings                                        0.003841   \nPersonal_or_Business_Personal                        0.048715   \nPlatform_Type_2                                      0.024861   \nPlatform_Type_3                                     -0.046262   \nPlatform_Type_4                                     -0.001232   \nArrival_at_Pickup_Time_EarlyMorning                  0.711809   \nArrival_at_Pickup_Time_Evening                      -0.016542   \nArrival_at_Pickup_Time_Morning                      -0.030058   \nArrival_at_Pickup_Time_Night                        -0.002188   \nConfirmation_Time_EarlyMorning                       0.542698   \nConfirmation_Time_Evening                           -0.014938   \nConfirmation_Time_Morning                           -0.031760   \nConfirmation_Time_Night                             -0.001909   \nPlacement_Time_EarlyMorning                          0.453920   \nPlacement_Time_Evening                              -0.013782   \nPlacement_Time_Morning                              -0.032508   \nPlacement_Time_Night                                -0.001828   \nPickup_Time_EarlyMorning                             1.000000   \nPickup_Time_Evening                                 -0.018083   \nPickup_Time_Morning                                 -0.028496   \nPickup_Time_Night                                   -0.002482   \nTime_from_Pickup_to_Arrival                          0.011695   \n\n                                     Pickup_Time_Evening  Pickup_Time_Morning  \\\nPlacement_Day_of_Month                          0.003959            -0.008339   \nPlacement_Weekday                               0.003698             0.016432   \nConfirmation_Day_of_Month                       0.003952            -0.008351   \nConfirmation_Weekday                            0.003657             0.016368   \nArrival_at_Pickup_Day_of_Month                  0.003952            -0.008351   \nArrival_at_Pickup_Weekday                       0.003657             0.016368   \nPickup_Day_of_Month                             0.003952            -0.008351   \nPickup_Weekday                                  0.003657             0.016368   \nDistance_KM                                    -0.028530             0.020930   \nTemperature                                     0.083620            -0.365483   \nPrecipitation_in_millimeters                   -0.007635             0.012756   \nNo_Of_Orders                                   -0.005224             0.009474   \nAge                                            -0.011320            -0.000819   \nAverage_Rating                                  0.003857             0.010897   \nNo_of_Ratings                                  -0.002312            -0.003594   \nPersonal_or_Business_Personal                   0.027960             0.002939   \nPlatform_Type_2                                 0.017522             0.004723   \nPlatform_Type_3                                -0.041302             0.000202   \nPlatform_Type_4                                 0.002529            -0.002328   \nArrival_at_Pickup_Time_EarlyMorning            -0.025404             0.018688   \nArrival_at_Pickup_Time_Evening                  0.908355            -0.293465   \nArrival_at_Pickup_Time_Morning                 -0.338383             0.941185   \nArrival_at_Pickup_Time_Night                   -0.024632            -0.038816   \nConfirmation_Time_EarlyMorning                 -0.033321             0.057634   \nConfirmation_Time_Evening                       0.813386            -0.265009   \nConfirmation_Time_Morning                      -0.357546             0.880622   \nConfirmation_Time_Night                        -0.021493            -0.033870   \nPlacement_Time_EarlyMorning                    -0.039838             0.085421   \nPlacement_Time_Evening                          0.747022            -0.244505   \nPlacement_Time_Morning                         -0.365964             0.850065   \nPlacement_Time_Night                           -0.020576            -0.032425   \nPickup_Time_EarlyMorning                       -0.018083            -0.028496   \nPickup_Time_Evening                             1.000000            -0.320805   \nPickup_Time_Morning                            -0.320805             1.000000   \nPickup_Time_Night                              -0.027942            -0.044032   \nTime_from_Pickup_to_Arrival                    -0.005153            -0.022279   \n\n                                     Pickup_Time_Night  \\\nPlacement_Day_of_Month                       -0.006600   \nPlacement_Weekday                             0.023198   \nConfirmation_Day_of_Month                    -0.006601   \nConfirmation_Weekday                          0.023193   \nArrival_at_Pickup_Day_of_Month               -0.006601   \nArrival_at_Pickup_Weekday                     0.023193   \nPickup_Day_of_Month                          -0.006601   \nPickup_Weekday                                0.023193   \nDistance_KM                                  -0.017132   \nTemperature                                  -0.059482   \nPrecipitation_in_millimeters                 -0.005564   \nNo_Of_Orders                                  0.014646   \nAge                                           0.013844   \nAverage_Rating                                0.011114   \nNo_of_Ratings                                 0.021758   \nPersonal_or_Business_Personal                 0.058537   \nPlatform_Type_2                               0.040986   \nPlatform_Type_3                              -0.047260   \nPlatform_Type_4                              -0.001903   \nArrival_at_Pickup_Time_EarlyMorning          -0.003487   \nArrival_at_Pickup_Time_Evening                0.013462   \nArrival_at_Pickup_Time_Morning               -0.046445   \nArrival_at_Pickup_Time_Night                  0.881542   \nConfirmation_Time_EarlyMorning               -0.004573   \nConfirmation_Time_Evening                     0.054014   \nConfirmation_Time_Morning                    -0.049075   \nConfirmation_Time_Night                       0.769200   \nPlacement_Time_EarlyMorning                  -0.005468   \nPlacement_Time_Evening                        0.070694   \nPlacement_Time_Morning                       -0.050231   \nPlacement_Time_Night                          0.736383   \nPickup_Time_EarlyMorning                     -0.002482   \nPickup_Time_Evening                          -0.027942   \nPickup_Time_Morning                          -0.044032   \nPickup_Time_Night                             1.000000   \nTime_from_Pickup_to_Arrival                  -0.019086   \n\n                                     Time_from_Pickup_to_Arrival  \nPlacement_Day_of_Month                                 -0.014710  \nPlacement_Weekday                                       0.009693  \nConfirmation_Day_of_Month                              -0.014701  \nConfirmation_Weekday                                    0.009744  \nArrival_at_Pickup_Day_of_Month                         -0.014701  \nArrival_at_Pickup_Weekday                               0.009744  \nPickup_Day_of_Month                                    -0.014701  \nPickup_Weekday                                          0.009744  \nDistance_KM                                             0.580608  \nTemperature                                             0.006721  \nPrecipitation_in_millimeters                            0.000479  \nNo_Of_Orders                                           -0.041608  \nAge                                                    -0.007969  \nAverage_Rating                                         -0.042559  \nNo_of_Ratings                                           0.005609  \nPersonal_or_Business_Personal                           0.013354  \nPlatform_Type_2                                        -0.003581  \nPlatform_Type_3                                        -0.002784  \nPlatform_Type_4                                         0.003680  \nArrival_at_Pickup_Time_EarlyMorning                     0.002085  \nArrival_at_Pickup_Time_Evening                          0.002794  \nArrival_at_Pickup_Time_Morning                         -0.023510  \nArrival_at_Pickup_Time_Night                           -0.015281  \nConfirmation_Time_EarlyMorning                          0.005073  \nConfirmation_Time_Evening                              -0.002294  \nConfirmation_Time_Morning                              -0.014579  \nConfirmation_Time_Night                                -0.018756  \nPlacement_Time_EarlyMorning                            -0.002831  \nPlacement_Time_Evening                                 -0.008623  \nPlacement_Time_Morning                                 -0.007352  \nPlacement_Time_Night                                   -0.017283  \nPickup_Time_EarlyMorning                                0.011695  \nPickup_Time_Evening                                    -0.005153  \nPickup_Time_Morning                                    -0.022279  \nPickup_Time_Night                                      -0.019086  \nTime_from_Pickup_to_Arrival                             1.000000  \n\n[36 rows x 36 columns]",
      "text/html": "<div>\n<style scoped>\n    .dataframe tbody tr th:only-of-type {\n        vertical-align: middle;\n    }\n\n    .dataframe tbody tr th {\n        vertical-align: top;\n    }\n\n    .dataframe thead th {\n        text-align: right;\n    }\n</style>\n<table border=\"1\" class=\"dataframe\">\n  <thead>\n    <tr style=\"text-align: right;\">\n      <th></th>\n      <th>Placement_Day_of_Month</th>\n      <th>Placement_Weekday</th>\n      <th>Confirmation_Day_of_Month</th>\n      <th>Confirmation_Weekday</th>\n      <th>Arrival_at_Pickup_Day_of_Month</th>\n      <th>Arrival_at_Pickup_Weekday</th>\n      <th>Pickup_Day_of_Month</th>\n      <th>Pickup_Weekday</th>\n      <th>Distance_KM</th>\n      <th>Temperature</th>\n      <th>...</th>\n      <th>Confirmation_Time_Night</th>\n      <th>Placement_Time_EarlyMorning</th>\n      <th>Placement_Time_Evening</th>\n      <th>Placement_Time_Morning</th>\n      <th>Placement_Time_Night</th>\n      <th>Pickup_Time_EarlyMorning</th>\n      <th>Pickup_Time_Evening</th>\n      <th>Pickup_Time_Morning</th>\n      <th>Pickup_Time_Night</th>\n      <th>Time_from_Pickup_to_Arrival</th>\n    </tr>\n  </thead>\n  <tbody>\n    <tr>\n      <th>Placement_Day_of_Month</th>\n      <td>1.000000</td>\n      <td>0.026148</td>\n      <td>0.999998</td>\n      <td>0.026122</td>\n      <td>0.999998</td>\n      <td>0.026122</td>\n      <td>0.999998</td>\n      <td>0.026122</td>\n      <td>-0.007585</td>\n      <td>0.013154</td>\n      <td>...</td>\n      <td>-0.005005</td>\n      <td>0.005861</td>\n      <td>0.005516</td>\n      <td>-0.010109</td>\n      <td>-0.003506</td>\n      <td>0.004525</td>\n      <td>0.003959</td>\n      <td>-0.008339</td>\n      <td>-0.006600</td>\n      <td>-0.014710</td>\n    </tr>\n    <tr>\n      <th>Placement_Weekday</th>\n      <td>0.026148</td>\n      <td>1.000000</td>\n      <td>0.026132</td>\n      <td>0.999952</td>\n      <td>0.026132</td>\n      <td>0.999952</td>\n      <td>0.026132</td>\n      <td>0.999952</td>\n      <td>0.003582</td>\n      <td>0.033645</td>\n      <td>...</td>\n      <td>0.015499</td>\n      <td>0.002276</td>\n      <td>0.015926</td>\n      <td>0.020865</td>\n      <td>0.018805</td>\n      <td>-0.003131</td>\n      <td>0.003698</td>\n      <td>0.016432</td>\n      <td>0.023198</td>\n      <td>0.009693</td>\n    </tr>\n    <tr>\n      <th>Confirmation_Day_of_Month</th>\n      <td>0.999998</td>\n      <td>0.026132</td>\n      <td>1.000000</td>\n      <td>0.026123</td>\n      <td>1.000000</td>\n      <td>0.026123</td>\n      <td>1.000000</td>\n      <td>0.026123</td>\n      <td>-0.007587</td>\n      <td>0.013155</td>\n      <td>...</td>\n      <td>-0.005006</td>\n      <td>0.005860</td>\n      <td>0.005510</td>\n      <td>-0.010122</td>\n      <td>-0.003507</td>\n      <td>0.004524</td>\n      <td>0.003952</td>\n      <td>-0.008351</td>\n      <td>-0.006601</td>\n      <td>-0.014701</td>\n    </tr>\n    <tr>\n      <th>Confirmation_Weekday</th>\n      <td>0.026122</td>\n      <td>0.999952</td>\n      <td>0.026123</td>\n      <td>1.000000</td>\n      <td>0.026123</td>\n      <td>1.000000</td>\n      <td>0.026123</td>\n      <td>1.000000</td>\n      <td>0.003574</td>\n      <td>0.033654</td>\n      <td>...</td>\n      <td>0.015495</td>\n      <td>0.002268</td>\n      <td>0.015896</td>\n      <td>0.020792</td>\n      <td>0.018802</td>\n      <td>-0.003135</td>\n      <td>0.003657</td>\n      <td>0.016368</td>\n      <td>0.023193</td>\n      <td>0.009744</td>\n    </tr>\n    <tr>\n      <th>Arrival_at_Pickup_Day_of_Month</th>\n      <td>0.999998</td>\n      <td>0.026132</td>\n      <td>1.000000</td>\n      <td>0.026123</td>\n      <td>1.000000</td>\n      <td>0.026123</td>\n      <td>1.000000</td>\n      <td>0.026123</td>\n      <td>-0.007587</td>\n      <td>0.013155</td>\n      <td>...</td>\n      <td>-0.005006</td>\n      <td>0.005860</td>\n      <td>0.005510</td>\n      <td>-0.010122</td>\n      <td>-0.003507</td>\n      <td>0.004524</td>\n      <td>0.003952</td>\n      <td>-0.008351</td>\n      <td>-0.006601</td>\n      <td>-0.014701</td>\n    </tr>\n    <tr>\n      <th>Arrival_at_Pickup_Weekday</th>\n      <td>0.026122</td>\n      <td>0.999952</td>\n      <td>0.026123</td>\n      <td>1.000000</td>\n      <td>0.026123</td>\n      <td>1.000000</td>\n      <td>0.026123</td>\n      <td>1.000000</td>\n      <td>0.003574</td>\n      <td>0.033654</td>\n      <td>...</td>\n      <td>0.015495</td>\n      <td>0.002268</td>\n      <td>0.015896</td>\n      <td>0.020792</td>\n      <td>0.018802</td>\n      <td>-0.003135</td>\n      <td>0.003657</td>\n      <td>0.016368</td>\n      <td>0.023193</td>\n      <td>0.009744</td>\n    </tr>\n    <tr>\n      <th>Pickup_Day_of_Month</th>\n      <td>0.999998</td>\n      <td>0.026132</td>\n      <td>1.000000</td>\n      <td>0.026123</td>\n      <td>1.000000</td>\n      <td>0.026123</td>\n      <td>1.000000</td>\n      <td>0.026123</td>\n      <td>-0.007587</td>\n      <td>0.013155</td>\n      <td>...</td>\n      <td>-0.005006</td>\n      <td>0.005860</td>\n      <td>0.005510</td>\n      <td>-0.010122</td>\n      <td>-0.003507</td>\n      <td>0.004524</td>\n      <td>0.003952</td>\n      <td>-0.008351</td>\n      <td>-0.006601</td>\n      <td>-0.014701</td>\n    </tr>\n    <tr>\n      <th>Pickup_Weekday</th>\n      <td>0.026122</td>\n      <td>0.999952</td>\n      <td>0.026123</td>\n      <td>1.000000</td>\n      <td>0.026123</td>\n      <td>1.000000</td>\n      <td>0.026123</td>\n      <td>1.000000</td>\n      <td>0.003574</td>\n      <td>0.033654</td>\n      <td>...</td>\n      <td>0.015495</td>\n      <td>0.002268</td>\n      <td>0.015896</td>\n      <td>0.020792</td>\n      <td>0.018802</td>\n      <td>-0.003135</td>\n      <td>0.003657</td>\n      <td>0.016368</td>\n      <td>0.023193</td>\n      <td>0.009744</td>\n    </tr>\n    <tr>\n      <th>Distance_KM</th>\n      <td>-0.007585</td>\n      <td>0.003582</td>\n      <td>-0.007587</td>\n      <td>0.003574</td>\n      <td>-0.007587</td>\n      <td>0.003574</td>\n      <td>-0.007587</td>\n      <td>0.003574</td>\n      <td>1.000000</td>\n      <td>-0.001545</td>\n      <td>...</td>\n      <td>-0.016686</td>\n      <td>0.001038</td>\n      <td>-0.033298</td>\n      <td>0.032187</td>\n      <td>-0.016507</td>\n      <td>0.019500</td>\n      <td>-0.028530</td>\n      <td>0.020930</td>\n      <td>-0.017132</td>\n      <td>0.580608</td>\n    </tr>\n    <tr>\n      <th>Temperature</th>\n      <td>0.013154</td>\n      <td>0.033645</td>\n      <td>0.013155</td>\n      <td>0.033654</td>\n      <td>0.013155</td>\n      <td>0.033654</td>\n      <td>0.013155</td>\n      <td>0.033654</td>\n      <td>-0.001545</td>\n      <td>1.000000</td>\n      <td>...</td>\n      <td>-0.051171</td>\n      <td>-0.109156</td>\n      <td>0.021322</td>\n      <td>-0.337349</td>\n      <td>-0.050140</td>\n      <td>-0.060662</td>\n      <td>0.083620</td>\n      <td>-0.365483</td>\n      <td>-0.059482</td>\n      <td>0.006721</td>\n    </tr>\n    <tr>\n      <th>Precipitation_in_millimeters</th>\n      <td>0.020719</td>\n      <td>-0.025719</td>\n      <td>0.020723</td>\n      <td>-0.025699</td>\n      <td>0.020723</td>\n      <td>-0.025699</td>\n      <td>0.020723</td>\n      <td>-0.025699</td>\n      <td>0.001316</td>\n      <td>-0.036856</td>\n      <td>...</td>\n      <td>-0.008847</td>\n      <td>0.000587</td>\n      <td>-0.008215</td>\n      <td>0.009192</td>\n      <td>-0.008797</td>\n      <td>0.021600</td>\n      <td>-0.007635</td>\n      <td>0.012756</td>\n      <td>-0.005564</td>\n      <td>0.000479</td>\n    </tr>\n    <tr>\n      <th>No_Of_Orders</th>\n      <td>0.008096</td>\n      <td>-0.024226</td>\n      <td>0.008099</td>\n      <td>-0.024205</td>\n      <td>0.008099</td>\n      <td>-0.024205</td>\n      <td>0.008099</td>\n      <td>-0.024205</td>\n      <td>0.037186</td>\n      <td>0.030657</td>\n      <td>...</td>\n      <td>0.014634</td>\n      <td>0.012777</td>\n      <td>-0.007072</td>\n      <td>0.000836</td>\n      <td>0.015342</td>\n      <td>0.006798</td>\n      <td>-0.005224</td>\n      <td>0.009474</td>\n      <td>0.014646</td>\n      <td>-0.041608</td>\n    </tr>\n    <tr>\n      <th>Age</th>\n      <td>-0.000107</td>\n      <td>-0.015475</td>\n      <td>-0.000114</td>\n      <td>-0.015514</td>\n      <td>-0.000114</td>\n      <td>-0.015514</td>\n      <td>-0.000114</td>\n      <td>-0.015514</td>\n      <td>0.036239</td>\n      <td>-0.035053</td>\n      <td>...</td>\n      <td>0.016365</td>\n      <td>0.016704</td>\n      <td>-0.014458</td>\n      <td>-0.006354</td>\n      <td>0.017954</td>\n      <td>0.008405</td>\n      <td>-0.011320</td>\n      <td>-0.000819</td>\n      <td>0.013844</td>\n      <td>-0.007969</td>\n    </tr>\n    <tr>\n      <th>Average_Rating</th>\n      <td>0.012790</td>\n      <td>-0.006834</td>\n      <td>0.012796</td>\n      <td>-0.006803</td>\n      <td>0.012796</td>\n      <td>-0.006803</td>\n      <td>0.012796</td>\n      <td>-0.006803</td>\n      <td>-0.008200</td>\n      <td>-0.023721</td>\n      <td>...</td>\n      <td>0.014343</td>\n      <td>-0.001371</td>\n      <td>0.006010</td>\n      <td>0.005827</td>\n      <td>0.013769</td>\n      <td>-0.002324</td>\n      <td>0.003857</td>\n      <td>0.010897</td>\n      <td>0.011114</td>\n      <td>-0.042559</td>\n    </tr>\n    <tr>\n      <th>No_of_Ratings</th>\n      <td>-0.001709</td>\n      <td>-0.025747</td>\n      <td>-0.001712</td>\n      <td>-0.025768</td>\n      <td>-0.001712</td>\n      <td>-0.025768</td>\n      <td>-0.001712</td>\n      <td>-0.025768</td>\n      <td>0.051806</td>\n      <td>-0.007162</td>\n      <td>...</td>\n      <td>0.019328</td>\n      <td>0.007372</td>\n      <td>0.001552</td>\n      <td>-0.009179</td>\n      <td>0.020474</td>\n      <td>0.003841</td>\n      <td>-0.002312</td>\n      <td>-0.003594</td>\n      <td>0.021758</td>\n      <td>0.005609</td>\n    </tr>\n    <tr>\n      <th>Personal_or_Business_Personal</th>\n      <td>-0.010983</td>\n      <td>0.044225</td>\n      <td>-0.010990</td>\n      <td>0.044184</td>\n      <td>-0.010990</td>\n      <td>0.044184</td>\n      <td>-0.010990</td>\n      <td>0.044184</td>\n      <td>-0.007177</td>\n      <td>-0.202547</td>\n      <td>...</td>\n      <td>0.050001</td>\n      <td>0.031491</td>\n      <td>0.057626</td>\n      <td>-0.006691</td>\n      <td>0.046069</td>\n      <td>0.048715</td>\n      <td>0.027960</td>\n      <td>0.002939</td>\n      <td>0.058537</td>\n      <td>0.013354</td>\n    </tr>\n    <tr>\n      <th>Platform_Type_2</th>\n      <td>-0.006194</td>\n      <td>0.035076</td>\n      <td>-0.006198</td>\n      <td>0.035058</td>\n      <td>-0.006198</td>\n      <td>0.035058</td>\n      <td>-0.006198</td>\n      <td>0.035058</td>\n      <td>-0.015312</td>\n      <td>-0.130687</td>\n      <td>...</td>\n      <td>0.027325</td>\n      <td>0.024151</td>\n      <td>0.043366</td>\n      <td>-0.008212</td>\n      <td>0.024514</td>\n      <td>0.024861</td>\n      <td>0.017522</td>\n      <td>0.004723</td>\n      <td>0.040986</td>\n      <td>-0.003581</td>\n    </tr>\n    <tr>\n      <th>Platform_Type_3</th>\n      <td>0.013799</td>\n      <td>-0.061156</td>\n      <td>0.013806</td>\n      <td>-0.061121</td>\n      <td>0.013806</td>\n      <td>-0.061121</td>\n      <td>0.013806</td>\n      <td>-0.061121</td>\n      <td>0.006788</td>\n      <td>0.225170</td>\n      <td>...</td>\n      <td>-0.038730</td>\n      <td>-0.031280</td>\n      <td>-0.071704</td>\n      <td>0.008080</td>\n      <td>-0.036349</td>\n      <td>-0.046262</td>\n      <td>-0.041302</td>\n      <td>0.000202</td>\n      <td>-0.047260</td>\n      <td>-0.002784</td>\n    </tr>\n    <tr>\n      <th>Platform_Type_4</th>\n      <td>-0.005775</td>\n      <td>-0.001766</td>\n      <td>-0.005776</td>\n      <td>-0.001769</td>\n      <td>-0.005776</td>\n      <td>-0.001769</td>\n      <td>-0.005776</td>\n      <td>-0.001769</td>\n      <td>0.020021</td>\n      <td>-0.017602</td>\n      <td>...</td>\n      <td>-0.001464</td>\n      <td>-0.002713</td>\n      <td>0.009418</td>\n      <td>0.003340</td>\n      <td>-0.001401</td>\n      <td>-0.001232</td>\n      <td>0.002529</td>\n      <td>-0.002328</td>\n      <td>-0.001903</td>\n      <td>0.003680</td>\n    </tr>\n    <tr>\n      <th>Arrival_at_Pickup_Time_EarlyMorning</th>\n      <td>0.008997</td>\n      <td>-0.000046</td>\n      <td>0.008996</td>\n      <td>-0.000051</td>\n      <td>0.008996</td>\n      <td>-0.000051</td>\n      <td>0.008996</td>\n      <td>-0.000051</td>\n      <td>0.012907</td>\n      <td>-0.079176</td>\n      <td>...</td>\n      <td>-0.002682</td>\n      <td>0.637700</td>\n      <td>-0.019362</td>\n      <td>-0.045669</td>\n      <td>-0.002568</td>\n      <td>0.711809</td>\n      <td>-0.025404</td>\n      <td>0.018688</td>\n      <td>-0.003487</td>\n      <td>0.002085</td>\n    </tr>\n    <tr>\n      <th>Arrival_at_Pickup_Time_Evening</th>\n      <td>0.004100</td>\n      <td>0.011529</td>\n      <td>0.004093</td>\n      <td>0.011493</td>\n      <td>0.004093</td>\n      <td>0.011493</td>\n      <td>0.004093</td>\n      <td>0.011493</td>\n      <td>-0.032327</td>\n      <td>0.055985</td>\n      <td>...</td>\n      <td>-0.019661</td>\n      <td>-0.036443</td>\n      <td>0.824902</td>\n      <td>-0.334775</td>\n      <td>-0.018823</td>\n      <td>-0.016542</td>\n      <td>0.908355</td>\n      <td>-0.293465</td>\n      <td>0.013462</td>\n      <td>0.002794</td>\n    </tr>\n    <tr>\n      <th>Arrival_at_Pickup_Time_Morning</th>\n      <td>-0.007952</td>\n      <td>0.019731</td>\n      <td>-0.007964</td>\n      <td>0.019664</td>\n      <td>-0.007964</td>\n      <td>0.019664</td>\n      <td>-0.007964</td>\n      <td>0.019664</td>\n      <td>0.027131</td>\n      <td>-0.355570</td>\n      <td>...</td>\n      <td>-0.035726</td>\n      <td>0.042580</td>\n      <td>-0.257902</td>\n      <td>0.905154</td>\n      <td>-0.034201</td>\n      <td>-0.030058</td>\n      <td>-0.338383</td>\n      <td>0.941185</td>\n      <td>-0.046445</td>\n      <td>-0.023510</td>\n    </tr>\n    <tr>\n      <th>Arrival_at_Pickup_Time_Night</th>\n      <td>-0.005533</td>\n      <td>0.023153</td>\n      <td>-0.005534</td>\n      <td>0.023149</td>\n      <td>-0.005534</td>\n      <td>0.023149</td>\n      <td>-0.005534</td>\n      <td>0.023149</td>\n      <td>-0.016343</td>\n      <td>-0.058749</td>\n      <td>...</td>\n      <td>0.872562</td>\n      <td>-0.004820</td>\n      <td>0.034767</td>\n      <td>-0.044280</td>\n      <td>0.835336</td>\n      <td>-0.002188</td>\n      <td>-0.024632</td>\n      <td>-0.038816</td>\n      <td>0.881542</td>\n      <td>-0.015281</td>\n    </tr>\n    <tr>\n      <th>Confirmation_Time_EarlyMorning</th>\n      <td>-0.000013</td>\n      <td>0.002209</td>\n      <td>-0.000014</td>\n      <td>0.002202</td>\n      <td>-0.000014</td>\n      <td>0.002202</td>\n      <td>-0.000014</td>\n      <td>0.002202</td>\n      <td>0.013905</td>\n      <td>-0.094723</td>\n      <td>...</td>\n      <td>-0.003518</td>\n      <td>0.836415</td>\n      <td>-0.025396</td>\n      <td>-0.059900</td>\n      <td>-0.003368</td>\n      <td>0.542698</td>\n      <td>-0.033321</td>\n      <td>0.057634</td>\n      <td>-0.004573</td>\n      <td>0.005073</td>\n    </tr>\n    <tr>\n      <th>Confirmation_Time_Evening</th>\n      <td>0.008560</td>\n      <td>0.015555</td>\n      <td>0.008554</td>\n      <td>0.015522</td>\n      <td>0.008554</td>\n      <td>0.015522</td>\n      <td>0.008554</td>\n      <td>0.015522</td>\n      <td>-0.035999</td>\n      <td>0.029657</td>\n      <td>...</td>\n      <td>-0.017755</td>\n      <td>-0.032909</td>\n      <td>0.920755</td>\n      <td>-0.302313</td>\n      <td>-0.016997</td>\n      <td>-0.014938</td>\n      <td>0.813386</td>\n      <td>-0.265009</td>\n      <td>0.054014</td>\n      <td>-0.002294</td>\n    </tr>\n    <tr>\n      <th>Confirmation_Time_Morning</th>\n      <td>-0.010527</td>\n      <td>0.021739</td>\n      <td>-0.010540</td>\n      <td>0.021668</td>\n      <td>-0.010540</td>\n      <td>0.021668</td>\n      <td>-0.010540</td>\n      <td>0.021668</td>\n      <td>0.030983</td>\n      <td>-0.344467</td>\n      <td>...</td>\n      <td>-0.037749</td>\n      <td>-0.015773</td>\n      <td>-0.272507</td>\n      <td>0.967293</td>\n      <td>-0.036138</td>\n      <td>-0.031760</td>\n      <td>-0.357546</td>\n      <td>0.880622</td>\n      <td>-0.049075</td>\n      <td>-0.014579</td>\n    </tr>\n    <tr>\n      <th>Confirmation_Time_Night</th>\n      <td>-0.005005</td>\n      <td>0.015499</td>\n      <td>-0.005006</td>\n      <td>0.015495</td>\n      <td>-0.005006</td>\n      <td>0.015495</td>\n      <td>-0.005006</td>\n      <td>0.015495</td>\n      <td>-0.016686</td>\n      <td>-0.051171</td>\n      <td>...</td>\n      <td>1.000000</td>\n      <td>-0.004206</td>\n      <td>-0.003472</td>\n      <td>-0.038637</td>\n      <td>0.957337</td>\n      <td>-0.001909</td>\n      <td>-0.021493</td>\n      <td>-0.033870</td>\n      <td>0.769200</td>\n      <td>-0.018756</td>\n    </tr>\n    <tr>\n      <th>Placement_Time_EarlyMorning</th>\n      <td>0.005861</td>\n      <td>0.002276</td>\n      <td>0.005860</td>\n      <td>0.002268</td>\n      <td>0.005860</td>\n      <td>0.002268</td>\n      <td>0.005860</td>\n      <td>0.002268</td>\n      <td>0.001038</td>\n      <td>-0.109156</td>\n      <td>...</td>\n      <td>-0.004206</td>\n      <td>1.000000</td>\n      <td>-0.030363</td>\n      <td>-0.071615</td>\n      <td>-0.004027</td>\n      <td>0.453920</td>\n      <td>-0.039838</td>\n      <td>0.085421</td>\n      <td>-0.005468</td>\n      <td>-0.002831</td>\n    </tr>\n    <tr>\n      <th>Placement_Time_Evening</th>\n      <td>0.005516</td>\n      <td>0.015926</td>\n      <td>0.005510</td>\n      <td>0.015896</td>\n      <td>0.005510</td>\n      <td>0.015896</td>\n      <td>0.005510</td>\n      <td>0.015896</td>\n      <td>-0.033298</td>\n      <td>0.021322</td>\n      <td>...</td>\n      <td>-0.003472</td>\n      <td>-0.030363</td>\n      <td>1.000000</td>\n      <td>-0.278923</td>\n      <td>-0.015682</td>\n      <td>-0.013782</td>\n      <td>0.747022</td>\n      <td>-0.244505</td>\n      <td>0.070694</td>\n      <td>-0.008623</td>\n    </tr>\n    <tr>\n      <th>Placement_Time_Morning</th>\n      <td>-0.010109</td>\n      <td>0.020865</td>\n      <td>-0.010122</td>\n      <td>0.020792</td>\n      <td>-0.010122</td>\n      <td>0.020792</td>\n      <td>-0.010122</td>\n      <td>0.020792</td>\n      <td>0.032187</td>\n      <td>-0.337349</td>\n      <td>...</td>\n      <td>-0.038637</td>\n      <td>-0.071615</td>\n      <td>-0.278923</td>\n      <td>1.000000</td>\n      <td>-0.036989</td>\n      <td>-0.032508</td>\n      <td>-0.365964</td>\n      <td>0.850065</td>\n      <td>-0.050231</td>\n      <td>-0.007352</td>\n    </tr>\n    <tr>\n      <th>Placement_Time_Night</th>\n      <td>-0.003506</td>\n      <td>0.018805</td>\n      <td>-0.003507</td>\n      <td>0.018802</td>\n      <td>-0.003507</td>\n      <td>0.018802</td>\n      <td>-0.003507</td>\n      <td>0.018802</td>\n      <td>-0.016507</td>\n      <td>-0.050140</td>\n      <td>...</td>\n      <td>0.957337</td>\n      <td>-0.004027</td>\n      <td>-0.015682</td>\n      <td>-0.036989</td>\n      <td>1.000000</td>\n      <td>-0.001828</td>\n      <td>-0.020576</td>\n      <td>-0.032425</td>\n      <td>0.736383</td>\n      <td>-0.017283</td>\n    </tr>\n    <tr>\n      <th>Pickup_Time_EarlyMorning</th>\n      <td>0.004525</td>\n      <td>-0.003131</td>\n      <td>0.004524</td>\n      <td>-0.003135</td>\n      <td>0.004524</td>\n      <td>-0.003135</td>\n      <td>0.004524</td>\n      <td>-0.003135</td>\n      <td>0.019500</td>\n      <td>-0.060662</td>\n      <td>...</td>\n      <td>-0.001909</td>\n      <td>0.453920</td>\n      <td>-0.013782</td>\n      <td>-0.032508</td>\n      <td>-0.001828</td>\n      <td>1.000000</td>\n      <td>-0.018083</td>\n      <td>-0.028496</td>\n      <td>-0.002482</td>\n      <td>0.011695</td>\n    </tr>\n    <tr>\n      <th>Pickup_Time_Evening</th>\n      <td>0.003959</td>\n      <td>0.003698</td>\n      <td>0.003952</td>\n      <td>0.003657</td>\n      <td>0.003952</td>\n      <td>0.003657</td>\n      <td>0.003952</td>\n      <td>0.003657</td>\n      <td>-0.028530</td>\n      <td>0.083620</td>\n      <td>...</td>\n      <td>-0.021493</td>\n      <td>-0.039838</td>\n      <td>0.747022</td>\n      <td>-0.365964</td>\n      <td>-0.020576</td>\n      <td>-0.018083</td>\n      <td>1.000000</td>\n      <td>-0.320805</td>\n      <td>-0.027942</td>\n      <td>-0.005153</td>\n    </tr>\n    <tr>\n      <th>Pickup_Time_Morning</th>\n      <td>-0.008339</td>\n      <td>0.016432</td>\n      <td>-0.008351</td>\n      <td>0.016368</td>\n      <td>-0.008351</td>\n      <td>0.016368</td>\n      <td>-0.008351</td>\n      <td>0.016368</td>\n      <td>0.020930</td>\n      <td>-0.365483</td>\n      <td>...</td>\n      <td>-0.033870</td>\n      <td>0.085421</td>\n      <td>-0.244505</td>\n      <td>0.850065</td>\n      <td>-0.032425</td>\n      <td>-0.028496</td>\n      <td>-0.320805</td>\n      <td>1.000000</td>\n      <td>-0.044032</td>\n      <td>-0.022279</td>\n    </tr>\n    <tr>\n      <th>Pickup_Time_Night</th>\n      <td>-0.006600</td>\n      <td>0.023198</td>\n      <td>-0.006601</td>\n      <td>0.023193</td>\n      <td>-0.006601</td>\n      <td>0.023193</td>\n      <td>-0.006601</td>\n      <td>0.023193</td>\n      <td>-0.017132</td>\n      <td>-0.059482</td>\n      <td>...</td>\n      <td>0.769200</td>\n      <td>-0.005468</td>\n      <td>0.070694</td>\n      <td>-0.050231</td>\n      <td>0.736383</td>\n      <td>-0.002482</td>\n      <td>-0.027942</td>\n      <td>-0.044032</td>\n      <td>1.000000</td>\n      <td>-0.019086</td>\n    </tr>\n    <tr>\n      <th>Time_from_Pickup_to_Arrival</th>\n      <td>-0.014710</td>\n      <td>0.009693</td>\n      <td>-0.014701</td>\n      <td>0.009744</td>\n      <td>-0.014701</td>\n      <td>0.009744</td>\n      <td>-0.014701</td>\n      <td>0.009744</td>\n      <td>0.580608</td>\n      <td>0.006721</td>\n      <td>...</td>\n      <td>-0.018756</td>\n      <td>-0.002831</td>\n      <td>-0.008623</td>\n      <td>-0.007352</td>\n      <td>-0.017283</td>\n      <td>0.011695</td>\n      <td>-0.005153</td>\n      <td>-0.022279</td>\n      <td>-0.019086</td>\n      <td>1.000000</td>\n    </tr>\n  </tbody>\n</table>\n<p>36 rows × 36 columns</p>\n</div>"
     },
     "metadata": {},
     "execution_count": 26
    }
   ],
   "source": [
    "train_dummies.corr()"
   ]
  },
  {
   "cell_type": "markdown",
   "metadata": {
    "colab_type": "text",
    "id": "_g5MFANZo2dV"
   },
   "source": [
    "The correlation heatmap is inspected:"
   ]
  },
  {
   "cell_type": "code",
   "execution_count": 27,
   "metadata": {
    "colab": {
     "base_uri": "https://localhost:8080/",
     "height": 1000
    },
    "colab_type": "code",
    "executionInfo": {
     "elapsed": 46392,
     "status": "ok",
     "timestamp": 1590332446381,
     "user": {
      "displayName": "abdullah shaikh",
      "photoUrl": "",
      "userId": "08883111522238731033"
     },
     "user_tz": -120
    },
    "id": "J8ByXSERo6zW",
    "outputId": "c588c35f-cc9c-47ea-e621-86300c9817db"
   },
   "outputs": [
    {
     "output_type": "display_data",
     "data": {
      "text/plain": "<Figure size 1080x1080 with 1 Axes>",
      "image/svg+xml": "<?xml version=\"1.0\" encoding=\"utf-8\" standalone=\"no\"?>\r\n<!DOCTYPE svg PUBLIC \"-//W3C//DTD SVG 1.1//EN\"\r\n  \"http://www.w3.org/Graphics/SVG/1.1/DTD/svg11.dtd\">\r\n<!-- Created with matplotlib (https://matplotlib.org/) -->\r\n<svg height=\"1058.118344pt\" version=\"1.1\" viewBox=\"0 0 1082.558775 1058.118344\" width=\"1082.558775pt\" xmlns=\"http://www.w3.org/2000/svg\" xmlns:xlink=\"http://www.w3.org/1999/xlink\">\r\n <defs>\r\n  <style type=\"text/css\">\r\n*{stroke-linecap:butt;stroke-linejoin:round;}\r\n  </style>\r\n </defs>\r\n <g id=\"figure_1\">\r\n  <g id=\"patch_1\">\r\n   <path d=\"M -0 1058.118344 \r\nL 1082.558775 1058.118344 \r\nL 1082.558775 0 \r\nL -0 0 \r\nz\r\n\" style=\"fill:none;\"/>\r\n  </g>\r\n  <g id=\"axes_1\">\r\n   <g id=\"patch_2\">\r\n    <path d=\"M 169.283775 928.393125 \r\nL 1075.358775 928.393125 \r\nL 1075.358775 22.318125 \r\nL 169.283775 22.318125 \r\nz\r\n\" style=\"fill:#ffffff;\"/>\r\n   </g>\r\n   <g clip-path=\"url(#pbf6cde50d7)\">\r\n    <image height=\"907\" id=\"image773bc6885f\" transform=\"scale(1 -1)translate(0 -907)\" width=\"907\" x=\"169.283775\" xlink:href=\"data:image/png;base64,\r\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\" y=\"-21.393125\"/>\r\n   </g>\r\n   <g id=\"matplotlib.axis_1\">\r\n    <g id=\"xtick_1\">\r\n     <g id=\"line2d_1\">\r\n      <defs>\r\n       <path d=\"M 0 0 \r\nL 0 3.5 \r\n\" id=\"m5507f63f69\" style=\"stroke:#000000;stroke-width:0.8;\"/>\r\n      </defs>\r\n      <g>\r\n       <use style=\"stroke:#000000;stroke-width:0.8;\" x=\"181.86815\" xlink:href=\"#m5507f63f69\" y=\"928.393125\"/>\r\n      </g>\r\n     </g>\r\n     <g id=\"text_1\">\r\n      <!-- Placement_Day_of_Month -->\r\n      <defs>\r\n       <path d=\"M 19.671875 64.796875 \r\nL 19.671875 37.40625 \r\nL 32.078125 37.40625 \r\nQ 38.96875 37.40625 42.71875 40.96875 \r\nQ 46.484375 44.53125 46.484375 51.125 \r\nQ 46.484375 57.671875 42.71875 61.234375 \r\nQ 38.96875 64.796875 32.078125 64.796875 \r\nz\r\nM 9.8125 72.90625 \r\nL 32.078125 72.90625 \r\nQ 44.34375 72.90625 50.609375 67.359375 \r\nQ 56.890625 61.8125 56.890625 51.125 \r\nQ 56.890625 40.328125 50.609375 34.8125 \r\nQ 44.34375 29.296875 32.078125 29.296875 \r\nL 19.671875 29.296875 \r\nL 19.671875 0 \r\nL 9.8125 0 \r\nz\r\n\" id=\"DejaVuSans-80\"/>\r\n       <path d=\"M 9.421875 75.984375 \r\nL 18.40625 75.984375 \r\nL 18.40625 0 \r\nL 9.421875 0 \r\nz\r\n\" id=\"DejaVuSans-108\"/>\r\n       <path d=\"M 34.28125 27.484375 \r\nQ 23.390625 27.484375 19.1875 25 \r\nQ 14.984375 22.515625 14.984375 16.5 \r\nQ 14.984375 11.71875 18.140625 8.90625 \r\nQ 21.296875 6.109375 26.703125 6.109375 \r\nQ 34.1875 6.109375 38.703125 11.40625 \r\nQ 43.21875 16.703125 43.21875 25.484375 \r\nL 43.21875 27.484375 \r\nz\r\nM 52.203125 31.203125 \r\nL 52.203125 0 \r\nL 43.21875 0 \r\nL 43.21875 8.296875 \r\nQ 40.140625 3.328125 35.546875 0.953125 \r\nQ 30.953125 -1.421875 24.3125 -1.421875 \r\nQ 15.921875 -1.421875 10.953125 3.296875 \r\nQ 6 8.015625 6 15.921875 \r\nQ 6 25.140625 12.171875 29.828125 \r\nQ 18.359375 34.515625 30.609375 34.515625 \r\nL 43.21875 34.515625 \r\nL 43.21875 35.40625 \r\nQ 43.21875 41.609375 39.140625 45 \r\nQ 35.0625 48.390625 27.6875 48.390625 \r\nQ 23 48.390625 18.546875 47.265625 \r\nQ 14.109375 46.140625 10.015625 43.890625 \r\nL 10.015625 52.203125 \r\nQ 14.9375 54.109375 19.578125 55.046875 \r\nQ 24.21875 56 28.609375 56 \r\nQ 40.484375 56 46.34375 49.84375 \r\nQ 52.203125 43.703125 52.203125 31.203125 \r\nz\r\n\" id=\"DejaVuSans-97\"/>\r\n       <path d=\"M 48.78125 52.59375 \r\nL 48.78125 44.1875 \r\nQ 44.96875 46.296875 41.140625 47.34375 \r\nQ 37.3125 48.390625 33.40625 48.390625 \r\nQ 24.65625 48.390625 19.8125 42.84375 \r\nQ 14.984375 37.3125 14.984375 27.296875 \r\nQ 14.984375 17.28125 19.8125 11.734375 \r\nQ 24.65625 6.203125 33.40625 6.203125 \r\nQ 37.3125 6.203125 41.140625 7.25 \r\nQ 44.96875 8.296875 48.78125 10.40625 \r\nL 48.78125 2.09375 \r\nQ 45.015625 0.34375 40.984375 -0.53125 \r\nQ 36.96875 -1.421875 32.421875 -1.421875 \r\nQ 20.0625 -1.421875 12.78125 6.34375 \r\nQ 5.515625 14.109375 5.515625 27.296875 \r\nQ 5.515625 40.671875 12.859375 48.328125 \r\nQ 20.21875 56 33.015625 56 \r\nQ 37.15625 56 41.109375 55.140625 \r\nQ 45.0625 54.296875 48.78125 52.59375 \r\nz\r\n\" id=\"DejaVuSans-99\"/>\r\n       <path d=\"M 56.203125 29.59375 \r\nL 56.203125 25.203125 \r\nL 14.890625 25.203125 \r\nQ 15.484375 15.921875 20.484375 11.0625 \r\nQ 25.484375 6.203125 34.421875 6.203125 \r\nQ 39.59375 6.203125 44.453125 7.46875 \r\nQ 49.3125 8.734375 54.109375 11.28125 \r\nL 54.109375 2.78125 \r\nQ 49.265625 0.734375 44.1875 -0.34375 \r\nQ 39.109375 -1.421875 33.890625 -1.421875 \r\nQ 20.796875 -1.421875 13.15625 6.1875 \r\nQ 5.515625 13.8125 5.515625 26.8125 \r\nQ 5.515625 40.234375 12.765625 48.109375 \r\nQ 20.015625 56 32.328125 56 \r\nQ 43.359375 56 49.78125 48.890625 \r\nQ 56.203125 41.796875 56.203125 29.59375 \r\nz\r\nM 47.21875 32.234375 \r\nQ 47.125 39.59375 43.09375 43.984375 \r\nQ 39.0625 48.390625 32.421875 48.390625 \r\nQ 24.90625 48.390625 20.390625 44.140625 \r\nQ 15.875 39.890625 15.1875 32.171875 \r\nz\r\n\" id=\"DejaVuSans-101\"/>\r\n       <path d=\"M 52 44.1875 \r\nQ 55.375 50.25 60.0625 53.125 \r\nQ 64.75 56 71.09375 56 \r\nQ 79.640625 56 84.28125 50.015625 \r\nQ 88.921875 44.046875 88.921875 33.015625 \r\nL 88.921875 0 \r\nL 79.890625 0 \r\nL 79.890625 32.71875 \r\nQ 79.890625 40.578125 77.09375 44.375 \r\nQ 74.3125 48.1875 68.609375 48.1875 \r\nQ 61.625 48.1875 57.5625 43.546875 \r\nQ 53.515625 38.921875 53.515625 30.90625 \r\nL 53.515625 0 \r\nL 44.484375 0 \r\nL 44.484375 32.71875 \r\nQ 44.484375 40.625 41.703125 44.40625 \r\nQ 38.921875 48.1875 33.109375 48.1875 \r\nQ 26.21875 48.1875 22.15625 43.53125 \r\nQ 18.109375 38.875 18.109375 30.90625 \r\nL 18.109375 0 \r\nL 9.078125 0 \r\nL 9.078125 54.6875 \r\nL 18.109375 54.6875 \r\nL 18.109375 46.1875 \r\nQ 21.1875 51.21875 25.484375 53.609375 \r\nQ 29.78125 56 35.6875 56 \r\nQ 41.65625 56 45.828125 52.96875 \r\nQ 50 49.953125 52 44.1875 \r\nz\r\n\" id=\"DejaVuSans-109\"/>\r\n       <path d=\"M 54.890625 33.015625 \r\nL 54.890625 0 \r\nL 45.90625 0 \r\nL 45.90625 32.71875 \r\nQ 45.90625 40.484375 42.875 44.328125 \r\nQ 39.84375 48.1875 33.796875 48.1875 \r\nQ 26.515625 48.1875 22.3125 43.546875 \r\nQ 18.109375 38.921875 18.109375 30.90625 \r\nL 18.109375 0 \r\nL 9.078125 0 \r\nL 9.078125 54.6875 \r\nL 18.109375 54.6875 \r\nL 18.109375 46.1875 \r\nQ 21.34375 51.125 25.703125 53.5625 \r\nQ 30.078125 56 35.796875 56 \r\nQ 45.21875 56 50.046875 50.171875 \r\nQ 54.890625 44.34375 54.890625 33.015625 \r\nz\r\n\" id=\"DejaVuSans-110\"/>\r\n       <path d=\"M 18.3125 70.21875 \r\nL 18.3125 54.6875 \r\nL 36.8125 54.6875 \r\nL 36.8125 47.703125 \r\nL 18.3125 47.703125 \r\nL 18.3125 18.015625 \r\nQ 18.3125 11.328125 20.140625 9.421875 \r\nQ 21.96875 7.515625 27.59375 7.515625 \r\nL 36.8125 7.515625 \r\nL 36.8125 0 \r\nL 27.59375 0 \r\nQ 17.1875 0 13.234375 3.875 \r\nQ 9.28125 7.765625 9.28125 18.015625 \r\nL 9.28125 47.703125 \r\nL 2.6875 47.703125 \r\nL 2.6875 54.6875 \r\nL 9.28125 54.6875 \r\nL 9.28125 70.21875 \r\nz\r\n\" id=\"DejaVuSans-116\"/>\r\n       <path d=\"M 50.984375 -16.609375 \r\nL 50.984375 -23.578125 \r\nL -0.984375 -23.578125 \r\nL -0.984375 -16.609375 \r\nz\r\n\" id=\"DejaVuSans-95\"/>\r\n       <path d=\"M 19.671875 64.796875 \r\nL 19.671875 8.109375 \r\nL 31.59375 8.109375 \r\nQ 46.6875 8.109375 53.6875 14.9375 \r\nQ 60.6875 21.78125 60.6875 36.53125 \r\nQ 60.6875 51.171875 53.6875 57.984375 \r\nQ 46.6875 64.796875 31.59375 64.796875 \r\nz\r\nM 9.8125 72.90625 \r\nL 30.078125 72.90625 \r\nQ 51.265625 72.90625 61.171875 64.09375 \r\nQ 71.09375 55.28125 71.09375 36.53125 \r\nQ 71.09375 17.671875 61.125 8.828125 \r\nQ 51.171875 0 30.078125 0 \r\nL 9.8125 0 \r\nz\r\n\" id=\"DejaVuSans-68\"/>\r\n       <path d=\"M 32.171875 -5.078125 \r\nQ 28.375 -14.84375 24.75 -17.8125 \r\nQ 21.140625 -20.796875 15.09375 -20.796875 \r\nL 7.90625 -20.796875 \r\nL 7.90625 -13.28125 \r\nL 13.1875 -13.28125 \r\nQ 16.890625 -13.28125 18.9375 -11.515625 \r\nQ 21 -9.765625 23.484375 -3.21875 \r\nL 25.09375 0.875 \r\nL 2.984375 54.6875 \r\nL 12.5 54.6875 \r\nL 29.59375 11.921875 \r\nL 46.6875 54.6875 \r\nL 56.203125 54.6875 \r\nz\r\n\" id=\"DejaVuSans-121\"/>\r\n       <path d=\"M 30.609375 48.390625 \r\nQ 23.390625 48.390625 19.1875 42.75 \r\nQ 14.984375 37.109375 14.984375 27.296875 \r\nQ 14.984375 17.484375 19.15625 11.84375 \r\nQ 23.34375 6.203125 30.609375 6.203125 \r\nQ 37.796875 6.203125 41.984375 11.859375 \r\nQ 46.1875 17.53125 46.1875 27.296875 \r\nQ 46.1875 37.015625 41.984375 42.703125 \r\nQ 37.796875 48.390625 30.609375 48.390625 \r\nz\r\nM 30.609375 56 \r\nQ 42.328125 56 49.015625 48.375 \r\nQ 55.71875 40.765625 55.71875 27.296875 \r\nQ 55.71875 13.875 49.015625 6.21875 \r\nQ 42.328125 -1.421875 30.609375 -1.421875 \r\nQ 18.84375 -1.421875 12.171875 6.21875 \r\nQ 5.515625 13.875 5.515625 27.296875 \r\nQ 5.515625 40.765625 12.171875 48.375 \r\nQ 18.84375 56 30.609375 56 \r\nz\r\n\" id=\"DejaVuSans-111\"/>\r\n       <path d=\"M 37.109375 75.984375 \r\nL 37.109375 68.5 \r\nL 28.515625 68.5 \r\nQ 23.6875 68.5 21.796875 66.546875 \r\nQ 19.921875 64.59375 19.921875 59.515625 \r\nL 19.921875 54.6875 \r\nL 34.71875 54.6875 \r\nL 34.71875 47.703125 \r\nL 19.921875 47.703125 \r\nL 19.921875 0 \r\nL 10.890625 0 \r\nL 10.890625 47.703125 \r\nL 2.296875 47.703125 \r\nL 2.296875 54.6875 \r\nL 10.890625 54.6875 \r\nL 10.890625 58.5 \r\nQ 10.890625 67.625 15.140625 71.796875 \r\nQ 19.390625 75.984375 28.609375 75.984375 \r\nz\r\n\" id=\"DejaVuSans-102\"/>\r\n       <path d=\"M 9.8125 72.90625 \r\nL 24.515625 72.90625 \r\nL 43.109375 23.296875 \r\nL 61.8125 72.90625 \r\nL 76.515625 72.90625 \r\nL 76.515625 0 \r\nL 66.890625 0 \r\nL 66.890625 64.015625 \r\nL 48.09375 14.015625 \r\nL 38.1875 14.015625 \r\nL 19.390625 64.015625 \r\nL 19.390625 0 \r\nL 9.8125 0 \r\nz\r\n\" id=\"DejaVuSans-77\"/>\r\n       <path d=\"M 54.890625 33.015625 \r\nL 54.890625 0 \r\nL 45.90625 0 \r\nL 45.90625 32.71875 \r\nQ 45.90625 40.484375 42.875 44.328125 \r\nQ 39.84375 48.1875 33.796875 48.1875 \r\nQ 26.515625 48.1875 22.3125 43.546875 \r\nQ 18.109375 38.921875 18.109375 30.90625 \r\nL 18.109375 0 \r\nL 9.078125 0 \r\nL 9.078125 75.984375 \r\nL 18.109375 75.984375 \r\nL 18.109375 46.1875 \r\nQ 21.34375 51.125 25.703125 53.5625 \r\nQ 30.078125 56 35.796875 56 \r\nQ 45.21875 56 50.046875 50.171875 \r\nQ 54.890625 44.34375 54.890625 33.015625 \r\nz\r\n\" id=\"DejaVuSans-104\"/>\r\n      </defs>\r\n      <g transform=\"translate(104.809615 1015.538492)rotate(-45)scale(0.0833 -0.0833)\">\r\n       <use xlink:href=\"#DejaVuSans-80\"/>\r\n       <use x=\"60.302734\" xlink:href=\"#DejaVuSans-108\"/>\r\n       <use x=\"88.085938\" xlink:href=\"#DejaVuSans-97\"/>\r\n       <use x=\"149.365234\" xlink:href=\"#DejaVuSans-99\"/>\r\n       <use x=\"204.345703\" xlink:href=\"#DejaVuSans-101\"/>\r\n       <use x=\"265.869141\" xlink:href=\"#DejaVuSans-109\"/>\r\n       <use x=\"363.28125\" xlink:href=\"#DejaVuSans-101\"/>\r\n       <use x=\"424.804688\" xlink:href=\"#DejaVuSans-110\"/>\r\n       <use x=\"488.183594\" xlink:href=\"#DejaVuSans-116\"/>\r\n       <use x=\"527.392578\" xlink:href=\"#DejaVuSans-95\"/>\r\n       <use x=\"577.392578\" xlink:href=\"#DejaVuSans-68\"/>\r\n       <use x=\"654.394531\" xlink:href=\"#DejaVuSans-97\"/>\r\n       <use x=\"715.673828\" xlink:href=\"#DejaVuSans-121\"/>\r\n       <use x=\"774.853516\" xlink:href=\"#DejaVuSans-95\"/>\r\n       <use x=\"824.853516\" xlink:href=\"#DejaVuSans-111\"/>\r\n       <use x=\"886.035156\" xlink:href=\"#DejaVuSans-102\"/>\r\n       <use x=\"921.240234\" xlink:href=\"#DejaVuSans-95\"/>\r\n       <use x=\"971.240234\" xlink:href=\"#DejaVuSans-77\"/>\r\n       <use x=\"1057.519531\" xlink:href=\"#DejaVuSans-111\"/>\r\n       <use x=\"1118.701172\" xlink:href=\"#DejaVuSans-110\"/>\r\n       <use x=\"1182.080078\" xlink:href=\"#DejaVuSans-116\"/>\r\n       <use x=\"1221.289062\" xlink:href=\"#DejaVuSans-104\"/>\r\n      </g>\r\n     </g>\r\n    </g>\r\n    <g id=\"xtick_2\">\r\n     <g id=\"line2d_2\">\r\n      <g>\r\n       <use style=\"stroke:#000000;stroke-width:0.8;\" x=\"207.0369\" xlink:href=\"#m5507f63f69\" y=\"928.393125\"/>\r\n      </g>\r\n     </g>\r\n     <g id=\"text_2\">\r\n      <!-- Placement_Weekday -->\r\n      <defs>\r\n       <path d=\"M 3.328125 72.90625 \r\nL 13.28125 72.90625 \r\nL 28.609375 11.28125 \r\nL 43.890625 72.90625 \r\nL 54.984375 72.90625 \r\nL 70.3125 11.28125 \r\nL 85.59375 72.90625 \r\nL 95.609375 72.90625 \r\nL 77.296875 0 \r\nL 64.890625 0 \r\nL 49.515625 63.28125 \r\nL 33.984375 0 \r\nL 21.578125 0 \r\nz\r\n\" id=\"DejaVuSans-87\"/>\r\n       <path d=\"M 9.078125 75.984375 \r\nL 18.109375 75.984375 \r\nL 18.109375 31.109375 \r\nL 44.921875 54.6875 \r\nL 56.390625 54.6875 \r\nL 27.390625 29.109375 \r\nL 57.625 0 \r\nL 45.90625 0 \r\nL 18.109375 26.703125 \r\nL 18.109375 0 \r\nL 9.078125 0 \r\nz\r\n\" id=\"DejaVuSans-107\"/>\r\n       <path d=\"M 45.40625 46.390625 \r\nL 45.40625 75.984375 \r\nL 54.390625 75.984375 \r\nL 54.390625 0 \r\nL 45.40625 0 \r\nL 45.40625 8.203125 \r\nQ 42.578125 3.328125 38.25 0.953125 \r\nQ 33.9375 -1.421875 27.875 -1.421875 \r\nQ 17.96875 -1.421875 11.734375 6.484375 \r\nQ 5.515625 14.40625 5.515625 27.296875 \r\nQ 5.515625 40.1875 11.734375 48.09375 \r\nQ 17.96875 56 27.875 56 \r\nQ 33.9375 56 38.25 53.625 \r\nQ 42.578125 51.265625 45.40625 46.390625 \r\nz\r\nM 14.796875 27.296875 \r\nQ 14.796875 17.390625 18.875 11.75 \r\nQ 22.953125 6.109375 30.078125 6.109375 \r\nQ 37.203125 6.109375 41.296875 11.75 \r\nQ 45.40625 17.390625 45.40625 27.296875 \r\nQ 45.40625 37.203125 41.296875 42.84375 \r\nQ 37.203125 48.484375 30.078125 48.484375 \r\nQ 22.953125 48.484375 18.875 42.84375 \r\nQ 14.796875 37.203125 14.796875 27.296875 \r\nz\r\n\" id=\"DejaVuSans-100\"/>\r\n      </defs>\r\n      <g transform=\"translate(144.324682 1001.192175)rotate(-45)scale(0.0833 -0.0833)\">\r\n       <use xlink:href=\"#DejaVuSans-80\"/>\r\n       <use x=\"60.302734\" xlink:href=\"#DejaVuSans-108\"/>\r\n       <use x=\"88.085938\" xlink:href=\"#DejaVuSans-97\"/>\r\n       <use x=\"149.365234\" xlink:href=\"#DejaVuSans-99\"/>\r\n       <use x=\"204.345703\" xlink:href=\"#DejaVuSans-101\"/>\r\n       <use x=\"265.869141\" xlink:href=\"#DejaVuSans-109\"/>\r\n       <use x=\"363.28125\" xlink:href=\"#DejaVuSans-101\"/>\r\n       <use x=\"424.804688\" xlink:href=\"#DejaVuSans-110\"/>\r\n       <use x=\"488.183594\" xlink:href=\"#DejaVuSans-116\"/>\r\n       <use x=\"527.392578\" xlink:href=\"#DejaVuSans-95\"/>\r\n       <use x=\"577.392578\" xlink:href=\"#DejaVuSans-87\"/>\r\n       <use x=\"676.191406\" xlink:href=\"#DejaVuSans-101\"/>\r\n       <use x=\"737.714844\" xlink:href=\"#DejaVuSans-101\"/>\r\n       <use x=\"799.238281\" xlink:href=\"#DejaVuSans-107\"/>\r\n       <use x=\"857.148438\" xlink:href=\"#DejaVuSans-100\"/>\r\n       <use x=\"920.625\" xlink:href=\"#DejaVuSans-97\"/>\r\n       <use x=\"981.904297\" xlink:href=\"#DejaVuSans-121\"/>\r\n      </g>\r\n     </g>\r\n    </g>\r\n    <g id=\"xtick_3\">\r\n     <g id=\"line2d_3\">\r\n      <g>\r\n       <use style=\"stroke:#000000;stroke-width:0.8;\" x=\"232.20565\" xlink:href=\"#m5507f63f69\" y=\"928.393125\"/>\r\n      </g>\r\n     </g>\r\n     <g id=\"text_3\">\r\n      <!-- Confirmation_Day_of_Month -->\r\n      <defs>\r\n       <path d=\"M 64.40625 67.28125 \r\nL 64.40625 56.890625 \r\nQ 59.421875 61.53125 53.78125 63.8125 \r\nQ 48.140625 66.109375 41.796875 66.109375 \r\nQ 29.296875 66.109375 22.65625 58.46875 \r\nQ 16.015625 50.828125 16.015625 36.375 \r\nQ 16.015625 21.96875 22.65625 14.328125 \r\nQ 29.296875 6.6875 41.796875 6.6875 \r\nQ 48.140625 6.6875 53.78125 8.984375 \r\nQ 59.421875 11.28125 64.40625 15.921875 \r\nL 64.40625 5.609375 \r\nQ 59.234375 2.09375 53.4375 0.328125 \r\nQ 47.65625 -1.421875 41.21875 -1.421875 \r\nQ 24.65625 -1.421875 15.125 8.703125 \r\nQ 5.609375 18.84375 5.609375 36.375 \r\nQ 5.609375 53.953125 15.125 64.078125 \r\nQ 24.65625 74.21875 41.21875 74.21875 \r\nQ 47.75 74.21875 53.53125 72.484375 \r\nQ 59.328125 70.75 64.40625 67.28125 \r\nz\r\n\" id=\"DejaVuSans-67\"/>\r\n       <path d=\"M 9.421875 54.6875 \r\nL 18.40625 54.6875 \r\nL 18.40625 0 \r\nL 9.421875 0 \r\nz\r\nM 9.421875 75.984375 \r\nL 18.40625 75.984375 \r\nL 18.40625 64.59375 \r\nL 9.421875 64.59375 \r\nz\r\n\" id=\"DejaVuSans-105\"/>\r\n       <path d=\"M 41.109375 46.296875 \r\nQ 39.59375 47.171875 37.8125 47.578125 \r\nQ 36.03125 48 33.890625 48 \r\nQ 26.265625 48 22.1875 43.046875 \r\nQ 18.109375 38.09375 18.109375 28.8125 \r\nL 18.109375 0 \r\nL 9.078125 0 \r\nL 9.078125 54.6875 \r\nL 18.109375 54.6875 \r\nL 18.109375 46.1875 \r\nQ 20.953125 51.171875 25.484375 53.578125 \r\nQ 30.03125 56 36.53125 56 \r\nQ 37.453125 56 38.578125 55.875 \r\nQ 39.703125 55.765625 41.0625 55.515625 \r\nz\r\n\" id=\"DejaVuSans-114\"/>\r\n      </defs>\r\n      <g transform=\"translate(148.001567 1022.684041)rotate(-45)scale(0.0833 -0.0833)\">\r\n       <use xlink:href=\"#DejaVuSans-67\"/>\r\n       <use x=\"69.824219\" xlink:href=\"#DejaVuSans-111\"/>\r\n       <use x=\"131.005859\" xlink:href=\"#DejaVuSans-110\"/>\r\n       <use x=\"194.384766\" xlink:href=\"#DejaVuSans-102\"/>\r\n       <use x=\"229.589844\" xlink:href=\"#DejaVuSans-105\"/>\r\n       <use x=\"257.373047\" xlink:href=\"#DejaVuSans-114\"/>\r\n       <use x=\"298.470703\" xlink:href=\"#DejaVuSans-109\"/>\r\n       <use x=\"395.882812\" xlink:href=\"#DejaVuSans-97\"/>\r\n       <use x=\"457.162109\" xlink:href=\"#DejaVuSans-116\"/>\r\n       <use x=\"496.371094\" xlink:href=\"#DejaVuSans-105\"/>\r\n       <use x=\"524.154297\" xlink:href=\"#DejaVuSans-111\"/>\r\n       <use x=\"585.335938\" xlink:href=\"#DejaVuSans-110\"/>\r\n       <use x=\"648.714844\" xlink:href=\"#DejaVuSans-95\"/>\r\n       <use x=\"698.714844\" xlink:href=\"#DejaVuSans-68\"/>\r\n       <use x=\"775.716797\" xlink:href=\"#DejaVuSans-97\"/>\r\n       <use x=\"836.996094\" xlink:href=\"#DejaVuSans-121\"/>\r\n       <use x=\"896.175781\" xlink:href=\"#DejaVuSans-95\"/>\r\n       <use x=\"946.175781\" xlink:href=\"#DejaVuSans-111\"/>\r\n       <use x=\"1007.357422\" xlink:href=\"#DejaVuSans-102\"/>\r\n       <use x=\"1042.5625\" xlink:href=\"#DejaVuSans-95\"/>\r\n       <use x=\"1092.5625\" xlink:href=\"#DejaVuSans-77\"/>\r\n       <use x=\"1178.841797\" xlink:href=\"#DejaVuSans-111\"/>\r\n       <use x=\"1240.023438\" xlink:href=\"#DejaVuSans-110\"/>\r\n       <use x=\"1303.402344\" xlink:href=\"#DejaVuSans-116\"/>\r\n       <use x=\"1342.611328\" xlink:href=\"#DejaVuSans-104\"/>\r\n      </g>\r\n     </g>\r\n    </g>\r\n    <g id=\"xtick_4\">\r\n     <g id=\"line2d_4\">\r\n      <g>\r\n       <use style=\"stroke:#000000;stroke-width:0.8;\" x=\"257.3744\" xlink:href=\"#m5507f63f69\" y=\"928.393125\"/>\r\n      </g>\r\n     </g>\r\n     <g id=\"text_4\">\r\n      <!-- Confirmation_Weekday -->\r\n      <g transform=\"translate(187.516634 1008.337724)rotate(-45)scale(0.0833 -0.0833)\">\r\n       <use xlink:href=\"#DejaVuSans-67\"/>\r\n       <use x=\"69.824219\" xlink:href=\"#DejaVuSans-111\"/>\r\n       <use x=\"131.005859\" xlink:href=\"#DejaVuSans-110\"/>\r\n       <use x=\"194.384766\" xlink:href=\"#DejaVuSans-102\"/>\r\n       <use x=\"229.589844\" xlink:href=\"#DejaVuSans-105\"/>\r\n       <use x=\"257.373047\" xlink:href=\"#DejaVuSans-114\"/>\r\n       <use x=\"298.470703\" xlink:href=\"#DejaVuSans-109\"/>\r\n       <use x=\"395.882812\" xlink:href=\"#DejaVuSans-97\"/>\r\n       <use x=\"457.162109\" xlink:href=\"#DejaVuSans-116\"/>\r\n       <use x=\"496.371094\" xlink:href=\"#DejaVuSans-105\"/>\r\n       <use x=\"524.154297\" xlink:href=\"#DejaVuSans-111\"/>\r\n       <use x=\"585.335938\" xlink:href=\"#DejaVuSans-110\"/>\r\n       <use x=\"648.714844\" xlink:href=\"#DejaVuSans-95\"/>\r\n       <use x=\"698.714844\" xlink:href=\"#DejaVuSans-87\"/>\r\n       <use x=\"797.513672\" xlink:href=\"#DejaVuSans-101\"/>\r\n       <use x=\"859.037109\" xlink:href=\"#DejaVuSans-101\"/>\r\n       <use x=\"920.560547\" xlink:href=\"#DejaVuSans-107\"/>\r\n       <use x=\"978.470703\" xlink:href=\"#DejaVuSans-100\"/>\r\n       <use x=\"1041.947266\" xlink:href=\"#DejaVuSans-97\"/>\r\n       <use x=\"1103.226562\" xlink:href=\"#DejaVuSans-121\"/>\r\n      </g>\r\n     </g>\r\n    </g>\r\n    <g id=\"xtick_5\">\r\n     <g id=\"line2d_5\">\r\n      <g>\r\n       <use style=\"stroke:#000000;stroke-width:0.8;\" x=\"282.54315\" xlink:href=\"#m5507f63f69\" y=\"928.393125\"/>\r\n      </g>\r\n     </g>\r\n     <g id=\"text_5\">\r\n      <!-- Arrival_at_Pickup_Day_of_Month -->\r\n      <defs>\r\n       <path d=\"M 34.1875 63.1875 \r\nL 20.796875 26.90625 \r\nL 47.609375 26.90625 \r\nz\r\nM 28.609375 72.90625 \r\nL 39.796875 72.90625 \r\nL 67.578125 0 \r\nL 57.328125 0 \r\nL 50.6875 18.703125 \r\nL 17.828125 18.703125 \r\nL 11.1875 0 \r\nL 0.78125 0 \r\nz\r\n\" id=\"DejaVuSans-65\"/>\r\n       <path d=\"M 2.984375 54.6875 \r\nL 12.5 54.6875 \r\nL 29.59375 8.796875 \r\nL 46.6875 54.6875 \r\nL 56.203125 54.6875 \r\nL 35.6875 0 \r\nL 23.484375 0 \r\nz\r\n\" id=\"DejaVuSans-118\"/>\r\n       <path d=\"M 8.5 21.578125 \r\nL 8.5 54.6875 \r\nL 17.484375 54.6875 \r\nL 17.484375 21.921875 \r\nQ 17.484375 14.15625 20.5 10.265625 \r\nQ 23.53125 6.390625 29.59375 6.390625 \r\nQ 36.859375 6.390625 41.078125 11.03125 \r\nQ 45.3125 15.671875 45.3125 23.6875 \r\nL 45.3125 54.6875 \r\nL 54.296875 54.6875 \r\nL 54.296875 0 \r\nL 45.3125 0 \r\nL 45.3125 8.40625 \r\nQ 42.046875 3.421875 37.71875 1 \r\nQ 33.40625 -1.421875 27.6875 -1.421875 \r\nQ 18.265625 -1.421875 13.375 4.4375 \r\nQ 8.5 10.296875 8.5 21.578125 \r\nz\r\nM 31.109375 56 \r\nz\r\n\" id=\"DejaVuSans-117\"/>\r\n       <path d=\"M 18.109375 8.203125 \r\nL 18.109375 -20.796875 \r\nL 9.078125 -20.796875 \r\nL 9.078125 54.6875 \r\nL 18.109375 54.6875 \r\nL 18.109375 46.390625 \r\nQ 20.953125 51.265625 25.265625 53.625 \r\nQ 29.59375 56 35.59375 56 \r\nQ 45.5625 56 51.78125 48.09375 \r\nQ 58.015625 40.1875 58.015625 27.296875 \r\nQ 58.015625 14.40625 51.78125 6.484375 \r\nQ 45.5625 -1.421875 35.59375 -1.421875 \r\nQ 29.59375 -1.421875 25.265625 0.953125 \r\nQ 20.953125 3.328125 18.109375 8.203125 \r\nz\r\nM 48.6875 27.296875 \r\nQ 48.6875 37.203125 44.609375 42.84375 \r\nQ 40.53125 48.484375 33.40625 48.484375 \r\nQ 26.265625 48.484375 22.1875 42.84375 \r\nQ 18.109375 37.203125 18.109375 27.296875 \r\nQ 18.109375 17.390625 22.1875 11.75 \r\nQ 26.265625 6.109375 33.40625 6.109375 \r\nQ 40.53125 6.109375 44.609375 11.75 \r\nQ 48.6875 17.390625 48.6875 27.296875 \r\nz\r\n\" id=\"DejaVuSans-112\"/>\r\n      </defs>\r\n      <g transform=\"translate(186.195132 1034.827975)rotate(-45)scale(0.0833 -0.0833)\">\r\n       <use xlink:href=\"#DejaVuSans-65\"/>\r\n       <use x=\"68.408203\" xlink:href=\"#DejaVuSans-114\"/>\r\n       <use x=\"109.505859\" xlink:href=\"#DejaVuSans-114\"/>\r\n       <use x=\"150.619141\" xlink:href=\"#DejaVuSans-105\"/>\r\n       <use x=\"178.402344\" xlink:href=\"#DejaVuSans-118\"/>\r\n       <use x=\"237.582031\" xlink:href=\"#DejaVuSans-97\"/>\r\n       <use x=\"298.861328\" xlink:href=\"#DejaVuSans-108\"/>\r\n       <use x=\"326.644531\" xlink:href=\"#DejaVuSans-95\"/>\r\n       <use x=\"376.644531\" xlink:href=\"#DejaVuSans-97\"/>\r\n       <use x=\"437.923828\" xlink:href=\"#DejaVuSans-116\"/>\r\n       <use x=\"477.132812\" xlink:href=\"#DejaVuSans-95\"/>\r\n       <use x=\"527.132812\" xlink:href=\"#DejaVuSans-80\"/>\r\n       <use x=\"587.404297\" xlink:href=\"#DejaVuSans-105\"/>\r\n       <use x=\"615.1875\" xlink:href=\"#DejaVuSans-99\"/>\r\n       <use x=\"670.167969\" xlink:href=\"#DejaVuSans-107\"/>\r\n       <use x=\"728.03125\" xlink:href=\"#DejaVuSans-117\"/>\r\n       <use x=\"791.410156\" xlink:href=\"#DejaVuSans-112\"/>\r\n       <use x=\"854.886719\" xlink:href=\"#DejaVuSans-95\"/>\r\n       <use x=\"904.886719\" xlink:href=\"#DejaVuSans-68\"/>\r\n       <use x=\"981.888672\" xlink:href=\"#DejaVuSans-97\"/>\r\n       <use x=\"1043.167969\" xlink:href=\"#DejaVuSans-121\"/>\r\n       <use x=\"1102.347656\" xlink:href=\"#DejaVuSans-95\"/>\r\n       <use x=\"1152.347656\" xlink:href=\"#DejaVuSans-111\"/>\r\n       <use x=\"1213.529297\" xlink:href=\"#DejaVuSans-102\"/>\r\n       <use x=\"1248.734375\" xlink:href=\"#DejaVuSans-95\"/>\r\n       <use x=\"1298.734375\" xlink:href=\"#DejaVuSans-77\"/>\r\n       <use x=\"1385.013672\" xlink:href=\"#DejaVuSans-111\"/>\r\n       <use x=\"1446.195312\" xlink:href=\"#DejaVuSans-110\"/>\r\n       <use x=\"1509.574219\" xlink:href=\"#DejaVuSans-116\"/>\r\n       <use x=\"1548.783203\" xlink:href=\"#DejaVuSans-104\"/>\r\n      </g>\r\n     </g>\r\n    </g>\r\n    <g id=\"xtick_6\">\r\n     <g id=\"line2d_6\">\r\n      <g>\r\n       <use style=\"stroke:#000000;stroke-width:0.8;\" x=\"307.7119\" xlink:href=\"#m5507f63f69\" y=\"928.393125\"/>\r\n      </g>\r\n     </g>\r\n     <g id=\"text_6\">\r\n      <!-- Arrival_at_Pickup_Weekday -->\r\n      <g transform=\"translate(225.710199 1020.481658)rotate(-45)scale(0.0833 -0.0833)\">\r\n       <use xlink:href=\"#DejaVuSans-65\"/>\r\n       <use x=\"68.408203\" xlink:href=\"#DejaVuSans-114\"/>\r\n       <use x=\"109.505859\" xlink:href=\"#DejaVuSans-114\"/>\r\n       <use x=\"150.619141\" xlink:href=\"#DejaVuSans-105\"/>\r\n       <use x=\"178.402344\" xlink:href=\"#DejaVuSans-118\"/>\r\n       <use x=\"237.582031\" xlink:href=\"#DejaVuSans-97\"/>\r\n       <use x=\"298.861328\" xlink:href=\"#DejaVuSans-108\"/>\r\n       <use x=\"326.644531\" xlink:href=\"#DejaVuSans-95\"/>\r\n       <use x=\"376.644531\" xlink:href=\"#DejaVuSans-97\"/>\r\n       <use x=\"437.923828\" xlink:href=\"#DejaVuSans-116\"/>\r\n       <use x=\"477.132812\" xlink:href=\"#DejaVuSans-95\"/>\r\n       <use x=\"527.132812\" xlink:href=\"#DejaVuSans-80\"/>\r\n       <use x=\"587.404297\" xlink:href=\"#DejaVuSans-105\"/>\r\n       <use x=\"615.1875\" xlink:href=\"#DejaVuSans-99\"/>\r\n       <use x=\"670.167969\" xlink:href=\"#DejaVuSans-107\"/>\r\n       <use x=\"728.03125\" xlink:href=\"#DejaVuSans-117\"/>\r\n       <use x=\"791.410156\" xlink:href=\"#DejaVuSans-112\"/>\r\n       <use x=\"854.886719\" xlink:href=\"#DejaVuSans-95\"/>\r\n       <use x=\"904.886719\" xlink:href=\"#DejaVuSans-87\"/>\r\n       <use x=\"1003.685547\" xlink:href=\"#DejaVuSans-101\"/>\r\n       <use x=\"1065.208984\" xlink:href=\"#DejaVuSans-101\"/>\r\n       <use x=\"1126.732422\" xlink:href=\"#DejaVuSans-107\"/>\r\n       <use x=\"1184.642578\" xlink:href=\"#DejaVuSans-100\"/>\r\n       <use x=\"1248.119141\" xlink:href=\"#DejaVuSans-97\"/>\r\n       <use x=\"1309.398438\" xlink:href=\"#DejaVuSans-121\"/>\r\n      </g>\r\n     </g>\r\n    </g>\r\n    <g id=\"xtick_7\">\r\n     <g id=\"line2d_7\">\r\n      <g>\r\n       <use style=\"stroke:#000000;stroke-width:0.8;\" x=\"332.88065\" xlink:href=\"#m5507f63f69\" y=\"928.393125\"/>\r\n      </g>\r\n     </g>\r\n     <g id=\"text_7\">\r\n      <!-- Pickup_Day_of_Month -->\r\n      <g transform=\"translate(267.581346 1003.779261)rotate(-45)scale(0.0833 -0.0833)\">\r\n       <use xlink:href=\"#DejaVuSans-80\"/>\r\n       <use x=\"60.271484\" xlink:href=\"#DejaVuSans-105\"/>\r\n       <use x=\"88.054688\" xlink:href=\"#DejaVuSans-99\"/>\r\n       <use x=\"143.035156\" xlink:href=\"#DejaVuSans-107\"/>\r\n       <use x=\"200.898438\" xlink:href=\"#DejaVuSans-117\"/>\r\n       <use x=\"264.277344\" xlink:href=\"#DejaVuSans-112\"/>\r\n       <use x=\"327.753906\" xlink:href=\"#DejaVuSans-95\"/>\r\n       <use x=\"377.753906\" xlink:href=\"#DejaVuSans-68\"/>\r\n       <use x=\"454.755859\" xlink:href=\"#DejaVuSans-97\"/>\r\n       <use x=\"516.035156\" xlink:href=\"#DejaVuSans-121\"/>\r\n       <use x=\"575.214844\" xlink:href=\"#DejaVuSans-95\"/>\r\n       <use x=\"625.214844\" xlink:href=\"#DejaVuSans-111\"/>\r\n       <use x=\"686.396484\" xlink:href=\"#DejaVuSans-102\"/>\r\n       <use x=\"721.601562\" xlink:href=\"#DejaVuSans-95\"/>\r\n       <use x=\"771.601562\" xlink:href=\"#DejaVuSans-77\"/>\r\n       <use x=\"857.880859\" xlink:href=\"#DejaVuSans-111\"/>\r\n       <use x=\"919.0625\" xlink:href=\"#DejaVuSans-110\"/>\r\n       <use x=\"982.441406\" xlink:href=\"#DejaVuSans-116\"/>\r\n       <use x=\"1021.650391\" xlink:href=\"#DejaVuSans-104\"/>\r\n      </g>\r\n     </g>\r\n    </g>\r\n    <g id=\"xtick_8\">\r\n     <g id=\"line2d_8\">\r\n      <g>\r\n       <use style=\"stroke:#000000;stroke-width:0.8;\" x=\"358.0494\" xlink:href=\"#m5507f63f69\" y=\"928.393125\"/>\r\n      </g>\r\n     </g>\r\n     <g id=\"text_8\">\r\n      <!-- Pickup_Weekday -->\r\n      <g transform=\"translate(307.096413 989.432944)rotate(-45)scale(0.0833 -0.0833)\">\r\n       <use xlink:href=\"#DejaVuSans-80\"/>\r\n       <use x=\"60.271484\" xlink:href=\"#DejaVuSans-105\"/>\r\n       <use x=\"88.054688\" xlink:href=\"#DejaVuSans-99\"/>\r\n       <use x=\"143.035156\" xlink:href=\"#DejaVuSans-107\"/>\r\n       <use x=\"200.898438\" xlink:href=\"#DejaVuSans-117\"/>\r\n       <use x=\"264.277344\" xlink:href=\"#DejaVuSans-112\"/>\r\n       <use x=\"327.753906\" xlink:href=\"#DejaVuSans-95\"/>\r\n       <use x=\"377.753906\" xlink:href=\"#DejaVuSans-87\"/>\r\n       <use x=\"476.552734\" xlink:href=\"#DejaVuSans-101\"/>\r\n       <use x=\"538.076172\" xlink:href=\"#DejaVuSans-101\"/>\r\n       <use x=\"599.599609\" xlink:href=\"#DejaVuSans-107\"/>\r\n       <use x=\"657.509766\" xlink:href=\"#DejaVuSans-100\"/>\r\n       <use x=\"720.986328\" xlink:href=\"#DejaVuSans-97\"/>\r\n       <use x=\"782.265625\" xlink:href=\"#DejaVuSans-121\"/>\r\n      </g>\r\n     </g>\r\n    </g>\r\n    <g id=\"xtick_9\">\r\n     <g id=\"line2d_9\">\r\n      <g>\r\n       <use style=\"stroke:#000000;stroke-width:0.8;\" x=\"383.21815\" xlink:href=\"#m5507f63f69\" y=\"928.393125\"/>\r\n      </g>\r\n     </g>\r\n     <g id=\"text_9\">\r\n      <!-- Distance_KM -->\r\n      <defs>\r\n       <path d=\"M 44.28125 53.078125 \r\nL 44.28125 44.578125 \r\nQ 40.484375 46.53125 36.375 47.5 \r\nQ 32.28125 48.484375 27.875 48.484375 \r\nQ 21.1875 48.484375 17.84375 46.4375 \r\nQ 14.5 44.390625 14.5 40.28125 \r\nQ 14.5 37.15625 16.890625 35.375 \r\nQ 19.28125 33.59375 26.515625 31.984375 \r\nL 29.59375 31.296875 \r\nQ 39.15625 29.25 43.1875 25.515625 \r\nQ 47.21875 21.78125 47.21875 15.09375 \r\nQ 47.21875 7.46875 41.1875 3.015625 \r\nQ 35.15625 -1.421875 24.609375 -1.421875 \r\nQ 20.21875 -1.421875 15.453125 -0.5625 \r\nQ 10.6875 0.296875 5.421875 2 \r\nL 5.421875 11.28125 \r\nQ 10.40625 8.6875 15.234375 7.390625 \r\nQ 20.0625 6.109375 24.8125 6.109375 \r\nQ 31.15625 6.109375 34.5625 8.28125 \r\nQ 37.984375 10.453125 37.984375 14.40625 \r\nQ 37.984375 18.0625 35.515625 20.015625 \r\nQ 33.0625 21.96875 24.703125 23.78125 \r\nL 21.578125 24.515625 \r\nQ 13.234375 26.265625 9.515625 29.90625 \r\nQ 5.8125 33.546875 5.8125 39.890625 \r\nQ 5.8125 47.609375 11.28125 51.796875 \r\nQ 16.75 56 26.8125 56 \r\nQ 31.78125 56 36.171875 55.265625 \r\nQ 40.578125 54.546875 44.28125 53.078125 \r\nz\r\n\" id=\"DejaVuSans-115\"/>\r\n       <path d=\"M 9.8125 72.90625 \r\nL 19.671875 72.90625 \r\nL 19.671875 42.09375 \r\nL 52.390625 72.90625 \r\nL 65.09375 72.90625 \r\nL 28.90625 38.921875 \r\nL 67.671875 0 \r\nL 54.6875 0 \r\nL 19.671875 35.109375 \r\nL 19.671875 0 \r\nL 9.8125 0 \r\nz\r\n\" id=\"DejaVuSans-75\"/>\r\n      </defs>\r\n      <g transform=\"translate(344.184534 977.513573)rotate(-45)scale(0.0833 -0.0833)\">\r\n       <use xlink:href=\"#DejaVuSans-68\"/>\r\n       <use x=\"77.001953\" xlink:href=\"#DejaVuSans-105\"/>\r\n       <use x=\"104.785156\" xlink:href=\"#DejaVuSans-115\"/>\r\n       <use x=\"156.884766\" xlink:href=\"#DejaVuSans-116\"/>\r\n       <use x=\"196.09375\" xlink:href=\"#DejaVuSans-97\"/>\r\n       <use x=\"257.373047\" xlink:href=\"#DejaVuSans-110\"/>\r\n       <use x=\"320.751953\" xlink:href=\"#DejaVuSans-99\"/>\r\n       <use x=\"375.732422\" xlink:href=\"#DejaVuSans-101\"/>\r\n       <use x=\"437.255859\" xlink:href=\"#DejaVuSans-95\"/>\r\n       <use x=\"487.255859\" xlink:href=\"#DejaVuSans-75\"/>\r\n       <use x=\"552.832031\" xlink:href=\"#DejaVuSans-77\"/>\r\n      </g>\r\n     </g>\r\n    </g>\r\n    <g id=\"xtick_10\">\r\n     <g id=\"line2d_10\">\r\n      <g>\r\n       <use style=\"stroke:#000000;stroke-width:0.8;\" x=\"408.3869\" xlink:href=\"#m5507f63f69\" y=\"928.393125\"/>\r\n      </g>\r\n     </g>\r\n     <g id=\"text_10\">\r\n      <!-- Temperature -->\r\n      <defs>\r\n       <path d=\"M -0.296875 72.90625 \r\nL 61.375 72.90625 \r\nL 61.375 64.59375 \r\nL 35.5 64.59375 \r\nL 35.5 0 \r\nL 25.59375 0 \r\nL 25.59375 64.59375 \r\nL -0.296875 64.59375 \r\nz\r\n\" id=\"DejaVuSans-84\"/>\r\n      </defs>\r\n      <g transform=\"translate(368.737574 978.293104)rotate(-45)scale(0.0833 -0.0833)\">\r\n       <use xlink:href=\"#DejaVuSans-84\"/>\r\n       <use x=\"60.818359\" xlink:href=\"#DejaVuSans-101\"/>\r\n       <use x=\"122.341797\" xlink:href=\"#DejaVuSans-109\"/>\r\n       <use x=\"219.753906\" xlink:href=\"#DejaVuSans-112\"/>\r\n       <use x=\"283.230469\" xlink:href=\"#DejaVuSans-101\"/>\r\n       <use x=\"344.753906\" xlink:href=\"#DejaVuSans-114\"/>\r\n       <use x=\"385.867188\" xlink:href=\"#DejaVuSans-97\"/>\r\n       <use x=\"447.146484\" xlink:href=\"#DejaVuSans-116\"/>\r\n       <use x=\"486.355469\" xlink:href=\"#DejaVuSans-117\"/>\r\n       <use x=\"549.734375\" xlink:href=\"#DejaVuSans-114\"/>\r\n       <use x=\"590.816406\" xlink:href=\"#DejaVuSans-101\"/>\r\n      </g>\r\n     </g>\r\n    </g>\r\n    <g id=\"xtick_11\">\r\n     <g id=\"line2d_11\">\r\n      <g>\r\n       <use style=\"stroke:#000000;stroke-width:0.8;\" x=\"433.55565\" xlink:href=\"#m5507f63f69\" y=\"928.393125\"/>\r\n      </g>\r\n     </g>\r\n     <g id=\"text_11\">\r\n      <!-- Precipitation_in_millimeters -->\r\n      <g transform=\"translate(350.792825 1021.242783)rotate(-45)scale(0.0833 -0.0833)\">\r\n       <use xlink:href=\"#DejaVuSans-80\"/>\r\n       <use x=\"60.287109\" xlink:href=\"#DejaVuSans-114\"/>\r\n       <use x=\"101.369141\" xlink:href=\"#DejaVuSans-101\"/>\r\n       <use x=\"162.892578\" xlink:href=\"#DejaVuSans-99\"/>\r\n       <use x=\"217.873047\" xlink:href=\"#DejaVuSans-105\"/>\r\n       <use x=\"245.65625\" xlink:href=\"#DejaVuSans-112\"/>\r\n       <use x=\"309.132812\" xlink:href=\"#DejaVuSans-105\"/>\r\n       <use x=\"336.916016\" xlink:href=\"#DejaVuSans-116\"/>\r\n       <use x=\"376.125\" xlink:href=\"#DejaVuSans-97\"/>\r\n       <use x=\"437.404297\" xlink:href=\"#DejaVuSans-116\"/>\r\n       <use x=\"476.613281\" xlink:href=\"#DejaVuSans-105\"/>\r\n       <use x=\"504.396484\" xlink:href=\"#DejaVuSans-111\"/>\r\n       <use x=\"565.578125\" xlink:href=\"#DejaVuSans-110\"/>\r\n       <use x=\"628.957031\" xlink:href=\"#DejaVuSans-95\"/>\r\n       <use x=\"678.957031\" xlink:href=\"#DejaVuSans-105\"/>\r\n       <use x=\"706.740234\" xlink:href=\"#DejaVuSans-110\"/>\r\n       <use x=\"770.119141\" xlink:href=\"#DejaVuSans-95\"/>\r\n       <use x=\"820.119141\" xlink:href=\"#DejaVuSans-109\"/>\r\n       <use x=\"917.53125\" xlink:href=\"#DejaVuSans-105\"/>\r\n       <use x=\"945.314453\" xlink:href=\"#DejaVuSans-108\"/>\r\n       <use x=\"973.097656\" xlink:href=\"#DejaVuSans-108\"/>\r\n       <use x=\"1000.880859\" xlink:href=\"#DejaVuSans-105\"/>\r\n       <use x=\"1028.664062\" xlink:href=\"#DejaVuSans-109\"/>\r\n       <use x=\"1126.076172\" xlink:href=\"#DejaVuSans-101\"/>\r\n       <use x=\"1187.599609\" xlink:href=\"#DejaVuSans-116\"/>\r\n       <use x=\"1226.808594\" xlink:href=\"#DejaVuSans-101\"/>\r\n       <use x=\"1288.332031\" xlink:href=\"#DejaVuSans-114\"/>\r\n       <use x=\"1329.445312\" xlink:href=\"#DejaVuSans-115\"/>\r\n      </g>\r\n     </g>\r\n    </g>\r\n    <g id=\"xtick_12\">\r\n     <g id=\"line2d_12\">\r\n      <g>\r\n       <use style=\"stroke:#000000;stroke-width:0.8;\" x=\"458.7244\" xlink:href=\"#m5507f63f69\" y=\"928.393125\"/>\r\n      </g>\r\n     </g>\r\n     <g id=\"text_12\">\r\n      <!-- No_Of_Orders -->\r\n      <defs>\r\n       <path d=\"M 9.8125 72.90625 \r\nL 23.09375 72.90625 \r\nL 55.421875 11.921875 \r\nL 55.421875 72.90625 \r\nL 64.984375 72.90625 \r\nL 64.984375 0 \r\nL 51.703125 0 \r\nL 19.390625 60.984375 \r\nL 19.390625 0 \r\nL 9.8125 0 \r\nz\r\n\" id=\"DejaVuSans-78\"/>\r\n       <path d=\"M 39.40625 66.21875 \r\nQ 28.65625 66.21875 22.328125 58.203125 \r\nQ 16.015625 50.203125 16.015625 36.375 \r\nQ 16.015625 22.609375 22.328125 14.59375 \r\nQ 28.65625 6.59375 39.40625 6.59375 \r\nQ 50.140625 6.59375 56.421875 14.59375 \r\nQ 62.703125 22.609375 62.703125 36.375 \r\nQ 62.703125 50.203125 56.421875 58.203125 \r\nQ 50.140625 66.21875 39.40625 66.21875 \r\nz\r\nM 39.40625 74.21875 \r\nQ 54.734375 74.21875 63.90625 63.9375 \r\nQ 73.09375 53.65625 73.09375 36.375 \r\nQ 73.09375 19.140625 63.90625 8.859375 \r\nQ 54.734375 -1.421875 39.40625 -1.421875 \r\nQ 24.03125 -1.421875 14.8125 8.828125 \r\nQ 5.609375 19.09375 5.609375 36.375 \r\nQ 5.609375 53.65625 14.8125 63.9375 \r\nQ 24.03125 74.21875 39.40625 74.21875 \r\nz\r\n\" id=\"DejaVuSans-79\"/>\r\n      </defs>\r\n      <g transform=\"translate(416.81379 980.390568)rotate(-45)scale(0.0833 -0.0833)\">\r\n       <use xlink:href=\"#DejaVuSans-78\"/>\r\n       <use x=\"74.804688\" xlink:href=\"#DejaVuSans-111\"/>\r\n       <use x=\"135.986328\" xlink:href=\"#DejaVuSans-95\"/>\r\n       <use x=\"185.986328\" xlink:href=\"#DejaVuSans-79\"/>\r\n       <use x=\"264.697266\" xlink:href=\"#DejaVuSans-102\"/>\r\n       <use x=\"299.902344\" xlink:href=\"#DejaVuSans-95\"/>\r\n       <use x=\"349.902344\" xlink:href=\"#DejaVuSans-79\"/>\r\n       <use x=\"428.613281\" xlink:href=\"#DejaVuSans-114\"/>\r\n       <use x=\"469.710938\" xlink:href=\"#DejaVuSans-100\"/>\r\n       <use x=\"533.1875\" xlink:href=\"#DejaVuSans-101\"/>\r\n       <use x=\"594.710938\" xlink:href=\"#DejaVuSans-114\"/>\r\n       <use x=\"635.824219\" xlink:href=\"#DejaVuSans-115\"/>\r\n      </g>\r\n     </g>\r\n    </g>\r\n    <g id=\"xtick_13\">\r\n     <g id=\"line2d_13\">\r\n      <g>\r\n       <use style=\"stroke:#000000;stroke-width:0.8;\" x=\"483.89315\" xlink:href=\"#m5507f63f69\" y=\"928.393125\"/>\r\n      </g>\r\n     </g>\r\n     <g id=\"text_13\">\r\n      <!-- Age -->\r\n      <defs>\r\n       <path d=\"M 45.40625 27.984375 \r\nQ 45.40625 37.75 41.375 43.109375 \r\nQ 37.359375 48.484375 30.078125 48.484375 \r\nQ 22.859375 48.484375 18.828125 43.109375 \r\nQ 14.796875 37.75 14.796875 27.984375 \r\nQ 14.796875 18.265625 18.828125 12.890625 \r\nQ 22.859375 7.515625 30.078125 7.515625 \r\nQ 37.359375 7.515625 41.375 12.890625 \r\nQ 45.40625 18.265625 45.40625 27.984375 \r\nz\r\nM 54.390625 6.78125 \r\nQ 54.390625 -7.171875 48.1875 -13.984375 \r\nQ 42 -20.796875 29.203125 -20.796875 \r\nQ 24.46875 -20.796875 20.265625 -20.09375 \r\nQ 16.0625 -19.390625 12.109375 -17.921875 \r\nL 12.109375 -9.1875 \r\nQ 16.0625 -11.328125 19.921875 -12.34375 \r\nQ 23.78125 -13.375 27.78125 -13.375 \r\nQ 36.625 -13.375 41.015625 -8.765625 \r\nQ 45.40625 -4.15625 45.40625 5.171875 \r\nL 45.40625 9.625 \r\nQ 42.625 4.78125 38.28125 2.390625 \r\nQ 33.9375 0 27.875 0 \r\nQ 17.828125 0 11.671875 7.65625 \r\nQ 5.515625 15.328125 5.515625 27.984375 \r\nQ 5.515625 40.671875 11.671875 48.328125 \r\nQ 17.828125 56 27.875 56 \r\nQ 33.9375 56 38.28125 53.609375 \r\nQ 42.625 51.21875 45.40625 46.390625 \r\nL 45.40625 54.6875 \r\nL 54.390625 54.6875 \r\nz\r\n\" id=\"DejaVuSans-103\"/>\r\n      </defs>\r\n      <g transform=\"translate(471.275238 951.261691)rotate(-45)scale(0.0833 -0.0833)\">\r\n       <use xlink:href=\"#DejaVuSans-65\"/>\r\n       <use x=\"68.408203\" xlink:href=\"#DejaVuSans-103\"/>\r\n       <use x=\"131.884766\" xlink:href=\"#DejaVuSans-101\"/>\r\n      </g>\r\n     </g>\r\n    </g>\r\n    <g id=\"xtick_14\">\r\n     <g id=\"line2d_14\">\r\n      <g>\r\n       <use style=\"stroke:#000000;stroke-width:0.8;\" x=\"509.0619\" xlink:href=\"#m5507f63f69\" y=\"928.393125\"/>\r\n      </g>\r\n     </g>\r\n     <g id=\"text_14\">\r\n      <!-- Average_Rating -->\r\n      <defs>\r\n       <path d=\"M 44.390625 34.1875 \r\nQ 47.5625 33.109375 50.5625 29.59375 \r\nQ 53.5625 26.078125 56.59375 19.921875 \r\nL 66.609375 0 \r\nL 56 0 \r\nL 46.6875 18.703125 \r\nQ 43.0625 26.03125 39.671875 28.421875 \r\nQ 36.28125 30.8125 30.421875 30.8125 \r\nL 19.671875 30.8125 \r\nL 19.671875 0 \r\nL 9.8125 0 \r\nL 9.8125 72.90625 \r\nL 32.078125 72.90625 \r\nQ 44.578125 72.90625 50.734375 67.671875 \r\nQ 56.890625 62.453125 56.890625 51.90625 \r\nQ 56.890625 45.015625 53.6875 40.46875 \r\nQ 50.484375 35.9375 44.390625 34.1875 \r\nz\r\nM 19.671875 64.796875 \r\nL 19.671875 38.921875 \r\nL 32.078125 38.921875 \r\nQ 39.203125 38.921875 42.84375 42.21875 \r\nQ 46.484375 45.515625 46.484375 51.90625 \r\nQ 46.484375 58.296875 42.84375 61.546875 \r\nQ 39.203125 64.796875 32.078125 64.796875 \r\nz\r\n\" id=\"DejaVuSans-82\"/>\r\n      </defs>\r\n      <g transform=\"translate(461.079783 986.462075)rotate(-45)scale(0.0833 -0.0833)\">\r\n       <use xlink:href=\"#DejaVuSans-65\"/>\r\n       <use x=\"68.330078\" xlink:href=\"#DejaVuSans-118\"/>\r\n       <use x=\"127.509766\" xlink:href=\"#DejaVuSans-101\"/>\r\n       <use x=\"189.033203\" xlink:href=\"#DejaVuSans-114\"/>\r\n       <use x=\"230.146484\" xlink:href=\"#DejaVuSans-97\"/>\r\n       <use x=\"291.425781\" xlink:href=\"#DejaVuSans-103\"/>\r\n       <use x=\"354.902344\" xlink:href=\"#DejaVuSans-101\"/>\r\n       <use x=\"416.425781\" xlink:href=\"#DejaVuSans-95\"/>\r\n       <use x=\"466.425781\" xlink:href=\"#DejaVuSans-82\"/>\r\n       <use x=\"535.876953\" xlink:href=\"#DejaVuSans-97\"/>\r\n       <use x=\"597.15625\" xlink:href=\"#DejaVuSans-116\"/>\r\n       <use x=\"636.365234\" xlink:href=\"#DejaVuSans-105\"/>\r\n       <use x=\"664.148438\" xlink:href=\"#DejaVuSans-110\"/>\r\n       <use x=\"727.527344\" xlink:href=\"#DejaVuSans-103\"/>\r\n      </g>\r\n     </g>\r\n    </g>\r\n    <g id=\"xtick_15\">\r\n     <g id=\"line2d_15\">\r\n      <g>\r\n       <use style=\"stroke:#000000;stroke-width:0.8;\" x=\"534.23065\" xlink:href=\"#m5507f63f69\" y=\"928.393125\"/>\r\n      </g>\r\n     </g>\r\n     <g id=\"text_15\">\r\n      <!-- No_of_Ratings -->\r\n      <g transform=\"translate(491.076656 981.633952)rotate(-45)scale(0.0833 -0.0833)\">\r\n       <use xlink:href=\"#DejaVuSans-78\"/>\r\n       <use x=\"74.804688\" xlink:href=\"#DejaVuSans-111\"/>\r\n       <use x=\"135.986328\" xlink:href=\"#DejaVuSans-95\"/>\r\n       <use x=\"185.986328\" xlink:href=\"#DejaVuSans-111\"/>\r\n       <use x=\"247.167969\" xlink:href=\"#DejaVuSans-102\"/>\r\n       <use x=\"282.373047\" xlink:href=\"#DejaVuSans-95\"/>\r\n       <use x=\"332.373047\" xlink:href=\"#DejaVuSans-82\"/>\r\n       <use x=\"401.824219\" xlink:href=\"#DejaVuSans-97\"/>\r\n       <use x=\"463.103516\" xlink:href=\"#DejaVuSans-116\"/>\r\n       <use x=\"502.3125\" xlink:href=\"#DejaVuSans-105\"/>\r\n       <use x=\"530.095703\" xlink:href=\"#DejaVuSans-110\"/>\r\n       <use x=\"593.474609\" xlink:href=\"#DejaVuSans-103\"/>\r\n       <use x=\"656.951172\" xlink:href=\"#DejaVuSans-115\"/>\r\n      </g>\r\n     </g>\r\n    </g>\r\n    <g id=\"xtick_16\">\r\n     <g id=\"line2d_16\">\r\n      <g>\r\n       <use style=\"stroke:#000000;stroke-width:0.8;\" x=\"559.3994\" xlink:href=\"#m5507f63f69\" y=\"928.393125\"/>\r\n      </g>\r\n     </g>\r\n     <g id=\"text_16\">\r\n      <!-- Personal_or_Business_Personal -->\r\n      <defs>\r\n       <path d=\"M 19.671875 34.8125 \r\nL 19.671875 8.109375 \r\nL 35.5 8.109375 \r\nQ 43.453125 8.109375 47.28125 11.40625 \r\nQ 51.125 14.703125 51.125 21.484375 \r\nQ 51.125 28.328125 47.28125 31.5625 \r\nQ 43.453125 34.8125 35.5 34.8125 \r\nz\r\nM 19.671875 64.796875 \r\nL 19.671875 42.828125 \r\nL 34.28125 42.828125 \r\nQ 41.5 42.828125 45.03125 45.53125 \r\nQ 48.578125 48.25 48.578125 53.8125 \r\nQ 48.578125 59.328125 45.03125 62.0625 \r\nQ 41.5 64.796875 34.28125 64.796875 \r\nz\r\nM 9.8125 72.90625 \r\nL 35.015625 72.90625 \r\nQ 46.296875 72.90625 52.390625 68.21875 \r\nQ 58.5 63.53125 58.5 54.890625 \r\nQ 58.5 48.1875 55.375 44.234375 \r\nQ 52.25 40.28125 46.1875 39.3125 \r\nQ 53.46875 37.75 57.5 32.78125 \r\nQ 61.53125 27.828125 61.53125 20.40625 \r\nQ 61.53125 10.640625 54.890625 5.3125 \r\nQ 48.25 0 35.984375 0 \r\nL 9.8125 0 \r\nz\r\n\" id=\"DejaVuSans-66\"/>\r\n      </defs>\r\n      <g transform=\"translate(466.684899 1031.194459)rotate(-45)scale(0.0833 -0.0833)\">\r\n       <use xlink:href=\"#DejaVuSans-80\"/>\r\n       <use x=\"60.255859\" xlink:href=\"#DejaVuSans-101\"/>\r\n       <use x=\"121.779297\" xlink:href=\"#DejaVuSans-114\"/>\r\n       <use x=\"162.892578\" xlink:href=\"#DejaVuSans-115\"/>\r\n       <use x=\"214.992188\" xlink:href=\"#DejaVuSans-111\"/>\r\n       <use x=\"276.173828\" xlink:href=\"#DejaVuSans-110\"/>\r\n       <use x=\"339.552734\" xlink:href=\"#DejaVuSans-97\"/>\r\n       <use x=\"400.832031\" xlink:href=\"#DejaVuSans-108\"/>\r\n       <use x=\"428.615234\" xlink:href=\"#DejaVuSans-95\"/>\r\n       <use x=\"478.615234\" xlink:href=\"#DejaVuSans-111\"/>\r\n       <use x=\"539.796875\" xlink:href=\"#DejaVuSans-114\"/>\r\n       <use x=\"580.910156\" xlink:href=\"#DejaVuSans-95\"/>\r\n       <use x=\"630.910156\" xlink:href=\"#DejaVuSans-66\"/>\r\n       <use x=\"699.513672\" xlink:href=\"#DejaVuSans-117\"/>\r\n       <use x=\"762.892578\" xlink:href=\"#DejaVuSans-115\"/>\r\n       <use x=\"814.992188\" xlink:href=\"#DejaVuSans-105\"/>\r\n       <use x=\"842.775391\" xlink:href=\"#DejaVuSans-110\"/>\r\n       <use x=\"906.154297\" xlink:href=\"#DejaVuSans-101\"/>\r\n       <use x=\"967.677734\" xlink:href=\"#DejaVuSans-115\"/>\r\n       <use x=\"1019.777344\" xlink:href=\"#DejaVuSans-115\"/>\r\n       <use x=\"1071.876953\" xlink:href=\"#DejaVuSans-95\"/>\r\n       <use x=\"1121.876953\" xlink:href=\"#DejaVuSans-80\"/>\r\n       <use x=\"1182.132812\" xlink:href=\"#DejaVuSans-101\"/>\r\n       <use x=\"1243.65625\" xlink:href=\"#DejaVuSans-114\"/>\r\n       <use x=\"1284.769531\" xlink:href=\"#DejaVuSans-115\"/>\r\n       <use x=\"1336.869141\" xlink:href=\"#DejaVuSans-111\"/>\r\n       <use x=\"1398.050781\" xlink:href=\"#DejaVuSans-110\"/>\r\n       <use x=\"1461.429688\" xlink:href=\"#DejaVuSans-97\"/>\r\n       <use x=\"1522.708984\" xlink:href=\"#DejaVuSans-108\"/>\r\n      </g>\r\n     </g>\r\n    </g>\r\n    <g id=\"xtick_17\">\r\n     <g id=\"line2d_17\">\r\n      <g>\r\n       <use style=\"stroke:#000000;stroke-width:0.8;\" x=\"584.56815\" xlink:href=\"#m5507f63f69\" y=\"928.393125\"/>\r\n      </g>\r\n     </g>\r\n     <g id=\"text_17\">\r\n      <!-- Platform_Type_2 -->\r\n      <defs>\r\n       <path d=\"M 19.1875 8.296875 \r\nL 53.609375 8.296875 \r\nL 53.609375 0 \r\nL 7.328125 0 \r\nL 7.328125 8.296875 \r\nQ 12.9375 14.109375 22.625 23.890625 \r\nQ 32.328125 33.6875 34.8125 36.53125 \r\nQ 39.546875 41.84375 41.421875 45.53125 \r\nQ 43.3125 49.21875 43.3125 52.78125 \r\nQ 43.3125 58.59375 39.234375 62.25 \r\nQ 35.15625 65.921875 28.609375 65.921875 \r\nQ 23.96875 65.921875 18.8125 64.3125 \r\nQ 13.671875 62.703125 7.8125 59.421875 \r\nL 7.8125 69.390625 \r\nQ 13.765625 71.78125 18.9375 73 \r\nQ 24.125 74.21875 28.421875 74.21875 \r\nQ 39.75 74.21875 46.484375 68.546875 \r\nQ 53.21875 62.890625 53.21875 53.421875 \r\nQ 53.21875 48.921875 51.53125 44.890625 \r\nQ 49.859375 40.875 45.40625 35.40625 \r\nQ 44.1875 33.984375 37.640625 27.21875 \r\nQ 31.109375 20.453125 19.1875 8.296875 \r\nz\r\n\" id=\"DejaVuSans-50\"/>\r\n      </defs>\r\n      <g transform=\"translate(534.165529 988.882579)rotate(-45)scale(0.0833 -0.0833)\">\r\n       <use xlink:href=\"#DejaVuSans-80\"/>\r\n       <use x=\"60.302734\" xlink:href=\"#DejaVuSans-108\"/>\r\n       <use x=\"88.085938\" xlink:href=\"#DejaVuSans-97\"/>\r\n       <use x=\"149.365234\" xlink:href=\"#DejaVuSans-116\"/>\r\n       <use x=\"188.574219\" xlink:href=\"#DejaVuSans-102\"/>\r\n       <use x=\"223.779297\" xlink:href=\"#DejaVuSans-111\"/>\r\n       <use x=\"284.960938\" xlink:href=\"#DejaVuSans-114\"/>\r\n       <use x=\"326.058594\" xlink:href=\"#DejaVuSans-109\"/>\r\n       <use x=\"423.470703\" xlink:href=\"#DejaVuSans-95\"/>\r\n       <use x=\"473.470703\" xlink:href=\"#DejaVuSans-84\"/>\r\n       <use x=\"534.320312\" xlink:href=\"#DejaVuSans-121\"/>\r\n       <use x=\"593.5\" xlink:href=\"#DejaVuSans-112\"/>\r\n       <use x=\"656.976562\" xlink:href=\"#DejaVuSans-101\"/>\r\n       <use x=\"718.5\" xlink:href=\"#DejaVuSans-95\"/>\r\n       <use x=\"768.5\" xlink:href=\"#DejaVuSans-50\"/>\r\n      </g>\r\n     </g>\r\n    </g>\r\n    <g id=\"xtick_18\">\r\n     <g id=\"line2d_18\">\r\n      <g>\r\n       <use style=\"stroke:#000000;stroke-width:0.8;\" x=\"609.7369\" xlink:href=\"#m5507f63f69\" y=\"928.393125\"/>\r\n      </g>\r\n     </g>\r\n     <g id=\"text_18\">\r\n      <!-- Platform_Type_3 -->\r\n      <defs>\r\n       <path d=\"M 40.578125 39.3125 \r\nQ 47.65625 37.796875 51.625 33 \r\nQ 55.609375 28.21875 55.609375 21.1875 \r\nQ 55.609375 10.40625 48.1875 4.484375 \r\nQ 40.765625 -1.421875 27.09375 -1.421875 \r\nQ 22.515625 -1.421875 17.65625 -0.515625 \r\nQ 12.796875 0.390625 7.625 2.203125 \r\nL 7.625 11.71875 \r\nQ 11.71875 9.328125 16.59375 8.109375 \r\nQ 21.484375 6.890625 26.8125 6.890625 \r\nQ 36.078125 6.890625 40.9375 10.546875 \r\nQ 45.796875 14.203125 45.796875 21.1875 \r\nQ 45.796875 27.640625 41.28125 31.265625 \r\nQ 36.765625 34.90625 28.71875 34.90625 \r\nL 20.21875 34.90625 \r\nL 20.21875 43.015625 \r\nL 29.109375 43.015625 \r\nQ 36.375 43.015625 40.234375 45.921875 \r\nQ 44.09375 48.828125 44.09375 54.296875 \r\nQ 44.09375 59.90625 40.109375 62.90625 \r\nQ 36.140625 65.921875 28.71875 65.921875 \r\nQ 24.65625 65.921875 20.015625 65.03125 \r\nQ 15.375 64.15625 9.8125 62.3125 \r\nL 9.8125 71.09375 \r\nQ 15.4375 72.65625 20.34375 73.4375 \r\nQ 25.25 74.21875 29.59375 74.21875 \r\nQ 40.828125 74.21875 47.359375 69.109375 \r\nQ 53.90625 64.015625 53.90625 55.328125 \r\nQ 53.90625 49.265625 50.4375 45.09375 \r\nQ 46.96875 40.921875 40.578125 39.3125 \r\nz\r\n\" id=\"DejaVuSans-51\"/>\r\n      </defs>\r\n      <g transform=\"translate(559.334279 988.882579)rotate(-45)scale(0.0833 -0.0833)\">\r\n       <use xlink:href=\"#DejaVuSans-80\"/>\r\n       <use x=\"60.302734\" xlink:href=\"#DejaVuSans-108\"/>\r\n       <use x=\"88.085938\" xlink:href=\"#DejaVuSans-97\"/>\r\n       <use x=\"149.365234\" xlink:href=\"#DejaVuSans-116\"/>\r\n       <use x=\"188.574219\" xlink:href=\"#DejaVuSans-102\"/>\r\n       <use x=\"223.779297\" xlink:href=\"#DejaVuSans-111\"/>\r\n       <use x=\"284.960938\" xlink:href=\"#DejaVuSans-114\"/>\r\n       <use x=\"326.058594\" xlink:href=\"#DejaVuSans-109\"/>\r\n       <use x=\"423.470703\" xlink:href=\"#DejaVuSans-95\"/>\r\n       <use x=\"473.470703\" xlink:href=\"#DejaVuSans-84\"/>\r\n       <use x=\"534.320312\" xlink:href=\"#DejaVuSans-121\"/>\r\n       <use x=\"593.5\" xlink:href=\"#DejaVuSans-112\"/>\r\n       <use x=\"656.976562\" xlink:href=\"#DejaVuSans-101\"/>\r\n       <use x=\"718.5\" xlink:href=\"#DejaVuSans-95\"/>\r\n       <use x=\"768.5\" xlink:href=\"#DejaVuSans-51\"/>\r\n      </g>\r\n     </g>\r\n    </g>\r\n    <g id=\"xtick_19\">\r\n     <g id=\"line2d_19\">\r\n      <g>\r\n       <use style=\"stroke:#000000;stroke-width:0.8;\" x=\"634.90565\" xlink:href=\"#m5507f63f69\" y=\"928.393125\"/>\r\n      </g>\r\n     </g>\r\n     <g id=\"text_19\">\r\n      <!-- Platform_Type_4 -->\r\n      <defs>\r\n       <path d=\"M 37.796875 64.3125 \r\nL 12.890625 25.390625 \r\nL 37.796875 25.390625 \r\nz\r\nM 35.203125 72.90625 \r\nL 47.609375 72.90625 \r\nL 47.609375 25.390625 \r\nL 58.015625 25.390625 \r\nL 58.015625 17.1875 \r\nL 47.609375 17.1875 \r\nL 47.609375 0 \r\nL 37.796875 0 \r\nL 37.796875 17.1875 \r\nL 4.890625 17.1875 \r\nL 4.890625 26.703125 \r\nz\r\n\" id=\"DejaVuSans-52\"/>\r\n      </defs>\r\n      <g transform=\"translate(584.503029 988.882579)rotate(-45)scale(0.0833 -0.0833)\">\r\n       <use xlink:href=\"#DejaVuSans-80\"/>\r\n       <use x=\"60.302734\" xlink:href=\"#DejaVuSans-108\"/>\r\n       <use x=\"88.085938\" xlink:href=\"#DejaVuSans-97\"/>\r\n       <use x=\"149.365234\" xlink:href=\"#DejaVuSans-116\"/>\r\n       <use x=\"188.574219\" xlink:href=\"#DejaVuSans-102\"/>\r\n       <use x=\"223.779297\" xlink:href=\"#DejaVuSans-111\"/>\r\n       <use x=\"284.960938\" xlink:href=\"#DejaVuSans-114\"/>\r\n       <use x=\"326.058594\" xlink:href=\"#DejaVuSans-109\"/>\r\n       <use x=\"423.470703\" xlink:href=\"#DejaVuSans-95\"/>\r\n       <use x=\"473.470703\" xlink:href=\"#DejaVuSans-84\"/>\r\n       <use x=\"534.320312\" xlink:href=\"#DejaVuSans-121\"/>\r\n       <use x=\"593.5\" xlink:href=\"#DejaVuSans-112\"/>\r\n       <use x=\"656.976562\" xlink:href=\"#DejaVuSans-101\"/>\r\n       <use x=\"718.5\" xlink:href=\"#DejaVuSans-95\"/>\r\n       <use x=\"768.5\" xlink:href=\"#DejaVuSans-52\"/>\r\n      </g>\r\n     </g>\r\n    </g>\r\n    <g id=\"xtick_20\">\r\n     <g id=\"line2d_20\">\r\n      <g>\r\n       <use style=\"stroke:#000000;stroke-width:0.8;\" x=\"660.0744\" xlink:href=\"#m5507f63f69\" y=\"928.393125\"/>\r\n      </g>\r\n     </g>\r\n     <g id=\"text_20\">\r\n      <!-- Arrival_at_Pickup_Time_EarlyMorning -->\r\n      <defs>\r\n       <path d=\"M 9.8125 72.90625 \r\nL 55.90625 72.90625 \r\nL 55.90625 64.59375 \r\nL 19.671875 64.59375 \r\nL 19.671875 43.015625 \r\nL 54.390625 43.015625 \r\nL 54.390625 34.71875 \r\nL 19.671875 34.71875 \r\nL 19.671875 8.296875 \r\nL 56.78125 8.296875 \r\nL 56.78125 0 \r\nL 9.8125 0 \r\nz\r\n\" id=\"DejaVuSans-69\"/>\r\n      </defs>\r\n      <g transform=\"translate(549.024812 1049.529545)rotate(-45)scale(0.0833 -0.0833)\">\r\n       <use xlink:href=\"#DejaVuSans-65\"/>\r\n       <use x=\"68.408203\" xlink:href=\"#DejaVuSans-114\"/>\r\n       <use x=\"109.505859\" xlink:href=\"#DejaVuSans-114\"/>\r\n       <use x=\"150.619141\" xlink:href=\"#DejaVuSans-105\"/>\r\n       <use x=\"178.402344\" xlink:href=\"#DejaVuSans-118\"/>\r\n       <use x=\"237.582031\" xlink:href=\"#DejaVuSans-97\"/>\r\n       <use x=\"298.861328\" xlink:href=\"#DejaVuSans-108\"/>\r\n       <use x=\"326.644531\" xlink:href=\"#DejaVuSans-95\"/>\r\n       <use x=\"376.644531\" xlink:href=\"#DejaVuSans-97\"/>\r\n       <use x=\"437.923828\" xlink:href=\"#DejaVuSans-116\"/>\r\n       <use x=\"477.132812\" xlink:href=\"#DejaVuSans-95\"/>\r\n       <use x=\"527.132812\" xlink:href=\"#DejaVuSans-80\"/>\r\n       <use x=\"587.404297\" xlink:href=\"#DejaVuSans-105\"/>\r\n       <use x=\"615.1875\" xlink:href=\"#DejaVuSans-99\"/>\r\n       <use x=\"670.167969\" xlink:href=\"#DejaVuSans-107\"/>\r\n       <use x=\"728.03125\" xlink:href=\"#DejaVuSans-117\"/>\r\n       <use x=\"791.410156\" xlink:href=\"#DejaVuSans-112\"/>\r\n       <use x=\"854.886719\" xlink:href=\"#DejaVuSans-95\"/>\r\n       <use x=\"904.886719\" xlink:href=\"#DejaVuSans-84\"/>\r\n       <use x=\"965.923828\" xlink:href=\"#DejaVuSans-105\"/>\r\n       <use x=\"993.707031\" xlink:href=\"#DejaVuSans-109\"/>\r\n       <use x=\"1091.119141\" xlink:href=\"#DejaVuSans-101\"/>\r\n       <use x=\"1152.642578\" xlink:href=\"#DejaVuSans-95\"/>\r\n       <use x=\"1202.642578\" xlink:href=\"#DejaVuSans-69\"/>\r\n       <use x=\"1265.826172\" xlink:href=\"#DejaVuSans-97\"/>\r\n       <use x=\"1327.105469\" xlink:href=\"#DejaVuSans-114\"/>\r\n       <use x=\"1368.21875\" xlink:href=\"#DejaVuSans-108\"/>\r\n       <use x=\"1396.001953\" xlink:href=\"#DejaVuSans-121\"/>\r\n       <use x=\"1455.181641\" xlink:href=\"#DejaVuSans-77\"/>\r\n       <use x=\"1541.460938\" xlink:href=\"#DejaVuSans-111\"/>\r\n       <use x=\"1602.642578\" xlink:href=\"#DejaVuSans-114\"/>\r\n       <use x=\"1643.740234\" xlink:href=\"#DejaVuSans-110\"/>\r\n       <use x=\"1707.119141\" xlink:href=\"#DejaVuSans-105\"/>\r\n       <use x=\"1734.902344\" xlink:href=\"#DejaVuSans-110\"/>\r\n       <use x=\"1798.28125\" xlink:href=\"#DejaVuSans-103\"/>\r\n      </g>\r\n     </g>\r\n    </g>\r\n    <g id=\"xtick_21\">\r\n     <g id=\"line2d_21\">\r\n      <g>\r\n       <use style=\"stroke:#000000;stroke-width:0.8;\" x=\"685.24315\" xlink:href=\"#m5507f63f69\" y=\"928.393125\"/>\r\n      </g>\r\n     </g>\r\n     <g id=\"text_21\">\r\n      <!-- Arrival_at_Pickup_Time_Evening -->\r\n      <g transform=\"translate(589.34334 1034.379768)rotate(-45)scale(0.0833 -0.0833)\">\r\n       <use xlink:href=\"#DejaVuSans-65\"/>\r\n       <use x=\"68.408203\" xlink:href=\"#DejaVuSans-114\"/>\r\n       <use x=\"109.505859\" xlink:href=\"#DejaVuSans-114\"/>\r\n       <use x=\"150.619141\" xlink:href=\"#DejaVuSans-105\"/>\r\n       <use x=\"178.402344\" xlink:href=\"#DejaVuSans-118\"/>\r\n       <use x=\"237.582031\" xlink:href=\"#DejaVuSans-97\"/>\r\n       <use x=\"298.861328\" xlink:href=\"#DejaVuSans-108\"/>\r\n       <use x=\"326.644531\" xlink:href=\"#DejaVuSans-95\"/>\r\n       <use x=\"376.644531\" xlink:href=\"#DejaVuSans-97\"/>\r\n       <use x=\"437.923828\" xlink:href=\"#DejaVuSans-116\"/>\r\n       <use x=\"477.132812\" xlink:href=\"#DejaVuSans-95\"/>\r\n       <use x=\"527.132812\" xlink:href=\"#DejaVuSans-80\"/>\r\n       <use x=\"587.404297\" xlink:href=\"#DejaVuSans-105\"/>\r\n       <use x=\"615.1875\" xlink:href=\"#DejaVuSans-99\"/>\r\n       <use x=\"670.167969\" xlink:href=\"#DejaVuSans-107\"/>\r\n       <use x=\"728.03125\" xlink:href=\"#DejaVuSans-117\"/>\r\n       <use x=\"791.410156\" xlink:href=\"#DejaVuSans-112\"/>\r\n       <use x=\"854.886719\" xlink:href=\"#DejaVuSans-95\"/>\r\n       <use x=\"904.886719\" xlink:href=\"#DejaVuSans-84\"/>\r\n       <use x=\"965.923828\" xlink:href=\"#DejaVuSans-105\"/>\r\n       <use x=\"993.707031\" xlink:href=\"#DejaVuSans-109\"/>\r\n       <use x=\"1091.119141\" xlink:href=\"#DejaVuSans-101\"/>\r\n       <use x=\"1152.642578\" xlink:href=\"#DejaVuSans-95\"/>\r\n       <use x=\"1202.642578\" xlink:href=\"#DejaVuSans-69\"/>\r\n       <use x=\"1265.826172\" xlink:href=\"#DejaVuSans-118\"/>\r\n       <use x=\"1325.005859\" xlink:href=\"#DejaVuSans-101\"/>\r\n       <use x=\"1386.529297\" xlink:href=\"#DejaVuSans-110\"/>\r\n       <use x=\"1449.908203\" xlink:href=\"#DejaVuSans-105\"/>\r\n       <use x=\"1477.691406\" xlink:href=\"#DejaVuSans-110\"/>\r\n       <use x=\"1541.070312\" xlink:href=\"#DejaVuSans-103\"/>\r\n      </g>\r\n     </g>\r\n    </g>\r\n    <g id=\"xtick_22\">\r\n     <g id=\"line2d_22\">\r\n      <g>\r\n       <use style=\"stroke:#000000;stroke-width:0.8;\" x=\"710.4119\" xlink:href=\"#m5507f63f69\" y=\"928.393125\"/>\r\n      </g>\r\n     </g>\r\n     <g id=\"text_22\">\r\n      <!-- Arrival_at_Pickup_Time_Morning -->\r\n      <g transform=\"translate(614.237827 1034.65403)rotate(-45)scale(0.0833 -0.0833)\">\r\n       <use xlink:href=\"#DejaVuSans-65\"/>\r\n       <use x=\"68.408203\" xlink:href=\"#DejaVuSans-114\"/>\r\n       <use x=\"109.505859\" xlink:href=\"#DejaVuSans-114\"/>\r\n       <use x=\"150.619141\" xlink:href=\"#DejaVuSans-105\"/>\r\n       <use x=\"178.402344\" xlink:href=\"#DejaVuSans-118\"/>\r\n       <use x=\"237.582031\" xlink:href=\"#DejaVuSans-97\"/>\r\n       <use x=\"298.861328\" xlink:href=\"#DejaVuSans-108\"/>\r\n       <use x=\"326.644531\" xlink:href=\"#DejaVuSans-95\"/>\r\n       <use x=\"376.644531\" xlink:href=\"#DejaVuSans-97\"/>\r\n       <use x=\"437.923828\" xlink:href=\"#DejaVuSans-116\"/>\r\n       <use x=\"477.132812\" xlink:href=\"#DejaVuSans-95\"/>\r\n       <use x=\"527.132812\" xlink:href=\"#DejaVuSans-80\"/>\r\n       <use x=\"587.404297\" xlink:href=\"#DejaVuSans-105\"/>\r\n       <use x=\"615.1875\" xlink:href=\"#DejaVuSans-99\"/>\r\n       <use x=\"670.167969\" xlink:href=\"#DejaVuSans-107\"/>\r\n       <use x=\"728.03125\" xlink:href=\"#DejaVuSans-117\"/>\r\n       <use x=\"791.410156\" xlink:href=\"#DejaVuSans-112\"/>\r\n       <use x=\"854.886719\" xlink:href=\"#DejaVuSans-95\"/>\r\n       <use x=\"904.886719\" xlink:href=\"#DejaVuSans-84\"/>\r\n       <use x=\"965.923828\" xlink:href=\"#DejaVuSans-105\"/>\r\n       <use x=\"993.707031\" xlink:href=\"#DejaVuSans-109\"/>\r\n       <use x=\"1091.119141\" xlink:href=\"#DejaVuSans-101\"/>\r\n       <use x=\"1152.642578\" xlink:href=\"#DejaVuSans-95\"/>\r\n       <use x=\"1202.642578\" xlink:href=\"#DejaVuSans-77\"/>\r\n       <use x=\"1288.921875\" xlink:href=\"#DejaVuSans-111\"/>\r\n       <use x=\"1350.103516\" xlink:href=\"#DejaVuSans-114\"/>\r\n       <use x=\"1391.201172\" xlink:href=\"#DejaVuSans-110\"/>\r\n       <use x=\"1454.580078\" xlink:href=\"#DejaVuSans-105\"/>\r\n       <use x=\"1482.363281\" xlink:href=\"#DejaVuSans-110\"/>\r\n       <use x=\"1545.742188\" xlink:href=\"#DejaVuSans-103\"/>\r\n      </g>\r\n     </g>\r\n    </g>\r\n    <g id=\"xtick_23\">\r\n     <g id=\"line2d_23\">\r\n      <g>\r\n       <use style=\"stroke:#000000;stroke-width:0.8;\" x=\"735.58065\" xlink:href=\"#m5507f63f69\" y=\"928.393125\"/>\r\n      </g>\r\n     </g>\r\n     <g id=\"text_23\">\r\n      <!-- Arrival_at_Pickup_Time_Night -->\r\n      <g transform=\"translate(647.530451 1026.530157)rotate(-45)scale(0.0833 -0.0833)\">\r\n       <use xlink:href=\"#DejaVuSans-65\"/>\r\n       <use x=\"68.408203\" xlink:href=\"#DejaVuSans-114\"/>\r\n       <use x=\"109.505859\" xlink:href=\"#DejaVuSans-114\"/>\r\n       <use x=\"150.619141\" xlink:href=\"#DejaVuSans-105\"/>\r\n       <use x=\"178.402344\" xlink:href=\"#DejaVuSans-118\"/>\r\n       <use x=\"237.582031\" xlink:href=\"#DejaVuSans-97\"/>\r\n       <use x=\"298.861328\" xlink:href=\"#DejaVuSans-108\"/>\r\n       <use x=\"326.644531\" xlink:href=\"#DejaVuSans-95\"/>\r\n       <use x=\"376.644531\" xlink:href=\"#DejaVuSans-97\"/>\r\n       <use x=\"437.923828\" xlink:href=\"#DejaVuSans-116\"/>\r\n       <use x=\"477.132812\" xlink:href=\"#DejaVuSans-95\"/>\r\n       <use x=\"527.132812\" xlink:href=\"#DejaVuSans-80\"/>\r\n       <use x=\"587.404297\" xlink:href=\"#DejaVuSans-105\"/>\r\n       <use x=\"615.1875\" xlink:href=\"#DejaVuSans-99\"/>\r\n       <use x=\"670.167969\" xlink:href=\"#DejaVuSans-107\"/>\r\n       <use x=\"728.03125\" xlink:href=\"#DejaVuSans-117\"/>\r\n       <use x=\"791.410156\" xlink:href=\"#DejaVuSans-112\"/>\r\n       <use x=\"854.886719\" xlink:href=\"#DejaVuSans-95\"/>\r\n       <use x=\"904.886719\" xlink:href=\"#DejaVuSans-84\"/>\r\n       <use x=\"965.923828\" xlink:href=\"#DejaVuSans-105\"/>\r\n       <use x=\"993.707031\" xlink:href=\"#DejaVuSans-109\"/>\r\n       <use x=\"1091.119141\" xlink:href=\"#DejaVuSans-101\"/>\r\n       <use x=\"1152.642578\" xlink:href=\"#DejaVuSans-95\"/>\r\n       <use x=\"1202.642578\" xlink:href=\"#DejaVuSans-78\"/>\r\n       <use x=\"1277.447266\" xlink:href=\"#DejaVuSans-105\"/>\r\n       <use x=\"1305.230469\" xlink:href=\"#DejaVuSans-103\"/>\r\n       <use x=\"1368.707031\" xlink:href=\"#DejaVuSans-104\"/>\r\n       <use x=\"1432.085938\" xlink:href=\"#DejaVuSans-116\"/>\r\n      </g>\r\n     </g>\r\n    </g>\r\n    <g id=\"xtick_24\">\r\n     <g id=\"line2d_24\">\r\n      <g>\r\n       <use style=\"stroke:#000000;stroke-width:0.8;\" x=\"760.7494\" xlink:href=\"#m5507f63f69\" y=\"928.393125\"/>\r\n      </g>\r\n     </g>\r\n     <g id=\"text_24\">\r\n      <!-- Confirmation_Time_EarlyMorning -->\r\n      <g transform=\"translate(661.843747 1037.38561)rotate(-45)scale(0.0833 -0.0833)\">\r\n       <use xlink:href=\"#DejaVuSans-67\"/>\r\n       <use x=\"69.824219\" xlink:href=\"#DejaVuSans-111\"/>\r\n       <use x=\"131.005859\" xlink:href=\"#DejaVuSans-110\"/>\r\n       <use x=\"194.384766\" xlink:href=\"#DejaVuSans-102\"/>\r\n       <use x=\"229.589844\" xlink:href=\"#DejaVuSans-105\"/>\r\n       <use x=\"257.373047\" xlink:href=\"#DejaVuSans-114\"/>\r\n       <use x=\"298.470703\" xlink:href=\"#DejaVuSans-109\"/>\r\n       <use x=\"395.882812\" xlink:href=\"#DejaVuSans-97\"/>\r\n       <use x=\"457.162109\" xlink:href=\"#DejaVuSans-116\"/>\r\n       <use x=\"496.371094\" xlink:href=\"#DejaVuSans-105\"/>\r\n       <use x=\"524.154297\" xlink:href=\"#DejaVuSans-111\"/>\r\n       <use x=\"585.335938\" xlink:href=\"#DejaVuSans-110\"/>\r\n       <use x=\"648.714844\" xlink:href=\"#DejaVuSans-95\"/>\r\n       <use x=\"698.714844\" xlink:href=\"#DejaVuSans-84\"/>\r\n       <use x=\"759.751953\" xlink:href=\"#DejaVuSans-105\"/>\r\n       <use x=\"787.535156\" xlink:href=\"#DejaVuSans-109\"/>\r\n       <use x=\"884.947266\" xlink:href=\"#DejaVuSans-101\"/>\r\n       <use x=\"946.470703\" xlink:href=\"#DejaVuSans-95\"/>\r\n       <use x=\"996.470703\" xlink:href=\"#DejaVuSans-69\"/>\r\n       <use x=\"1059.654297\" xlink:href=\"#DejaVuSans-97\"/>\r\n       <use x=\"1120.933594\" xlink:href=\"#DejaVuSans-114\"/>\r\n       <use x=\"1162.046875\" xlink:href=\"#DejaVuSans-108\"/>\r\n       <use x=\"1189.830078\" xlink:href=\"#DejaVuSans-121\"/>\r\n       <use x=\"1249.009766\" xlink:href=\"#DejaVuSans-77\"/>\r\n       <use x=\"1335.289062\" xlink:href=\"#DejaVuSans-111\"/>\r\n       <use x=\"1396.470703\" xlink:href=\"#DejaVuSans-114\"/>\r\n       <use x=\"1437.568359\" xlink:href=\"#DejaVuSans-110\"/>\r\n       <use x=\"1500.947266\" xlink:href=\"#DejaVuSans-105\"/>\r\n       <use x=\"1528.730469\" xlink:href=\"#DejaVuSans-110\"/>\r\n       <use x=\"1592.109375\" xlink:href=\"#DejaVuSans-103\"/>\r\n      </g>\r\n     </g>\r\n    </g>\r\n    <g id=\"xtick_25\">\r\n     <g id=\"line2d_25\">\r\n      <g>\r\n       <use style=\"stroke:#000000;stroke-width:0.8;\" x=\"785.91815\" xlink:href=\"#m5507f63f69\" y=\"928.393125\"/>\r\n      </g>\r\n     </g>\r\n     <g id=\"text_25\">\r\n      <!-- Confirmation_Time_Evening -->\r\n      <g transform=\"translate(702.162274 1022.235833)rotate(-45)scale(0.0833 -0.0833)\">\r\n       <use xlink:href=\"#DejaVuSans-67\"/>\r\n       <use x=\"69.824219\" xlink:href=\"#DejaVuSans-111\"/>\r\n       <use x=\"131.005859\" xlink:href=\"#DejaVuSans-110\"/>\r\n       <use x=\"194.384766\" xlink:href=\"#DejaVuSans-102\"/>\r\n       <use x=\"229.589844\" xlink:href=\"#DejaVuSans-105\"/>\r\n       <use x=\"257.373047\" xlink:href=\"#DejaVuSans-114\"/>\r\n       <use x=\"298.470703\" xlink:href=\"#DejaVuSans-109\"/>\r\n       <use x=\"395.882812\" xlink:href=\"#DejaVuSans-97\"/>\r\n       <use x=\"457.162109\" xlink:href=\"#DejaVuSans-116\"/>\r\n       <use x=\"496.371094\" xlink:href=\"#DejaVuSans-105\"/>\r\n       <use x=\"524.154297\" xlink:href=\"#DejaVuSans-111\"/>\r\n       <use x=\"585.335938\" xlink:href=\"#DejaVuSans-110\"/>\r\n       <use x=\"648.714844\" xlink:href=\"#DejaVuSans-95\"/>\r\n       <use x=\"698.714844\" xlink:href=\"#DejaVuSans-84\"/>\r\n       <use x=\"759.751953\" xlink:href=\"#DejaVuSans-105\"/>\r\n       <use x=\"787.535156\" xlink:href=\"#DejaVuSans-109\"/>\r\n       <use x=\"884.947266\" xlink:href=\"#DejaVuSans-101\"/>\r\n       <use x=\"946.470703\" xlink:href=\"#DejaVuSans-95\"/>\r\n       <use x=\"996.470703\" xlink:href=\"#DejaVuSans-69\"/>\r\n       <use x=\"1059.654297\" xlink:href=\"#DejaVuSans-118\"/>\r\n       <use x=\"1118.833984\" xlink:href=\"#DejaVuSans-101\"/>\r\n       <use x=\"1180.357422\" xlink:href=\"#DejaVuSans-110\"/>\r\n       <use x=\"1243.736328\" xlink:href=\"#DejaVuSans-105\"/>\r\n       <use x=\"1271.519531\" xlink:href=\"#DejaVuSans-110\"/>\r\n       <use x=\"1334.898438\" xlink:href=\"#DejaVuSans-103\"/>\r\n      </g>\r\n     </g>\r\n    </g>\r\n    <g id=\"xtick_26\">\r\n     <g id=\"line2d_26\">\r\n      <g>\r\n       <use style=\"stroke:#000000;stroke-width:0.8;\" x=\"811.0869\" xlink:href=\"#m5507f63f69\" y=\"928.393125\"/>\r\n      </g>\r\n     </g>\r\n     <g id=\"text_26\">\r\n      <!-- Confirmation_Time_Morning -->\r\n      <g transform=\"translate(727.056762 1022.510096)rotate(-45)scale(0.0833 -0.0833)\">\r\n       <use xlink:href=\"#DejaVuSans-67\"/>\r\n       <use x=\"69.824219\" xlink:href=\"#DejaVuSans-111\"/>\r\n       <use x=\"131.005859\" xlink:href=\"#DejaVuSans-110\"/>\r\n       <use x=\"194.384766\" xlink:href=\"#DejaVuSans-102\"/>\r\n       <use x=\"229.589844\" xlink:href=\"#DejaVuSans-105\"/>\r\n       <use x=\"257.373047\" xlink:href=\"#DejaVuSans-114\"/>\r\n       <use x=\"298.470703\" xlink:href=\"#DejaVuSans-109\"/>\r\n       <use x=\"395.882812\" xlink:href=\"#DejaVuSans-97\"/>\r\n       <use x=\"457.162109\" xlink:href=\"#DejaVuSans-116\"/>\r\n       <use x=\"496.371094\" xlink:href=\"#DejaVuSans-105\"/>\r\n       <use x=\"524.154297\" xlink:href=\"#DejaVuSans-111\"/>\r\n       <use x=\"585.335938\" xlink:href=\"#DejaVuSans-110\"/>\r\n       <use x=\"648.714844\" xlink:href=\"#DejaVuSans-95\"/>\r\n       <use x=\"698.714844\" xlink:href=\"#DejaVuSans-84\"/>\r\n       <use x=\"759.751953\" xlink:href=\"#DejaVuSans-105\"/>\r\n       <use x=\"787.535156\" xlink:href=\"#DejaVuSans-109\"/>\r\n       <use x=\"884.947266\" xlink:href=\"#DejaVuSans-101\"/>\r\n       <use x=\"946.470703\" xlink:href=\"#DejaVuSans-95\"/>\r\n       <use x=\"996.470703\" xlink:href=\"#DejaVuSans-77\"/>\r\n       <use x=\"1082.75\" xlink:href=\"#DejaVuSans-111\"/>\r\n       <use x=\"1143.931641\" xlink:href=\"#DejaVuSans-114\"/>\r\n       <use x=\"1185.029297\" xlink:href=\"#DejaVuSans-110\"/>\r\n       <use x=\"1248.408203\" xlink:href=\"#DejaVuSans-105\"/>\r\n       <use x=\"1276.191406\" xlink:href=\"#DejaVuSans-110\"/>\r\n       <use x=\"1339.570312\" xlink:href=\"#DejaVuSans-103\"/>\r\n      </g>\r\n     </g>\r\n    </g>\r\n    <g id=\"xtick_27\">\r\n     <g id=\"line2d_27\">\r\n      <g>\r\n       <use style=\"stroke:#000000;stroke-width:0.8;\" x=\"836.25565\" xlink:href=\"#m5507f63f69\" y=\"928.393125\"/>\r\n      </g>\r\n     </g>\r\n     <g id=\"text_27\">\r\n      <!-- Confirmation_Time_Night -->\r\n      <g transform=\"translate(760.349385 1014.386222)rotate(-45)scale(0.0833 -0.0833)\">\r\n       <use xlink:href=\"#DejaVuSans-67\"/>\r\n       <use x=\"69.824219\" xlink:href=\"#DejaVuSans-111\"/>\r\n       <use x=\"131.005859\" xlink:href=\"#DejaVuSans-110\"/>\r\n       <use x=\"194.384766\" xlink:href=\"#DejaVuSans-102\"/>\r\n       <use x=\"229.589844\" xlink:href=\"#DejaVuSans-105\"/>\r\n       <use x=\"257.373047\" xlink:href=\"#DejaVuSans-114\"/>\r\n       <use x=\"298.470703\" xlink:href=\"#DejaVuSans-109\"/>\r\n       <use x=\"395.882812\" xlink:href=\"#DejaVuSans-97\"/>\r\n       <use x=\"457.162109\" xlink:href=\"#DejaVuSans-116\"/>\r\n       <use x=\"496.371094\" xlink:href=\"#DejaVuSans-105\"/>\r\n       <use x=\"524.154297\" xlink:href=\"#DejaVuSans-111\"/>\r\n       <use x=\"585.335938\" xlink:href=\"#DejaVuSans-110\"/>\r\n       <use x=\"648.714844\" xlink:href=\"#DejaVuSans-95\"/>\r\n       <use x=\"698.714844\" xlink:href=\"#DejaVuSans-84\"/>\r\n       <use x=\"759.751953\" xlink:href=\"#DejaVuSans-105\"/>\r\n       <use x=\"787.535156\" xlink:href=\"#DejaVuSans-109\"/>\r\n       <use x=\"884.947266\" xlink:href=\"#DejaVuSans-101\"/>\r\n       <use x=\"946.470703\" xlink:href=\"#DejaVuSans-95\"/>\r\n       <use x=\"996.470703\" xlink:href=\"#DejaVuSans-78\"/>\r\n       <use x=\"1071.275391\" xlink:href=\"#DejaVuSans-105\"/>\r\n       <use x=\"1099.058594\" xlink:href=\"#DejaVuSans-103\"/>\r\n       <use x=\"1162.535156\" xlink:href=\"#DejaVuSans-104\"/>\r\n       <use x=\"1225.914062\" xlink:href=\"#DejaVuSans-116\"/>\r\n      </g>\r\n     </g>\r\n    </g>\r\n    <g id=\"xtick_28\">\r\n     <g id=\"line2d_28\">\r\n      <g>\r\n       <use style=\"stroke:#000000;stroke-width:0.8;\" x=\"861.4244\" xlink:href=\"#m5507f63f69\" y=\"928.393125\"/>\r\n      </g>\r\n     </g>\r\n     <g id=\"text_28\">\r\n      <!-- Placement_Time_EarlyMorning -->\r\n      <g transform=\"translate(769.664295 1030.240062)rotate(-45)scale(0.0833 -0.0833)\">\r\n       <use xlink:href=\"#DejaVuSans-80\"/>\r\n       <use x=\"60.302734\" xlink:href=\"#DejaVuSans-108\"/>\r\n       <use x=\"88.085938\" xlink:href=\"#DejaVuSans-97\"/>\r\n       <use x=\"149.365234\" xlink:href=\"#DejaVuSans-99\"/>\r\n       <use x=\"204.345703\" xlink:href=\"#DejaVuSans-101\"/>\r\n       <use x=\"265.869141\" xlink:href=\"#DejaVuSans-109\"/>\r\n       <use x=\"363.28125\" xlink:href=\"#DejaVuSans-101\"/>\r\n       <use x=\"424.804688\" xlink:href=\"#DejaVuSans-110\"/>\r\n       <use x=\"488.183594\" xlink:href=\"#DejaVuSans-116\"/>\r\n       <use x=\"527.392578\" xlink:href=\"#DejaVuSans-95\"/>\r\n       <use x=\"577.392578\" xlink:href=\"#DejaVuSans-84\"/>\r\n       <use x=\"638.429688\" xlink:href=\"#DejaVuSans-105\"/>\r\n       <use x=\"666.212891\" xlink:href=\"#DejaVuSans-109\"/>\r\n       <use x=\"763.625\" xlink:href=\"#DejaVuSans-101\"/>\r\n       <use x=\"825.148438\" xlink:href=\"#DejaVuSans-95\"/>\r\n       <use x=\"875.148438\" xlink:href=\"#DejaVuSans-69\"/>\r\n       <use x=\"938.332031\" xlink:href=\"#DejaVuSans-97\"/>\r\n       <use x=\"999.611328\" xlink:href=\"#DejaVuSans-114\"/>\r\n       <use x=\"1040.724609\" xlink:href=\"#DejaVuSans-108\"/>\r\n       <use x=\"1068.507812\" xlink:href=\"#DejaVuSans-121\"/>\r\n       <use x=\"1127.6875\" xlink:href=\"#DejaVuSans-77\"/>\r\n       <use x=\"1213.966797\" xlink:href=\"#DejaVuSans-111\"/>\r\n       <use x=\"1275.148438\" xlink:href=\"#DejaVuSans-114\"/>\r\n       <use x=\"1316.246094\" xlink:href=\"#DejaVuSans-110\"/>\r\n       <use x=\"1379.625\" xlink:href=\"#DejaVuSans-105\"/>\r\n       <use x=\"1407.408203\" xlink:href=\"#DejaVuSans-110\"/>\r\n       <use x=\"1470.787109\" xlink:href=\"#DejaVuSans-103\"/>\r\n      </g>\r\n     </g>\r\n    </g>\r\n    <g id=\"xtick_29\">\r\n     <g id=\"line2d_29\">\r\n      <g>\r\n       <use style=\"stroke:#000000;stroke-width:0.8;\" x=\"886.59315\" xlink:href=\"#m5507f63f69\" y=\"928.393125\"/>\r\n      </g>\r\n     </g>\r\n     <g id=\"text_29\">\r\n      <!-- Placement_Time_Evening -->\r\n      <g transform=\"translate(809.982823 1015.090285)rotate(-45)scale(0.0833 -0.0833)\">\r\n       <use xlink:href=\"#DejaVuSans-80\"/>\r\n       <use x=\"60.302734\" xlink:href=\"#DejaVuSans-108\"/>\r\n       <use x=\"88.085938\" xlink:href=\"#DejaVuSans-97\"/>\r\n       <use x=\"149.365234\" xlink:href=\"#DejaVuSans-99\"/>\r\n       <use x=\"204.345703\" xlink:href=\"#DejaVuSans-101\"/>\r\n       <use x=\"265.869141\" xlink:href=\"#DejaVuSans-109\"/>\r\n       <use x=\"363.28125\" xlink:href=\"#DejaVuSans-101\"/>\r\n       <use x=\"424.804688\" xlink:href=\"#DejaVuSans-110\"/>\r\n       <use x=\"488.183594\" xlink:href=\"#DejaVuSans-116\"/>\r\n       <use x=\"527.392578\" xlink:href=\"#DejaVuSans-95\"/>\r\n       <use x=\"577.392578\" xlink:href=\"#DejaVuSans-84\"/>\r\n       <use x=\"638.429688\" xlink:href=\"#DejaVuSans-105\"/>\r\n       <use x=\"666.212891\" xlink:href=\"#DejaVuSans-109\"/>\r\n       <use x=\"763.625\" xlink:href=\"#DejaVuSans-101\"/>\r\n       <use x=\"825.148438\" xlink:href=\"#DejaVuSans-95\"/>\r\n       <use x=\"875.148438\" xlink:href=\"#DejaVuSans-69\"/>\r\n       <use x=\"938.332031\" xlink:href=\"#DejaVuSans-118\"/>\r\n       <use x=\"997.511719\" xlink:href=\"#DejaVuSans-101\"/>\r\n       <use x=\"1059.035156\" xlink:href=\"#DejaVuSans-110\"/>\r\n       <use x=\"1122.414062\" xlink:href=\"#DejaVuSans-105\"/>\r\n       <use x=\"1150.197266\" xlink:href=\"#DejaVuSans-110\"/>\r\n       <use x=\"1213.576172\" xlink:href=\"#DejaVuSans-103\"/>\r\n      </g>\r\n     </g>\r\n    </g>\r\n    <g id=\"xtick_30\">\r\n     <g id=\"line2d_30\">\r\n      <g>\r\n       <use style=\"stroke:#000000;stroke-width:0.8;\" x=\"911.7619\" xlink:href=\"#m5507f63f69\" y=\"928.393125\"/>\r\n      </g>\r\n     </g>\r\n     <g id=\"text_30\">\r\n      <!-- Placement_Time_Morning -->\r\n      <g transform=\"translate(834.87731 1015.364548)rotate(-45)scale(0.0833 -0.0833)\">\r\n       <use xlink:href=\"#DejaVuSans-80\"/>\r\n       <use x=\"60.302734\" xlink:href=\"#DejaVuSans-108\"/>\r\n       <use x=\"88.085938\" xlink:href=\"#DejaVuSans-97\"/>\r\n       <use x=\"149.365234\" xlink:href=\"#DejaVuSans-99\"/>\r\n       <use x=\"204.345703\" xlink:href=\"#DejaVuSans-101\"/>\r\n       <use x=\"265.869141\" xlink:href=\"#DejaVuSans-109\"/>\r\n       <use x=\"363.28125\" xlink:href=\"#DejaVuSans-101\"/>\r\n       <use x=\"424.804688\" xlink:href=\"#DejaVuSans-110\"/>\r\n       <use x=\"488.183594\" xlink:href=\"#DejaVuSans-116\"/>\r\n       <use x=\"527.392578\" xlink:href=\"#DejaVuSans-95\"/>\r\n       <use x=\"577.392578\" xlink:href=\"#DejaVuSans-84\"/>\r\n       <use x=\"638.429688\" xlink:href=\"#DejaVuSans-105\"/>\r\n       <use x=\"666.212891\" xlink:href=\"#DejaVuSans-109\"/>\r\n       <use x=\"763.625\" xlink:href=\"#DejaVuSans-101\"/>\r\n       <use x=\"825.148438\" xlink:href=\"#DejaVuSans-95\"/>\r\n       <use x=\"875.148438\" xlink:href=\"#DejaVuSans-77\"/>\r\n       <use x=\"961.427734\" xlink:href=\"#DejaVuSans-111\"/>\r\n       <use x=\"1022.609375\" xlink:href=\"#DejaVuSans-114\"/>\r\n       <use x=\"1063.707031\" xlink:href=\"#DejaVuSans-110\"/>\r\n       <use x=\"1127.085938\" xlink:href=\"#DejaVuSans-105\"/>\r\n       <use x=\"1154.869141\" xlink:href=\"#DejaVuSans-110\"/>\r\n       <use x=\"1218.248047\" xlink:href=\"#DejaVuSans-103\"/>\r\n      </g>\r\n     </g>\r\n    </g>\r\n    <g id=\"xtick_31\">\r\n     <g id=\"line2d_31\">\r\n      <g>\r\n       <use style=\"stroke:#000000;stroke-width:0.8;\" x=\"936.93065\" xlink:href=\"#m5507f63f69\" y=\"928.393125\"/>\r\n      </g>\r\n     </g>\r\n     <g id=\"text_31\">\r\n      <!-- Placement_Time_Night -->\r\n      <g transform=\"translate(868.169934 1007.240674)rotate(-45)scale(0.0833 -0.0833)\">\r\n       <use xlink:href=\"#DejaVuSans-80\"/>\r\n       <use x=\"60.302734\" xlink:href=\"#DejaVuSans-108\"/>\r\n       <use x=\"88.085938\" xlink:href=\"#DejaVuSans-97\"/>\r\n       <use x=\"149.365234\" xlink:href=\"#DejaVuSans-99\"/>\r\n       <use x=\"204.345703\" xlink:href=\"#DejaVuSans-101\"/>\r\n       <use x=\"265.869141\" xlink:href=\"#DejaVuSans-109\"/>\r\n       <use x=\"363.28125\" xlink:href=\"#DejaVuSans-101\"/>\r\n       <use x=\"424.804688\" xlink:href=\"#DejaVuSans-110\"/>\r\n       <use x=\"488.183594\" xlink:href=\"#DejaVuSans-116\"/>\r\n       <use x=\"527.392578\" xlink:href=\"#DejaVuSans-95\"/>\r\n       <use x=\"577.392578\" xlink:href=\"#DejaVuSans-84\"/>\r\n       <use x=\"638.429688\" xlink:href=\"#DejaVuSans-105\"/>\r\n       <use x=\"666.212891\" xlink:href=\"#DejaVuSans-109\"/>\r\n       <use x=\"763.625\" xlink:href=\"#DejaVuSans-101\"/>\r\n       <use x=\"825.148438\" xlink:href=\"#DejaVuSans-95\"/>\r\n       <use x=\"875.148438\" xlink:href=\"#DejaVuSans-78\"/>\r\n       <use x=\"949.953125\" xlink:href=\"#DejaVuSans-105\"/>\r\n       <use x=\"977.736328\" xlink:href=\"#DejaVuSans-103\"/>\r\n       <use x=\"1041.212891\" xlink:href=\"#DejaVuSans-104\"/>\r\n       <use x=\"1104.591797\" xlink:href=\"#DejaVuSans-116\"/>\r\n      </g>\r\n     </g>\r\n    </g>\r\n    <g id=\"xtick_32\">\r\n     <g id=\"line2d_32\">\r\n      <g>\r\n       <use style=\"stroke:#000000;stroke-width:0.8;\" x=\"962.0994\" xlink:href=\"#m5507f63f69\" y=\"928.393125\"/>\r\n      </g>\r\n     </g>\r\n     <g id=\"text_32\">\r\n      <!-- Pickup_Time_EarlyMorning -->\r\n      <g transform=\"translate(882.098526 1018.480831)rotate(-45)scale(0.0833 -0.0833)\">\r\n       <use xlink:href=\"#DejaVuSans-80\"/>\r\n       <use x=\"60.271484\" xlink:href=\"#DejaVuSans-105\"/>\r\n       <use x=\"88.054688\" xlink:href=\"#DejaVuSans-99\"/>\r\n       <use x=\"143.035156\" xlink:href=\"#DejaVuSans-107\"/>\r\n       <use x=\"200.898438\" xlink:href=\"#DejaVuSans-117\"/>\r\n       <use x=\"264.277344\" xlink:href=\"#DejaVuSans-112\"/>\r\n       <use x=\"327.753906\" xlink:href=\"#DejaVuSans-95\"/>\r\n       <use x=\"377.753906\" xlink:href=\"#DejaVuSans-84\"/>\r\n       <use x=\"438.791016\" xlink:href=\"#DejaVuSans-105\"/>\r\n       <use x=\"466.574219\" xlink:href=\"#DejaVuSans-109\"/>\r\n       <use x=\"563.986328\" xlink:href=\"#DejaVuSans-101\"/>\r\n       <use x=\"625.509766\" xlink:href=\"#DejaVuSans-95\"/>\r\n       <use x=\"675.509766\" xlink:href=\"#DejaVuSans-69\"/>\r\n       <use x=\"738.693359\" xlink:href=\"#DejaVuSans-97\"/>\r\n       <use x=\"799.972656\" xlink:href=\"#DejaVuSans-114\"/>\r\n       <use x=\"841.085938\" xlink:href=\"#DejaVuSans-108\"/>\r\n       <use x=\"868.869141\" xlink:href=\"#DejaVuSans-121\"/>\r\n       <use x=\"928.048828\" xlink:href=\"#DejaVuSans-77\"/>\r\n       <use x=\"1014.328125\" xlink:href=\"#DejaVuSans-111\"/>\r\n       <use x=\"1075.509766\" xlink:href=\"#DejaVuSans-114\"/>\r\n       <use x=\"1116.607422\" xlink:href=\"#DejaVuSans-110\"/>\r\n       <use x=\"1179.986328\" xlink:href=\"#DejaVuSans-105\"/>\r\n       <use x=\"1207.769531\" xlink:href=\"#DejaVuSans-110\"/>\r\n       <use x=\"1271.148438\" xlink:href=\"#DejaVuSans-103\"/>\r\n      </g>\r\n     </g>\r\n    </g>\r\n    <g id=\"xtick_33\">\r\n     <g id=\"line2d_33\">\r\n      <g>\r\n       <use style=\"stroke:#000000;stroke-width:0.8;\" x=\"987.26815\" xlink:href=\"#m5507f63f69\" y=\"928.393125\"/>\r\n      </g>\r\n     </g>\r\n     <g id=\"text_33\">\r\n      <!-- Pickup_Time_Evening -->\r\n      <g transform=\"translate(922.417054 1003.331054)rotate(-45)scale(0.0833 -0.0833)\">\r\n       <use xlink:href=\"#DejaVuSans-80\"/>\r\n       <use x=\"60.271484\" xlink:href=\"#DejaVuSans-105\"/>\r\n       <use x=\"88.054688\" xlink:href=\"#DejaVuSans-99\"/>\r\n       <use x=\"143.035156\" xlink:href=\"#DejaVuSans-107\"/>\r\n       <use x=\"200.898438\" xlink:href=\"#DejaVuSans-117\"/>\r\n       <use x=\"264.277344\" xlink:href=\"#DejaVuSans-112\"/>\r\n       <use x=\"327.753906\" xlink:href=\"#DejaVuSans-95\"/>\r\n       <use x=\"377.753906\" xlink:href=\"#DejaVuSans-84\"/>\r\n       <use x=\"438.791016\" xlink:href=\"#DejaVuSans-105\"/>\r\n       <use x=\"466.574219\" xlink:href=\"#DejaVuSans-109\"/>\r\n       <use x=\"563.986328\" xlink:href=\"#DejaVuSans-101\"/>\r\n       <use x=\"625.509766\" xlink:href=\"#DejaVuSans-95\"/>\r\n       <use x=\"675.509766\" xlink:href=\"#DejaVuSans-69\"/>\r\n       <use x=\"738.693359\" xlink:href=\"#DejaVuSans-118\"/>\r\n       <use x=\"797.873047\" xlink:href=\"#DejaVuSans-101\"/>\r\n       <use x=\"859.396484\" xlink:href=\"#DejaVuSans-110\"/>\r\n       <use x=\"922.775391\" xlink:href=\"#DejaVuSans-105\"/>\r\n       <use x=\"950.558594\" xlink:href=\"#DejaVuSans-110\"/>\r\n       <use x=\"1013.9375\" xlink:href=\"#DejaVuSans-103\"/>\r\n      </g>\r\n     </g>\r\n    </g>\r\n    <g id=\"xtick_34\">\r\n     <g id=\"line2d_34\">\r\n      <g>\r\n       <use style=\"stroke:#000000;stroke-width:0.8;\" x=\"1012.4369\" xlink:href=\"#m5507f63f69\" y=\"928.393125\"/>\r\n      </g>\r\n     </g>\r\n     <g id=\"text_34\">\r\n      <!-- Pickup_Time_Morning -->\r\n      <g transform=\"translate(947.311541 1003.605316)rotate(-45)scale(0.0833 -0.0833)\">\r\n       <use xlink:href=\"#DejaVuSans-80\"/>\r\n       <use x=\"60.271484\" xlink:href=\"#DejaVuSans-105\"/>\r\n       <use x=\"88.054688\" xlink:href=\"#DejaVuSans-99\"/>\r\n       <use x=\"143.035156\" xlink:href=\"#DejaVuSans-107\"/>\r\n       <use x=\"200.898438\" xlink:href=\"#DejaVuSans-117\"/>\r\n       <use x=\"264.277344\" xlink:href=\"#DejaVuSans-112\"/>\r\n       <use x=\"327.753906\" xlink:href=\"#DejaVuSans-95\"/>\r\n       <use x=\"377.753906\" xlink:href=\"#DejaVuSans-84\"/>\r\n       <use x=\"438.791016\" xlink:href=\"#DejaVuSans-105\"/>\r\n       <use x=\"466.574219\" xlink:href=\"#DejaVuSans-109\"/>\r\n       <use x=\"563.986328\" xlink:href=\"#DejaVuSans-101\"/>\r\n       <use x=\"625.509766\" xlink:href=\"#DejaVuSans-95\"/>\r\n       <use x=\"675.509766\" xlink:href=\"#DejaVuSans-77\"/>\r\n       <use x=\"761.789062\" xlink:href=\"#DejaVuSans-111\"/>\r\n       <use x=\"822.970703\" xlink:href=\"#DejaVuSans-114\"/>\r\n       <use x=\"864.068359\" xlink:href=\"#DejaVuSans-110\"/>\r\n       <use x=\"927.447266\" xlink:href=\"#DejaVuSans-105\"/>\r\n       <use x=\"955.230469\" xlink:href=\"#DejaVuSans-110\"/>\r\n       <use x=\"1018.609375\" xlink:href=\"#DejaVuSans-103\"/>\r\n      </g>\r\n     </g>\r\n    </g>\r\n    <g id=\"xtick_35\">\r\n     <g id=\"line2d_35\">\r\n      <g>\r\n       <use style=\"stroke:#000000;stroke-width:0.8;\" x=\"1037.60565\" xlink:href=\"#m5507f63f69\" y=\"928.393125\"/>\r\n      </g>\r\n     </g>\r\n     <g id=\"text_35\">\r\n      <!-- Pickup_Time_Night -->\r\n      <g transform=\"translate(980.604165 995.481443)rotate(-45)scale(0.0833 -0.0833)\">\r\n       <use xlink:href=\"#DejaVuSans-80\"/>\r\n       <use x=\"60.271484\" xlink:href=\"#DejaVuSans-105\"/>\r\n       <use x=\"88.054688\" xlink:href=\"#DejaVuSans-99\"/>\r\n       <use x=\"143.035156\" xlink:href=\"#DejaVuSans-107\"/>\r\n       <use x=\"200.898438\" xlink:href=\"#DejaVuSans-117\"/>\r\n       <use x=\"264.277344\" xlink:href=\"#DejaVuSans-112\"/>\r\n       <use x=\"327.753906\" xlink:href=\"#DejaVuSans-95\"/>\r\n       <use x=\"377.753906\" xlink:href=\"#DejaVuSans-84\"/>\r\n       <use x=\"438.791016\" xlink:href=\"#DejaVuSans-105\"/>\r\n       <use x=\"466.574219\" xlink:href=\"#DejaVuSans-109\"/>\r\n       <use x=\"563.986328\" xlink:href=\"#DejaVuSans-101\"/>\r\n       <use x=\"625.509766\" xlink:href=\"#DejaVuSans-95\"/>\r\n       <use x=\"675.509766\" xlink:href=\"#DejaVuSans-78\"/>\r\n       <use x=\"750.314453\" xlink:href=\"#DejaVuSans-105\"/>\r\n       <use x=\"778.097656\" xlink:href=\"#DejaVuSans-103\"/>\r\n       <use x=\"841.574219\" xlink:href=\"#DejaVuSans-104\"/>\r\n       <use x=\"904.953125\" xlink:href=\"#DejaVuSans-116\"/>\r\n      </g>\r\n     </g>\r\n    </g>\r\n    <g id=\"xtick_36\">\r\n     <g id=\"line2d_36\">\r\n      <g>\r\n       <use style=\"stroke:#000000;stroke-width:0.8;\" x=\"1062.7744\" xlink:href=\"#m5507f63f69\" y=\"928.393125\"/>\r\n      </g>\r\n     </g>\r\n     <g id=\"text_36\">\r\n      <!-- Time_from_Pickup_to_Arrival -->\r\n      <g transform=\"translate(976.719506 1024.534852)rotate(-45)scale(0.0833 -0.0833)\">\r\n       <use xlink:href=\"#DejaVuSans-84\"/>\r\n       <use x=\"61.037109\" xlink:href=\"#DejaVuSans-105\"/>\r\n       <use x=\"88.820312\" xlink:href=\"#DejaVuSans-109\"/>\r\n       <use x=\"186.232422\" xlink:href=\"#DejaVuSans-101\"/>\r\n       <use x=\"247.755859\" xlink:href=\"#DejaVuSans-95\"/>\r\n       <use x=\"297.755859\" xlink:href=\"#DejaVuSans-102\"/>\r\n       <use x=\"332.960938\" xlink:href=\"#DejaVuSans-114\"/>\r\n       <use x=\"374.042969\" xlink:href=\"#DejaVuSans-111\"/>\r\n       <use x=\"435.224609\" xlink:href=\"#DejaVuSans-109\"/>\r\n       <use x=\"532.636719\" xlink:href=\"#DejaVuSans-95\"/>\r\n       <use x=\"582.636719\" xlink:href=\"#DejaVuSans-80\"/>\r\n       <use x=\"642.908203\" xlink:href=\"#DejaVuSans-105\"/>\r\n       <use x=\"670.691406\" xlink:href=\"#DejaVuSans-99\"/>\r\n       <use x=\"725.671875\" xlink:href=\"#DejaVuSans-107\"/>\r\n       <use x=\"783.535156\" xlink:href=\"#DejaVuSans-117\"/>\r\n       <use x=\"846.914062\" xlink:href=\"#DejaVuSans-112\"/>\r\n       <use x=\"910.390625\" xlink:href=\"#DejaVuSans-95\"/>\r\n       <use x=\"960.390625\" xlink:href=\"#DejaVuSans-116\"/>\r\n       <use x=\"999.599609\" xlink:href=\"#DejaVuSans-111\"/>\r\n       <use x=\"1060.78125\" xlink:href=\"#DejaVuSans-95\"/>\r\n       <use x=\"1110.78125\" xlink:href=\"#DejaVuSans-65\"/>\r\n       <use x=\"1179.189453\" xlink:href=\"#DejaVuSans-114\"/>\r\n       <use x=\"1220.287109\" xlink:href=\"#DejaVuSans-114\"/>\r\n       <use x=\"1261.400391\" xlink:href=\"#DejaVuSans-105\"/>\r\n       <use x=\"1289.183594\" xlink:href=\"#DejaVuSans-118\"/>\r\n       <use x=\"1348.363281\" xlink:href=\"#DejaVuSans-97\"/>\r\n       <use x=\"1409.642578\" xlink:href=\"#DejaVuSans-108\"/>\r\n      </g>\r\n     </g>\r\n    </g>\r\n    <g id=\"xtick_37\">\r\n     <g id=\"line2d_37\">\r\n      <path clip-path=\"url(#pbf6cde50d7)\" d=\"M 194.452525 928.393125 \r\nL 194.452525 22.318125 \r\n\" style=\"fill:none;stroke:#ffffff;stroke-linecap:square;\"/>\r\n     </g>\r\n     <g id=\"line2d_38\"/>\r\n    </g>\r\n    <g id=\"xtick_38\">\r\n     <g id=\"line2d_39\">\r\n      <path clip-path=\"url(#pbf6cde50d7)\" d=\"M 219.621275 928.393125 \r\nL 219.621275 22.318125 \r\n\" style=\"fill:none;stroke:#ffffff;stroke-linecap:square;\"/>\r\n     </g>\r\n     <g id=\"line2d_40\"/>\r\n    </g>\r\n    <g id=\"xtick_39\">\r\n     <g id=\"line2d_41\">\r\n      <path clip-path=\"url(#pbf6cde50d7)\" d=\"M 244.790025 928.393125 \r\nL 244.790025 22.318125 \r\n\" style=\"fill:none;stroke:#ffffff;stroke-linecap:square;\"/>\r\n     </g>\r\n     <g id=\"line2d_42\"/>\r\n    </g>\r\n    <g id=\"xtick_40\">\r\n     <g id=\"line2d_43\">\r\n      <path clip-path=\"url(#pbf6cde50d7)\" d=\"M 269.958775 928.393125 \r\nL 269.958775 22.318125 \r\n\" style=\"fill:none;stroke:#ffffff;stroke-linecap:square;\"/>\r\n     </g>\r\n     <g id=\"line2d_44\"/>\r\n    </g>\r\n    <g id=\"xtick_41\">\r\n     <g id=\"line2d_45\">\r\n      <path clip-path=\"url(#pbf6cde50d7)\" d=\"M 295.127525 928.393125 \r\nL 295.127525 22.318125 \r\n\" style=\"fill:none;stroke:#ffffff;stroke-linecap:square;\"/>\r\n     </g>\r\n     <g id=\"line2d_46\"/>\r\n    </g>\r\n    <g id=\"xtick_42\">\r\n     <g id=\"line2d_47\">\r\n      <path clip-path=\"url(#pbf6cde50d7)\" d=\"M 320.296275 928.393125 \r\nL 320.296275 22.318125 \r\n\" style=\"fill:none;stroke:#ffffff;stroke-linecap:square;\"/>\r\n     </g>\r\n     <g id=\"line2d_48\"/>\r\n    </g>\r\n    <g id=\"xtick_43\">\r\n     <g id=\"line2d_49\">\r\n      <path clip-path=\"url(#pbf6cde50d7)\" d=\"M 345.465025 928.393125 \r\nL 345.465025 22.318125 \r\n\" style=\"fill:none;stroke:#ffffff;stroke-linecap:square;\"/>\r\n     </g>\r\n     <g id=\"line2d_50\"/>\r\n    </g>\r\n    <g id=\"xtick_44\">\r\n     <g id=\"line2d_51\">\r\n      <path clip-path=\"url(#pbf6cde50d7)\" d=\"M 370.633775 928.393125 \r\nL 370.633775 22.318125 \r\n\" style=\"fill:none;stroke:#ffffff;stroke-linecap:square;\"/>\r\n     </g>\r\n     <g id=\"line2d_52\"/>\r\n    </g>\r\n    <g id=\"xtick_45\">\r\n     <g id=\"line2d_53\">\r\n      <path clip-path=\"url(#pbf6cde50d7)\" d=\"M 395.802525 928.393125 \r\nL 395.802525 22.318125 \r\n\" style=\"fill:none;stroke:#ffffff;stroke-linecap:square;\"/>\r\n     </g>\r\n     <g id=\"line2d_54\"/>\r\n    </g>\r\n    <g id=\"xtick_46\">\r\n     <g id=\"line2d_55\">\r\n      <path clip-path=\"url(#pbf6cde50d7)\" d=\"M 420.971275 928.393125 \r\nL 420.971275 22.318125 \r\n\" style=\"fill:none;stroke:#ffffff;stroke-linecap:square;\"/>\r\n     </g>\r\n     <g id=\"line2d_56\"/>\r\n    </g>\r\n    <g id=\"xtick_47\">\r\n     <g id=\"line2d_57\">\r\n      <path clip-path=\"url(#pbf6cde50d7)\" d=\"M 446.140025 928.393125 \r\nL 446.140025 22.318125 \r\n\" style=\"fill:none;stroke:#ffffff;stroke-linecap:square;\"/>\r\n     </g>\r\n     <g id=\"line2d_58\"/>\r\n    </g>\r\n    <g id=\"xtick_48\">\r\n     <g id=\"line2d_59\">\r\n      <path clip-path=\"url(#pbf6cde50d7)\" d=\"M 471.308775 928.393125 \r\nL 471.308775 22.318125 \r\n\" style=\"fill:none;stroke:#ffffff;stroke-linecap:square;\"/>\r\n     </g>\r\n     <g id=\"line2d_60\"/>\r\n    </g>\r\n    <g id=\"xtick_49\">\r\n     <g id=\"line2d_61\">\r\n      <path clip-path=\"url(#pbf6cde50d7)\" d=\"M 496.477525 928.393125 \r\nL 496.477525 22.318125 \r\n\" style=\"fill:none;stroke:#ffffff;stroke-linecap:square;\"/>\r\n     </g>\r\n     <g id=\"line2d_62\"/>\r\n    </g>\r\n    <g id=\"xtick_50\">\r\n     <g id=\"line2d_63\">\r\n      <path clip-path=\"url(#pbf6cde50d7)\" d=\"M 521.646275 928.393125 \r\nL 521.646275 22.318125 \r\n\" style=\"fill:none;stroke:#ffffff;stroke-linecap:square;\"/>\r\n     </g>\r\n     <g id=\"line2d_64\"/>\r\n    </g>\r\n    <g id=\"xtick_51\">\r\n     <g id=\"line2d_65\">\r\n      <path clip-path=\"url(#pbf6cde50d7)\" d=\"M 546.815025 928.393125 \r\nL 546.815025 22.318125 \r\n\" style=\"fill:none;stroke:#ffffff;stroke-linecap:square;\"/>\r\n     </g>\r\n     <g id=\"line2d_66\"/>\r\n    </g>\r\n    <g id=\"xtick_52\">\r\n     <g id=\"line2d_67\">\r\n      <path clip-path=\"url(#pbf6cde50d7)\" d=\"M 571.983775 928.393125 \r\nL 571.983775 22.318125 \r\n\" style=\"fill:none;stroke:#ffffff;stroke-linecap:square;\"/>\r\n     </g>\r\n     <g id=\"line2d_68\"/>\r\n    </g>\r\n    <g id=\"xtick_53\">\r\n     <g id=\"line2d_69\">\r\n      <path clip-path=\"url(#pbf6cde50d7)\" d=\"M 597.152525 928.393125 \r\nL 597.152525 22.318125 \r\n\" style=\"fill:none;stroke:#ffffff;stroke-linecap:square;\"/>\r\n     </g>\r\n     <g id=\"line2d_70\"/>\r\n    </g>\r\n    <g id=\"xtick_54\">\r\n     <g id=\"line2d_71\">\r\n      <path clip-path=\"url(#pbf6cde50d7)\" d=\"M 622.321275 928.393125 \r\nL 622.321275 22.318125 \r\n\" style=\"fill:none;stroke:#ffffff;stroke-linecap:square;\"/>\r\n     </g>\r\n     <g id=\"line2d_72\"/>\r\n    </g>\r\n    <g id=\"xtick_55\">\r\n     <g id=\"line2d_73\">\r\n      <path clip-path=\"url(#pbf6cde50d7)\" d=\"M 647.490025 928.393125 \r\nL 647.490025 22.318125 \r\n\" style=\"fill:none;stroke:#ffffff;stroke-linecap:square;\"/>\r\n     </g>\r\n     <g id=\"line2d_74\"/>\r\n    </g>\r\n    <g id=\"xtick_56\">\r\n     <g id=\"line2d_75\">\r\n      <path clip-path=\"url(#pbf6cde50d7)\" d=\"M 672.658775 928.393125 \r\nL 672.658775 22.318125 \r\n\" style=\"fill:none;stroke:#ffffff;stroke-linecap:square;\"/>\r\n     </g>\r\n     <g id=\"line2d_76\"/>\r\n    </g>\r\n    <g id=\"xtick_57\">\r\n     <g id=\"line2d_77\">\r\n      <path clip-path=\"url(#pbf6cde50d7)\" d=\"M 697.827525 928.393125 \r\nL 697.827525 22.318125 \r\n\" style=\"fill:none;stroke:#ffffff;stroke-linecap:square;\"/>\r\n     </g>\r\n     <g id=\"line2d_78\"/>\r\n    </g>\r\n    <g id=\"xtick_58\">\r\n     <g id=\"line2d_79\">\r\n      <path clip-path=\"url(#pbf6cde50d7)\" d=\"M 722.996275 928.393125 \r\nL 722.996275 22.318125 \r\n\" style=\"fill:none;stroke:#ffffff;stroke-linecap:square;\"/>\r\n     </g>\r\n     <g id=\"line2d_80\"/>\r\n    </g>\r\n    <g id=\"xtick_59\">\r\n     <g id=\"line2d_81\">\r\n      <path clip-path=\"url(#pbf6cde50d7)\" d=\"M 748.165025 928.393125 \r\nL 748.165025 22.318125 \r\n\" style=\"fill:none;stroke:#ffffff;stroke-linecap:square;\"/>\r\n     </g>\r\n     <g id=\"line2d_82\"/>\r\n    </g>\r\n    <g id=\"xtick_60\">\r\n     <g id=\"line2d_83\">\r\n      <path clip-path=\"url(#pbf6cde50d7)\" d=\"M 773.333775 928.393125 \r\nL 773.333775 22.318125 \r\n\" style=\"fill:none;stroke:#ffffff;stroke-linecap:square;\"/>\r\n     </g>\r\n     <g id=\"line2d_84\"/>\r\n    </g>\r\n    <g id=\"xtick_61\">\r\n     <g id=\"line2d_85\">\r\n      <path clip-path=\"url(#pbf6cde50d7)\" d=\"M 798.502525 928.393125 \r\nL 798.502525 22.318125 \r\n\" style=\"fill:none;stroke:#ffffff;stroke-linecap:square;\"/>\r\n     </g>\r\n     <g id=\"line2d_86\"/>\r\n    </g>\r\n    <g id=\"xtick_62\">\r\n     <g id=\"line2d_87\">\r\n      <path clip-path=\"url(#pbf6cde50d7)\" d=\"M 823.671275 928.393125 \r\nL 823.671275 22.318125 \r\n\" style=\"fill:none;stroke:#ffffff;stroke-linecap:square;\"/>\r\n     </g>\r\n     <g id=\"line2d_88\"/>\r\n    </g>\r\n    <g id=\"xtick_63\">\r\n     <g id=\"line2d_89\">\r\n      <path clip-path=\"url(#pbf6cde50d7)\" d=\"M 848.840025 928.393125 \r\nL 848.840025 22.318125 \r\n\" style=\"fill:none;stroke:#ffffff;stroke-linecap:square;\"/>\r\n     </g>\r\n     <g id=\"line2d_90\"/>\r\n    </g>\r\n    <g id=\"xtick_64\">\r\n     <g id=\"line2d_91\">\r\n      <path clip-path=\"url(#pbf6cde50d7)\" d=\"M 874.008775 928.393125 \r\nL 874.008775 22.318125 \r\n\" style=\"fill:none;stroke:#ffffff;stroke-linecap:square;\"/>\r\n     </g>\r\n     <g id=\"line2d_92\"/>\r\n    </g>\r\n    <g id=\"xtick_65\">\r\n     <g id=\"line2d_93\">\r\n      <path clip-path=\"url(#pbf6cde50d7)\" d=\"M 899.177525 928.393125 \r\nL 899.177525 22.318125 \r\n\" style=\"fill:none;stroke:#ffffff;stroke-linecap:square;\"/>\r\n     </g>\r\n     <g id=\"line2d_94\"/>\r\n    </g>\r\n    <g id=\"xtick_66\">\r\n     <g id=\"line2d_95\">\r\n      <path clip-path=\"url(#pbf6cde50d7)\" d=\"M 924.346275 928.393125 \r\nL 924.346275 22.318125 \r\n\" style=\"fill:none;stroke:#ffffff;stroke-linecap:square;\"/>\r\n     </g>\r\n     <g id=\"line2d_96\"/>\r\n    </g>\r\n    <g id=\"xtick_67\">\r\n     <g id=\"line2d_97\">\r\n      <path clip-path=\"url(#pbf6cde50d7)\" d=\"M 949.515025 928.393125 \r\nL 949.515025 22.318125 \r\n\" style=\"fill:none;stroke:#ffffff;stroke-linecap:square;\"/>\r\n     </g>\r\n     <g id=\"line2d_98\"/>\r\n    </g>\r\n    <g id=\"xtick_68\">\r\n     <g id=\"line2d_99\">\r\n      <path clip-path=\"url(#pbf6cde50d7)\" d=\"M 974.683775 928.393125 \r\nL 974.683775 22.318125 \r\n\" style=\"fill:none;stroke:#ffffff;stroke-linecap:square;\"/>\r\n     </g>\r\n     <g id=\"line2d_100\"/>\r\n    </g>\r\n    <g id=\"xtick_69\">\r\n     <g id=\"line2d_101\">\r\n      <path clip-path=\"url(#pbf6cde50d7)\" d=\"M 999.852525 928.393125 \r\nL 999.852525 22.318125 \r\n\" style=\"fill:none;stroke:#ffffff;stroke-linecap:square;\"/>\r\n     </g>\r\n     <g id=\"line2d_102\"/>\r\n    </g>\r\n    <g id=\"xtick_70\">\r\n     <g id=\"line2d_103\">\r\n      <path clip-path=\"url(#pbf6cde50d7)\" d=\"M 1025.021275 928.393125 \r\nL 1025.021275 22.318125 \r\n\" style=\"fill:none;stroke:#ffffff;stroke-linecap:square;\"/>\r\n     </g>\r\n     <g id=\"line2d_104\"/>\r\n    </g>\r\n    <g id=\"xtick_71\">\r\n     <g id=\"line2d_105\">\r\n      <path clip-path=\"url(#pbf6cde50d7)\" d=\"M 1050.190025 928.393125 \r\nL 1050.190025 22.318125 \r\n\" style=\"fill:none;stroke:#ffffff;stroke-linecap:square;\"/>\r\n     </g>\r\n     <g id=\"line2d_106\"/>\r\n    </g>\r\n   </g>\r\n   <g id=\"matplotlib.axis_2\">\r\n    <g id=\"ytick_1\">\r\n     <g id=\"line2d_107\">\r\n      <defs>\r\n       <path d=\"M 0 0 \r\nL -3.5 0 \r\n\" id=\"md8f9de8fba\" style=\"stroke:#000000;stroke-width:0.8;\"/>\r\n      </defs>\r\n      <g>\r\n       <use style=\"stroke:#000000;stroke-width:0.8;\" x=\"169.283775\" xlink:href=\"#md8f9de8fba\" y=\"915.80875\"/>\r\n      </g>\r\n     </g>\r\n     <g id=\"text_37\">\r\n      <!-- Time_from_Pickup_to_Arrival -->\r\n      <g transform=\"translate(42.547834 918.973499)scale(0.0833 -0.0833)\">\r\n       <use xlink:href=\"#DejaVuSans-84\"/>\r\n       <use x=\"61.037109\" xlink:href=\"#DejaVuSans-105\"/>\r\n       <use x=\"88.820312\" xlink:href=\"#DejaVuSans-109\"/>\r\n       <use x=\"186.232422\" xlink:href=\"#DejaVuSans-101\"/>\r\n       <use x=\"247.755859\" xlink:href=\"#DejaVuSans-95\"/>\r\n       <use x=\"297.755859\" xlink:href=\"#DejaVuSans-102\"/>\r\n       <use x=\"332.960938\" xlink:href=\"#DejaVuSans-114\"/>\r\n       <use x=\"374.042969\" xlink:href=\"#DejaVuSans-111\"/>\r\n       <use x=\"435.224609\" xlink:href=\"#DejaVuSans-109\"/>\r\n       <use x=\"532.636719\" xlink:href=\"#DejaVuSans-95\"/>\r\n       <use x=\"582.636719\" xlink:href=\"#DejaVuSans-80\"/>\r\n       <use x=\"642.908203\" xlink:href=\"#DejaVuSans-105\"/>\r\n       <use x=\"670.691406\" xlink:href=\"#DejaVuSans-99\"/>\r\n       <use x=\"725.671875\" xlink:href=\"#DejaVuSans-107\"/>\r\n       <use x=\"783.535156\" xlink:href=\"#DejaVuSans-117\"/>\r\n       <use x=\"846.914062\" xlink:href=\"#DejaVuSans-112\"/>\r\n       <use x=\"910.390625\" xlink:href=\"#DejaVuSans-95\"/>\r\n       <use x=\"960.390625\" xlink:href=\"#DejaVuSans-116\"/>\r\n       <use x=\"999.599609\" xlink:href=\"#DejaVuSans-111\"/>\r\n       <use x=\"1060.78125\" xlink:href=\"#DejaVuSans-95\"/>\r\n       <use x=\"1110.78125\" xlink:href=\"#DejaVuSans-65\"/>\r\n       <use x=\"1179.189453\" xlink:href=\"#DejaVuSans-114\"/>\r\n       <use x=\"1220.287109\" xlink:href=\"#DejaVuSans-114\"/>\r\n       <use x=\"1261.400391\" xlink:href=\"#DejaVuSans-105\"/>\r\n       <use x=\"1289.183594\" xlink:href=\"#DejaVuSans-118\"/>\r\n       <use x=\"1348.363281\" xlink:href=\"#DejaVuSans-97\"/>\r\n       <use x=\"1409.642578\" xlink:href=\"#DejaVuSans-108\"/>\r\n      </g>\r\n     </g>\r\n    </g>\r\n    <g id=\"ytick_2\">\r\n     <g id=\"line2d_108\">\r\n      <g>\r\n       <use style=\"stroke:#000000;stroke-width:0.8;\" x=\"169.283775\" xlink:href=\"#md8f9de8fba\" y=\"890.64\"/>\r\n      </g>\r\n     </g>\r\n     <g id=\"text_38\">\r\n      <!-- Pickup_Time_Night -->\r\n      <g transform=\"translate(83.635559 893.804749)scale(0.0833 -0.0833)\">\r\n       <use xlink:href=\"#DejaVuSans-80\"/>\r\n       <use x=\"60.271484\" xlink:href=\"#DejaVuSans-105\"/>\r\n       <use x=\"88.054688\" xlink:href=\"#DejaVuSans-99\"/>\r\n       <use x=\"143.035156\" xlink:href=\"#DejaVuSans-107\"/>\r\n       <use x=\"200.898438\" xlink:href=\"#DejaVuSans-117\"/>\r\n       <use x=\"264.277344\" xlink:href=\"#DejaVuSans-112\"/>\r\n       <use x=\"327.753906\" xlink:href=\"#DejaVuSans-95\"/>\r\n       <use x=\"377.753906\" xlink:href=\"#DejaVuSans-84\"/>\r\n       <use x=\"438.791016\" xlink:href=\"#DejaVuSans-105\"/>\r\n       <use x=\"466.574219\" xlink:href=\"#DejaVuSans-109\"/>\r\n       <use x=\"563.986328\" xlink:href=\"#DejaVuSans-101\"/>\r\n       <use x=\"625.509766\" xlink:href=\"#DejaVuSans-95\"/>\r\n       <use x=\"675.509766\" xlink:href=\"#DejaVuSans-78\"/>\r\n       <use x=\"750.314453\" xlink:href=\"#DejaVuSans-105\"/>\r\n       <use x=\"778.097656\" xlink:href=\"#DejaVuSans-103\"/>\r\n       <use x=\"841.574219\" xlink:href=\"#DejaVuSans-104\"/>\r\n       <use x=\"904.953125\" xlink:href=\"#DejaVuSans-116\"/>\r\n      </g>\r\n     </g>\r\n    </g>\r\n    <g id=\"ytick_3\">\r\n     <g id=\"line2d_109\">\r\n      <g>\r\n       <use style=\"stroke:#000000;stroke-width:0.8;\" x=\"169.283775\" xlink:href=\"#md8f9de8fba\" y=\"865.47125\"/>\r\n      </g>\r\n     </g>\r\n     <g id=\"text_39\">\r\n      <!-- Pickup_Time_Morning -->\r\n      <g transform=\"translate(72.146667 868.635999)scale(0.0833 -0.0833)\">\r\n       <use xlink:href=\"#DejaVuSans-80\"/>\r\n       <use x=\"60.271484\" xlink:href=\"#DejaVuSans-105\"/>\r\n       <use x=\"88.054688\" xlink:href=\"#DejaVuSans-99\"/>\r\n       <use x=\"143.035156\" xlink:href=\"#DejaVuSans-107\"/>\r\n       <use x=\"200.898438\" xlink:href=\"#DejaVuSans-117\"/>\r\n       <use x=\"264.277344\" xlink:href=\"#DejaVuSans-112\"/>\r\n       <use x=\"327.753906\" xlink:href=\"#DejaVuSans-95\"/>\r\n       <use x=\"377.753906\" xlink:href=\"#DejaVuSans-84\"/>\r\n       <use x=\"438.791016\" xlink:href=\"#DejaVuSans-105\"/>\r\n       <use x=\"466.574219\" xlink:href=\"#DejaVuSans-109\"/>\r\n       <use x=\"563.986328\" xlink:href=\"#DejaVuSans-101\"/>\r\n       <use x=\"625.509766\" xlink:href=\"#DejaVuSans-95\"/>\r\n       <use x=\"675.509766\" xlink:href=\"#DejaVuSans-77\"/>\r\n       <use x=\"761.789062\" xlink:href=\"#DejaVuSans-111\"/>\r\n       <use x=\"822.970703\" xlink:href=\"#DejaVuSans-114\"/>\r\n       <use x=\"864.068359\" xlink:href=\"#DejaVuSans-110\"/>\r\n       <use x=\"927.447266\" xlink:href=\"#DejaVuSans-105\"/>\r\n       <use x=\"955.230469\" xlink:href=\"#DejaVuSans-110\"/>\r\n       <use x=\"1018.609375\" xlink:href=\"#DejaVuSans-103\"/>\r\n      </g>\r\n     </g>\r\n    </g>\r\n    <g id=\"ytick_4\">\r\n     <g id=\"line2d_110\">\r\n      <g>\r\n       <use style=\"stroke:#000000;stroke-width:0.8;\" x=\"169.283775\" xlink:href=\"#md8f9de8fba\" y=\"840.3025\"/>\r\n      </g>\r\n     </g>\r\n     <g id=\"text_40\">\r\n      <!-- Pickup_Time_Evening -->\r\n      <g transform=\"translate(72.534533 843.467249)scale(0.0833 -0.0833)\">\r\n       <use xlink:href=\"#DejaVuSans-80\"/>\r\n       <use x=\"60.271484\" xlink:href=\"#DejaVuSans-105\"/>\r\n       <use x=\"88.054688\" xlink:href=\"#DejaVuSans-99\"/>\r\n       <use x=\"143.035156\" xlink:href=\"#DejaVuSans-107\"/>\r\n       <use x=\"200.898438\" xlink:href=\"#DejaVuSans-117\"/>\r\n       <use x=\"264.277344\" xlink:href=\"#DejaVuSans-112\"/>\r\n       <use x=\"327.753906\" xlink:href=\"#DejaVuSans-95\"/>\r\n       <use x=\"377.753906\" xlink:href=\"#DejaVuSans-84\"/>\r\n       <use x=\"438.791016\" xlink:href=\"#DejaVuSans-105\"/>\r\n       <use x=\"466.574219\" xlink:href=\"#DejaVuSans-109\"/>\r\n       <use x=\"563.986328\" xlink:href=\"#DejaVuSans-101\"/>\r\n       <use x=\"625.509766\" xlink:href=\"#DejaVuSans-95\"/>\r\n       <use x=\"675.509766\" xlink:href=\"#DejaVuSans-69\"/>\r\n       <use x=\"738.693359\" xlink:href=\"#DejaVuSans-118\"/>\r\n       <use x=\"797.873047\" xlink:href=\"#DejaVuSans-101\"/>\r\n       <use x=\"859.396484\" xlink:href=\"#DejaVuSans-110\"/>\r\n       <use x=\"922.775391\" xlink:href=\"#DejaVuSans-105\"/>\r\n       <use x=\"950.558594\" xlink:href=\"#DejaVuSans-110\"/>\r\n       <use x=\"1013.9375\" xlink:href=\"#DejaVuSans-103\"/>\r\n      </g>\r\n     </g>\r\n    </g>\r\n    <g id=\"ytick_5\">\r\n     <g id=\"line2d_111\">\r\n      <g>\r\n       <use style=\"stroke:#000000;stroke-width:0.8;\" x=\"169.283775\" xlink:href=\"#md8f9de8fba\" y=\"815.13375\"/>\r\n      </g>\r\n     </g>\r\n     <g id=\"text_41\">\r\n      <!-- Pickup_Time_EarlyMorning -->\r\n      <g transform=\"translate(51.109512 818.298499)scale(0.0833 -0.0833)\">\r\n       <use xlink:href=\"#DejaVuSans-80\"/>\r\n       <use x=\"60.271484\" xlink:href=\"#DejaVuSans-105\"/>\r\n       <use x=\"88.054688\" xlink:href=\"#DejaVuSans-99\"/>\r\n       <use x=\"143.035156\" xlink:href=\"#DejaVuSans-107\"/>\r\n       <use x=\"200.898438\" xlink:href=\"#DejaVuSans-117\"/>\r\n       <use x=\"264.277344\" xlink:href=\"#DejaVuSans-112\"/>\r\n       <use x=\"327.753906\" xlink:href=\"#DejaVuSans-95\"/>\r\n       <use x=\"377.753906\" xlink:href=\"#DejaVuSans-84\"/>\r\n       <use x=\"438.791016\" xlink:href=\"#DejaVuSans-105\"/>\r\n       <use x=\"466.574219\" xlink:href=\"#DejaVuSans-109\"/>\r\n       <use x=\"563.986328\" xlink:href=\"#DejaVuSans-101\"/>\r\n       <use x=\"625.509766\" xlink:href=\"#DejaVuSans-95\"/>\r\n       <use x=\"675.509766\" xlink:href=\"#DejaVuSans-69\"/>\r\n       <use x=\"738.693359\" xlink:href=\"#DejaVuSans-97\"/>\r\n       <use x=\"799.972656\" xlink:href=\"#DejaVuSans-114\"/>\r\n       <use x=\"841.085938\" xlink:href=\"#DejaVuSans-108\"/>\r\n       <use x=\"868.869141\" xlink:href=\"#DejaVuSans-121\"/>\r\n       <use x=\"928.048828\" xlink:href=\"#DejaVuSans-77\"/>\r\n       <use x=\"1014.328125\" xlink:href=\"#DejaVuSans-111\"/>\r\n       <use x=\"1075.509766\" xlink:href=\"#DejaVuSans-114\"/>\r\n       <use x=\"1116.607422\" xlink:href=\"#DejaVuSans-110\"/>\r\n       <use x=\"1179.986328\" xlink:href=\"#DejaVuSans-105\"/>\r\n       <use x=\"1207.769531\" xlink:href=\"#DejaVuSans-110\"/>\r\n       <use x=\"1271.148438\" xlink:href=\"#DejaVuSans-103\"/>\r\n      </g>\r\n     </g>\r\n    </g>\r\n    <g id=\"ytick_6\">\r\n     <g id=\"line2d_112\">\r\n      <g>\r\n       <use style=\"stroke:#000000;stroke-width:0.8;\" x=\"169.283775\" xlink:href=\"#md8f9de8fba\" y=\"789.965\"/>\r\n      </g>\r\n     </g>\r\n     <g id=\"text_42\">\r\n      <!-- Placement_Time_Night -->\r\n      <g transform=\"translate(67.005495 793.129749)scale(0.0833 -0.0833)\">\r\n       <use xlink:href=\"#DejaVuSans-80\"/>\r\n       <use x=\"60.302734\" xlink:href=\"#DejaVuSans-108\"/>\r\n       <use x=\"88.085938\" xlink:href=\"#DejaVuSans-97\"/>\r\n       <use x=\"149.365234\" xlink:href=\"#DejaVuSans-99\"/>\r\n       <use x=\"204.345703\" xlink:href=\"#DejaVuSans-101\"/>\r\n       <use x=\"265.869141\" xlink:href=\"#DejaVuSans-109\"/>\r\n       <use x=\"363.28125\" xlink:href=\"#DejaVuSans-101\"/>\r\n       <use x=\"424.804688\" xlink:href=\"#DejaVuSans-110\"/>\r\n       <use x=\"488.183594\" xlink:href=\"#DejaVuSans-116\"/>\r\n       <use x=\"527.392578\" xlink:href=\"#DejaVuSans-95\"/>\r\n       <use x=\"577.392578\" xlink:href=\"#DejaVuSans-84\"/>\r\n       <use x=\"638.429688\" xlink:href=\"#DejaVuSans-105\"/>\r\n       <use x=\"666.212891\" xlink:href=\"#DejaVuSans-109\"/>\r\n       <use x=\"763.625\" xlink:href=\"#DejaVuSans-101\"/>\r\n       <use x=\"825.148438\" xlink:href=\"#DejaVuSans-95\"/>\r\n       <use x=\"875.148438\" xlink:href=\"#DejaVuSans-78\"/>\r\n       <use x=\"949.953125\" xlink:href=\"#DejaVuSans-105\"/>\r\n       <use x=\"977.736328\" xlink:href=\"#DejaVuSans-103\"/>\r\n       <use x=\"1041.212891\" xlink:href=\"#DejaVuSans-104\"/>\r\n       <use x=\"1104.591797\" xlink:href=\"#DejaVuSans-116\"/>\r\n      </g>\r\n     </g>\r\n    </g>\r\n    <g id=\"ytick_7\">\r\n     <g id=\"line2d_113\">\r\n      <g>\r\n       <use style=\"stroke:#000000;stroke-width:0.8;\" x=\"169.283775\" xlink:href=\"#md8f9de8fba\" y=\"764.79625\"/>\r\n      </g>\r\n     </g>\r\n     <g id=\"text_43\">\r\n      <!-- Placement_Time_Morning -->\r\n      <g transform=\"translate(55.516603 767.960999)scale(0.0833 -0.0833)\">\r\n       <use xlink:href=\"#DejaVuSans-80\"/>\r\n       <use x=\"60.302734\" xlink:href=\"#DejaVuSans-108\"/>\r\n       <use x=\"88.085938\" xlink:href=\"#DejaVuSans-97\"/>\r\n       <use x=\"149.365234\" xlink:href=\"#DejaVuSans-99\"/>\r\n       <use x=\"204.345703\" xlink:href=\"#DejaVuSans-101\"/>\r\n       <use x=\"265.869141\" xlink:href=\"#DejaVuSans-109\"/>\r\n       <use x=\"363.28125\" xlink:href=\"#DejaVuSans-101\"/>\r\n       <use x=\"424.804688\" xlink:href=\"#DejaVuSans-110\"/>\r\n       <use x=\"488.183594\" xlink:href=\"#DejaVuSans-116\"/>\r\n       <use x=\"527.392578\" xlink:href=\"#DejaVuSans-95\"/>\r\n       <use x=\"577.392578\" xlink:href=\"#DejaVuSans-84\"/>\r\n       <use x=\"638.429688\" xlink:href=\"#DejaVuSans-105\"/>\r\n       <use x=\"666.212891\" xlink:href=\"#DejaVuSans-109\"/>\r\n       <use x=\"763.625\" xlink:href=\"#DejaVuSans-101\"/>\r\n       <use x=\"825.148438\" xlink:href=\"#DejaVuSans-95\"/>\r\n       <use x=\"875.148438\" xlink:href=\"#DejaVuSans-77\"/>\r\n       <use x=\"961.427734\" xlink:href=\"#DejaVuSans-111\"/>\r\n       <use x=\"1022.609375\" xlink:href=\"#DejaVuSans-114\"/>\r\n       <use x=\"1063.707031\" xlink:href=\"#DejaVuSans-110\"/>\r\n       <use x=\"1127.085938\" xlink:href=\"#DejaVuSans-105\"/>\r\n       <use x=\"1154.869141\" xlink:href=\"#DejaVuSans-110\"/>\r\n       <use x=\"1218.248047\" xlink:href=\"#DejaVuSans-103\"/>\r\n      </g>\r\n     </g>\r\n    </g>\r\n    <g id=\"ytick_8\">\r\n     <g id=\"line2d_114\">\r\n      <g>\r\n       <use style=\"stroke:#000000;stroke-width:0.8;\" x=\"169.283775\" xlink:href=\"#md8f9de8fba\" y=\"739.6275\"/>\r\n      </g>\r\n     </g>\r\n     <g id=\"text_44\">\r\n      <!-- Placement_Time_Evening -->\r\n      <g transform=\"translate(55.904469 742.792249)scale(0.0833 -0.0833)\">\r\n       <use xlink:href=\"#DejaVuSans-80\"/>\r\n       <use x=\"60.302734\" xlink:href=\"#DejaVuSans-108\"/>\r\n       <use x=\"88.085938\" xlink:href=\"#DejaVuSans-97\"/>\r\n       <use x=\"149.365234\" xlink:href=\"#DejaVuSans-99\"/>\r\n       <use x=\"204.345703\" xlink:href=\"#DejaVuSans-101\"/>\r\n       <use x=\"265.869141\" xlink:href=\"#DejaVuSans-109\"/>\r\n       <use x=\"363.28125\" xlink:href=\"#DejaVuSans-101\"/>\r\n       <use x=\"424.804688\" xlink:href=\"#DejaVuSans-110\"/>\r\n       <use x=\"488.183594\" xlink:href=\"#DejaVuSans-116\"/>\r\n       <use x=\"527.392578\" xlink:href=\"#DejaVuSans-95\"/>\r\n       <use x=\"577.392578\" xlink:href=\"#DejaVuSans-84\"/>\r\n       <use x=\"638.429688\" xlink:href=\"#DejaVuSans-105\"/>\r\n       <use x=\"666.212891\" xlink:href=\"#DejaVuSans-109\"/>\r\n       <use x=\"763.625\" xlink:href=\"#DejaVuSans-101\"/>\r\n       <use x=\"825.148438\" xlink:href=\"#DejaVuSans-95\"/>\r\n       <use x=\"875.148438\" xlink:href=\"#DejaVuSans-69\"/>\r\n       <use x=\"938.332031\" xlink:href=\"#DejaVuSans-118\"/>\r\n       <use x=\"997.511719\" xlink:href=\"#DejaVuSans-101\"/>\r\n       <use x=\"1059.035156\" xlink:href=\"#DejaVuSans-110\"/>\r\n       <use x=\"1122.414062\" xlink:href=\"#DejaVuSans-105\"/>\r\n       <use x=\"1150.197266\" xlink:href=\"#DejaVuSans-110\"/>\r\n       <use x=\"1213.576172\" xlink:href=\"#DejaVuSans-103\"/>\r\n      </g>\r\n     </g>\r\n    </g>\r\n    <g id=\"ytick_9\">\r\n     <g id=\"line2d_115\">\r\n      <g>\r\n       <use style=\"stroke:#000000;stroke-width:0.8;\" x=\"169.283775\" xlink:href=\"#md8f9de8fba\" y=\"714.45875\"/>\r\n      </g>\r\n     </g>\r\n     <g id=\"text_45\">\r\n      <!-- Placement_Time_EarlyMorning -->\r\n      <g transform=\"translate(34.479448 717.623499)scale(0.0833 -0.0833)\">\r\n       <use xlink:href=\"#DejaVuSans-80\"/>\r\n       <use x=\"60.302734\" xlink:href=\"#DejaVuSans-108\"/>\r\n       <use x=\"88.085938\" xlink:href=\"#DejaVuSans-97\"/>\r\n       <use x=\"149.365234\" xlink:href=\"#DejaVuSans-99\"/>\r\n       <use x=\"204.345703\" xlink:href=\"#DejaVuSans-101\"/>\r\n       <use x=\"265.869141\" xlink:href=\"#DejaVuSans-109\"/>\r\n       <use x=\"363.28125\" xlink:href=\"#DejaVuSans-101\"/>\r\n       <use x=\"424.804688\" xlink:href=\"#DejaVuSans-110\"/>\r\n       <use x=\"488.183594\" xlink:href=\"#DejaVuSans-116\"/>\r\n       <use x=\"527.392578\" xlink:href=\"#DejaVuSans-95\"/>\r\n       <use x=\"577.392578\" xlink:href=\"#DejaVuSans-84\"/>\r\n       <use x=\"638.429688\" xlink:href=\"#DejaVuSans-105\"/>\r\n       <use x=\"666.212891\" xlink:href=\"#DejaVuSans-109\"/>\r\n       <use x=\"763.625\" xlink:href=\"#DejaVuSans-101\"/>\r\n       <use x=\"825.148438\" xlink:href=\"#DejaVuSans-95\"/>\r\n       <use x=\"875.148438\" xlink:href=\"#DejaVuSans-69\"/>\r\n       <use x=\"938.332031\" xlink:href=\"#DejaVuSans-97\"/>\r\n       <use x=\"999.611328\" xlink:href=\"#DejaVuSans-114\"/>\r\n       <use x=\"1040.724609\" xlink:href=\"#DejaVuSans-108\"/>\r\n       <use x=\"1068.507812\" xlink:href=\"#DejaVuSans-121\"/>\r\n       <use x=\"1127.6875\" xlink:href=\"#DejaVuSans-77\"/>\r\n       <use x=\"1213.966797\" xlink:href=\"#DejaVuSans-111\"/>\r\n       <use x=\"1275.148438\" xlink:href=\"#DejaVuSans-114\"/>\r\n       <use x=\"1316.246094\" xlink:href=\"#DejaVuSans-110\"/>\r\n       <use x=\"1379.625\" xlink:href=\"#DejaVuSans-105\"/>\r\n       <use x=\"1407.408203\" xlink:href=\"#DejaVuSans-110\"/>\r\n       <use x=\"1470.787109\" xlink:href=\"#DejaVuSans-103\"/>\r\n      </g>\r\n     </g>\r\n    </g>\r\n    <g id=\"ytick_10\">\r\n     <g id=\"line2d_116\">\r\n      <g>\r\n       <use style=\"stroke:#000000;stroke-width:0.8;\" x=\"169.283775\" xlink:href=\"#md8f9de8fba\" y=\"689.29\"/>\r\n      </g>\r\n     </g>\r\n     <g id=\"text_46\">\r\n      <!-- Confirmation_Time_Night -->\r\n      <g transform=\"translate(56.900164 692.454749)scale(0.0833 -0.0833)\">\r\n       <use xlink:href=\"#DejaVuSans-67\"/>\r\n       <use x=\"69.824219\" xlink:href=\"#DejaVuSans-111\"/>\r\n       <use x=\"131.005859\" xlink:href=\"#DejaVuSans-110\"/>\r\n       <use x=\"194.384766\" xlink:href=\"#DejaVuSans-102\"/>\r\n       <use x=\"229.589844\" xlink:href=\"#DejaVuSans-105\"/>\r\n       <use x=\"257.373047\" xlink:href=\"#DejaVuSans-114\"/>\r\n       <use x=\"298.470703\" xlink:href=\"#DejaVuSans-109\"/>\r\n       <use x=\"395.882812\" xlink:href=\"#DejaVuSans-97\"/>\r\n       <use x=\"457.162109\" xlink:href=\"#DejaVuSans-116\"/>\r\n       <use x=\"496.371094\" xlink:href=\"#DejaVuSans-105\"/>\r\n       <use x=\"524.154297\" xlink:href=\"#DejaVuSans-111\"/>\r\n       <use x=\"585.335938\" xlink:href=\"#DejaVuSans-110\"/>\r\n       <use x=\"648.714844\" xlink:href=\"#DejaVuSans-95\"/>\r\n       <use x=\"698.714844\" xlink:href=\"#DejaVuSans-84\"/>\r\n       <use x=\"759.751953\" xlink:href=\"#DejaVuSans-105\"/>\r\n       <use x=\"787.535156\" xlink:href=\"#DejaVuSans-109\"/>\r\n       <use x=\"884.947266\" xlink:href=\"#DejaVuSans-101\"/>\r\n       <use x=\"946.470703\" xlink:href=\"#DejaVuSans-95\"/>\r\n       <use x=\"996.470703\" xlink:href=\"#DejaVuSans-78\"/>\r\n       <use x=\"1071.275391\" xlink:href=\"#DejaVuSans-105\"/>\r\n       <use x=\"1099.058594\" xlink:href=\"#DejaVuSans-103\"/>\r\n       <use x=\"1162.535156\" xlink:href=\"#DejaVuSans-104\"/>\r\n       <use x=\"1225.914062\" xlink:href=\"#DejaVuSans-116\"/>\r\n      </g>\r\n     </g>\r\n    </g>\r\n    <g id=\"ytick_11\">\r\n     <g id=\"line2d_117\">\r\n      <g>\r\n       <use style=\"stroke:#000000;stroke-width:0.8;\" x=\"169.283775\" xlink:href=\"#md8f9de8fba\" y=\"664.12125\"/>\r\n      </g>\r\n     </g>\r\n     <g id=\"text_47\">\r\n      <!-- Confirmation_Time_Morning -->\r\n      <g transform=\"translate(45.411272 667.285999)scale(0.0833 -0.0833)\">\r\n       <use xlink:href=\"#DejaVuSans-67\"/>\r\n       <use x=\"69.824219\" xlink:href=\"#DejaVuSans-111\"/>\r\n       <use x=\"131.005859\" xlink:href=\"#DejaVuSans-110\"/>\r\n       <use x=\"194.384766\" xlink:href=\"#DejaVuSans-102\"/>\r\n       <use x=\"229.589844\" xlink:href=\"#DejaVuSans-105\"/>\r\n       <use x=\"257.373047\" xlink:href=\"#DejaVuSans-114\"/>\r\n       <use x=\"298.470703\" xlink:href=\"#DejaVuSans-109\"/>\r\n       <use x=\"395.882812\" xlink:href=\"#DejaVuSans-97\"/>\r\n       <use x=\"457.162109\" xlink:href=\"#DejaVuSans-116\"/>\r\n       <use x=\"496.371094\" xlink:href=\"#DejaVuSans-105\"/>\r\n       <use x=\"524.154297\" xlink:href=\"#DejaVuSans-111\"/>\r\n       <use x=\"585.335938\" xlink:href=\"#DejaVuSans-110\"/>\r\n       <use x=\"648.714844\" xlink:href=\"#DejaVuSans-95\"/>\r\n       <use x=\"698.714844\" xlink:href=\"#DejaVuSans-84\"/>\r\n       <use x=\"759.751953\" xlink:href=\"#DejaVuSans-105\"/>\r\n       <use x=\"787.535156\" xlink:href=\"#DejaVuSans-109\"/>\r\n       <use x=\"884.947266\" xlink:href=\"#DejaVuSans-101\"/>\r\n       <use x=\"946.470703\" xlink:href=\"#DejaVuSans-95\"/>\r\n       <use x=\"996.470703\" xlink:href=\"#DejaVuSans-77\"/>\r\n       <use x=\"1082.75\" xlink:href=\"#DejaVuSans-111\"/>\r\n       <use x=\"1143.931641\" xlink:href=\"#DejaVuSans-114\"/>\r\n       <use x=\"1185.029297\" xlink:href=\"#DejaVuSans-110\"/>\r\n       <use x=\"1248.408203\" xlink:href=\"#DejaVuSans-105\"/>\r\n       <use x=\"1276.191406\" xlink:href=\"#DejaVuSans-110\"/>\r\n       <use x=\"1339.570312\" xlink:href=\"#DejaVuSans-103\"/>\r\n      </g>\r\n     </g>\r\n    </g>\r\n    <g id=\"ytick_12\">\r\n     <g id=\"line2d_118\">\r\n      <g>\r\n       <use style=\"stroke:#000000;stroke-width:0.8;\" x=\"169.283775\" xlink:href=\"#md8f9de8fba\" y=\"638.9525\"/>\r\n      </g>\r\n     </g>\r\n     <g id=\"text_48\">\r\n      <!-- Confirmation_Time_Evening -->\r\n      <g transform=\"translate(45.799137 642.117249)scale(0.0833 -0.0833)\">\r\n       <use xlink:href=\"#DejaVuSans-67\"/>\r\n       <use x=\"69.824219\" xlink:href=\"#DejaVuSans-111\"/>\r\n       <use x=\"131.005859\" xlink:href=\"#DejaVuSans-110\"/>\r\n       <use x=\"194.384766\" xlink:href=\"#DejaVuSans-102\"/>\r\n       <use x=\"229.589844\" xlink:href=\"#DejaVuSans-105\"/>\r\n       <use x=\"257.373047\" xlink:href=\"#DejaVuSans-114\"/>\r\n       <use x=\"298.470703\" xlink:href=\"#DejaVuSans-109\"/>\r\n       <use x=\"395.882812\" xlink:href=\"#DejaVuSans-97\"/>\r\n       <use x=\"457.162109\" xlink:href=\"#DejaVuSans-116\"/>\r\n       <use x=\"496.371094\" xlink:href=\"#DejaVuSans-105\"/>\r\n       <use x=\"524.154297\" xlink:href=\"#DejaVuSans-111\"/>\r\n       <use x=\"585.335938\" xlink:href=\"#DejaVuSans-110\"/>\r\n       <use x=\"648.714844\" xlink:href=\"#DejaVuSans-95\"/>\r\n       <use x=\"698.714844\" xlink:href=\"#DejaVuSans-84\"/>\r\n       <use x=\"759.751953\" xlink:href=\"#DejaVuSans-105\"/>\r\n       <use x=\"787.535156\" xlink:href=\"#DejaVuSans-109\"/>\r\n       <use x=\"884.947266\" xlink:href=\"#DejaVuSans-101\"/>\r\n       <use x=\"946.470703\" xlink:href=\"#DejaVuSans-95\"/>\r\n       <use x=\"996.470703\" xlink:href=\"#DejaVuSans-69\"/>\r\n       <use x=\"1059.654297\" xlink:href=\"#DejaVuSans-118\"/>\r\n       <use x=\"1118.833984\" xlink:href=\"#DejaVuSans-101\"/>\r\n       <use x=\"1180.357422\" xlink:href=\"#DejaVuSans-110\"/>\r\n       <use x=\"1243.736328\" xlink:href=\"#DejaVuSans-105\"/>\r\n       <use x=\"1271.519531\" xlink:href=\"#DejaVuSans-110\"/>\r\n       <use x=\"1334.898438\" xlink:href=\"#DejaVuSans-103\"/>\r\n      </g>\r\n     </g>\r\n    </g>\r\n    <g id=\"ytick_13\">\r\n     <g id=\"line2d_119\">\r\n      <g>\r\n       <use style=\"stroke:#000000;stroke-width:0.8;\" x=\"169.283775\" xlink:href=\"#md8f9de8fba\" y=\"613.78375\"/>\r\n      </g>\r\n     </g>\r\n     <g id=\"text_49\">\r\n      <!-- Confirmation_Time_EarlyMorning -->\r\n      <g transform=\"translate(24.374117 616.948499)scale(0.0833 -0.0833)\">\r\n       <use xlink:href=\"#DejaVuSans-67\"/>\r\n       <use x=\"69.824219\" xlink:href=\"#DejaVuSans-111\"/>\r\n       <use x=\"131.005859\" xlink:href=\"#DejaVuSans-110\"/>\r\n       <use x=\"194.384766\" xlink:href=\"#DejaVuSans-102\"/>\r\n       <use x=\"229.589844\" xlink:href=\"#DejaVuSans-105\"/>\r\n       <use x=\"257.373047\" xlink:href=\"#DejaVuSans-114\"/>\r\n       <use x=\"298.470703\" xlink:href=\"#DejaVuSans-109\"/>\r\n       <use x=\"395.882812\" xlink:href=\"#DejaVuSans-97\"/>\r\n       <use x=\"457.162109\" xlink:href=\"#DejaVuSans-116\"/>\r\n       <use x=\"496.371094\" xlink:href=\"#DejaVuSans-105\"/>\r\n       <use x=\"524.154297\" xlink:href=\"#DejaVuSans-111\"/>\r\n       <use x=\"585.335938\" xlink:href=\"#DejaVuSans-110\"/>\r\n       <use x=\"648.714844\" xlink:href=\"#DejaVuSans-95\"/>\r\n       <use x=\"698.714844\" xlink:href=\"#DejaVuSans-84\"/>\r\n       <use x=\"759.751953\" xlink:href=\"#DejaVuSans-105\"/>\r\n       <use x=\"787.535156\" xlink:href=\"#DejaVuSans-109\"/>\r\n       <use x=\"884.947266\" xlink:href=\"#DejaVuSans-101\"/>\r\n       <use x=\"946.470703\" xlink:href=\"#DejaVuSans-95\"/>\r\n       <use x=\"996.470703\" xlink:href=\"#DejaVuSans-69\"/>\r\n       <use x=\"1059.654297\" xlink:href=\"#DejaVuSans-97\"/>\r\n       <use x=\"1120.933594\" xlink:href=\"#DejaVuSans-114\"/>\r\n       <use x=\"1162.046875\" xlink:href=\"#DejaVuSans-108\"/>\r\n       <use x=\"1189.830078\" xlink:href=\"#DejaVuSans-121\"/>\r\n       <use x=\"1249.009766\" xlink:href=\"#DejaVuSans-77\"/>\r\n       <use x=\"1335.289062\" xlink:href=\"#DejaVuSans-111\"/>\r\n       <use x=\"1396.470703\" xlink:href=\"#DejaVuSans-114\"/>\r\n       <use x=\"1437.568359\" xlink:href=\"#DejaVuSans-110\"/>\r\n       <use x=\"1500.947266\" xlink:href=\"#DejaVuSans-105\"/>\r\n       <use x=\"1528.730469\" xlink:href=\"#DejaVuSans-110\"/>\r\n       <use x=\"1592.109375\" xlink:href=\"#DejaVuSans-103\"/>\r\n      </g>\r\n     </g>\r\n    </g>\r\n    <g id=\"ytick_14\">\r\n     <g id=\"line2d_120\">\r\n      <g>\r\n       <use style=\"stroke:#000000;stroke-width:0.8;\" x=\"169.283775\" xlink:href=\"#md8f9de8fba\" y=\"588.615\"/>\r\n      </g>\r\n     </g>\r\n     <g id=\"text_50\">\r\n      <!-- Arrival_at_Pickup_Time_Night -->\r\n      <g transform=\"translate(39.726047 591.779749)scale(0.0833 -0.0833)\">\r\n       <use xlink:href=\"#DejaVuSans-65\"/>\r\n       <use x=\"68.408203\" xlink:href=\"#DejaVuSans-114\"/>\r\n       <use x=\"109.505859\" xlink:href=\"#DejaVuSans-114\"/>\r\n       <use x=\"150.619141\" xlink:href=\"#DejaVuSans-105\"/>\r\n       <use x=\"178.402344\" xlink:href=\"#DejaVuSans-118\"/>\r\n       <use x=\"237.582031\" xlink:href=\"#DejaVuSans-97\"/>\r\n       <use x=\"298.861328\" xlink:href=\"#DejaVuSans-108\"/>\r\n       <use x=\"326.644531\" xlink:href=\"#DejaVuSans-95\"/>\r\n       <use x=\"376.644531\" xlink:href=\"#DejaVuSans-97\"/>\r\n       <use x=\"437.923828\" xlink:href=\"#DejaVuSans-116\"/>\r\n       <use x=\"477.132812\" xlink:href=\"#DejaVuSans-95\"/>\r\n       <use x=\"527.132812\" xlink:href=\"#DejaVuSans-80\"/>\r\n       <use x=\"587.404297\" xlink:href=\"#DejaVuSans-105\"/>\r\n       <use x=\"615.1875\" xlink:href=\"#DejaVuSans-99\"/>\r\n       <use x=\"670.167969\" xlink:href=\"#DejaVuSans-107\"/>\r\n       <use x=\"728.03125\" xlink:href=\"#DejaVuSans-117\"/>\r\n       <use x=\"791.410156\" xlink:href=\"#DejaVuSans-112\"/>\r\n       <use x=\"854.886719\" xlink:href=\"#DejaVuSans-95\"/>\r\n       <use x=\"904.886719\" xlink:href=\"#DejaVuSans-84\"/>\r\n       <use x=\"965.923828\" xlink:href=\"#DejaVuSans-105\"/>\r\n       <use x=\"993.707031\" xlink:href=\"#DejaVuSans-109\"/>\r\n       <use x=\"1091.119141\" xlink:href=\"#DejaVuSans-101\"/>\r\n       <use x=\"1152.642578\" xlink:href=\"#DejaVuSans-95\"/>\r\n       <use x=\"1202.642578\" xlink:href=\"#DejaVuSans-78\"/>\r\n       <use x=\"1277.447266\" xlink:href=\"#DejaVuSans-105\"/>\r\n       <use x=\"1305.230469\" xlink:href=\"#DejaVuSans-103\"/>\r\n       <use x=\"1368.707031\" xlink:href=\"#DejaVuSans-104\"/>\r\n       <use x=\"1432.085938\" xlink:href=\"#DejaVuSans-116\"/>\r\n      </g>\r\n     </g>\r\n    </g>\r\n    <g id=\"ytick_15\">\r\n     <g id=\"line2d_121\">\r\n      <g>\r\n       <use style=\"stroke:#000000;stroke-width:0.8;\" x=\"169.283775\" xlink:href=\"#md8f9de8fba\" y=\"563.44625\"/>\r\n      </g>\r\n     </g>\r\n     <g id=\"text_51\">\r\n      <!-- Arrival_at_Pickup_Time_Morning -->\r\n      <g transform=\"translate(28.237155 566.610999)scale(0.0833 -0.0833)\">\r\n       <use xlink:href=\"#DejaVuSans-65\"/>\r\n       <use x=\"68.408203\" xlink:href=\"#DejaVuSans-114\"/>\r\n       <use x=\"109.505859\" xlink:href=\"#DejaVuSans-114\"/>\r\n       <use x=\"150.619141\" xlink:href=\"#DejaVuSans-105\"/>\r\n       <use x=\"178.402344\" xlink:href=\"#DejaVuSans-118\"/>\r\n       <use x=\"237.582031\" xlink:href=\"#DejaVuSans-97\"/>\r\n       <use x=\"298.861328\" xlink:href=\"#DejaVuSans-108\"/>\r\n       <use x=\"326.644531\" xlink:href=\"#DejaVuSans-95\"/>\r\n       <use x=\"376.644531\" xlink:href=\"#DejaVuSans-97\"/>\r\n       <use x=\"437.923828\" xlink:href=\"#DejaVuSans-116\"/>\r\n       <use x=\"477.132812\" xlink:href=\"#DejaVuSans-95\"/>\r\n       <use x=\"527.132812\" xlink:href=\"#DejaVuSans-80\"/>\r\n       <use x=\"587.404297\" xlink:href=\"#DejaVuSans-105\"/>\r\n       <use x=\"615.1875\" xlink:href=\"#DejaVuSans-99\"/>\r\n       <use x=\"670.167969\" xlink:href=\"#DejaVuSans-107\"/>\r\n       <use x=\"728.03125\" xlink:href=\"#DejaVuSans-117\"/>\r\n       <use x=\"791.410156\" xlink:href=\"#DejaVuSans-112\"/>\r\n       <use x=\"854.886719\" xlink:href=\"#DejaVuSans-95\"/>\r\n       <use x=\"904.886719\" xlink:href=\"#DejaVuSans-84\"/>\r\n       <use x=\"965.923828\" xlink:href=\"#DejaVuSans-105\"/>\r\n       <use x=\"993.707031\" xlink:href=\"#DejaVuSans-109\"/>\r\n       <use x=\"1091.119141\" xlink:href=\"#DejaVuSans-101\"/>\r\n       <use x=\"1152.642578\" xlink:href=\"#DejaVuSans-95\"/>\r\n       <use x=\"1202.642578\" xlink:href=\"#DejaVuSans-77\"/>\r\n       <use x=\"1288.921875\" xlink:href=\"#DejaVuSans-111\"/>\r\n       <use x=\"1350.103516\" xlink:href=\"#DejaVuSans-114\"/>\r\n       <use x=\"1391.201172\" xlink:href=\"#DejaVuSans-110\"/>\r\n       <use x=\"1454.580078\" xlink:href=\"#DejaVuSans-105\"/>\r\n       <use x=\"1482.363281\" xlink:href=\"#DejaVuSans-110\"/>\r\n       <use x=\"1545.742188\" xlink:href=\"#DejaVuSans-103\"/>\r\n      </g>\r\n     </g>\r\n    </g>\r\n    <g id=\"ytick_16\">\r\n     <g id=\"line2d_122\">\r\n      <g>\r\n       <use style=\"stroke:#000000;stroke-width:0.8;\" x=\"169.283775\" xlink:href=\"#md8f9de8fba\" y=\"538.2775\"/>\r\n      </g>\r\n     </g>\r\n     <g id=\"text_52\">\r\n      <!-- Arrival_at_Pickup_Time_Evening -->\r\n      <g transform=\"translate(28.62502 541.442249)scale(0.0833 -0.0833)\">\r\n       <use xlink:href=\"#DejaVuSans-65\"/>\r\n       <use x=\"68.408203\" xlink:href=\"#DejaVuSans-114\"/>\r\n       <use x=\"109.505859\" xlink:href=\"#DejaVuSans-114\"/>\r\n       <use x=\"150.619141\" xlink:href=\"#DejaVuSans-105\"/>\r\n       <use x=\"178.402344\" xlink:href=\"#DejaVuSans-118\"/>\r\n       <use x=\"237.582031\" xlink:href=\"#DejaVuSans-97\"/>\r\n       <use x=\"298.861328\" xlink:href=\"#DejaVuSans-108\"/>\r\n       <use x=\"326.644531\" xlink:href=\"#DejaVuSans-95\"/>\r\n       <use x=\"376.644531\" xlink:href=\"#DejaVuSans-97\"/>\r\n       <use x=\"437.923828\" xlink:href=\"#DejaVuSans-116\"/>\r\n       <use x=\"477.132812\" xlink:href=\"#DejaVuSans-95\"/>\r\n       <use x=\"527.132812\" xlink:href=\"#DejaVuSans-80\"/>\r\n       <use x=\"587.404297\" xlink:href=\"#DejaVuSans-105\"/>\r\n       <use x=\"615.1875\" xlink:href=\"#DejaVuSans-99\"/>\r\n       <use x=\"670.167969\" xlink:href=\"#DejaVuSans-107\"/>\r\n       <use x=\"728.03125\" xlink:href=\"#DejaVuSans-117\"/>\r\n       <use x=\"791.410156\" xlink:href=\"#DejaVuSans-112\"/>\r\n       <use x=\"854.886719\" xlink:href=\"#DejaVuSans-95\"/>\r\n       <use x=\"904.886719\" xlink:href=\"#DejaVuSans-84\"/>\r\n       <use x=\"965.923828\" xlink:href=\"#DejaVuSans-105\"/>\r\n       <use x=\"993.707031\" xlink:href=\"#DejaVuSans-109\"/>\r\n       <use x=\"1091.119141\" xlink:href=\"#DejaVuSans-101\"/>\r\n       <use x=\"1152.642578\" xlink:href=\"#DejaVuSans-95\"/>\r\n       <use x=\"1202.642578\" xlink:href=\"#DejaVuSans-69\"/>\r\n       <use x=\"1265.826172\" xlink:href=\"#DejaVuSans-118\"/>\r\n       <use x=\"1325.005859\" xlink:href=\"#DejaVuSans-101\"/>\r\n       <use x=\"1386.529297\" xlink:href=\"#DejaVuSans-110\"/>\r\n       <use x=\"1449.908203\" xlink:href=\"#DejaVuSans-105\"/>\r\n       <use x=\"1477.691406\" xlink:href=\"#DejaVuSans-110\"/>\r\n       <use x=\"1541.070312\" xlink:href=\"#DejaVuSans-103\"/>\r\n      </g>\r\n     </g>\r\n    </g>\r\n    <g id=\"ytick_17\">\r\n     <g id=\"line2d_123\">\r\n      <g>\r\n       <use style=\"stroke:#000000;stroke-width:0.8;\" x=\"169.283775\" xlink:href=\"#md8f9de8fba\" y=\"513.10875\"/>\r\n      </g>\r\n     </g>\r\n     <g id=\"text_53\">\r\n      <!-- Arrival_at_Pickup_Time_EarlyMorning -->\r\n      <g transform=\"translate(7.2 516.273499)scale(0.0833 -0.0833)\">\r\n       <use xlink:href=\"#DejaVuSans-65\"/>\r\n       <use x=\"68.408203\" xlink:href=\"#DejaVuSans-114\"/>\r\n       <use x=\"109.505859\" xlink:href=\"#DejaVuSans-114\"/>\r\n       <use x=\"150.619141\" xlink:href=\"#DejaVuSans-105\"/>\r\n       <use x=\"178.402344\" xlink:href=\"#DejaVuSans-118\"/>\r\n       <use x=\"237.582031\" xlink:href=\"#DejaVuSans-97\"/>\r\n       <use x=\"298.861328\" xlink:href=\"#DejaVuSans-108\"/>\r\n       <use x=\"326.644531\" xlink:href=\"#DejaVuSans-95\"/>\r\n       <use x=\"376.644531\" xlink:href=\"#DejaVuSans-97\"/>\r\n       <use x=\"437.923828\" xlink:href=\"#DejaVuSans-116\"/>\r\n       <use x=\"477.132812\" xlink:href=\"#DejaVuSans-95\"/>\r\n       <use x=\"527.132812\" xlink:href=\"#DejaVuSans-80\"/>\r\n       <use x=\"587.404297\" xlink:href=\"#DejaVuSans-105\"/>\r\n       <use x=\"615.1875\" xlink:href=\"#DejaVuSans-99\"/>\r\n       <use x=\"670.167969\" xlink:href=\"#DejaVuSans-107\"/>\r\n       <use x=\"728.03125\" xlink:href=\"#DejaVuSans-117\"/>\r\n       <use x=\"791.410156\" xlink:href=\"#DejaVuSans-112\"/>\r\n       <use x=\"854.886719\" xlink:href=\"#DejaVuSans-95\"/>\r\n       <use x=\"904.886719\" xlink:href=\"#DejaVuSans-84\"/>\r\n       <use x=\"965.923828\" xlink:href=\"#DejaVuSans-105\"/>\r\n       <use x=\"993.707031\" xlink:href=\"#DejaVuSans-109\"/>\r\n       <use x=\"1091.119141\" xlink:href=\"#DejaVuSans-101\"/>\r\n       <use x=\"1152.642578\" xlink:href=\"#DejaVuSans-95\"/>\r\n       <use x=\"1202.642578\" xlink:href=\"#DejaVuSans-69\"/>\r\n       <use x=\"1265.826172\" xlink:href=\"#DejaVuSans-97\"/>\r\n       <use x=\"1327.105469\" xlink:href=\"#DejaVuSans-114\"/>\r\n       <use x=\"1368.21875\" xlink:href=\"#DejaVuSans-108\"/>\r\n       <use x=\"1396.001953\" xlink:href=\"#DejaVuSans-121\"/>\r\n       <use x=\"1455.181641\" xlink:href=\"#DejaVuSans-77\"/>\r\n       <use x=\"1541.460938\" xlink:href=\"#DejaVuSans-111\"/>\r\n       <use x=\"1602.642578\" xlink:href=\"#DejaVuSans-114\"/>\r\n       <use x=\"1643.740234\" xlink:href=\"#DejaVuSans-110\"/>\r\n       <use x=\"1707.119141\" xlink:href=\"#DejaVuSans-105\"/>\r\n       <use x=\"1734.902344\" xlink:href=\"#DejaVuSans-110\"/>\r\n       <use x=\"1798.28125\" xlink:href=\"#DejaVuSans-103\"/>\r\n      </g>\r\n     </g>\r\n    </g>\r\n    <g id=\"ytick_18\">\r\n     <g id=\"line2d_124\">\r\n      <g>\r\n       <use style=\"stroke:#000000;stroke-width:0.8;\" x=\"169.283775\" xlink:href=\"#md8f9de8fba\" y=\"487.94\"/>\r\n      </g>\r\n     </g>\r\n     <g id=\"text_54\">\r\n      <!-- Platform_Type_4 -->\r\n      <g transform=\"translate(92.967762 491.104749)scale(0.0833 -0.0833)\">\r\n       <use xlink:href=\"#DejaVuSans-80\"/>\r\n       <use x=\"60.302734\" xlink:href=\"#DejaVuSans-108\"/>\r\n       <use x=\"88.085938\" xlink:href=\"#DejaVuSans-97\"/>\r\n       <use x=\"149.365234\" xlink:href=\"#DejaVuSans-116\"/>\r\n       <use x=\"188.574219\" xlink:href=\"#DejaVuSans-102\"/>\r\n       <use x=\"223.779297\" xlink:href=\"#DejaVuSans-111\"/>\r\n       <use x=\"284.960938\" xlink:href=\"#DejaVuSans-114\"/>\r\n       <use x=\"326.058594\" xlink:href=\"#DejaVuSans-109\"/>\r\n       <use x=\"423.470703\" xlink:href=\"#DejaVuSans-95\"/>\r\n       <use x=\"473.470703\" xlink:href=\"#DejaVuSans-84\"/>\r\n       <use x=\"534.320312\" xlink:href=\"#DejaVuSans-121\"/>\r\n       <use x=\"593.5\" xlink:href=\"#DejaVuSans-112\"/>\r\n       <use x=\"656.976562\" xlink:href=\"#DejaVuSans-101\"/>\r\n       <use x=\"718.5\" xlink:href=\"#DejaVuSans-95\"/>\r\n       <use x=\"768.5\" xlink:href=\"#DejaVuSans-52\"/>\r\n      </g>\r\n     </g>\r\n    </g>\r\n    <g id=\"ytick_19\">\r\n     <g id=\"line2d_125\">\r\n      <g>\r\n       <use style=\"stroke:#000000;stroke-width:0.8;\" x=\"169.283775\" xlink:href=\"#md8f9de8fba\" y=\"462.77125\"/>\r\n      </g>\r\n     </g>\r\n     <g id=\"text_55\">\r\n      <!-- Platform_Type_3 -->\r\n      <g transform=\"translate(92.967762 465.935999)scale(0.0833 -0.0833)\">\r\n       <use xlink:href=\"#DejaVuSans-80\"/>\r\n       <use x=\"60.302734\" xlink:href=\"#DejaVuSans-108\"/>\r\n       <use x=\"88.085938\" xlink:href=\"#DejaVuSans-97\"/>\r\n       <use x=\"149.365234\" xlink:href=\"#DejaVuSans-116\"/>\r\n       <use x=\"188.574219\" xlink:href=\"#DejaVuSans-102\"/>\r\n       <use x=\"223.779297\" xlink:href=\"#DejaVuSans-111\"/>\r\n       <use x=\"284.960938\" xlink:href=\"#DejaVuSans-114\"/>\r\n       <use x=\"326.058594\" xlink:href=\"#DejaVuSans-109\"/>\r\n       <use x=\"423.470703\" xlink:href=\"#DejaVuSans-95\"/>\r\n       <use x=\"473.470703\" xlink:href=\"#DejaVuSans-84\"/>\r\n       <use x=\"534.320312\" xlink:href=\"#DejaVuSans-121\"/>\r\n       <use x=\"593.5\" xlink:href=\"#DejaVuSans-112\"/>\r\n       <use x=\"656.976562\" xlink:href=\"#DejaVuSans-101\"/>\r\n       <use x=\"718.5\" xlink:href=\"#DejaVuSans-95\"/>\r\n       <use x=\"768.5\" xlink:href=\"#DejaVuSans-51\"/>\r\n      </g>\r\n     </g>\r\n    </g>\r\n    <g id=\"ytick_20\">\r\n     <g id=\"line2d_126\">\r\n      <g>\r\n       <use style=\"stroke:#000000;stroke-width:0.8;\" x=\"169.283775\" xlink:href=\"#md8f9de8fba\" y=\"437.6025\"/>\r\n      </g>\r\n     </g>\r\n     <g id=\"text_56\">\r\n      <!-- Platform_Type_2 -->\r\n      <g transform=\"translate(92.967762 440.767249)scale(0.0833 -0.0833)\">\r\n       <use xlink:href=\"#DejaVuSans-80\"/>\r\n       <use x=\"60.302734\" xlink:href=\"#DejaVuSans-108\"/>\r\n       <use x=\"88.085938\" xlink:href=\"#DejaVuSans-97\"/>\r\n       <use x=\"149.365234\" xlink:href=\"#DejaVuSans-116\"/>\r\n       <use x=\"188.574219\" xlink:href=\"#DejaVuSans-102\"/>\r\n       <use x=\"223.779297\" xlink:href=\"#DejaVuSans-111\"/>\r\n       <use x=\"284.960938\" xlink:href=\"#DejaVuSans-114\"/>\r\n       <use x=\"326.058594\" xlink:href=\"#DejaVuSans-109\"/>\r\n       <use x=\"423.470703\" xlink:href=\"#DejaVuSans-95\"/>\r\n       <use x=\"473.470703\" xlink:href=\"#DejaVuSans-84\"/>\r\n       <use x=\"534.320312\" xlink:href=\"#DejaVuSans-121\"/>\r\n       <use x=\"593.5\" xlink:href=\"#DejaVuSans-112\"/>\r\n       <use x=\"656.976562\" xlink:href=\"#DejaVuSans-101\"/>\r\n       <use x=\"718.5\" xlink:href=\"#DejaVuSans-95\"/>\r\n       <use x=\"768.5\" xlink:href=\"#DejaVuSans-50\"/>\r\n      </g>\r\n     </g>\r\n    </g>\r\n    <g id=\"ytick_21\">\r\n     <g id=\"line2d_127\">\r\n      <g>\r\n       <use style=\"stroke:#000000;stroke-width:0.8;\" x=\"169.283775\" xlink:href=\"#md8f9de8fba\" y=\"412.43375\"/>\r\n      </g>\r\n     </g>\r\n     <g id=\"text_57\">\r\n      <!-- Personal_or_Business_Personal -->\r\n      <g transform=\"translate(33.129728 415.598499)scale(0.0833 -0.0833)\">\r\n       <use xlink:href=\"#DejaVuSans-80\"/>\r\n       <use x=\"60.255859\" xlink:href=\"#DejaVuSans-101\"/>\r\n       <use x=\"121.779297\" xlink:href=\"#DejaVuSans-114\"/>\r\n       <use x=\"162.892578\" xlink:href=\"#DejaVuSans-115\"/>\r\n       <use x=\"214.992188\" xlink:href=\"#DejaVuSans-111\"/>\r\n       <use x=\"276.173828\" xlink:href=\"#DejaVuSans-110\"/>\r\n       <use x=\"339.552734\" xlink:href=\"#DejaVuSans-97\"/>\r\n       <use x=\"400.832031\" xlink:href=\"#DejaVuSans-108\"/>\r\n       <use x=\"428.615234\" xlink:href=\"#DejaVuSans-95\"/>\r\n       <use x=\"478.615234\" xlink:href=\"#DejaVuSans-111\"/>\r\n       <use x=\"539.796875\" xlink:href=\"#DejaVuSans-114\"/>\r\n       <use x=\"580.910156\" xlink:href=\"#DejaVuSans-95\"/>\r\n       <use x=\"630.910156\" xlink:href=\"#DejaVuSans-66\"/>\r\n       <use x=\"699.513672\" xlink:href=\"#DejaVuSans-117\"/>\r\n       <use x=\"762.892578\" xlink:href=\"#DejaVuSans-115\"/>\r\n       <use x=\"814.992188\" xlink:href=\"#DejaVuSans-105\"/>\r\n       <use x=\"842.775391\" xlink:href=\"#DejaVuSans-110\"/>\r\n       <use x=\"906.154297\" xlink:href=\"#DejaVuSans-101\"/>\r\n       <use x=\"967.677734\" xlink:href=\"#DejaVuSans-115\"/>\r\n       <use x=\"1019.777344\" xlink:href=\"#DejaVuSans-115\"/>\r\n       <use x=\"1071.876953\" xlink:href=\"#DejaVuSans-95\"/>\r\n       <use x=\"1121.876953\" xlink:href=\"#DejaVuSans-80\"/>\r\n       <use x=\"1182.132812\" xlink:href=\"#DejaVuSans-101\"/>\r\n       <use x=\"1243.65625\" xlink:href=\"#DejaVuSans-114\"/>\r\n       <use x=\"1284.769531\" xlink:href=\"#DejaVuSans-115\"/>\r\n       <use x=\"1336.869141\" xlink:href=\"#DejaVuSans-111\"/>\r\n       <use x=\"1398.050781\" xlink:href=\"#DejaVuSans-110\"/>\r\n       <use x=\"1461.429688\" xlink:href=\"#DejaVuSans-97\"/>\r\n       <use x=\"1522.708984\" xlink:href=\"#DejaVuSans-108\"/>\r\n      </g>\r\n     </g>\r\n    </g>\r\n    <g id=\"ytick_22\">\r\n     <g id=\"line2d_128\">\r\n      <g>\r\n       <use style=\"stroke:#000000;stroke-width:0.8;\" x=\"169.283775\" xlink:href=\"#md8f9de8fba\" y=\"387.265\"/>\r\n      </g>\r\n     </g>\r\n     <g id=\"text_58\">\r\n      <!-- No_of_Ratings -->\r\n      <g transform=\"translate(103.218869 390.429749)scale(0.0833 -0.0833)\">\r\n       <use xlink:href=\"#DejaVuSans-78\"/>\r\n       <use x=\"74.804688\" xlink:href=\"#DejaVuSans-111\"/>\r\n       <use x=\"135.986328\" xlink:href=\"#DejaVuSans-95\"/>\r\n       <use x=\"185.986328\" xlink:href=\"#DejaVuSans-111\"/>\r\n       <use x=\"247.167969\" xlink:href=\"#DejaVuSans-102\"/>\r\n       <use x=\"282.373047\" xlink:href=\"#DejaVuSans-95\"/>\r\n       <use x=\"332.373047\" xlink:href=\"#DejaVuSans-82\"/>\r\n       <use x=\"401.824219\" xlink:href=\"#DejaVuSans-97\"/>\r\n       <use x=\"463.103516\" xlink:href=\"#DejaVuSans-116\"/>\r\n       <use x=\"502.3125\" xlink:href=\"#DejaVuSans-105\"/>\r\n       <use x=\"530.095703\" xlink:href=\"#DejaVuSans-110\"/>\r\n       <use x=\"593.474609\" xlink:href=\"#DejaVuSans-103\"/>\r\n       <use x=\"656.951172\" xlink:href=\"#DejaVuSans-115\"/>\r\n      </g>\r\n     </g>\r\n    </g>\r\n    <g id=\"ytick_23\">\r\n     <g id=\"line2d_129\">\r\n      <g>\r\n       <use style=\"stroke:#000000;stroke-width:0.8;\" x=\"169.283775\" xlink:href=\"#md8f9de8fba\" y=\"362.09625\"/>\r\n      </g>\r\n     </g>\r\n     <g id=\"text_59\">\r\n      <!-- Average_Rating -->\r\n      <g transform=\"translate(96.390872 365.260999)scale(0.0833 -0.0833)\">\r\n       <use xlink:href=\"#DejaVuSans-65\"/>\r\n       <use x=\"68.330078\" xlink:href=\"#DejaVuSans-118\"/>\r\n       <use x=\"127.509766\" xlink:href=\"#DejaVuSans-101\"/>\r\n       <use x=\"189.033203\" xlink:href=\"#DejaVuSans-114\"/>\r\n       <use x=\"230.146484\" xlink:href=\"#DejaVuSans-97\"/>\r\n       <use x=\"291.425781\" xlink:href=\"#DejaVuSans-103\"/>\r\n       <use x=\"354.902344\" xlink:href=\"#DejaVuSans-101\"/>\r\n       <use x=\"416.425781\" xlink:href=\"#DejaVuSans-95\"/>\r\n       <use x=\"466.425781\" xlink:href=\"#DejaVuSans-82\"/>\r\n       <use x=\"535.876953\" xlink:href=\"#DejaVuSans-97\"/>\r\n       <use x=\"597.15625\" xlink:href=\"#DejaVuSans-116\"/>\r\n       <use x=\"636.365234\" xlink:href=\"#DejaVuSans-105\"/>\r\n       <use x=\"664.148438\" xlink:href=\"#DejaVuSans-110\"/>\r\n       <use x=\"727.527344\" xlink:href=\"#DejaVuSans-103\"/>\r\n      </g>\r\n     </g>\r\n    </g>\r\n    <g id=\"ytick_24\">\r\n     <g id=\"line2d_130\">\r\n      <g>\r\n       <use style=\"stroke:#000000;stroke-width:0.8;\" x=\"169.283775\" xlink:href=\"#md8f9de8fba\" y=\"336.9275\"/>\r\n      </g>\r\n     </g>\r\n     <g id=\"text_60\">\r\n      <!-- Age -->\r\n      <g transform=\"translate(146.171733 340.092249)scale(0.0833 -0.0833)\">\r\n       <use xlink:href=\"#DejaVuSans-65\"/>\r\n       <use x=\"68.408203\" xlink:href=\"#DejaVuSans-103\"/>\r\n       <use x=\"131.884766\" xlink:href=\"#DejaVuSans-101\"/>\r\n      </g>\r\n     </g>\r\n    </g>\r\n    <g id=\"ytick_25\">\r\n     <g id=\"line2d_131\">\r\n      <g>\r\n       <use style=\"stroke:#000000;stroke-width:0.8;\" x=\"169.283775\" xlink:href=\"#md8f9de8fba\" y=\"311.75875\"/>\r\n      </g>\r\n     </g>\r\n     <g id=\"text_61\">\r\n      <!-- No_Of_Orders -->\r\n      <g transform=\"translate(104.97728 314.923499)scale(0.0833 -0.0833)\">\r\n       <use xlink:href=\"#DejaVuSans-78\"/>\r\n       <use x=\"74.804688\" xlink:href=\"#DejaVuSans-111\"/>\r\n       <use x=\"135.986328\" xlink:href=\"#DejaVuSans-95\"/>\r\n       <use x=\"185.986328\" xlink:href=\"#DejaVuSans-79\"/>\r\n       <use x=\"264.697266\" xlink:href=\"#DejaVuSans-102\"/>\r\n       <use x=\"299.902344\" xlink:href=\"#DejaVuSans-95\"/>\r\n       <use x=\"349.902344\" xlink:href=\"#DejaVuSans-79\"/>\r\n       <use x=\"428.613281\" xlink:href=\"#DejaVuSans-114\"/>\r\n       <use x=\"469.710938\" xlink:href=\"#DejaVuSans-100\"/>\r\n       <use x=\"533.1875\" xlink:href=\"#DejaVuSans-101\"/>\r\n       <use x=\"594.710938\" xlink:href=\"#DejaVuSans-114\"/>\r\n       <use x=\"635.824219\" xlink:href=\"#DejaVuSans-115\"/>\r\n      </g>\r\n     </g>\r\n    </g>\r\n    <g id=\"ytick_26\">\r\n     <g id=\"line2d_132\">\r\n      <g>\r\n       <use style=\"stroke:#000000;stroke-width:0.8;\" x=\"169.283775\" xlink:href=\"#md8f9de8fba\" y=\"286.59\"/>\r\n      </g>\r\n     </g>\r\n     <g id=\"text_62\">\r\n      <!-- Precipitation_in_millimeters -->\r\n      <g transform=\"translate(47.203523 289.754749)scale(0.0833 -0.0833)\">\r\n       <use xlink:href=\"#DejaVuSans-80\"/>\r\n       <use x=\"60.287109\" xlink:href=\"#DejaVuSans-114\"/>\r\n       <use x=\"101.369141\" xlink:href=\"#DejaVuSans-101\"/>\r\n       <use x=\"162.892578\" xlink:href=\"#DejaVuSans-99\"/>\r\n       <use x=\"217.873047\" xlink:href=\"#DejaVuSans-105\"/>\r\n       <use x=\"245.65625\" xlink:href=\"#DejaVuSans-112\"/>\r\n       <use x=\"309.132812\" xlink:href=\"#DejaVuSans-105\"/>\r\n       <use x=\"336.916016\" xlink:href=\"#DejaVuSans-116\"/>\r\n       <use x=\"376.125\" xlink:href=\"#DejaVuSans-97\"/>\r\n       <use x=\"437.404297\" xlink:href=\"#DejaVuSans-116\"/>\r\n       <use x=\"476.613281\" xlink:href=\"#DejaVuSans-105\"/>\r\n       <use x=\"504.396484\" xlink:href=\"#DejaVuSans-111\"/>\r\n       <use x=\"565.578125\" xlink:href=\"#DejaVuSans-110\"/>\r\n       <use x=\"628.957031\" xlink:href=\"#DejaVuSans-95\"/>\r\n       <use x=\"678.957031\" xlink:href=\"#DejaVuSans-105\"/>\r\n       <use x=\"706.740234\" xlink:href=\"#DejaVuSans-110\"/>\r\n       <use x=\"770.119141\" xlink:href=\"#DejaVuSans-95\"/>\r\n       <use x=\"820.119141\" xlink:href=\"#DejaVuSans-109\"/>\r\n       <use x=\"917.53125\" xlink:href=\"#DejaVuSans-105\"/>\r\n       <use x=\"945.314453\" xlink:href=\"#DejaVuSans-108\"/>\r\n       <use x=\"973.097656\" xlink:href=\"#DejaVuSans-108\"/>\r\n       <use x=\"1000.880859\" xlink:href=\"#DejaVuSans-105\"/>\r\n       <use x=\"1028.664062\" xlink:href=\"#DejaVuSans-109\"/>\r\n       <use x=\"1126.076172\" xlink:href=\"#DejaVuSans-101\"/>\r\n       <use x=\"1187.599609\" xlink:href=\"#DejaVuSans-116\"/>\r\n       <use x=\"1226.808594\" xlink:href=\"#DejaVuSans-101\"/>\r\n       <use x=\"1288.332031\" xlink:href=\"#DejaVuSans-114\"/>\r\n       <use x=\"1329.445312\" xlink:href=\"#DejaVuSans-115\"/>\r\n      </g>\r\n     </g>\r\n    </g>\r\n    <g id=\"ytick_27\">\r\n     <g id=\"line2d_133\">\r\n      <g>\r\n       <use style=\"stroke:#000000;stroke-width:0.8;\" x=\"169.283775\" xlink:href=\"#md8f9de8fba\" y=\"261.42125\"/>\r\n      </g>\r\n     </g>\r\n     <g id=\"text_63\">\r\n      <!-- Temperature -->\r\n      <g transform=\"translate(107.943541 264.585999)scale(0.0833 -0.0833)\">\r\n       <use xlink:href=\"#DejaVuSans-84\"/>\r\n       <use x=\"60.818359\" xlink:href=\"#DejaVuSans-101\"/>\r\n       <use x=\"122.341797\" xlink:href=\"#DejaVuSans-109\"/>\r\n       <use x=\"219.753906\" xlink:href=\"#DejaVuSans-112\"/>\r\n       <use x=\"283.230469\" xlink:href=\"#DejaVuSans-101\"/>\r\n       <use x=\"344.753906\" xlink:href=\"#DejaVuSans-114\"/>\r\n       <use x=\"385.867188\" xlink:href=\"#DejaVuSans-97\"/>\r\n       <use x=\"447.146484\" xlink:href=\"#DejaVuSans-116\"/>\r\n       <use x=\"486.355469\" xlink:href=\"#DejaVuSans-117\"/>\r\n       <use x=\"549.734375\" xlink:href=\"#DejaVuSans-114\"/>\r\n       <use x=\"590.816406\" xlink:href=\"#DejaVuSans-101\"/>\r\n      </g>\r\n     </g>\r\n    </g>\r\n    <g id=\"ytick_28\">\r\n     <g id=\"line2d_134\">\r\n      <g>\r\n       <use style=\"stroke:#000000;stroke-width:0.8;\" x=\"169.283775\" xlink:href=\"#md8f9de8fba\" y=\"236.2525\"/>\r\n      </g>\r\n     </g>\r\n     <g id=\"text_64\">\r\n      <!-- Distance_KM -->\r\n      <g transform=\"translate(109.045964 239.417249)scale(0.0833 -0.0833)\">\r\n       <use xlink:href=\"#DejaVuSans-68\"/>\r\n       <use x=\"77.001953\" xlink:href=\"#DejaVuSans-105\"/>\r\n       <use x=\"104.785156\" xlink:href=\"#DejaVuSans-115\"/>\r\n       <use x=\"156.884766\" xlink:href=\"#DejaVuSans-116\"/>\r\n       <use x=\"196.09375\" xlink:href=\"#DejaVuSans-97\"/>\r\n       <use x=\"257.373047\" xlink:href=\"#DejaVuSans-110\"/>\r\n       <use x=\"320.751953\" xlink:href=\"#DejaVuSans-99\"/>\r\n       <use x=\"375.732422\" xlink:href=\"#DejaVuSans-101\"/>\r\n       <use x=\"437.255859\" xlink:href=\"#DejaVuSans-95\"/>\r\n       <use x=\"487.255859\" xlink:href=\"#DejaVuSans-75\"/>\r\n       <use x=\"552.832031\" xlink:href=\"#DejaVuSans-77\"/>\r\n      </g>\r\n     </g>\r\n    </g>\r\n    <g id=\"ytick_29\">\r\n     <g id=\"line2d_135\">\r\n      <g>\r\n       <use style=\"stroke:#000000;stroke-width:0.8;\" x=\"169.283775\" xlink:href=\"#md8f9de8fba\" y=\"211.08375\"/>\r\n      </g>\r\n     </g>\r\n     <g id=\"text_65\">\r\n      <!-- Pickup_Weekday -->\r\n      <g transform=\"translate(92.189428 214.248499)scale(0.0833 -0.0833)\">\r\n       <use xlink:href=\"#DejaVuSans-80\"/>\r\n       <use x=\"60.271484\" xlink:href=\"#DejaVuSans-105\"/>\r\n       <use x=\"88.054688\" xlink:href=\"#DejaVuSans-99\"/>\r\n       <use x=\"143.035156\" xlink:href=\"#DejaVuSans-107\"/>\r\n       <use x=\"200.898438\" xlink:href=\"#DejaVuSans-117\"/>\r\n       <use x=\"264.277344\" xlink:href=\"#DejaVuSans-112\"/>\r\n       <use x=\"327.753906\" xlink:href=\"#DejaVuSans-95\"/>\r\n       <use x=\"377.753906\" xlink:href=\"#DejaVuSans-87\"/>\r\n       <use x=\"476.552734\" xlink:href=\"#DejaVuSans-101\"/>\r\n       <use x=\"538.076172\" xlink:href=\"#DejaVuSans-101\"/>\r\n       <use x=\"599.599609\" xlink:href=\"#DejaVuSans-107\"/>\r\n       <use x=\"657.509766\" xlink:href=\"#DejaVuSans-100\"/>\r\n       <use x=\"720.986328\" xlink:href=\"#DejaVuSans-97\"/>\r\n       <use x=\"782.265625\" xlink:href=\"#DejaVuSans-121\"/>\r\n      </g>\r\n     </g>\r\n    </g>\r\n    <g id=\"ytick_30\">\r\n     <g id=\"line2d_136\">\r\n      <g>\r\n       <use style=\"stroke:#000000;stroke-width:0.8;\" x=\"169.283775\" xlink:href=\"#md8f9de8fba\" y=\"185.915\"/>\r\n      </g>\r\n     </g>\r\n     <g id=\"text_66\">\r\n      <!-- Pickup_Day_of_Month -->\r\n      <g transform=\"translate(71.900672 189.079749)scale(0.0833 -0.0833)\">\r\n       <use xlink:href=\"#DejaVuSans-80\"/>\r\n       <use x=\"60.271484\" xlink:href=\"#DejaVuSans-105\"/>\r\n       <use x=\"88.054688\" xlink:href=\"#DejaVuSans-99\"/>\r\n       <use x=\"143.035156\" xlink:href=\"#DejaVuSans-107\"/>\r\n       <use x=\"200.898438\" xlink:href=\"#DejaVuSans-117\"/>\r\n       <use x=\"264.277344\" xlink:href=\"#DejaVuSans-112\"/>\r\n       <use x=\"327.753906\" xlink:href=\"#DejaVuSans-95\"/>\r\n       <use x=\"377.753906\" xlink:href=\"#DejaVuSans-68\"/>\r\n       <use x=\"454.755859\" xlink:href=\"#DejaVuSans-97\"/>\r\n       <use x=\"516.035156\" xlink:href=\"#DejaVuSans-121\"/>\r\n       <use x=\"575.214844\" xlink:href=\"#DejaVuSans-95\"/>\r\n       <use x=\"625.214844\" xlink:href=\"#DejaVuSans-111\"/>\r\n       <use x=\"686.396484\" xlink:href=\"#DejaVuSans-102\"/>\r\n       <use x=\"721.601562\" xlink:href=\"#DejaVuSans-95\"/>\r\n       <use x=\"771.601562\" xlink:href=\"#DejaVuSans-77\"/>\r\n       <use x=\"857.880859\" xlink:href=\"#DejaVuSans-111\"/>\r\n       <use x=\"919.0625\" xlink:href=\"#DejaVuSans-110\"/>\r\n       <use x=\"982.441406\" xlink:href=\"#DejaVuSans-116\"/>\r\n       <use x=\"1021.650391\" xlink:href=\"#DejaVuSans-104\"/>\r\n      </g>\r\n     </g>\r\n    </g>\r\n    <g id=\"ytick_31\">\r\n     <g id=\"line2d_137\">\r\n      <g>\r\n       <use style=\"stroke:#000000;stroke-width:0.8;\" x=\"169.283775\" xlink:href=\"#md8f9de8fba\" y=\"160.74625\"/>\r\n      </g>\r\n     </g>\r\n     <g id=\"text_67\">\r\n      <!-- Arrival_at_Pickup_Weekday -->\r\n      <g transform=\"translate(48.279916 163.910999)scale(0.0833 -0.0833)\">\r\n       <use xlink:href=\"#DejaVuSans-65\"/>\r\n       <use x=\"68.408203\" xlink:href=\"#DejaVuSans-114\"/>\r\n       <use x=\"109.505859\" xlink:href=\"#DejaVuSans-114\"/>\r\n       <use x=\"150.619141\" xlink:href=\"#DejaVuSans-105\"/>\r\n       <use x=\"178.402344\" xlink:href=\"#DejaVuSans-118\"/>\r\n       <use x=\"237.582031\" xlink:href=\"#DejaVuSans-97\"/>\r\n       <use x=\"298.861328\" xlink:href=\"#DejaVuSans-108\"/>\r\n       <use x=\"326.644531\" xlink:href=\"#DejaVuSans-95\"/>\r\n       <use x=\"376.644531\" xlink:href=\"#DejaVuSans-97\"/>\r\n       <use x=\"437.923828\" xlink:href=\"#DejaVuSans-116\"/>\r\n       <use x=\"477.132812\" xlink:href=\"#DejaVuSans-95\"/>\r\n       <use x=\"527.132812\" xlink:href=\"#DejaVuSans-80\"/>\r\n       <use x=\"587.404297\" xlink:href=\"#DejaVuSans-105\"/>\r\n       <use x=\"615.1875\" xlink:href=\"#DejaVuSans-99\"/>\r\n       <use x=\"670.167969\" xlink:href=\"#DejaVuSans-107\"/>\r\n       <use x=\"728.03125\" xlink:href=\"#DejaVuSans-117\"/>\r\n       <use x=\"791.410156\" xlink:href=\"#DejaVuSans-112\"/>\r\n       <use x=\"854.886719\" xlink:href=\"#DejaVuSans-95\"/>\r\n       <use x=\"904.886719\" xlink:href=\"#DejaVuSans-87\"/>\r\n       <use x=\"1003.685547\" xlink:href=\"#DejaVuSans-101\"/>\r\n       <use x=\"1065.208984\" xlink:href=\"#DejaVuSans-101\"/>\r\n       <use x=\"1126.732422\" xlink:href=\"#DejaVuSans-107\"/>\r\n       <use x=\"1184.642578\" xlink:href=\"#DejaVuSans-100\"/>\r\n       <use x=\"1248.119141\" xlink:href=\"#DejaVuSans-97\"/>\r\n       <use x=\"1309.398438\" xlink:href=\"#DejaVuSans-121\"/>\r\n      </g>\r\n     </g>\r\n    </g>\r\n    <g id=\"ytick_32\">\r\n     <g id=\"line2d_138\">\r\n      <g>\r\n       <use style=\"stroke:#000000;stroke-width:0.8;\" x=\"169.283775\" xlink:href=\"#md8f9de8fba\" y=\"135.5775\"/>\r\n      </g>\r\n     </g>\r\n     <g id=\"text_68\">\r\n      <!-- Arrival_at_Pickup_Day_of_Month -->\r\n      <g transform=\"translate(27.991159 138.742249)scale(0.0833 -0.0833)\">\r\n       <use xlink:href=\"#DejaVuSans-65\"/>\r\n       <use x=\"68.408203\" xlink:href=\"#DejaVuSans-114\"/>\r\n       <use x=\"109.505859\" xlink:href=\"#DejaVuSans-114\"/>\r\n       <use x=\"150.619141\" xlink:href=\"#DejaVuSans-105\"/>\r\n       <use x=\"178.402344\" xlink:href=\"#DejaVuSans-118\"/>\r\n       <use x=\"237.582031\" xlink:href=\"#DejaVuSans-97\"/>\r\n       <use x=\"298.861328\" xlink:href=\"#DejaVuSans-108\"/>\r\n       <use x=\"326.644531\" xlink:href=\"#DejaVuSans-95\"/>\r\n       <use x=\"376.644531\" xlink:href=\"#DejaVuSans-97\"/>\r\n       <use x=\"437.923828\" xlink:href=\"#DejaVuSans-116\"/>\r\n       <use x=\"477.132812\" xlink:href=\"#DejaVuSans-95\"/>\r\n       <use x=\"527.132812\" xlink:href=\"#DejaVuSans-80\"/>\r\n       <use x=\"587.404297\" xlink:href=\"#DejaVuSans-105\"/>\r\n       <use x=\"615.1875\" xlink:href=\"#DejaVuSans-99\"/>\r\n       <use x=\"670.167969\" xlink:href=\"#DejaVuSans-107\"/>\r\n       <use x=\"728.03125\" xlink:href=\"#DejaVuSans-117\"/>\r\n       <use x=\"791.410156\" xlink:href=\"#DejaVuSans-112\"/>\r\n       <use x=\"854.886719\" xlink:href=\"#DejaVuSans-95\"/>\r\n       <use x=\"904.886719\" xlink:href=\"#DejaVuSans-68\"/>\r\n       <use x=\"981.888672\" xlink:href=\"#DejaVuSans-97\"/>\r\n       <use x=\"1043.167969\" xlink:href=\"#DejaVuSans-121\"/>\r\n       <use x=\"1102.347656\" xlink:href=\"#DejaVuSans-95\"/>\r\n       <use x=\"1152.347656\" xlink:href=\"#DejaVuSans-111\"/>\r\n       <use x=\"1213.529297\" xlink:href=\"#DejaVuSans-102\"/>\r\n       <use x=\"1248.734375\" xlink:href=\"#DejaVuSans-95\"/>\r\n       <use x=\"1298.734375\" xlink:href=\"#DejaVuSans-77\"/>\r\n       <use x=\"1385.013672\" xlink:href=\"#DejaVuSans-111\"/>\r\n       <use x=\"1446.195312\" xlink:href=\"#DejaVuSans-110\"/>\r\n       <use x=\"1509.574219\" xlink:href=\"#DejaVuSans-116\"/>\r\n       <use x=\"1548.783203\" xlink:href=\"#DejaVuSans-104\"/>\r\n      </g>\r\n     </g>\r\n    </g>\r\n    <g id=\"ytick_33\">\r\n     <g id=\"line2d_139\">\r\n      <g>\r\n       <use style=\"stroke:#000000;stroke-width:0.8;\" x=\"169.283775\" xlink:href=\"#md8f9de8fba\" y=\"110.40875\"/>\r\n      </g>\r\n     </g>\r\n     <g id=\"text_69\">\r\n      <!-- Confirmation_Weekday -->\r\n      <g transform=\"translate(65.454033 113.573499)scale(0.0833 -0.0833)\">\r\n       <use xlink:href=\"#DejaVuSans-67\"/>\r\n       <use x=\"69.824219\" xlink:href=\"#DejaVuSans-111\"/>\r\n       <use x=\"131.005859\" xlink:href=\"#DejaVuSans-110\"/>\r\n       <use x=\"194.384766\" xlink:href=\"#DejaVuSans-102\"/>\r\n       <use x=\"229.589844\" xlink:href=\"#DejaVuSans-105\"/>\r\n       <use x=\"257.373047\" xlink:href=\"#DejaVuSans-114\"/>\r\n       <use x=\"298.470703\" xlink:href=\"#DejaVuSans-109\"/>\r\n       <use x=\"395.882812\" xlink:href=\"#DejaVuSans-97\"/>\r\n       <use x=\"457.162109\" xlink:href=\"#DejaVuSans-116\"/>\r\n       <use x=\"496.371094\" xlink:href=\"#DejaVuSans-105\"/>\r\n       <use x=\"524.154297\" xlink:href=\"#DejaVuSans-111\"/>\r\n       <use x=\"585.335938\" xlink:href=\"#DejaVuSans-110\"/>\r\n       <use x=\"648.714844\" xlink:href=\"#DejaVuSans-95\"/>\r\n       <use x=\"698.714844\" xlink:href=\"#DejaVuSans-87\"/>\r\n       <use x=\"797.513672\" xlink:href=\"#DejaVuSans-101\"/>\r\n       <use x=\"859.037109\" xlink:href=\"#DejaVuSans-101\"/>\r\n       <use x=\"920.560547\" xlink:href=\"#DejaVuSans-107\"/>\r\n       <use x=\"978.470703\" xlink:href=\"#DejaVuSans-100\"/>\r\n       <use x=\"1041.947266\" xlink:href=\"#DejaVuSans-97\"/>\r\n       <use x=\"1103.226562\" xlink:href=\"#DejaVuSans-121\"/>\r\n      </g>\r\n     </g>\r\n    </g>\r\n    <g id=\"ytick_34\">\r\n     <g id=\"line2d_140\">\r\n      <g>\r\n       <use style=\"stroke:#000000;stroke-width:0.8;\" x=\"169.283775\" xlink:href=\"#md8f9de8fba\" y=\"85.24\"/>\r\n      </g>\r\n     </g>\r\n     <g id=\"text_70\">\r\n      <!-- Confirmation_Day_of_Month -->\r\n      <g transform=\"translate(45.165277 88.404749)scale(0.0833 -0.0833)\">\r\n       <use xlink:href=\"#DejaVuSans-67\"/>\r\n       <use x=\"69.824219\" xlink:href=\"#DejaVuSans-111\"/>\r\n       <use x=\"131.005859\" xlink:href=\"#DejaVuSans-110\"/>\r\n       <use x=\"194.384766\" xlink:href=\"#DejaVuSans-102\"/>\r\n       <use x=\"229.589844\" xlink:href=\"#DejaVuSans-105\"/>\r\n       <use x=\"257.373047\" xlink:href=\"#DejaVuSans-114\"/>\r\n       <use x=\"298.470703\" xlink:href=\"#DejaVuSans-109\"/>\r\n       <use x=\"395.882812\" xlink:href=\"#DejaVuSans-97\"/>\r\n       <use x=\"457.162109\" xlink:href=\"#DejaVuSans-116\"/>\r\n       <use x=\"496.371094\" xlink:href=\"#DejaVuSans-105\"/>\r\n       <use x=\"524.154297\" xlink:href=\"#DejaVuSans-111\"/>\r\n       <use x=\"585.335938\" xlink:href=\"#DejaVuSans-110\"/>\r\n       <use x=\"648.714844\" xlink:href=\"#DejaVuSans-95\"/>\r\n       <use x=\"698.714844\" xlink:href=\"#DejaVuSans-68\"/>\r\n       <use x=\"775.716797\" xlink:href=\"#DejaVuSans-97\"/>\r\n       <use x=\"836.996094\" xlink:href=\"#DejaVuSans-121\"/>\r\n       <use x=\"896.175781\" xlink:href=\"#DejaVuSans-95\"/>\r\n       <use x=\"946.175781\" xlink:href=\"#DejaVuSans-111\"/>\r\n       <use x=\"1007.357422\" xlink:href=\"#DejaVuSans-102\"/>\r\n       <use x=\"1042.5625\" xlink:href=\"#DejaVuSans-95\"/>\r\n       <use x=\"1092.5625\" xlink:href=\"#DejaVuSans-77\"/>\r\n       <use x=\"1178.841797\" xlink:href=\"#DejaVuSans-111\"/>\r\n       <use x=\"1240.023438\" xlink:href=\"#DejaVuSans-110\"/>\r\n       <use x=\"1303.402344\" xlink:href=\"#DejaVuSans-116\"/>\r\n       <use x=\"1342.611328\" xlink:href=\"#DejaVuSans-104\"/>\r\n      </g>\r\n     </g>\r\n    </g>\r\n    <g id=\"ytick_35\">\r\n     <g id=\"line2d_141\">\r\n      <g>\r\n       <use style=\"stroke:#000000;stroke-width:0.8;\" x=\"169.283775\" xlink:href=\"#md8f9de8fba\" y=\"60.07125\"/>\r\n      </g>\r\n     </g>\r\n     <g id=\"text_71\">\r\n      <!-- Placement_Weekday -->\r\n      <g transform=\"translate(75.559364 63.235999)scale(0.0833 -0.0833)\">\r\n       <use xlink:href=\"#DejaVuSans-80\"/>\r\n       <use x=\"60.302734\" xlink:href=\"#DejaVuSans-108\"/>\r\n       <use x=\"88.085938\" xlink:href=\"#DejaVuSans-97\"/>\r\n       <use x=\"149.365234\" xlink:href=\"#DejaVuSans-99\"/>\r\n       <use x=\"204.345703\" xlink:href=\"#DejaVuSans-101\"/>\r\n       <use x=\"265.869141\" xlink:href=\"#DejaVuSans-109\"/>\r\n       <use x=\"363.28125\" xlink:href=\"#DejaVuSans-101\"/>\r\n       <use x=\"424.804688\" xlink:href=\"#DejaVuSans-110\"/>\r\n       <use x=\"488.183594\" xlink:href=\"#DejaVuSans-116\"/>\r\n       <use x=\"527.392578\" xlink:href=\"#DejaVuSans-95\"/>\r\n       <use x=\"577.392578\" xlink:href=\"#DejaVuSans-87\"/>\r\n       <use x=\"676.191406\" xlink:href=\"#DejaVuSans-101\"/>\r\n       <use x=\"737.714844\" xlink:href=\"#DejaVuSans-101\"/>\r\n       <use x=\"799.238281\" xlink:href=\"#DejaVuSans-107\"/>\r\n       <use x=\"857.148438\" xlink:href=\"#DejaVuSans-100\"/>\r\n       <use x=\"920.625\" xlink:href=\"#DejaVuSans-97\"/>\r\n       <use x=\"981.904297\" xlink:href=\"#DejaVuSans-121\"/>\r\n      </g>\r\n     </g>\r\n    </g>\r\n    <g id=\"ytick_36\">\r\n     <g id=\"line2d_142\">\r\n      <g>\r\n       <use style=\"stroke:#000000;stroke-width:0.8;\" x=\"169.283775\" xlink:href=\"#md8f9de8fba\" y=\"34.9025\"/>\r\n      </g>\r\n     </g>\r\n     <g id=\"text_72\">\r\n      <!-- Placement_Day_of_Month -->\r\n      <g transform=\"translate(55.270608 38.067249)scale(0.0833 -0.0833)\">\r\n       <use xlink:href=\"#DejaVuSans-80\"/>\r\n       <use x=\"60.302734\" xlink:href=\"#DejaVuSans-108\"/>\r\n       <use x=\"88.085938\" xlink:href=\"#DejaVuSans-97\"/>\r\n       <use x=\"149.365234\" xlink:href=\"#DejaVuSans-99\"/>\r\n       <use x=\"204.345703\" xlink:href=\"#DejaVuSans-101\"/>\r\n       <use x=\"265.869141\" xlink:href=\"#DejaVuSans-109\"/>\r\n       <use x=\"363.28125\" xlink:href=\"#DejaVuSans-101\"/>\r\n       <use x=\"424.804688\" xlink:href=\"#DejaVuSans-110\"/>\r\n       <use x=\"488.183594\" xlink:href=\"#DejaVuSans-116\"/>\r\n       <use x=\"527.392578\" xlink:href=\"#DejaVuSans-95\"/>\r\n       <use x=\"577.392578\" xlink:href=\"#DejaVuSans-68\"/>\r\n       <use x=\"654.394531\" xlink:href=\"#DejaVuSans-97\"/>\r\n       <use x=\"715.673828\" xlink:href=\"#DejaVuSans-121\"/>\r\n       <use x=\"774.853516\" xlink:href=\"#DejaVuSans-95\"/>\r\n       <use x=\"824.853516\" xlink:href=\"#DejaVuSans-111\"/>\r\n       <use x=\"886.035156\" xlink:href=\"#DejaVuSans-102\"/>\r\n       <use x=\"921.240234\" xlink:href=\"#DejaVuSans-95\"/>\r\n       <use x=\"971.240234\" xlink:href=\"#DejaVuSans-77\"/>\r\n       <use x=\"1057.519531\" xlink:href=\"#DejaVuSans-111\"/>\r\n       <use x=\"1118.701172\" xlink:href=\"#DejaVuSans-110\"/>\r\n       <use x=\"1182.080078\" xlink:href=\"#DejaVuSans-116\"/>\r\n       <use x=\"1221.289062\" xlink:href=\"#DejaVuSans-104\"/>\r\n      </g>\r\n     </g>\r\n    </g>\r\n    <g id=\"ytick_37\">\r\n     <g id=\"line2d_143\">\r\n      <path clip-path=\"url(#pbf6cde50d7)\" d=\"M 169.283775 903.224375 \r\nL 1075.358775 903.224375 \r\n\" style=\"fill:none;stroke:#ffffff;stroke-linecap:square;\"/>\r\n     </g>\r\n     <g id=\"line2d_144\"/>\r\n    </g>\r\n    <g id=\"ytick_38\">\r\n     <g id=\"line2d_145\">\r\n      <path clip-path=\"url(#pbf6cde50d7)\" d=\"M 169.283775 878.055625 \r\nL 1075.358775 878.055625 \r\n\" style=\"fill:none;stroke:#ffffff;stroke-linecap:square;\"/>\r\n     </g>\r\n     <g id=\"line2d_146\"/>\r\n    </g>\r\n    <g id=\"ytick_39\">\r\n     <g id=\"line2d_147\">\r\n      <path clip-path=\"url(#pbf6cde50d7)\" d=\"M 169.283775 852.886875 \r\nL 1075.358775 852.886875 \r\n\" style=\"fill:none;stroke:#ffffff;stroke-linecap:square;\"/>\r\n     </g>\r\n     <g id=\"line2d_148\"/>\r\n    </g>\r\n    <g id=\"ytick_40\">\r\n     <g id=\"line2d_149\">\r\n      <path clip-path=\"url(#pbf6cde50d7)\" d=\"M 169.283775 827.718125 \r\nL 1075.358775 827.718125 \r\n\" style=\"fill:none;stroke:#ffffff;stroke-linecap:square;\"/>\r\n     </g>\r\n     <g id=\"line2d_150\"/>\r\n    </g>\r\n    <g id=\"ytick_41\">\r\n     <g id=\"line2d_151\">\r\n      <path clip-path=\"url(#pbf6cde50d7)\" d=\"M 169.283775 802.549375 \r\nL 1075.358775 802.549375 \r\n\" style=\"fill:none;stroke:#ffffff;stroke-linecap:square;\"/>\r\n     </g>\r\n     <g id=\"line2d_152\"/>\r\n    </g>\r\n    <g id=\"ytick_42\">\r\n     <g id=\"line2d_153\">\r\n      <path clip-path=\"url(#pbf6cde50d7)\" d=\"M 169.283775 777.380625 \r\nL 1075.358775 777.380625 \r\n\" style=\"fill:none;stroke:#ffffff;stroke-linecap:square;\"/>\r\n     </g>\r\n     <g id=\"line2d_154\"/>\r\n    </g>\r\n    <g id=\"ytick_43\">\r\n     <g id=\"line2d_155\">\r\n      <path clip-path=\"url(#pbf6cde50d7)\" d=\"M 169.283775 752.211875 \r\nL 1075.358775 752.211875 \r\n\" style=\"fill:none;stroke:#ffffff;stroke-linecap:square;\"/>\r\n     </g>\r\n     <g id=\"line2d_156\"/>\r\n    </g>\r\n    <g id=\"ytick_44\">\r\n     <g id=\"line2d_157\">\r\n      <path clip-path=\"url(#pbf6cde50d7)\" d=\"M 169.283775 727.043125 \r\nL 1075.358775 727.043125 \r\n\" style=\"fill:none;stroke:#ffffff;stroke-linecap:square;\"/>\r\n     </g>\r\n     <g id=\"line2d_158\"/>\r\n    </g>\r\n    <g id=\"ytick_45\">\r\n     <g id=\"line2d_159\">\r\n      <path clip-path=\"url(#pbf6cde50d7)\" d=\"M 169.283775 701.874375 \r\nL 1075.358775 701.874375 \r\n\" style=\"fill:none;stroke:#ffffff;stroke-linecap:square;\"/>\r\n     </g>\r\n     <g id=\"line2d_160\"/>\r\n    </g>\r\n    <g id=\"ytick_46\">\r\n     <g id=\"line2d_161\">\r\n      <path clip-path=\"url(#pbf6cde50d7)\" d=\"M 169.283775 676.705625 \r\nL 1075.358775 676.705625 \r\n\" style=\"fill:none;stroke:#ffffff;stroke-linecap:square;\"/>\r\n     </g>\r\n     <g id=\"line2d_162\"/>\r\n    </g>\r\n    <g id=\"ytick_47\">\r\n     <g id=\"line2d_163\">\r\n      <path clip-path=\"url(#pbf6cde50d7)\" d=\"M 169.283775 651.536875 \r\nL 1075.358775 651.536875 \r\n\" style=\"fill:none;stroke:#ffffff;stroke-linecap:square;\"/>\r\n     </g>\r\n     <g id=\"line2d_164\"/>\r\n    </g>\r\n    <g id=\"ytick_48\">\r\n     <g id=\"line2d_165\">\r\n      <path clip-path=\"url(#pbf6cde50d7)\" d=\"M 169.283775 626.368125 \r\nL 1075.358775 626.368125 \r\n\" style=\"fill:none;stroke:#ffffff;stroke-linecap:square;\"/>\r\n     </g>\r\n     <g id=\"line2d_166\"/>\r\n    </g>\r\n    <g id=\"ytick_49\">\r\n     <g id=\"line2d_167\">\r\n      <path clip-path=\"url(#pbf6cde50d7)\" d=\"M 169.283775 601.199375 \r\nL 1075.358775 601.199375 \r\n\" style=\"fill:none;stroke:#ffffff;stroke-linecap:square;\"/>\r\n     </g>\r\n     <g id=\"line2d_168\"/>\r\n    </g>\r\n    <g id=\"ytick_50\">\r\n     <g id=\"line2d_169\">\r\n      <path clip-path=\"url(#pbf6cde50d7)\" d=\"M 169.283775 576.030625 \r\nL 1075.358775 576.030625 \r\n\" style=\"fill:none;stroke:#ffffff;stroke-linecap:square;\"/>\r\n     </g>\r\n     <g id=\"line2d_170\"/>\r\n    </g>\r\n    <g id=\"ytick_51\">\r\n     <g id=\"line2d_171\">\r\n      <path clip-path=\"url(#pbf6cde50d7)\" d=\"M 169.283775 550.861875 \r\nL 1075.358775 550.861875 \r\n\" style=\"fill:none;stroke:#ffffff;stroke-linecap:square;\"/>\r\n     </g>\r\n     <g id=\"line2d_172\"/>\r\n    </g>\r\n    <g id=\"ytick_52\">\r\n     <g id=\"line2d_173\">\r\n      <path clip-path=\"url(#pbf6cde50d7)\" d=\"M 169.283775 525.693125 \r\nL 1075.358775 525.693125 \r\n\" style=\"fill:none;stroke:#ffffff;stroke-linecap:square;\"/>\r\n     </g>\r\n     <g id=\"line2d_174\"/>\r\n    </g>\r\n    <g id=\"ytick_53\">\r\n     <g id=\"line2d_175\">\r\n      <path clip-path=\"url(#pbf6cde50d7)\" d=\"M 169.283775 500.524375 \r\nL 1075.358775 500.524375 \r\n\" style=\"fill:none;stroke:#ffffff;stroke-linecap:square;\"/>\r\n     </g>\r\n     <g id=\"line2d_176\"/>\r\n    </g>\r\n    <g id=\"ytick_54\">\r\n     <g id=\"line2d_177\">\r\n      <path clip-path=\"url(#pbf6cde50d7)\" d=\"M 169.283775 475.355625 \r\nL 1075.358775 475.355625 \r\n\" style=\"fill:none;stroke:#ffffff;stroke-linecap:square;\"/>\r\n     </g>\r\n     <g id=\"line2d_178\"/>\r\n    </g>\r\n    <g id=\"ytick_55\">\r\n     <g id=\"line2d_179\">\r\n      <path clip-path=\"url(#pbf6cde50d7)\" d=\"M 169.283775 450.186875 \r\nL 1075.358775 450.186875 \r\n\" style=\"fill:none;stroke:#ffffff;stroke-linecap:square;\"/>\r\n     </g>\r\n     <g id=\"line2d_180\"/>\r\n    </g>\r\n    <g id=\"ytick_56\">\r\n     <g id=\"line2d_181\">\r\n      <path clip-path=\"url(#pbf6cde50d7)\" d=\"M 169.283775 425.018125 \r\nL 1075.358775 425.018125 \r\n\" style=\"fill:none;stroke:#ffffff;stroke-linecap:square;\"/>\r\n     </g>\r\n     <g id=\"line2d_182\"/>\r\n    </g>\r\n    <g id=\"ytick_57\">\r\n     <g id=\"line2d_183\">\r\n      <path clip-path=\"url(#pbf6cde50d7)\" d=\"M 169.283775 399.849375 \r\nL 1075.358775 399.849375 \r\n\" style=\"fill:none;stroke:#ffffff;stroke-linecap:square;\"/>\r\n     </g>\r\n     <g id=\"line2d_184\"/>\r\n    </g>\r\n    <g id=\"ytick_58\">\r\n     <g id=\"line2d_185\">\r\n      <path clip-path=\"url(#pbf6cde50d7)\" d=\"M 169.283775 374.680625 \r\nL 1075.358775 374.680625 \r\n\" style=\"fill:none;stroke:#ffffff;stroke-linecap:square;\"/>\r\n     </g>\r\n     <g id=\"line2d_186\"/>\r\n    </g>\r\n    <g id=\"ytick_59\">\r\n     <g id=\"line2d_187\">\r\n      <path clip-path=\"url(#pbf6cde50d7)\" d=\"M 169.283775 349.511875 \r\nL 1075.358775 349.511875 \r\n\" style=\"fill:none;stroke:#ffffff;stroke-linecap:square;\"/>\r\n     </g>\r\n     <g id=\"line2d_188\"/>\r\n    </g>\r\n    <g id=\"ytick_60\">\r\n     <g id=\"line2d_189\">\r\n      <path clip-path=\"url(#pbf6cde50d7)\" d=\"M 169.283775 324.343125 \r\nL 1075.358775 324.343125 \r\n\" style=\"fill:none;stroke:#ffffff;stroke-linecap:square;\"/>\r\n     </g>\r\n     <g id=\"line2d_190\"/>\r\n    </g>\r\n    <g id=\"ytick_61\">\r\n     <g id=\"line2d_191\">\r\n      <path clip-path=\"url(#pbf6cde50d7)\" d=\"M 169.283775 299.174375 \r\nL 1075.358775 299.174375 \r\n\" style=\"fill:none;stroke:#ffffff;stroke-linecap:square;\"/>\r\n     </g>\r\n     <g id=\"line2d_192\"/>\r\n    </g>\r\n    <g id=\"ytick_62\">\r\n     <g id=\"line2d_193\">\r\n      <path clip-path=\"url(#pbf6cde50d7)\" d=\"M 169.283775 274.005625 \r\nL 1075.358775 274.005625 \r\n\" style=\"fill:none;stroke:#ffffff;stroke-linecap:square;\"/>\r\n     </g>\r\n     <g id=\"line2d_194\"/>\r\n    </g>\r\n    <g id=\"ytick_63\">\r\n     <g id=\"line2d_195\">\r\n      <path clip-path=\"url(#pbf6cde50d7)\" d=\"M 169.283775 248.836875 \r\nL 1075.358775 248.836875 \r\n\" style=\"fill:none;stroke:#ffffff;stroke-linecap:square;\"/>\r\n     </g>\r\n     <g id=\"line2d_196\"/>\r\n    </g>\r\n    <g id=\"ytick_64\">\r\n     <g id=\"line2d_197\">\r\n      <path clip-path=\"url(#pbf6cde50d7)\" d=\"M 169.283775 223.668125 \r\nL 1075.358775 223.668125 \r\n\" style=\"fill:none;stroke:#ffffff;stroke-linecap:square;\"/>\r\n     </g>\r\n     <g id=\"line2d_198\"/>\r\n    </g>\r\n    <g id=\"ytick_65\">\r\n     <g id=\"line2d_199\">\r\n      <path clip-path=\"url(#pbf6cde50d7)\" d=\"M 169.283775 198.499375 \r\nL 1075.358775 198.499375 \r\n\" style=\"fill:none;stroke:#ffffff;stroke-linecap:square;\"/>\r\n     </g>\r\n     <g id=\"line2d_200\"/>\r\n    </g>\r\n    <g id=\"ytick_66\">\r\n     <g id=\"line2d_201\">\r\n      <path clip-path=\"url(#pbf6cde50d7)\" d=\"M 169.283775 173.330625 \r\nL 1075.358775 173.330625 \r\n\" style=\"fill:none;stroke:#ffffff;stroke-linecap:square;\"/>\r\n     </g>\r\n     <g id=\"line2d_202\"/>\r\n    </g>\r\n    <g id=\"ytick_67\">\r\n     <g id=\"line2d_203\">\r\n      <path clip-path=\"url(#pbf6cde50d7)\" d=\"M 169.283775 148.161875 \r\nL 1075.358775 148.161875 \r\n\" style=\"fill:none;stroke:#ffffff;stroke-linecap:square;\"/>\r\n     </g>\r\n     <g id=\"line2d_204\"/>\r\n    </g>\r\n    <g id=\"ytick_68\">\r\n     <g id=\"line2d_205\">\r\n      <path clip-path=\"url(#pbf6cde50d7)\" d=\"M 169.283775 122.993125 \r\nL 1075.358775 122.993125 \r\n\" style=\"fill:none;stroke:#ffffff;stroke-linecap:square;\"/>\r\n     </g>\r\n     <g id=\"line2d_206\"/>\r\n    </g>\r\n    <g id=\"ytick_69\">\r\n     <g id=\"line2d_207\">\r\n      <path clip-path=\"url(#pbf6cde50d7)\" d=\"M 169.283775 97.824375 \r\nL 1075.358775 97.824375 \r\n\" style=\"fill:none;stroke:#ffffff;stroke-linecap:square;\"/>\r\n     </g>\r\n     <g id=\"line2d_208\"/>\r\n    </g>\r\n    <g id=\"ytick_70\">\r\n     <g id=\"line2d_209\">\r\n      <path clip-path=\"url(#pbf6cde50d7)\" d=\"M 169.283775 72.655625 \r\nL 1075.358775 72.655625 \r\n\" style=\"fill:none;stroke:#ffffff;stroke-linecap:square;\"/>\r\n     </g>\r\n     <g id=\"line2d_210\"/>\r\n    </g>\r\n    <g id=\"ytick_71\">\r\n     <g id=\"line2d_211\">\r\n      <path clip-path=\"url(#pbf6cde50d7)\" d=\"M 169.283775 47.486875 \r\nL 1075.358775 47.486875 \r\n\" style=\"fill:none;stroke:#ffffff;stroke-linecap:square;\"/>\r\n     </g>\r\n     <g id=\"line2d_212\"/>\r\n    </g>\r\n   </g>\r\n   <g id=\"patch_3\">\r\n    <path d=\"M 169.283775 928.393125 \r\nL 169.283775 22.318125 \r\n\" style=\"fill:none;stroke:#000000;stroke-linecap:square;stroke-linejoin:miter;stroke-width:0.8;\"/>\r\n   </g>\r\n   <g id=\"patch_4\">\r\n    <path d=\"M 1075.358775 928.393125 \r\nL 1075.358775 22.318125 \r\n\" style=\"fill:none;stroke:#000000;stroke-linecap:square;stroke-linejoin:miter;stroke-width:0.8;\"/>\r\n   </g>\r\n   <g id=\"patch_5\">\r\n    <path d=\"M 169.283775 928.393125 \r\nL 1075.358775 928.393125 \r\n\" style=\"fill:none;stroke:#000000;stroke-linecap:square;stroke-linejoin:miter;stroke-width:0.8;\"/>\r\n   </g>\r\n   <g id=\"patch_6\">\r\n    <path d=\"M 169.283775 22.318125 \r\nL 1075.358775 22.318125 \r\n\" style=\"fill:none;stroke:#000000;stroke-linecap:square;stroke-linejoin:miter;stroke-width:0.8;\"/>\r\n   </g>\r\n   <g id=\"text_73\">\r\n    <!-- Correlation Matrix -->\r\n    <defs>\r\n     <path id=\"DejaVuSans-32\"/>\r\n     <path d=\"M 54.890625 54.6875 \r\nL 35.109375 28.078125 \r\nL 55.90625 0 \r\nL 45.3125 0 \r\nL 29.390625 21.484375 \r\nL 13.484375 0 \r\nL 2.875 0 \r\nL 24.125 28.609375 \r\nL 4.6875 54.6875 \r\nL 15.28125 54.6875 \r\nL 29.78125 35.203125 \r\nL 44.28125 54.6875 \r\nz\r\n\" id=\"DejaVuSans-120\"/>\r\n    </defs>\r\n    <g transform=\"translate(568.204088 16.318125)scale(0.12 -0.12)\">\r\n     <use xlink:href=\"#DejaVuSans-67\"/>\r\n     <use x=\"69.824219\" xlink:href=\"#DejaVuSans-111\"/>\r\n     <use x=\"131.005859\" xlink:href=\"#DejaVuSans-114\"/>\r\n     <use x=\"172.103516\" xlink:href=\"#DejaVuSans-114\"/>\r\n     <use x=\"213.185547\" xlink:href=\"#DejaVuSans-101\"/>\r\n     <use x=\"274.708984\" xlink:href=\"#DejaVuSans-108\"/>\r\n     <use x=\"302.492188\" xlink:href=\"#DejaVuSans-97\"/>\r\n     <use x=\"363.771484\" xlink:href=\"#DejaVuSans-116\"/>\r\n     <use x=\"402.980469\" xlink:href=\"#DejaVuSans-105\"/>\r\n     <use x=\"430.763672\" xlink:href=\"#DejaVuSans-111\"/>\r\n     <use x=\"491.945312\" xlink:href=\"#DejaVuSans-110\"/>\r\n     <use x=\"555.324219\" xlink:href=\"#DejaVuSans-32\"/>\r\n     <use x=\"587.111328\" xlink:href=\"#DejaVuSans-77\"/>\r\n     <use x=\"673.390625\" xlink:href=\"#DejaVuSans-97\"/>\r\n     <use x=\"734.669922\" xlink:href=\"#DejaVuSans-116\"/>\r\n     <use x=\"773.878906\" xlink:href=\"#DejaVuSans-114\"/>\r\n     <use x=\"814.992188\" xlink:href=\"#DejaVuSans-105\"/>\r\n     <use x=\"842.775391\" xlink:href=\"#DejaVuSans-120\"/>\r\n    </g>\r\n   </g>\r\n  </g>\r\n </g>\r\n <defs>\r\n  <clipPath id=\"pbf6cde50d7\">\r\n   <rect height=\"906.075\" width=\"906.075\" x=\"169.283775\" y=\"22.318125\"/>\r\n  </clipPath>\r\n </defs>\r\n</svg>\r\n",
      "image/png": "[encoded data removed]"
     },
     "metadata": {
      "needs_background": "light"
     }
    }
   ],
   "source": [
    "from statsmodels.graphics.correlation import plot_corr\n",
    "\n",
    "fig = plt.figure(figsize=(15,15));\n",
    "ax = fig.add_subplot(111);\n",
    "plot_corr(train_dummies.corr(), xnames = train_dummies.corr().columns, ax = ax);"
   ]
  },
  {
   "cell_type": "markdown",
   "metadata": {
    "colab_type": "text",
    "id": "t-MXNwJ5prf4"
   },
   "source": [
    "It can be seen from the correlation heatmap that it is not the best idea to keep all of the variables.\n",
    "\n",
    "If all of these variables are used, we're effectively working with superfluous or redundant information. \n",
    "\n",
    "Our model also exhibits the issue of multicollinearity.\n",
    "\n",
    "This will likely be a problem when the model is built - an OLS summary will now be inspected. "
   ]
  },
  {
   "cell_type": "markdown",
   "metadata": {
    "colab_type": "text",
    "id": "DZW7B-fRuam5"
   },
   "source": [
    "### Fitting the model using OLS"
   ]
  },
  {
   "cell_type": "code",
   "execution_count": 28,
   "metadata": {
    "colab": {
     "base_uri": "https://localhost:8080/",
     "height": 105
    },
    "colab_type": "code",
    "executionInfo": {
     "elapsed": 46360,
     "status": "ok",
     "timestamp": 1590332446384,
     "user": {
      "displayName": "abdullah shaikh",
      "photoUrl": "",
      "userId": "08883111522238731033"
     },
     "user_tz": -120
    },
    "id": "geUJ6Z7DFP-t",
    "outputId": "a0fa93fa-aaca-48b3-9684-19e18d4e28fa"
   },
   "outputs": [
    {
     "output_type": "stream",
     "name": "stdout",
     "text": "Formula:\n\t Time_from_Pickup_to_Arrival ~ Placement_Day_of_Month + Placement_Weekday + Confirmation_Day_of_Month + Confirmation_Weekday + Arrival_at_Pickup_Day_of_Month + Arrival_at_Pickup_Weekday + Pickup_Day_of_Month + Pickup_Weekday + Distance_KM + Temperature + Precipitation_in_millimeters + No_Of_Orders + Age + Average_Rating + No_of_Ratings + Personal_or_Business_Personal + Platform_Type_2 + Platform_Type_3 + Platform_Type_4 + Arrival_at_Pickup_Time_EarlyMorning + Arrival_at_Pickup_Time_Evening + Arrival_at_Pickup_Time_Morning + Arrival_at_Pickup_Time_Night + Confirmation_Time_EarlyMorning + Confirmation_Time_Evening + Confirmation_Time_Morning + Confirmation_Time_Night + Placement_Time_EarlyMorning + Placement_Time_Evening + Placement_Time_Morning + Placement_Time_Night + Pickup_Time_EarlyMorning + Pickup_Time_Evening + Pickup_Time_Morning + Pickup_Time_Night\n"
    }
   ],
   "source": [
    "from statsmodels.formula.api import ols\n",
    "\n",
    "# Model DataFrame with all of the columns:\n",
    "dm = train_dummies.copy()\n",
    "\n",
    "# The dependent variable:\n",
    "y_name = 'Time_from_Pickup_to_Arrival'\n",
    "# The independent variable:\n",
    "# (let's first try all of the columns in the model DataFrame)\n",
    "X_names = [col for col in dm.columns if col != y_name]\n",
    "\n",
    "# Build the OLS formula string \" y ~ X \"\n",
    "formula_str = y_name+\" ~ \"+\" + \".join(X_names);\n",
    "print('Formula:\\n\\t {}'.format(formula_str))"
   ]
  },
  {
   "cell_type": "code",
   "execution_count": 29,
   "metadata": {
    "colab": {
     "base_uri": "https://localhost:8080/",
     "height": 1000
    },
    "colab_type": "code",
    "executionInfo": {
     "elapsed": 46336,
     "status": "ok",
     "timestamp": 1590332446386,
     "user": {
      "displayName": "abdullah shaikh",
      "photoUrl": "",
      "userId": "08883111522238731033"
     },
     "user_tz": -120
    },
    "id": "K_r8qV83dYAN",
    "outputId": "05bc87e7-c041-4cdf-e0f9-48c8d2a8972b"
   },
   "outputs": [
    {
     "output_type": "stream",
     "name": "stdout",
     "text": "OLS Regression Results                                \n=======================================================================================\nDep. Variable:     Time_from_Pickup_to_Arrival   R-squared:                       0.350\nModel:                                     OLS   Adj. R-squared:                  0.349\nMethod:                          Least Squares   F-statistic:                     379.7\nDate:                         Mon, 01 Jun 2020   Prob (F-statistic):               0.00\nTime:                                 06:41:35   Log-Likelihood:            -1.7170e+05\nNo. Observations:                        21201   AIC:                         3.435e+05\nDf Residuals:                            21170   BIC:                         3.437e+05\nDf Model:                                   30                                         \nCovariance Type:                     nonrobust                                         \n=======================================================================================================\n                                          coef    std err          t      P>|t|      [0.025      0.975]\n-------------------------------------------------------------------------------------------------------\nIntercept                            1177.8340    100.872     11.677      0.000     980.117    1375.551\nPlacement_Day_of_Month               -201.4208    178.164     -1.131      0.258    -550.636     147.794\nPlacement_Weekday                    -200.0496    178.165     -1.123      0.262    -549.267     149.168\nConfirmation_Day_of_Month              66.8055     59.389      1.125      0.261     -49.601     183.212\nConfirmation_Weekday                   68.1767     59.396      1.148      0.251     -48.243     184.597\nArrival_at_Pickup_Day_of_Month         66.8055     59.389      1.125      0.261     -49.601     183.212\nArrival_at_Pickup_Weekday              68.1767     59.396      1.148      0.251     -48.243     184.597\nPickup_Day_of_Month                    66.8055     59.389      1.125      0.261     -49.601     183.212\nPickup_Weekday                         68.1767     59.396      1.148      0.251     -48.243     184.597\nDistance_KM                           101.2708      0.969    104.555      0.000      99.372     103.169\nTemperature                             0.6445      1.905      0.338      0.735      -3.089       4.378\nPrecipitation_in_millimeters            0.0447      0.490      0.091      0.927      -0.917       1.006\nNo_Of_Orders                           -0.0994      0.007    -13.887      0.000      -0.113      -0.085\nAge                                     0.0061      0.012      0.518      0.605      -0.017       0.029\nAverage_Rating                        -40.5698      6.015     -6.745      0.000     -52.359     -28.780\nNo_of_Ratings                           0.2745      0.027     10.074      0.000       0.221       0.328\nPersonal_or_Business_Personal          59.6302     21.881      2.725      0.006      16.743     102.518\nPlatform_Type_2                         5.0680     30.788      0.165      0.869     -55.279      65.415\nPlatform_Type_3                        50.5191     25.332      1.994      0.046       0.866     100.172\nPlatform_Type_4                      -229.9654    180.035     -1.277      0.201    -582.847     122.916\nArrival_at_Pickup_Time_EarlyMorning  -397.7360    186.325     -2.135      0.033    -762.946     -32.526\nArrival_at_Pickup_Time_Evening        195.1852     49.601      3.935      0.000      97.963     292.407\nArrival_at_Pickup_Time_Morning       -197.6108     47.273     -4.180      0.000    -290.269    -104.952\nArrival_at_Pickup_Time_Night          648.1749    282.951      2.291      0.022      93.569    1202.780\nConfirmation_Time_EarlyMorning       -107.8014    171.863     -0.627      0.531    -444.666     229.063\nConfirmation_Time_Evening             105.7437     55.313      1.912      0.056      -2.673     214.161\nConfirmation_Time_Morning            -135.0529     57.515     -2.348      0.019    -247.787     -22.319\nConfirmation_Time_Night              -458.2093    451.782     -1.014      0.310   -1343.735     427.317\nPlacement_Time_EarlyMorning           247.6313    124.123      1.995      0.046       4.340     490.922\nPlacement_Time_Evening               -135.9639     45.997     -2.956      0.003    -226.121     -45.807\nPlacement_Time_Morning                206.8427     48.078      4.302      0.000     112.606     301.080\nPlacement_Time_Night                  119.0762    418.641      0.284      0.776    -701.492     939.644\nPickup_Time_EarlyMorning              256.3851    198.075      1.294      0.196    -131.856     644.626\nPickup_Time_Evening                  -154.2958     36.025     -4.283      0.000    -224.907     -83.685\nPickup_Time_Morning                    62.0604     35.538      1.746      0.081      -7.596     131.717\nPickup_Time_Night                    -493.2040    192.004     -2.569      0.010    -869.546    -116.862\n==============================================================================\nOmnibus:                     7396.744   Durbin-Watson:                   1.989\nProb(Omnibus):                  0.000   Jarque-Bera (JB):            35637.502\nSkew:                           1.632   Prob(JB):                         0.00\nKurtosis:                       8.448   Cond. No.                     3.59e+16\n==============================================================================\n\nWarnings:\n[1] Standard Errors assume that the covariance matrix of the errors is correctly specified.\n[2] The smallest eigenvalue is 1.1e-22. This might indicate that there are\nstrong multicollinearity problems or that the design matrix is singular.\n"
    }
   ],
   "source": [
    "# Fit the model using the model dataframe\n",
    "model=ols(formula=formula_str, data=dm)\n",
    "fitted = model.fit()\n",
    "\n",
    "# Output the fitted summary\n",
    "print(fitted.summary())"
   ]
  },
  {
   "cell_type": "markdown",
   "metadata": {
    "colab_type": "text",
    "id": "g6uunFVrSRm_"
   },
   "source": [
    "In warning [2], there is mention of strong multicollinearity.\n",
    "\n",
    "Let's make further selections on the variables now using their significance."
   ]
  },
  {
   "cell_type": "markdown",
   "metadata": {
    "colab_type": "text",
    "id": "eyH6ymKgTMfN"
   },
   "source": [
    "### Variable Selection by Correlation and Significance"
   ]
  },
  {
   "cell_type": "markdown",
   "metadata": {
    "colab_type": "text",
    "id": "fjX6QM77TVY_"
   },
   "source": [
    "There are 35 predictor variables to choose from, so a way of guiding us to choose the best ones to be our predictors is needed.       \n",
    "One way is to observe the correlations between the `Time_from_Pickup_to_Arrival` and each variable in our DataFrame, and select those with the strongest correlations (both positive and negative).\n",
    "                       \n",
    "The significance of these features also need to be taken into consideration. "
   ]
  },
  {
   "cell_type": "code",
   "execution_count": 30,
   "metadata": {
    "colab": {},
    "colab_type": "code",
    "id": "JINTQVloVQI4"
   },
   "outputs": [],
   "source": [
    "# Calculate correlations between predictor variables and the response variable\n",
    "corrs = train_dummies.corr()['Time_from_Pickup_to_Arrival'].sort_values(ascending=False)"
   ]
  },
  {
   "cell_type": "markdown",
   "metadata": {
    "colab_type": "text",
    "id": "Iccsqgn1U-TJ"
   },
   "source": [
    "The code creates a new DataFrame and stores the correlation coefficents and p-values in that DataFrame for reference."
   ]
  },
  {
   "cell_type": "markdown",
   "metadata": {
    "colab_type": "text",
    "id": "QNiJceWmV1ia"
   },
   "source": [
    "Using Pearson regression from `SciPy`:"
   ]
  },
  {
   "cell_type": "code",
   "execution_count": 31,
   "metadata": {
    "colab": {
     "base_uri": "https://localhost:8080/",
     "height": 1000
    },
    "colab_type": "code",
    "executionInfo": {
     "elapsed": 46279,
     "status": "ok",
     "timestamp": 1590332446388,
     "user": {
      "displayName": "abdullah shaikh",
      "photoUrl": "",
      "userId": "08883111522238731033"
     },
     "user_tz": -120
    },
    "id": "aNR1TOhAV_B0",
    "outputId": "2f9f360a-1453-451b-f6c1-60d54803394a"
   },
   "outputs": [
    {
     "output_type": "execute_result",
     "data": {
      "text/plain": "                                Correlation_Coefficient   P_Value\nDistance_KM                                    0.580608  0.000000\nNo_Of_Orders                                  -0.041608  0.000000\nAverage_Rating                                -0.042559  0.000000\nArrival_at_Pickup_Time_Morning                -0.023510  0.000618\nPickup_Time_Morning                           -0.022279  0.001178\nPickup_Time_Night                             -0.019086  0.005452\nConfirmation_Time_Night                       -0.018756  0.006313\nPlacement_Time_Night                          -0.017283  0.011852\nArrival_at_Pickup_Time_Night                  -0.015281  0.026083\nPlacement_Day_of_Month                        -0.014710  0.032205\nPickup_Day_of_Month                           -0.014701  0.032312\nConfirmation_Day_of_Month                     -0.014701  0.032312\nArrival_at_Pickup_Day_of_Month                -0.014701  0.032312\nConfirmation_Time_Morning                     -0.014579  0.033776\nPersonal_or_Business_Personal                  0.013354  0.051848\nPickup_Time_EarlyMorning                       0.011695  0.088606",
      "text/html": "<div>\n<style scoped>\n    .dataframe tbody tr th:only-of-type {\n        vertical-align: middle;\n    }\n\n    .dataframe tbody tr th {\n        vertical-align: top;\n    }\n\n    .dataframe thead th {\n        text-align: right;\n    }\n</style>\n<table border=\"1\" class=\"dataframe\">\n  <thead>\n    <tr style=\"text-align: right;\">\n      <th></th>\n      <th>Correlation_Coefficient</th>\n      <th>P_Value</th>\n    </tr>\n  </thead>\n  <tbody>\n    <tr>\n      <th>Distance_KM</th>\n      <td>0.580608</td>\n      <td>0.000000</td>\n    </tr>\n    <tr>\n      <th>No_Of_Orders</th>\n      <td>-0.041608</td>\n      <td>0.000000</td>\n    </tr>\n    <tr>\n      <th>Average_Rating</th>\n      <td>-0.042559</td>\n      <td>0.000000</td>\n    </tr>\n    <tr>\n      <th>Arrival_at_Pickup_Time_Morning</th>\n      <td>-0.023510</td>\n      <td>0.000618</td>\n    </tr>\n    <tr>\n      <th>Pickup_Time_Morning</th>\n      <td>-0.022279</td>\n      <td>0.001178</td>\n    </tr>\n    <tr>\n      <th>Pickup_Time_Night</th>\n      <td>-0.019086</td>\n      <td>0.005452</td>\n    </tr>\n    <tr>\n      <th>Confirmation_Time_Night</th>\n      <td>-0.018756</td>\n      <td>0.006313</td>\n    </tr>\n    <tr>\n      <th>Placement_Time_Night</th>\n      <td>-0.017283</td>\n      <td>0.011852</td>\n    </tr>\n    <tr>\n      <th>Arrival_at_Pickup_Time_Night</th>\n      <td>-0.015281</td>\n      <td>0.026083</td>\n    </tr>\n    <tr>\n      <th>Placement_Day_of_Month</th>\n      <td>-0.014710</td>\n      <td>0.032205</td>\n    </tr>\n    <tr>\n      <th>Pickup_Day_of_Month</th>\n      <td>-0.014701</td>\n      <td>0.032312</td>\n    </tr>\n    <tr>\n      <th>Confirmation_Day_of_Month</th>\n      <td>-0.014701</td>\n      <td>0.032312</td>\n    </tr>\n    <tr>\n      <th>Arrival_at_Pickup_Day_of_Month</th>\n      <td>-0.014701</td>\n      <td>0.032312</td>\n    </tr>\n    <tr>\n      <th>Confirmation_Time_Morning</th>\n      <td>-0.014579</td>\n      <td>0.033776</td>\n    </tr>\n    <tr>\n      <th>Personal_or_Business_Personal</th>\n      <td>0.013354</td>\n      <td>0.051848</td>\n    </tr>\n    <tr>\n      <th>Pickup_Time_EarlyMorning</th>\n      <td>0.011695</td>\n      <td>0.088606</td>\n    </tr>\n  </tbody>\n</table>\n</div>"
     },
     "metadata": {},
     "execution_count": 31
    }
   ],
   "source": [
    "from scipy.stats import pearsonr\n",
    "\n",
    "# Build a dictionary of correlation coefficients and p-values\n",
    "dict_cp = {}\n",
    "\n",
    "column_titles = [col for col in corrs.index if col!= 'Time_from_Pickup_to_Arrival']\n",
    "for col in column_titles:\n",
    "    p_val = round(pearsonr(train_dummies[col], train_dummies['Time_from_Pickup_to_Arrival'])[1],6)\n",
    "    dict_cp[col] = {'Correlation_Coefficient':corrs[col],\n",
    "                    'P_Value':p_val}\n",
    "    \n",
    "df_cp = pd.DataFrame(dict_cp).T\n",
    "df_cp_sorted = df_cp.sort_values('P_Value')\n",
    "df_cp_sorted[df_cp_sorted['P_Value']<0.1]"
   ]
  },
  {
   "cell_type": "markdown",
   "metadata": {
    "colab_type": "text",
    "id": "ZfRoZU7yfX3p"
   },
   "source": [
    "Now we've got a sorted list of the p-values and correlation coefficients for each of the features, when considered on their own.\n",
    "\n",
    "If we were to use a logic test with a significance value of 10% (p-value < 0.1), we could infer the following features mentioned to be statistically significant:\n",
    "\n",
    "\n",
    "*   Distance_KM\n",
    "*   No_Of_Orders\n",
    "*Average_Rating\n",
    "*Personal_or_Business_Personal\n",
    "*Pickup_Time (dummy)\n",
    "*Arrival_at_Pickup_Time (dummy)\n",
    "\n",
    "\n",
    "\n",
    "\n",
    "\n",
    "\n"
   ]
  },
  {
   "cell_type": "markdown",
   "metadata": {
    "colab_type": "text",
    "id": "5m1BQtX3ihLz"
   },
   "source": [
    "Only these variables that have a significant correlation with the dependent variable are kept. \n",
    "\n",
    "They are put into an independent variable DataFrame X."
   ]
  },
  {
   "cell_type": "code",
   "execution_count": 32,
   "metadata": {
    "colab": {},
    "colab_type": "code",
    "id": "Za5RSKkqdeye"
   },
   "outputs": [],
   "source": [
    "# The dependent variable remains the same:\n",
    "y_data = train_dummies[y_name]  # y_name = 'Time_from_Pickup_to_Arrival '\n",
    "\n",
    "# Model building - Independent Variable (IV) DataFrame\n",
    "\n",
    "X_names = ['Distance_KM', 'No_Of_Orders', 'Average_Rating', \n",
    "           'Personal_or_Business_Personal','Pickup_Time_EarlyMorning', \n",
    "           'Pickup_Time_Evening', 'Pickup_Time_Morning','Pickup_Time_Night', \n",
    "           'Arrival_at_Pickup_Time_EarlyMorning',\n",
    "           'Arrival_at_Pickup_Time_Evening', 'Arrival_at_Pickup_Time_Morning', \n",
    "           'Arrival_at_Pickup_Time_Night']               \n",
    "\n",
    "X_data = train_dummies[X_names]"
   ]
  },
  {
   "cell_type": "markdown",
   "metadata": {
    "colab_type": "text",
    "id": "fzZy4uGnn_hK"
   },
   "source": [
    "However, it is to be inspected for predictor variable pairs which have a high correlation with each other in order to avoid autocorrelation."
   ]
  },
  {
   "cell_type": "code",
   "execution_count": 33,
   "metadata": {
    "colab": {
     "base_uri": "https://localhost:8080/",
     "height": 845
    },
    "colab_type": "code",
    "executionInfo": {
     "elapsed": 46237,
     "status": "ok",
     "timestamp": 1590332446390,
     "user": {
      "displayName": "abdullah shaikh",
      "photoUrl": "",
      "userId": "08883111522238731033"
     },
     "user_tz": -120
    },
    "id": "0xBoV14woMZG",
    "outputId": "efccc5fe-4d39-48c8-d2c8-da6fd8078bc2"
   },
   "outputs": [
    {
     "output_type": "execute_result",
     "data": {
      "text/plain": "                                     Distance_KM  No_Of_Orders  \\\nDistance_KM                                  1.0           NaN   \nNo_Of_Orders                                 NaN           1.0   \nAverage_Rating                               NaN           NaN   \nPersonal_or_Business_Personal                NaN           NaN   \nPickup_Time_EarlyMorning                     NaN           NaN   \nPickup_Time_Evening                          NaN           NaN   \nPickup_Time_Morning                          NaN           NaN   \nPickup_Time_Night                            NaN           NaN   \nArrival_at_Pickup_Time_EarlyMorning          NaN           NaN   \nArrival_at_Pickup_Time_Evening               NaN           NaN   \nArrival_at_Pickup_Time_Morning               NaN           NaN   \nArrival_at_Pickup_Time_Night                 NaN           NaN   \n\n                                     Average_Rating  \\\nDistance_KM                                     NaN   \nNo_Of_Orders                                    NaN   \nAverage_Rating                                  1.0   \nPersonal_or_Business_Personal                   NaN   \nPickup_Time_EarlyMorning                        NaN   \nPickup_Time_Evening                             NaN   \nPickup_Time_Morning                             NaN   \nPickup_Time_Night                               NaN   \nArrival_at_Pickup_Time_EarlyMorning             NaN   \nArrival_at_Pickup_Time_Evening                  NaN   \nArrival_at_Pickup_Time_Morning                  NaN   \nArrival_at_Pickup_Time_Night                    NaN   \n\n                                     Personal_or_Business_Personal  \\\nDistance_KM                                                    NaN   \nNo_Of_Orders                                                   NaN   \nAverage_Rating                                                 NaN   \nPersonal_or_Business_Personal                                  1.0   \nPickup_Time_EarlyMorning                                       NaN   \nPickup_Time_Evening                                            NaN   \nPickup_Time_Morning                                            NaN   \nPickup_Time_Night                                              NaN   \nArrival_at_Pickup_Time_EarlyMorning                            NaN   \nArrival_at_Pickup_Time_Evening                                 NaN   \nArrival_at_Pickup_Time_Morning                                 NaN   \nArrival_at_Pickup_Time_Night                                   NaN   \n\n                                     Pickup_Time_EarlyMorning  \\\nDistance_KM                                               NaN   \nNo_Of_Orders                                              NaN   \nAverage_Rating                                            NaN   \nPersonal_or_Business_Personal                             NaN   \nPickup_Time_EarlyMorning                                  1.0   \nPickup_Time_Evening                                       NaN   \nPickup_Time_Morning                                       NaN   \nPickup_Time_Night                                         NaN   \nArrival_at_Pickup_Time_EarlyMorning                       NaN   \nArrival_at_Pickup_Time_Evening                            NaN   \nArrival_at_Pickup_Time_Morning                            NaN   \nArrival_at_Pickup_Time_Night                              NaN   \n\n                                     Pickup_Time_Evening  Pickup_Time_Morning  \\\nDistance_KM                                          NaN                  NaN   \nNo_Of_Orders                                         NaN                  NaN   \nAverage_Rating                                       NaN                  NaN   \nPersonal_or_Business_Personal                        NaN                  NaN   \nPickup_Time_EarlyMorning                             NaN                  NaN   \nPickup_Time_Evening                             1.000000                  NaN   \nPickup_Time_Morning                                  NaN             1.000000   \nPickup_Time_Night                                    NaN                  NaN   \nArrival_at_Pickup_Time_EarlyMorning                  NaN                  NaN   \nArrival_at_Pickup_Time_Evening                  0.908355                  NaN   \nArrival_at_Pickup_Time_Morning                       NaN             0.941185   \nArrival_at_Pickup_Time_Night                         NaN                  NaN   \n\n                                     Pickup_Time_Night  \\\nDistance_KM                                        NaN   \nNo_Of_Orders                                       NaN   \nAverage_Rating                                     NaN   \nPersonal_or_Business_Personal                      NaN   \nPickup_Time_EarlyMorning                           NaN   \nPickup_Time_Evening                                NaN   \nPickup_Time_Morning                                NaN   \nPickup_Time_Night                                  1.0   \nArrival_at_Pickup_Time_EarlyMorning                NaN   \nArrival_at_Pickup_Time_Evening                     NaN   \nArrival_at_Pickup_Time_Morning                     NaN   \nArrival_at_Pickup_Time_Night                       NaN   \n\n                                     Arrival_at_Pickup_Time_EarlyMorning  \\\nDistance_KM                                                          NaN   \nNo_Of_Orders                                                         NaN   \nAverage_Rating                                                       NaN   \nPersonal_or_Business_Personal                                        NaN   \nPickup_Time_EarlyMorning                                             NaN   \nPickup_Time_Evening                                                  NaN   \nPickup_Time_Morning                                                  NaN   \nPickup_Time_Night                                                    NaN   \nArrival_at_Pickup_Time_EarlyMorning                                  1.0   \nArrival_at_Pickup_Time_Evening                                       NaN   \nArrival_at_Pickup_Time_Morning                                       NaN   \nArrival_at_Pickup_Time_Night                                         NaN   \n\n                                     Arrival_at_Pickup_Time_Evening  \\\nDistance_KM                                                     NaN   \nNo_Of_Orders                                                    NaN   \nAverage_Rating                                                  NaN   \nPersonal_or_Business_Personal                                   NaN   \nPickup_Time_EarlyMorning                                        NaN   \nPickup_Time_Evening                                        0.908355   \nPickup_Time_Morning                                             NaN   \nPickup_Time_Night                                               NaN   \nArrival_at_Pickup_Time_EarlyMorning                             NaN   \nArrival_at_Pickup_Time_Evening                             1.000000   \nArrival_at_Pickup_Time_Morning                                  NaN   \nArrival_at_Pickup_Time_Night                                    NaN   \n\n                                     Arrival_at_Pickup_Time_Morning  \\\nDistance_KM                                                     NaN   \nNo_Of_Orders                                                    NaN   \nAverage_Rating                                                  NaN   \nPersonal_or_Business_Personal                                   NaN   \nPickup_Time_EarlyMorning                                        NaN   \nPickup_Time_Evening                                             NaN   \nPickup_Time_Morning                                        0.941185   \nPickup_Time_Night                                               NaN   \nArrival_at_Pickup_Time_EarlyMorning                             NaN   \nArrival_at_Pickup_Time_Evening                                  NaN   \nArrival_at_Pickup_Time_Morning                             1.000000   \nArrival_at_Pickup_Time_Night                                    NaN   \n\n                                     Arrival_at_Pickup_Time_Night  \nDistance_KM                                                   NaN  \nNo_Of_Orders                                                  NaN  \nAverage_Rating                                                NaN  \nPersonal_or_Business_Personal                                 NaN  \nPickup_Time_EarlyMorning                                      NaN  \nPickup_Time_Evening                                           NaN  \nPickup_Time_Morning                                           NaN  \nPickup_Time_Night                                             NaN  \nArrival_at_Pickup_Time_EarlyMorning                           NaN  \nArrival_at_Pickup_Time_Evening                                NaN  \nArrival_at_Pickup_Time_Morning                                NaN  \nArrival_at_Pickup_Time_Night                                  1.0  ",
      "text/html": "<div>\n<style scoped>\n    .dataframe tbody tr th:only-of-type {\n        vertical-align: middle;\n    }\n\n    .dataframe tbody tr th {\n        vertical-align: top;\n    }\n\n    .dataframe thead th {\n        text-align: right;\n    }\n</style>\n<table border=\"1\" class=\"dataframe\">\n  <thead>\n    <tr style=\"text-align: right;\">\n      <th></th>\n      <th>Distance_KM</th>\n      <th>No_Of_Orders</th>\n      <th>Average_Rating</th>\n      <th>Personal_or_Business_Personal</th>\n      <th>Pickup_Time_EarlyMorning</th>\n      <th>Pickup_Time_Evening</th>\n      <th>Pickup_Time_Morning</th>\n      <th>Pickup_Time_Night</th>\n      <th>Arrival_at_Pickup_Time_EarlyMorning</th>\n      <th>Arrival_at_Pickup_Time_Evening</th>\n      <th>Arrival_at_Pickup_Time_Morning</th>\n      <th>Arrival_at_Pickup_Time_Night</th>\n    </tr>\n  </thead>\n  <tbody>\n    <tr>\n      <th>Distance_KM</th>\n      <td>1.0</td>\n      <td>NaN</td>\n      <td>NaN</td>\n      <td>NaN</td>\n      <td>NaN</td>\n      <td>NaN</td>\n      <td>NaN</td>\n      <td>NaN</td>\n      <td>NaN</td>\n      <td>NaN</td>\n      <td>NaN</td>\n      <td>NaN</td>\n    </tr>\n    <tr>\n      <th>No_Of_Orders</th>\n      <td>NaN</td>\n      <td>1.0</td>\n      <td>NaN</td>\n      <td>NaN</td>\n      <td>NaN</td>\n      <td>NaN</td>\n      <td>NaN</td>\n      <td>NaN</td>\n      <td>NaN</td>\n      <td>NaN</td>\n      <td>NaN</td>\n      <td>NaN</td>\n    </tr>\n    <tr>\n      <th>Average_Rating</th>\n      <td>NaN</td>\n      <td>NaN</td>\n      <td>1.0</td>\n      <td>NaN</td>\n      <td>NaN</td>\n      <td>NaN</td>\n      <td>NaN</td>\n      <td>NaN</td>\n      <td>NaN</td>\n      <td>NaN</td>\n      <td>NaN</td>\n      <td>NaN</td>\n    </tr>\n    <tr>\n      <th>Personal_or_Business_Personal</th>\n      <td>NaN</td>\n      <td>NaN</td>\n      <td>NaN</td>\n      <td>1.0</td>\n      <td>NaN</td>\n      <td>NaN</td>\n      <td>NaN</td>\n      <td>NaN</td>\n      <td>NaN</td>\n      <td>NaN</td>\n      <td>NaN</td>\n      <td>NaN</td>\n    </tr>\n    <tr>\n      <th>Pickup_Time_EarlyMorning</th>\n      <td>NaN</td>\n      <td>NaN</td>\n      <td>NaN</td>\n      <td>NaN</td>\n      <td>1.0</td>\n      <td>NaN</td>\n      <td>NaN</td>\n      <td>NaN</td>\n      <td>NaN</td>\n      <td>NaN</td>\n      <td>NaN</td>\n      <td>NaN</td>\n    </tr>\n    <tr>\n      <th>Pickup_Time_Evening</th>\n      <td>NaN</td>\n      <td>NaN</td>\n      <td>NaN</td>\n      <td>NaN</td>\n      <td>NaN</td>\n      <td>1.000000</td>\n      <td>NaN</td>\n      <td>NaN</td>\n      <td>NaN</td>\n      <td>0.908355</td>\n      <td>NaN</td>\n      <td>NaN</td>\n    </tr>\n    <tr>\n      <th>Pickup_Time_Morning</th>\n      <td>NaN</td>\n      <td>NaN</td>\n      <td>NaN</td>\n      <td>NaN</td>\n      <td>NaN</td>\n      <td>NaN</td>\n      <td>1.000000</td>\n      <td>NaN</td>\n      <td>NaN</td>\n      <td>NaN</td>\n      <td>0.941185</td>\n      <td>NaN</td>\n    </tr>\n    <tr>\n      <th>Pickup_Time_Night</th>\n      <td>NaN</td>\n      <td>NaN</td>\n      <td>NaN</td>\n      <td>NaN</td>\n      <td>NaN</td>\n      <td>NaN</td>\n      <td>NaN</td>\n      <td>1.0</td>\n      <td>NaN</td>\n      <td>NaN</td>\n      <td>NaN</td>\n      <td>NaN</td>\n    </tr>\n    <tr>\n      <th>Arrival_at_Pickup_Time_EarlyMorning</th>\n      <td>NaN</td>\n      <td>NaN</td>\n      <td>NaN</td>\n      <td>NaN</td>\n      <td>NaN</td>\n      <td>NaN</td>\n      <td>NaN</td>\n      <td>NaN</td>\n      <td>1.0</td>\n      <td>NaN</td>\n      <td>NaN</td>\n      <td>NaN</td>\n    </tr>\n    <tr>\n      <th>Arrival_at_Pickup_Time_Evening</th>\n      <td>NaN</td>\n      <td>NaN</td>\n      <td>NaN</td>\n      <td>NaN</td>\n      <td>NaN</td>\n      <td>0.908355</td>\n      <td>NaN</td>\n      <td>NaN</td>\n      <td>NaN</td>\n      <td>1.000000</td>\n      <td>NaN</td>\n      <td>NaN</td>\n    </tr>\n    <tr>\n      <th>Arrival_at_Pickup_Time_Morning</th>\n      <td>NaN</td>\n      <td>NaN</td>\n      <td>NaN</td>\n      <td>NaN</td>\n      <td>NaN</td>\n      <td>NaN</td>\n      <td>0.941185</td>\n      <td>NaN</td>\n      <td>NaN</td>\n      <td>NaN</td>\n      <td>1.000000</td>\n      <td>NaN</td>\n    </tr>\n    <tr>\n      <th>Arrival_at_Pickup_Time_Night</th>\n      <td>NaN</td>\n      <td>NaN</td>\n      <td>NaN</td>\n      <td>NaN</td>\n      <td>NaN</td>\n      <td>NaN</td>\n      <td>NaN</td>\n      <td>NaN</td>\n      <td>NaN</td>\n      <td>NaN</td>\n      <td>NaN</td>\n      <td>1.0</td>\n    </tr>\n  </tbody>\n</table>\n</div>"
     },
     "metadata": {},
     "execution_count": 33
    }
   ],
   "source": [
    "# Create the correlation matrix\n",
    "corr = X_data.corr()\n",
    "\n",
    "# Find rows and columns where correlation coefficients > 0.9 or <-0.9\n",
    "corr[np.abs(corr) > 0.9]"
   ]
  },
  {
   "cell_type": "markdown",
   "metadata": {
    "colab_type": "text",
    "id": "NZu7Mp7YFP_h"
   },
   "source": [
    "Instead of looking at the whole correlation matrix, it might be easier to isolate the sections of the correlation matrix to where the off-diagonal correlations are high:"
   ]
  },
  {
   "cell_type": "code",
   "execution_count": 34,
   "metadata": {
    "colab": {
     "base_uri": "https://localhost:8080/",
     "height": 329
    },
    "colab_type": "code",
    "executionInfo": {
     "elapsed": 46213,
     "status": "ok",
     "timestamp": 1590332446391,
     "user": {
      "displayName": "abdullah shaikh",
      "photoUrl": "",
      "userId": "08883111522238731033"
     },
     "user_tz": -120
    },
    "id": "V2_jZwUXYmTi",
    "outputId": "39486d16-9e6b-4a26-9aba-ed12b6120584"
   },
   "outputs": [
    {
     "output_type": "execute_result",
     "data": {
      "text/plain": "                                Arrival_at_Pickup_Time_Evening  \\\nPickup_Time_Evening                                   0.908355   \nPickup_Time_Morning                                  -0.293465   \nArrival_at_Pickup_Time_Evening                        1.000000   \nArrival_at_Pickup_Time_Morning                       -0.309545   \n\n                                Arrival_at_Pickup_Time_Morning  \\\nPickup_Time_Evening                                  -0.338383   \nPickup_Time_Morning                                   0.941185   \nArrival_at_Pickup_Time_Evening                       -0.309545   \nArrival_at_Pickup_Time_Morning                        1.000000   \n\n                                Pickup_Time_Evening  Pickup_Time_Morning  \nPickup_Time_Evening                        1.000000            -0.320805  \nPickup_Time_Morning                       -0.320805             1.000000  \nArrival_at_Pickup_Time_Evening             0.908355            -0.293465  \nArrival_at_Pickup_Time_Morning            -0.338383             0.941185  ",
      "text/html": "<div>\n<style scoped>\n    .dataframe tbody tr th:only-of-type {\n        vertical-align: middle;\n    }\n\n    .dataframe tbody tr th {\n        vertical-align: top;\n    }\n\n    .dataframe thead th {\n        text-align: right;\n    }\n</style>\n<table border=\"1\" class=\"dataframe\">\n  <thead>\n    <tr style=\"text-align: right;\">\n      <th></th>\n      <th>Arrival_at_Pickup_Time_Evening</th>\n      <th>Arrival_at_Pickup_Time_Morning</th>\n      <th>Pickup_Time_Evening</th>\n      <th>Pickup_Time_Morning</th>\n    </tr>\n  </thead>\n  <tbody>\n    <tr>\n      <th>Pickup_Time_Evening</th>\n      <td>0.908355</td>\n      <td>-0.338383</td>\n      <td>1.000000</td>\n      <td>-0.320805</td>\n    </tr>\n    <tr>\n      <th>Pickup_Time_Morning</th>\n      <td>-0.293465</td>\n      <td>0.941185</td>\n      <td>-0.320805</td>\n      <td>1.000000</td>\n    </tr>\n    <tr>\n      <th>Arrival_at_Pickup_Time_Evening</th>\n      <td>1.000000</td>\n      <td>-0.309545</td>\n      <td>0.908355</td>\n      <td>-0.293465</td>\n    </tr>\n    <tr>\n      <th>Arrival_at_Pickup_Time_Morning</th>\n      <td>-0.309545</td>\n      <td>1.000000</td>\n      <td>-0.338383</td>\n      <td>0.941185</td>\n    </tr>\n  </tbody>\n</table>\n</div>"
     },
     "metadata": {},
     "execution_count": 34
    }
   ],
   "source": [
    "# We create the correlation matrix again \n",
    "# and find rows and columns where correlation coefficients > 0.9 or <-0.9\n",
    "corr = X_data.corr()\n",
    "r, c = np.where(np.abs(corr) > 0.9)\n",
    "\n",
    "# We are only interested in the off diagonal entries:\n",
    "off_diagonal = np.where(r != c)\n",
    "\n",
    "# Show the correlation matrix rows and columns where we have highly correlated off diagonal entries:\n",
    "corr.iloc[r[off_diagonal], c[off_diagonal]]"
   ]
  },
  {
   "cell_type": "markdown",
   "metadata": {
    "colab_type": "text",
    "id": "Ew7VEATJouGH"
   },
   "source": [
    "It looks like `Arrival_at_Pickup_Time` and `Pickup_Time` are very highly correlated (unsurprising).\n",
    "\n",
    "This was also visible looking back at the correlation coefficient heatmap and matrix from earlier.\n",
    "\n",
    "Considering which predictor variable to drop, `Pickup_Time ` is slightly better correlated (and lower p-value) to the dependent variable `Time_from_Pickup_to_Arrival`.\n",
    "\n",
    "Hence `Arrival_at_Pickup_Time` is dropped from the feature dataframe."
   ]
  },
  {
   "cell_type": "code",
   "execution_count": 35,
   "metadata": {
    "colab": {},
    "colab_type": "code",
    "id": "qyO4c9_apkVy"
   },
   "outputs": [],
   "source": [
    "# Lets take a new subset of our potential independent variables\n",
    "X_remove = ['Arrival_at_Pickup_Time_EarlyMorning',\n",
    "           'Arrival_at_Pickup_Time_Evening', 'Arrival_at_Pickup_Time_Morning', \n",
    "           'Arrival_at_Pickup_Time_Night']\n",
    "X_corr_names = [col for col in X_names if col not in X_remove]"
   ]
  },
  {
   "cell_type": "markdown",
   "metadata": {
    "colab_type": "text",
    "id": "Ym_TEiDIqMML"
   },
   "source": [
    "Now it is seen what the resulting OLS fit summary says:"
   ]
  },
  {
   "cell_type": "code",
   "execution_count": 36,
   "metadata": {
    "colab": {
     "base_uri": "https://localhost:8080/",
     "height": 105
    },
    "colab_type": "code",
    "executionInfo": {
     "elapsed": 46150,
     "status": "ok",
     "timestamp": 1590332446393,
     "user": {
      "displayName": "abdullah shaikh",
      "photoUrl": "",
      "userId": "08883111522238731033"
     },
     "user_tz": -120
    },
    "id": "2u6XkDGxqWr8",
    "outputId": "fdd48bfc-61c4-40ec-9634-6b025d933c3a"
   },
   "outputs": [
    {
     "output_type": "stream",
     "name": "stdout",
     "text": "Formula:\n\tTime_from_Pickup_to_Arrival ~ Distance_KM + No_Of_Orders + Average_Rating + Personal_or_Business_Personal + Pickup_Time_EarlyMorning + Pickup_Time_Evening + Pickup_Time_Morning + Pickup_Time_Night\n"
    }
   ],
   "source": [
    "# Create our new OLS formula based-upon our smaller subset\n",
    "formula_str = y_name+' ~ '+' + '.join(X_corr_names);\n",
    "print('Formula:\\n\\t{}'.format(formula_str))"
   ]
  },
  {
   "cell_type": "code",
   "execution_count": 37,
   "metadata": {
    "colab": {
     "base_uri": "https://localhost:8080/",
     "height": 1000
    },
    "colab_type": "code",
    "executionInfo": {
     "elapsed": 46118,
     "status": "ok",
     "timestamp": 1590332446393,
     "user": {
      "displayName": "abdullah shaikh",
      "photoUrl": "",
      "userId": "08883111522238731033"
     },
     "user_tz": -120
    },
    "id": "vyPyPD7pqZUs",
    "outputId": "67ee4296-0238-49e2-aa41-448ce3c4a12b"
   },
   "outputs": [
    {
     "output_type": "stream",
     "name": "stdout",
     "text": "OLS Regression Results                                \n=======================================================================================\nDep. Variable:     Time_from_Pickup_to_Arrival   R-squared:                       0.344\nModel:                                     OLS   Adj. R-squared:                  0.344\nMethod:                          Least Squares   F-statistic:                     1388.\nDate:                         Mon, 01 Jun 2020   Prob (F-statistic):               0.00\nTime:                                 06:41:37   Log-Likelihood:            -1.7180e+05\nNo. Observations:                        21201   AIC:                         3.436e+05\nDf Residuals:                            21192   BIC:                         3.437e+05\nDf Model:                                    8                                         \nCovariance Type:                     nonrobust                                         \n=================================================================================================\n                                    coef    std err          t      P>|t|      [0.025      0.975]\n-------------------------------------------------------------------------------------------------\nIntercept                      1188.0422     84.160     14.117      0.000    1023.083    1353.001\nDistance_KM                     101.5748      0.971    104.650      0.000      99.672     103.477\nNo_Of_Orders                     -0.0380      0.003    -10.849      0.000      -0.045      -0.031\nAverage_Rating                  -37.1313      6.007     -6.181      0.000     -48.906     -25.357\nPersonal_or_Business_Personal    43.8229     14.358      3.052      0.002      15.680      71.966\nPickup_Time_EarlyMorning        -29.2947    137.611     -0.213      0.831    -299.023     240.433\nPickup_Time_Evening              -1.2215     15.508     -0.079      0.937     -31.618      29.175\nPickup_Time_Morning             -71.5490     12.314     -5.811      0.000     -95.684     -47.414\nPickup_Time_Night              -165.5471     89.418     -1.851      0.064    -340.814       9.720\n==============================================================================\nOmnibus:                     7248.755   Durbin-Watson:                   1.988\nProb(Omnibus):                  0.000   Jarque-Bera (JB):            34702.030\nSkew:                           1.598   Prob(JB):                         0.00\nKurtosis:                       8.392   Cond. No.                     5.79e+04\n==============================================================================\n\nWarnings:\n[1] Standard Errors assume that the covariance matrix of the errors is correctly specified.\n[2] The condition number is large, 5.79e+04. This might indicate that there are\nstrong multicollinearity or other numerical problems.\n"
    }
   ],
   "source": [
    "# Fit the OLS model using the model dataframe\n",
    "model=ols(formula=formula_str, data=dm)\n",
    "fitted = model.fit()\n",
    "\n",
    "# Display the fitted summary\n",
    "print(fitted.summary())"
   ]
  },
  {
   "cell_type": "markdown",
   "metadata": {
    "colab_type": "text",
    "id": "p7dgnQAU4EOs"
   },
   "source": [
    "### Getting X_train and y_train"
   ]
  },
  {
   "cell_type": "code",
   "execution_count": 38,
   "metadata": {
    "colab": {},
    "colab_type": "code",
    "id": "bSeXQVfcq13U"
   },
   "outputs": [],
   "source": [
    "y_train = train_dummies[y_name]\n",
    "X_train = train_dummies[X_corr_names]"
   ]
  },
  {
   "cell_type": "markdown",
   "metadata": {
    "colab_type": "text",
    "id": "pEF_TRRDsDAJ"
   },
   "source": [
    "Our fully pre-processed train data is now obtained!"
   ]
  },
  {
   "cell_type": "markdown",
   "metadata": {
    "colab_type": "text",
    "id": "7vpewGEwr1zY"
   },
   "source": [
    "### Getting X_train_scaled (Feature Scaling)"
   ]
  },
  {
   "cell_type": "markdown",
   "metadata": {
    "colab_type": "text",
    "id": "7mUuerlBsDUk"
   },
   "source": [
    "Based on the means and standard deviations of different columns, we may want to consider whether to standardize our features or not."
   ]
  },
  {
   "cell_type": "code",
   "execution_count": 39,
   "metadata": {
    "colab": {
     "base_uri": "https://localhost:8080/",
     "height": 597
    },
    "colab_type": "code",
    "executionInfo": {
     "elapsed": 46061,
     "status": "ok",
     "timestamp": 1590332446395,
     "user": {
      "displayName": "abdullah shaikh",
      "photoUrl": "",
      "userId": "08883111522238731033"
     },
     "user_tz": -120
    },
    "id": "Qn3RzUbFsHkD",
    "outputId": "86b93a95-bc04-4fcc-879f-5a58ec3e242c"
   },
   "outputs": [
    {
     "output_type": "execute_result",
     "data": {
      "text/plain": "        Distance_KM  No_Of_Orders  Average_Rating  \\\ncount  21201.000000  21201.000000    21201.000000   \nmean       9.506533   1692.423706       13.882520   \nstd        5.668963   1574.308302        0.916071   \nmin        1.000000      2.000000        0.000000   \n25%        5.000000    557.000000       13.600000   \n50%        8.000000   1212.000000       14.000000   \n75%       13.000000   2311.000000       14.300000   \nmax       49.000000   9756.000000       15.200000   \n\n       Personal_or_Business_Personal  Pickup_Time_EarlyMorning  \\\ncount                   21201.000000              21201.000000   \nmean                        0.180039                  0.001604   \nstd                         0.384229                  0.040015   \nmin                         0.000000                  0.000000   \n25%                         0.000000                  0.000000   \n50%                         0.000000                  0.000000   \n75%                         0.000000                  0.000000   \nmax                         1.000000                  1.000000   \n\n       Pickup_Time_Evening  Pickup_Time_Morning  Pickup_Time_Night  \ncount         21201.000000         21201.000000       21201.000000  \nmean              0.169143             0.335786           0.003821  \nstd               0.374887             0.472276           0.061694  \nmin               0.000000             0.000000           0.000000  \n25%               0.000000             0.000000           0.000000  \n50%               0.000000             0.000000           0.000000  \n75%               0.000000             1.000000           0.000000  \nmax               1.000000             1.000000           1.000000  ",
      "text/html": "<div>\n<style scoped>\n    .dataframe tbody tr th:only-of-type {\n        vertical-align: middle;\n    }\n\n    .dataframe tbody tr th {\n        vertical-align: top;\n    }\n\n    .dataframe thead th {\n        text-align: right;\n    }\n</style>\n<table border=\"1\" class=\"dataframe\">\n  <thead>\n    <tr style=\"text-align: right;\">\n      <th></th>\n      <th>Distance_KM</th>\n      <th>No_Of_Orders</th>\n      <th>Average_Rating</th>\n      <th>Personal_or_Business_Personal</th>\n      <th>Pickup_Time_EarlyMorning</th>\n      <th>Pickup_Time_Evening</th>\n      <th>Pickup_Time_Morning</th>\n      <th>Pickup_Time_Night</th>\n    </tr>\n  </thead>\n  <tbody>\n    <tr>\n      <th>count</th>\n      <td>21201.000000</td>\n      <td>21201.000000</td>\n      <td>21201.000000</td>\n      <td>21201.000000</td>\n      <td>21201.000000</td>\n      <td>21201.000000</td>\n      <td>21201.000000</td>\n      <td>21201.000000</td>\n    </tr>\n    <tr>\n      <th>mean</th>\n      <td>9.506533</td>\n      <td>1692.423706</td>\n      <td>13.882520</td>\n      <td>0.180039</td>\n      <td>0.001604</td>\n      <td>0.169143</td>\n      <td>0.335786</td>\n      <td>0.003821</td>\n    </tr>\n    <tr>\n      <th>std</th>\n      <td>5.668963</td>\n      <td>1574.308302</td>\n      <td>0.916071</td>\n      <td>0.384229</td>\n      <td>0.040015</td>\n      <td>0.374887</td>\n      <td>0.472276</td>\n      <td>0.061694</td>\n    </tr>\n    <tr>\n      <th>min</th>\n      <td>1.000000</td>\n      <td>2.000000</td>\n      <td>0.000000</td>\n      <td>0.000000</td>\n      <td>0.000000</td>\n      <td>0.000000</td>\n      <td>0.000000</td>\n      <td>0.000000</td>\n    </tr>\n    <tr>\n      <th>25%</th>\n      <td>5.000000</td>\n      <td>557.000000</td>\n      <td>13.600000</td>\n      <td>0.000000</td>\n      <td>0.000000</td>\n      <td>0.000000</td>\n      <td>0.000000</td>\n      <td>0.000000</td>\n    </tr>\n    <tr>\n      <th>50%</th>\n      <td>8.000000</td>\n      <td>1212.000000</td>\n      <td>14.000000</td>\n      <td>0.000000</td>\n      <td>0.000000</td>\n      <td>0.000000</td>\n      <td>0.000000</td>\n      <td>0.000000</td>\n    </tr>\n    <tr>\n      <th>75%</th>\n      <td>13.000000</td>\n      <td>2311.000000</td>\n      <td>14.300000</td>\n      <td>0.000000</td>\n      <td>0.000000</td>\n      <td>0.000000</td>\n      <td>1.000000</td>\n      <td>0.000000</td>\n    </tr>\n    <tr>\n      <th>max</th>\n      <td>49.000000</td>\n      <td>9756.000000</td>\n      <td>15.200000</td>\n      <td>1.000000</td>\n      <td>1.000000</td>\n      <td>1.000000</td>\n      <td>1.000000</td>\n      <td>1.000000</td>\n    </tr>\n  </tbody>\n</table>\n</div>"
     },
     "metadata": {},
     "execution_count": 39
    }
   ],
   "source": [
    "X_train.describe()"
   ]
  },
  {
   "cell_type": "markdown",
   "metadata": {
    "colab_type": "text",
    "id": "C6kFdmq2-zVO"
   },
   "source": [
    "After observing the means and standard deviations of the features, it can be deduced that they might require standardization. \n",
    "\n",
    "However, the dummy variables do not require standardization (since they are binary variables). Hence only the first 3 columns are transformed."
   ]
  },
  {
   "cell_type": "code",
   "execution_count": 40,
   "metadata": {
    "colab": {},
    "colab_type": "code",
    "id": "AxjSUXFQqo-3"
   },
   "outputs": [],
   "source": [
    "from sklearn.preprocessing import StandardScaler\n",
    "scaler = StandardScaler()\n",
    "X_train_standardised = scaler.fit_transform(X_train.iloc[:, :3])"
   ]
  },
  {
   "cell_type": "code",
   "execution_count": 41,
   "metadata": {
    "colab": {
     "base_uri": "https://localhost:8080/",
     "height": 453
    },
    "colab_type": "code",
    "executionInfo": {
     "elapsed": 46000,
     "status": "ok",
     "timestamp": 1590332446396,
     "user": {
      "displayName": "abdullah shaikh",
      "photoUrl": "",
      "userId": "08883111522238731033"
     },
     "user_tz": -120
    },
    "id": "3QBky5z2zjEJ",
    "outputId": "7a2e0d6d-fda3-47a7-a8b3-6ddc9fe6bd08"
   },
   "outputs": [
    {
     "output_type": "execute_result",
     "data": {
      "text/plain": "                Distance_KM  No_Of_Orders  Average_Rating\nOrder_No                                                 \nOrder_No_4211     -0.971370     -0.035206       -0.090082\nOrder_No_25375     1.145469     -0.823507       -0.308411\nOrder_No_1899     -1.147774     -0.425228       -1.509220\nOrder_No_9336     -0.089354     -0.512252        0.674069\nOrder_No_27883    -0.089354      0.392929        0.237411",
      "text/html": "<div>\n<style scoped>\n    .dataframe tbody tr th:only-of-type {\n        vertical-align: middle;\n    }\n\n    .dataframe tbody tr th {\n        vertical-align: top;\n    }\n\n    .dataframe thead th {\n        text-align: right;\n    }\n</style>\n<table border=\"1\" class=\"dataframe\">\n  <thead>\n    <tr style=\"text-align: right;\">\n      <th></th>\n      <th>Distance_KM</th>\n      <th>No_Of_Orders</th>\n      <th>Average_Rating</th>\n    </tr>\n    <tr>\n      <th>Order_No</th>\n      <th></th>\n      <th></th>\n      <th></th>\n    </tr>\n  </thead>\n  <tbody>\n    <tr>\n      <th>Order_No_4211</th>\n      <td>-0.971370</td>\n      <td>-0.035206</td>\n      <td>-0.090082</td>\n    </tr>\n    <tr>\n      <th>Order_No_25375</th>\n      <td>1.145469</td>\n      <td>-0.823507</td>\n      <td>-0.308411</td>\n    </tr>\n    <tr>\n      <th>Order_No_1899</th>\n      <td>-1.147774</td>\n      <td>-0.425228</td>\n      <td>-1.509220</td>\n    </tr>\n    <tr>\n      <th>Order_No_9336</th>\n      <td>-0.089354</td>\n      <td>-0.512252</td>\n      <td>0.674069</td>\n    </tr>\n    <tr>\n      <th>Order_No_27883</th>\n      <td>-0.089354</td>\n      <td>0.392929</td>\n      <td>0.237411</td>\n    </tr>\n  </tbody>\n</table>\n</div>"
     },
     "metadata": {},
     "execution_count": 41
    }
   ],
   "source": [
    "# Convert the scaled predictor values into a DataFrame\n",
    "X_train_standardised = pd.DataFrame(X_train_standardised,columns=X_train.columns[:3], index=X_train.index)\n",
    "X_train_standardised.head()"
   ]
  },
  {
   "cell_type": "markdown",
   "metadata": {
    "colab_type": "text",
    "id": "WLZenpyyCQl4"
   },
   "source": [
    "Taking a look at the transformed variables, it can be seen that standardizing the data has caused it to be centered around zero.\n",
    "\n"
   ]
  },
  {
   "cell_type": "markdown",
   "metadata": {
    "colab_type": "text",
    "id": "QVGHnEoa7tbJ"
   },
   "source": [
    "Furthermore, the variance within each transformed variable is now equal to one. "
   ]
  },
  {
   "cell_type": "code",
   "execution_count": 42,
   "metadata": {
    "colab": {
     "base_uri": "https://localhost:8080/",
     "height": 136
    },
    "colab_type": "code",
    "executionInfo": {
     "elapsed": 45970,
     "status": "ok",
     "timestamp": 1590332446397,
     "user": {
      "displayName": "abdullah shaikh",
      "photoUrl": "",
      "userId": "08883111522238731033"
     },
     "user_tz": -120
    },
    "id": "cYqzPxP2Cqx_",
    "outputId": "1b8c96f9-6d4b-48da-9c11-478f950c0c72"
   },
   "outputs": [
    {
     "output_type": "execute_result",
     "data": {
      "text/plain": "Distance_KM       1.000024\nNo_Of_Orders      1.000024\nAverage_Rating    1.000024\nName: std, dtype: float64"
     },
     "metadata": {},
     "execution_count": 42
    }
   ],
   "source": [
    "X_train_standardised.describe().loc['std']"
   ]
  },
  {
   "cell_type": "code",
   "execution_count": 43,
   "metadata": {
    "colab": {
     "base_uri": "https://localhost:8080/",
     "height": 473
    },
    "colab_type": "code",
    "executionInfo": {
     "elapsed": 45953,
     "status": "ok",
     "timestamp": 1590332446397,
     "user": {
      "displayName": "abdullah shaikh",
      "photoUrl": "",
      "userId": "08883111522238731033"
     },
     "user_tz": -120
    },
    "id": "44EqxmDB0S2Z",
    "outputId": "ebc690af-0f7f-45d9-e5d4-8ad0bddf5ba4"
   },
   "outputs": [
    {
     "output_type": "execute_result",
     "data": {
      "text/plain": "                Distance_KM  No_Of_Orders  Average_Rating  \\\nOrder_No                                                    \nOrder_No_4211     -0.971370     -0.035206       -0.090082   \nOrder_No_25375     1.145469     -0.823507       -0.308411   \nOrder_No_1899     -1.147774     -0.425228       -1.509220   \nOrder_No_9336     -0.089354     -0.512252        0.674069   \nOrder_No_27883    -0.089354      0.392929        0.237411   \n\n                Personal_or_Business_Personal  Pickup_Time_EarlyMorning  \\\nOrder_No                                                                  \nOrder_No_4211                               0                         0   \nOrder_No_25375                              1                         0   \nOrder_No_1899                               0                         0   \nOrder_No_9336                               0                         0   \nOrder_No_27883                              1                         0   \n\n                Pickup_Time_Evening  Pickup_Time_Morning  Pickup_Time_Night  \nOrder_No                                                                     \nOrder_No_4211                     0                    1                  0  \nOrder_No_25375                    0                    1                  0  \nOrder_No_1899                     0                    0                  0  \nOrder_No_9336                     0                    1                  0  \nOrder_No_27883                    0                    1                  0  ",
      "text/html": "<div>\n<style scoped>\n    .dataframe tbody tr th:only-of-type {\n        vertical-align: middle;\n    }\n\n    .dataframe tbody tr th {\n        vertical-align: top;\n    }\n\n    .dataframe thead th {\n        text-align: right;\n    }\n</style>\n<table border=\"1\" class=\"dataframe\">\n  <thead>\n    <tr style=\"text-align: right;\">\n      <th></th>\n      <th>Distance_KM</th>\n      <th>No_Of_Orders</th>\n      <th>Average_Rating</th>\n      <th>Personal_or_Business_Personal</th>\n      <th>Pickup_Time_EarlyMorning</th>\n      <th>Pickup_Time_Evening</th>\n      <th>Pickup_Time_Morning</th>\n      <th>Pickup_Time_Night</th>\n    </tr>\n    <tr>\n      <th>Order_No</th>\n      <th></th>\n      <th></th>\n      <th></th>\n      <th></th>\n      <th></th>\n      <th></th>\n      <th></th>\n      <th></th>\n    </tr>\n  </thead>\n  <tbody>\n    <tr>\n      <th>Order_No_4211</th>\n      <td>-0.971370</td>\n      <td>-0.035206</td>\n      <td>-0.090082</td>\n      <td>0</td>\n      <td>0</td>\n      <td>0</td>\n      <td>1</td>\n      <td>0</td>\n    </tr>\n    <tr>\n      <th>Order_No_25375</th>\n      <td>1.145469</td>\n      <td>-0.823507</td>\n      <td>-0.308411</td>\n      <td>1</td>\n      <td>0</td>\n      <td>0</td>\n      <td>1</td>\n      <td>0</td>\n    </tr>\n    <tr>\n      <th>Order_No_1899</th>\n      <td>-1.147774</td>\n      <td>-0.425228</td>\n      <td>-1.509220</td>\n      <td>0</td>\n      <td>0</td>\n      <td>0</td>\n      <td>0</td>\n      <td>0</td>\n    </tr>\n    <tr>\n      <th>Order_No_9336</th>\n      <td>-0.089354</td>\n      <td>-0.512252</td>\n      <td>0.674069</td>\n      <td>0</td>\n      <td>0</td>\n      <td>0</td>\n      <td>1</td>\n      <td>0</td>\n    </tr>\n    <tr>\n      <th>Order_No_27883</th>\n      <td>-0.089354</td>\n      <td>0.392929</td>\n      <td>0.237411</td>\n      <td>1</td>\n      <td>0</td>\n      <td>0</td>\n      <td>1</td>\n      <td>0</td>\n    </tr>\n  </tbody>\n</table>\n</div>"
     },
     "metadata": {},
     "execution_count": 43
    }
   ],
   "source": [
    "# The columns not transformed are now added to this DataFrame to obtain X_train_scaled\n",
    "X_train_scaled = X_train_standardised.join(X_train.iloc[:,-5:], how='inner')\n",
    "X_train_scaled.head()"
   ]
  },
  {
   "cell_type": "markdown",
   "metadata": {
    "colab_type": "text",
    "id": "YPEBikzGBUcG"
   },
   "source": [
    "The final `X_train_scaled` is now obtained."
   ]
  },
  {
   "cell_type": "markdown",
   "metadata": {
    "colab_type": "text",
    "id": "Q07dG98EtLGO"
   },
   "source": [
    "## Test Data"
   ]
  },
  {
   "cell_type": "markdown",
   "metadata": {
    "colab_type": "text",
    "id": "D7QxI-5LtT61"
   },
   "source": [
    "The test data has to be in the same format as the train data. Hence, the same iterative process used to clean the train data will be followed here. "
   ]
  },
  {
   "cell_type": "markdown",
   "metadata": {
    "colab_type": "text",
    "id": "lAAWrc6KwrGi"
   },
   "source": [
    "### Importing the libraries and the dataset"
   ]
  },
  {
   "cell_type": "code",
   "execution_count": 44,
   "metadata": {
    "colab": {},
    "colab_type": "code",
    "id": "MsmB9PDwwrGj"
   },
   "outputs": [],
   "source": [
    "import pandas as pd\n",
    "import matplotlib.pyplot as plt\n",
    "import numpy as np"
   ]
  },
  {
   "cell_type": "code",
   "execution_count": 45,
   "metadata": {
    "colab": {},
    "colab_type": "code",
    "id": "slYJbtP2wrGm"
   },
   "outputs": [],
   "source": [
    "dataset3 = pd.read_csv('https://raw.githubusercontent.com/MilkShaikh3/Predict_Regression/master/Test.csv')"
   ]
  },
  {
   "cell_type": "code",
   "execution_count": 46,
   "metadata": {
    "colab": {},
    "colab_type": "code",
    "id": "-pkP3OAzwrGp"
   },
   "outputs": [],
   "source": [
    "test = pd.merge(dataset3, dataset2, how='left', on='Rider Id') "
   ]
  },
  {
   "cell_type": "code",
   "execution_count": 47,
   "metadata": {
    "colab": {
     "base_uri": "https://localhost:8080/",
     "height": 785
    },
    "colab_type": "code",
    "executionInfo": {
     "elapsed": 45862,
     "status": "ok",
     "timestamp": 1590332446402,
     "user": {
      "displayName": "abdullah shaikh",
      "photoUrl": "",
      "userId": "08883111522238731033"
     },
     "user_tz": -120
    },
    "id": "oKAsDeglwrGu",
    "outputId": "a7c67ecf-1a74-4f42-e2f9-1352c9fd4eb1"
   },
   "outputs": [
    {
     "output_type": "execute_result",
     "data": {
      "text/plain": "         Order No       User Id Vehicle Type  Platform Type  \\\n0  Order_No_19248  User_Id_3355         Bike              3   \n1  Order_No_12736  User_Id_3647         Bike              3   \n2    Order_No_768  User_Id_2154         Bike              3   \n3  Order_No_15332  User_Id_2910         Bike              3   \n4  Order_No_21373  User_Id_1205         Bike              3   \n\n  Personal or Business  Placement - Day of Month  \\\n0             Business                        27   \n1             Business                        17   \n2             Business                        27   \n3             Business                        17   \n4             Business                        11   \n\n   Placement - Weekday (Mo = 1) Placement - Time  Confirmation - Day of Month  \\\n0                             3       4:44:10 PM                           27   \n1                             5      12:57:35 PM                           17   \n2                             4      11:08:14 AM                           27   \n3                             1       1:51:35 PM                           17   \n4                             2      11:30:28 AM                           11   \n\n   Confirmation - Weekday (Mo = 1)  ... Precipitation in millimeters  \\\n0                                3  ...                          NaN   \n1                                5  ...                          NaN   \n2                                4  ...                          NaN   \n3                                1  ...                          NaN   \n4                                2  ...                          NaN   \n\n   Pickup Lat  Pickup Long Destination Lat  Destination Long      Rider Id  \\\n0   -1.333275    36.870815       -1.305249         36.822390  Rider_Id_192   \n1   -1.272639    36.794723       -1.277007         36.823907  Rider_Id_868   \n2   -1.290894    36.822971       -1.276574         36.851365   Rider_Id_26   \n3   -1.290503    36.809646       -1.303382         36.790658  Rider_Id_685   \n4   -1.281081    36.814423       -1.266467         36.792161  Rider_Id_858   \n\n  No_Of_Orders   Age  Average_Rating  No_of_Ratings  \n0          439  1511            13.3            171  \n1          488   273            14.4             45  \n2          833   460            13.1             67  \n3          487   560            13.7             44  \n4         4761  1120            14.1           1010  \n\n[5 rows x 29 columns]",
      "text/html": "<div>\n<style scoped>\n    .dataframe tbody tr th:only-of-type {\n        vertical-align: middle;\n    }\n\n    .dataframe tbody tr th {\n        vertical-align: top;\n    }\n\n    .dataframe thead th {\n        text-align: right;\n    }\n</style>\n<table border=\"1\" class=\"dataframe\">\n  <thead>\n    <tr style=\"text-align: right;\">\n      <th></th>\n      <th>Order No</th>\n      <th>User Id</th>\n      <th>Vehicle Type</th>\n      <th>Platform Type</th>\n      <th>Personal or Business</th>\n      <th>Placement - Day of Month</th>\n      <th>Placement - Weekday (Mo = 1)</th>\n      <th>Placement - Time</th>\n      <th>Confirmation - Day of Month</th>\n      <th>Confirmation - Weekday (Mo = 1)</th>\n      <th>...</th>\n      <th>Precipitation in millimeters</th>\n      <th>Pickup Lat</th>\n      <th>Pickup Long</th>\n      <th>Destination Lat</th>\n      <th>Destination Long</th>\n      <th>Rider Id</th>\n      <th>No_Of_Orders</th>\n      <th>Age</th>\n      <th>Average_Rating</th>\n      <th>No_of_Ratings</th>\n    </tr>\n  </thead>\n  <tbody>\n    <tr>\n      <th>0</th>\n      <td>Order_No_19248</td>\n      <td>User_Id_3355</td>\n      <td>Bike</td>\n      <td>3</td>\n      <td>Business</td>\n      <td>27</td>\n      <td>3</td>\n      <td>4:44:10 PM</td>\n      <td>27</td>\n      <td>3</td>\n      <td>...</td>\n      <td>NaN</td>\n      <td>-1.333275</td>\n      <td>36.870815</td>\n      <td>-1.305249</td>\n      <td>36.822390</td>\n      <td>Rider_Id_192</td>\n      <td>439</td>\n      <td>1511</td>\n      <td>13.3</td>\n      <td>171</td>\n    </tr>\n    <tr>\n      <th>1</th>\n      <td>Order_No_12736</td>\n      <td>User_Id_3647</td>\n      <td>Bike</td>\n      <td>3</td>\n      <td>Business</td>\n      <td>17</td>\n      <td>5</td>\n      <td>12:57:35 PM</td>\n      <td>17</td>\n      <td>5</td>\n      <td>...</td>\n      <td>NaN</td>\n      <td>-1.272639</td>\n      <td>36.794723</td>\n      <td>-1.277007</td>\n      <td>36.823907</td>\n      <td>Rider_Id_868</td>\n      <td>488</td>\n      <td>273</td>\n      <td>14.4</td>\n      <td>45</td>\n    </tr>\n    <tr>\n      <th>2</th>\n      <td>Order_No_768</td>\n      <td>User_Id_2154</td>\n      <td>Bike</td>\n      <td>3</td>\n      <td>Business</td>\n      <td>27</td>\n      <td>4</td>\n      <td>11:08:14 AM</td>\n      <td>27</td>\n      <td>4</td>\n      <td>...</td>\n      <td>NaN</td>\n      <td>-1.290894</td>\n      <td>36.822971</td>\n      <td>-1.276574</td>\n      <td>36.851365</td>\n      <td>Rider_Id_26</td>\n      <td>833</td>\n      <td>460</td>\n      <td>13.1</td>\n      <td>67</td>\n    </tr>\n    <tr>\n      <th>3</th>\n      <td>Order_No_15332</td>\n      <td>User_Id_2910</td>\n      <td>Bike</td>\n      <td>3</td>\n      <td>Business</td>\n      <td>17</td>\n      <td>1</td>\n      <td>1:51:35 PM</td>\n      <td>17</td>\n      <td>1</td>\n      <td>...</td>\n      <td>NaN</td>\n      <td>-1.290503</td>\n      <td>36.809646</td>\n      <td>-1.303382</td>\n      <td>36.790658</td>\n      <td>Rider_Id_685</td>\n      <td>487</td>\n      <td>560</td>\n      <td>13.7</td>\n      <td>44</td>\n    </tr>\n    <tr>\n      <th>4</th>\n      <td>Order_No_21373</td>\n      <td>User_Id_1205</td>\n      <td>Bike</td>\n      <td>3</td>\n      <td>Business</td>\n      <td>11</td>\n      <td>2</td>\n      <td>11:30:28 AM</td>\n      <td>11</td>\n      <td>2</td>\n      <td>...</td>\n      <td>NaN</td>\n      <td>-1.281081</td>\n      <td>36.814423</td>\n      <td>-1.266467</td>\n      <td>36.792161</td>\n      <td>Rider_Id_858</td>\n      <td>4761</td>\n      <td>1120</td>\n      <td>14.1</td>\n      <td>1010</td>\n    </tr>\n  </tbody>\n</table>\n<p>5 rows × 29 columns</p>\n</div>"
     },
     "metadata": {},
     "execution_count": 47
    }
   ],
   "source": [
    "test.head()"
   ]
  },
  {
   "cell_type": "markdown",
   "metadata": {
    "colab_type": "text",
    "id": "obq4vJfkwrGp"
   },
   "source": [
    "The 2 datasets are succesfully merged."
   ]
  },
  {
   "cell_type": "markdown",
   "metadata": {
    "colab_type": "text",
    "id": "AwDtqwJswrGy"
   },
   "source": [
    "Column names with white spaces, brackets and dashes are replaced with an underscore."
   ]
  },
  {
   "cell_type": "code",
   "execution_count": 48,
   "metadata": {
    "colab": {
     "base_uri": "https://localhost:8080/",
     "height": 411
    },
    "colab_type": "code",
    "executionInfo": {
     "elapsed": 45780,
     "status": "ok",
     "timestamp": 1590332446403,
     "user": {
      "displayName": "abdullah shaikh",
      "photoUrl": "",
      "userId": "08883111522238731033"
     },
     "user_tz": -120
    },
    "id": "EwfkeTYywrGz",
    "outputId": "9bbd8ac9-373a-4f04-9a10-2862c8211b0c"
   },
   "outputs": [
    {
     "output_type": "execute_result",
     "data": {
      "text/plain": "         Order_No       User_Id Vehicle_Type  Platform_Type  \\\n0  Order_No_19248  User_Id_3355         Bike              3   \n1  Order_No_12736  User_Id_3647         Bike              3   \n2    Order_No_768  User_Id_2154         Bike              3   \n3  Order_No_15332  User_Id_2910         Bike              3   \n4  Order_No_21373  User_Id_1205         Bike              3   \n\n  Personal_or_Business  Placement_Day_of_Month  Placement_Weekday  \\\n0             Business                      27                  3   \n1             Business                      17                  5   \n2             Business                      27                  4   \n3             Business                      17                  1   \n4             Business                      11                  2   \n\n  Placement_Time  Confirmation_Day_of_Month  Confirmation_Weekday  ...  \\\n0     4:44:10 PM                         27                     3  ...   \n1    12:57:35 PM                         17                     5  ...   \n2    11:08:14 AM                         27                     4  ...   \n3     1:51:35 PM                         17                     1  ...   \n4    11:30:28 AM                         11                     2  ...   \n\n  Precipitation_in_millimeters  Pickup_Lat  Pickup_Long Destination_Lat  \\\n0                          NaN   -1.333275    36.870815       -1.305249   \n1                          NaN   -1.272639    36.794723       -1.277007   \n2                          NaN   -1.290894    36.822971       -1.276574   \n3                          NaN   -1.290503    36.809646       -1.303382   \n4                          NaN   -1.281081    36.814423       -1.266467   \n\n   Destination_Long      Rider_Id No_Of_Orders   Age  Average_Rating  \\\n0         36.822390  Rider_Id_192          439  1511            13.3   \n1         36.823907  Rider_Id_868          488   273            14.4   \n2         36.851365   Rider_Id_26          833   460            13.1   \n3         36.790658  Rider_Id_685          487   560            13.7   \n4         36.792161  Rider_Id_858         4761  1120            14.1   \n\n   No_of_Ratings  \n0            171  \n1             45  \n2             67  \n3             44  \n4           1010  \n\n[5 rows x 29 columns]",
      "text/html": "<div>\n<style scoped>\n    .dataframe tbody tr th:only-of-type {\n        vertical-align: middle;\n    }\n\n    .dataframe tbody tr th {\n        vertical-align: top;\n    }\n\n    .dataframe thead th {\n        text-align: right;\n    }\n</style>\n<table border=\"1\" class=\"dataframe\">\n  <thead>\n    <tr style=\"text-align: right;\">\n      <th></th>\n      <th>Order_No</th>\n      <th>User_Id</th>\n      <th>Vehicle_Type</th>\n      <th>Platform_Type</th>\n      <th>Personal_or_Business</th>\n      <th>Placement_Day_of_Month</th>\n      <th>Placement_Weekday</th>\n      <th>Placement_Time</th>\n      <th>Confirmation_Day_of_Month</th>\n      <th>Confirmation_Weekday</th>\n      <th>...</th>\n      <th>Precipitation_in_millimeters</th>\n      <th>Pickup_Lat</th>\n      <th>Pickup_Long</th>\n      <th>Destination_Lat</th>\n      <th>Destination_Long</th>\n      <th>Rider_Id</th>\n      <th>No_Of_Orders</th>\n      <th>Age</th>\n      <th>Average_Rating</th>\n      <th>No_of_Ratings</th>\n    </tr>\n  </thead>\n  <tbody>\n    <tr>\n      <th>0</th>\n      <td>Order_No_19248</td>\n      <td>User_Id_3355</td>\n      <td>Bike</td>\n      <td>3</td>\n      <td>Business</td>\n      <td>27</td>\n      <td>3</td>\n      <td>4:44:10 PM</td>\n      <td>27</td>\n      <td>3</td>\n      <td>...</td>\n      <td>NaN</td>\n      <td>-1.333275</td>\n      <td>36.870815</td>\n      <td>-1.305249</td>\n      <td>36.822390</td>\n      <td>Rider_Id_192</td>\n      <td>439</td>\n      <td>1511</td>\n      <td>13.3</td>\n      <td>171</td>\n    </tr>\n    <tr>\n      <th>1</th>\n      <td>Order_No_12736</td>\n      <td>User_Id_3647</td>\n      <td>Bike</td>\n      <td>3</td>\n      <td>Business</td>\n      <td>17</td>\n      <td>5</td>\n      <td>12:57:35 PM</td>\n      <td>17</td>\n      <td>5</td>\n      <td>...</td>\n      <td>NaN</td>\n      <td>-1.272639</td>\n      <td>36.794723</td>\n      <td>-1.277007</td>\n      <td>36.823907</td>\n      <td>Rider_Id_868</td>\n      <td>488</td>\n      <td>273</td>\n      <td>14.4</td>\n      <td>45</td>\n    </tr>\n    <tr>\n      <th>2</th>\n      <td>Order_No_768</td>\n      <td>User_Id_2154</td>\n      <td>Bike</td>\n      <td>3</td>\n      <td>Business</td>\n      <td>27</td>\n      <td>4</td>\n      <td>11:08:14 AM</td>\n      <td>27</td>\n      <td>4</td>\n      <td>...</td>\n      <td>NaN</td>\n      <td>-1.290894</td>\n      <td>36.822971</td>\n      <td>-1.276574</td>\n      <td>36.851365</td>\n      <td>Rider_Id_26</td>\n      <td>833</td>\n      <td>460</td>\n      <td>13.1</td>\n      <td>67</td>\n    </tr>\n    <tr>\n      <th>3</th>\n      <td>Order_No_15332</td>\n      <td>User_Id_2910</td>\n      <td>Bike</td>\n      <td>3</td>\n      <td>Business</td>\n      <td>17</td>\n      <td>1</td>\n      <td>1:51:35 PM</td>\n      <td>17</td>\n      <td>1</td>\n      <td>...</td>\n      <td>NaN</td>\n      <td>-1.290503</td>\n      <td>36.809646</td>\n      <td>-1.303382</td>\n      <td>36.790658</td>\n      <td>Rider_Id_685</td>\n      <td>487</td>\n      <td>560</td>\n      <td>13.7</td>\n      <td>44</td>\n    </tr>\n    <tr>\n      <th>4</th>\n      <td>Order_No_21373</td>\n      <td>User_Id_1205</td>\n      <td>Bike</td>\n      <td>3</td>\n      <td>Business</td>\n      <td>11</td>\n      <td>2</td>\n      <td>11:30:28 AM</td>\n      <td>11</td>\n      <td>2</td>\n      <td>...</td>\n      <td>NaN</td>\n      <td>-1.281081</td>\n      <td>36.814423</td>\n      <td>-1.266467</td>\n      <td>36.792161</td>\n      <td>Rider_Id_858</td>\n      <td>4761</td>\n      <td>1120</td>\n      <td>14.1</td>\n      <td>1010</td>\n    </tr>\n  </tbody>\n</table>\n<p>5 rows × 29 columns</p>\n</div>"
     },
     "metadata": {},
     "execution_count": 48
    }
   ],
   "source": [
    "test.columns = [col.replace(\" - \",\" \") for col in test.columns]\n",
    "test.columns = [col.replace(\" \",\"_\") for col in test.columns]\n",
    "test.columns = [col.replace(\"_(Mo_=_1)\",\"\") for col in test.columns]\n",
    "test.columns = [col.replace(\"(KM)\",\"KM\") for col in test.columns]\n",
    "test.head()"
   ]
  },
  {
   "cell_type": "markdown",
   "metadata": {
    "colab_type": "text",
    "id": "77AuCKh8yVJq"
   },
   "source": [
    "### Taking care of missing data"
   ]
  },
  {
   "cell_type": "markdown",
   "metadata": {
    "colab_type": "text",
    "id": "vnyf-tDHyVJu"
   },
   "source": [
    "Firstly, the data types and number of entries of each column are inspected."
   ]
  },
  {
   "cell_type": "code",
   "execution_count": 49,
   "metadata": {
    "colab": {
     "base_uri": "https://localhost:8080/",
     "height": 1000
    },
    "colab_type": "code",
    "executionInfo": {
     "elapsed": 45759,
     "status": "ok",
     "timestamp": 1590332446403,
     "user": {
      "displayName": "abdullah shaikh",
      "photoUrl": "",
      "userId": "08883111522238731033"
     },
     "user_tz": -120
    },
    "id": "6l4QlVWLyVJy",
    "outputId": "33b54dd3-ce68-46ae-9b9e-07a955d48f07"
   },
   "outputs": [
    {
     "output_type": "stream",
     "name": "stdout",
     "text": "<class 'pandas.core.frame.DataFrame'>\nInt64Index: 7068 entries, 0 to 7067\nData columns (total 29 columns):\n #   Column                          Non-Null Count  Dtype  \n---  ------                          --------------  -----  \n 0   Order_No                        7068 non-null   object \n 1   User_Id                         7068 non-null   object \n 2   Vehicle_Type                    7068 non-null   object \n 3   Platform_Type                   7068 non-null   int64  \n 4   Personal_or_Business            7068 non-null   object \n 5   Placement_Day_of_Month          7068 non-null   int64  \n 6   Placement_Weekday               7068 non-null   int64  \n 7   Placement_Time                  7068 non-null   object \n 8   Confirmation_Day_of_Month       7068 non-null   int64  \n 9   Confirmation_Weekday            7068 non-null   int64  \n 10  Confirmation_Time               7068 non-null   object \n 11  Arrival_at_Pickup_Day_of_Month  7068 non-null   int64  \n 12  Arrival_at_Pickup_Weekday       7068 non-null   int64  \n 13  Arrival_at_Pickup_Time          7068 non-null   object \n 14  Pickup_Day_of_Month             7068 non-null   int64  \n 15  Pickup_Weekday                  7068 non-null   int64  \n 16  Pickup_Time                     7068 non-null   object \n 17  Distance_KM                     7068 non-null   int64  \n 18  Temperature                     5631 non-null   float64\n 19  Precipitation_in_millimeters    199 non-null    float64\n 20  Pickup_Lat                      7068 non-null   float64\n 21  Pickup_Long                     7068 non-null   float64\n 22  Destination_Lat                 7068 non-null   float64\n 23  Destination_Long                7068 non-null   float64\n 24  Rider_Id                        7068 non-null   object \n 25  No_Of_Orders                    7068 non-null   int64  \n 26  Age                             7068 non-null   int64  \n 27  Average_Rating                  7068 non-null   float64\n 28  No_of_Ratings                   7068 non-null   int64  \ndtypes: float64(7), int64(13), object(9)\nmemory usage: 1.6+ MB\n"
    }
   ],
   "source": [
    "test.info() "
   ]
  },
  {
   "cell_type": "markdown",
   "metadata": {
    "colab_type": "text",
    "id": "Zxk3B30yyVJ4"
   },
   "source": [
    "From this, it is observed that Temperature and Precipitation have some missing values that needs to be taken care of.\n",
    "\n",
    "The imputer(input_df, column) function built earlier will be used to impute the missing values."
   ]
  },
  {
   "cell_type": "code",
   "execution_count": 50,
   "metadata": {
    "colab": {
     "base_uri": "https://localhost:8080/",
     "height": 841
    },
    "colab_type": "code",
    "executionInfo": {
     "elapsed": 46509,
     "status": "ok",
     "timestamp": 1590332447184,
     "user": {
      "displayName": "abdullah shaikh",
      "photoUrl": "",
      "userId": "08883111522238731033"
     },
     "user_tz": -120
    },
    "id": "dWJUr1eKyVJ8",
    "outputId": "e36496f8-1d96-41df-b72e-50f3a90f225a"
   },
   "outputs": [
    {
     "output_type": "execute_result",
     "data": {
      "text/plain": "            Order_No       User_Id Vehicle_Type  Platform_Type  \\\n0     Order_No_19248  User_Id_3355         Bike              3   \n1     Order_No_12736  User_Id_3647         Bike              3   \n2       Order_No_768  User_Id_2154         Bike              3   \n3     Order_No_15332  User_Id_2910         Bike              3   \n4     Order_No_21373  User_Id_1205         Bike              3   \n...              ...           ...          ...            ...   \n7063   Order_No_3612  User_Id_2587         Bike              3   \n7064   Order_No_7657  User_Id_3547         Bike              3   \n7065   Order_No_1969   User_Id_136         Bike              3   \n7066  Order_No_10591  User_Id_1979         Bike              3   \n7067   Order_No_1603  User_Id_1721         Bike              3   \n\n     Personal_or_Business  Placement_Day_of_Month  Placement_Weekday  \\\n0                Business                      27                  3   \n1                Business                      17                  5   \n2                Business                      27                  4   \n3                Business                      17                  1   \n4                Business                      11                  2   \n...                   ...                     ...                ...   \n7063             Business                       7                  1   \n7064             Business                      10                  3   \n7065             Business                       5                  3   \n7066             Personal                      29                  2   \n7067             Business                       4                  2   \n\n     Placement_Time  Confirmation_Day_of_Month  Confirmation_Weekday  ...  \\\n0        4:44:10 PM                         27                     3  ...   \n1       12:57:35 PM                         17                     5  ...   \n2       11:08:14 AM                         27                     4  ...   \n3        1:51:35 PM                         17                     1  ...   \n4       11:30:28 AM                         11                     2  ...   \n...             ...                        ...                   ...  ...   \n7063    10:35:49 AM                          7                     1  ...   \n7064     2:59:42 PM                         10                     3  ...   \n7065     2:45:12 PM                          5                     3  ...   \n7066     3:18:26 PM                         29                     2  ...   \n7067     3:37:09 PM                          4                     2  ...   \n\n     Precipitation_in_millimeters  Pickup_Lat  Pickup_Long Destination_Lat  \\\n0                             NaN   -1.333275    36.870815       -1.305249   \n1                             NaN   -1.272639    36.794723       -1.277007   \n2                             NaN   -1.290894    36.822971       -1.276574   \n3                             NaN   -1.290503    36.809646       -1.303382   \n4                             NaN   -1.281081    36.814423       -1.266467   \n...                           ...         ...          ...             ...   \n7063                          NaN   -1.258414    36.804800       -1.288780   \n7064                          NaN   -1.276141    36.771084       -1.316098   \n7065                          NaN   -1.301446    36.766138       -1.264960   \n7066                          NaN   -1.248404    36.678276       -1.272027   \n7067                          NaN   -1.255189    36.782203       -1.300406   \n\n      Destination_Long      Rider_Id No_Of_Orders   Age  Average_Rating  \\\n0            36.822390  Rider_Id_192          439  1511            13.3   \n1            36.823907  Rider_Id_868          488   273            14.4   \n2            36.851365   Rider_Id_26          833   460            13.1   \n3            36.790658  Rider_Id_685          487   560            13.7   \n4            36.792161  Rider_Id_858         4761  1120            14.1   \n...                ...           ...          ...   ...             ...   \n7063         36.816831  Rider_Id_362         1018   504            13.1   \n7064         36.913164  Rider_Id_669         6728  2702            13.9   \n7065         36.798178  Rider_Id_379         1601  1337            13.7   \n7066         36.817411  Rider_Id_474          225   878            14.1   \n7067         36.829741   Rider_Id_76          847   297            14.0   \n\n      No_of_Ratings  \n0               171  \n1                45  \n2                67  \n3                44  \n4              1010  \n...             ...  \n7063             87  \n7064           2027  \n7065            441  \n7066             66  \n7067            108  \n\n[7068 rows x 29 columns]",
      "text/html": "<div>\n<style scoped>\n    .dataframe tbody tr th:only-of-type {\n        vertical-align: middle;\n    }\n\n    .dataframe tbody tr th {\n        vertical-align: top;\n    }\n\n    .dataframe thead th {\n        text-align: right;\n    }\n</style>\n<table border=\"1\" class=\"dataframe\">\n  <thead>\n    <tr style=\"text-align: right;\">\n      <th></th>\n      <th>Order_No</th>\n      <th>User_Id</th>\n      <th>Vehicle_Type</th>\n      <th>Platform_Type</th>\n      <th>Personal_or_Business</th>\n      <th>Placement_Day_of_Month</th>\n      <th>Placement_Weekday</th>\n      <th>Placement_Time</th>\n      <th>Confirmation_Day_of_Month</th>\n      <th>Confirmation_Weekday</th>\n      <th>...</th>\n      <th>Precipitation_in_millimeters</th>\n      <th>Pickup_Lat</th>\n      <th>Pickup_Long</th>\n      <th>Destination_Lat</th>\n      <th>Destination_Long</th>\n      <th>Rider_Id</th>\n      <th>No_Of_Orders</th>\n      <th>Age</th>\n      <th>Average_Rating</th>\n      <th>No_of_Ratings</th>\n    </tr>\n  </thead>\n  <tbody>\n    <tr>\n      <th>0</th>\n      <td>Order_No_19248</td>\n      <td>User_Id_3355</td>\n      <td>Bike</td>\n      <td>3</td>\n      <td>Business</td>\n      <td>27</td>\n      <td>3</td>\n      <td>4:44:10 PM</td>\n      <td>27</td>\n      <td>3</td>\n      <td>...</td>\n      <td>NaN</td>\n      <td>-1.333275</td>\n      <td>36.870815</td>\n      <td>-1.305249</td>\n      <td>36.822390</td>\n      <td>Rider_Id_192</td>\n      <td>439</td>\n      <td>1511</td>\n      <td>13.3</td>\n      <td>171</td>\n    </tr>\n    <tr>\n      <th>1</th>\n      <td>Order_No_12736</td>\n      <td>User_Id_3647</td>\n      <td>Bike</td>\n      <td>3</td>\n      <td>Business</td>\n      <td>17</td>\n      <td>5</td>\n      <td>12:57:35 PM</td>\n      <td>17</td>\n      <td>5</td>\n      <td>...</td>\n      <td>NaN</td>\n      <td>-1.272639</td>\n      <td>36.794723</td>\n      <td>-1.277007</td>\n      <td>36.823907</td>\n      <td>Rider_Id_868</td>\n      <td>488</td>\n      <td>273</td>\n      <td>14.4</td>\n      <td>45</td>\n    </tr>\n    <tr>\n      <th>2</th>\n      <td>Order_No_768</td>\n      <td>User_Id_2154</td>\n      <td>Bike</td>\n      <td>3</td>\n      <td>Business</td>\n      <td>27</td>\n      <td>4</td>\n      <td>11:08:14 AM</td>\n      <td>27</td>\n      <td>4</td>\n      <td>...</td>\n      <td>NaN</td>\n      <td>-1.290894</td>\n      <td>36.822971</td>\n      <td>-1.276574</td>\n      <td>36.851365</td>\n      <td>Rider_Id_26</td>\n      <td>833</td>\n      <td>460</td>\n      <td>13.1</td>\n      <td>67</td>\n    </tr>\n    <tr>\n      <th>3</th>\n      <td>Order_No_15332</td>\n      <td>User_Id_2910</td>\n      <td>Bike</td>\n      <td>3</td>\n      <td>Business</td>\n      <td>17</td>\n      <td>1</td>\n      <td>1:51:35 PM</td>\n      <td>17</td>\n      <td>1</td>\n      <td>...</td>\n      <td>NaN</td>\n      <td>-1.290503</td>\n      <td>36.809646</td>\n      <td>-1.303382</td>\n      <td>36.790658</td>\n      <td>Rider_Id_685</td>\n      <td>487</td>\n      <td>560</td>\n      <td>13.7</td>\n      <td>44</td>\n    </tr>\n    <tr>\n      <th>4</th>\n      <td>Order_No_21373</td>\n      <td>User_Id_1205</td>\n      <td>Bike</td>\n      <td>3</td>\n      <td>Business</td>\n      <td>11</td>\n      <td>2</td>\n      <td>11:30:28 AM</td>\n      <td>11</td>\n      <td>2</td>\n      <td>...</td>\n      <td>NaN</td>\n      <td>-1.281081</td>\n      <td>36.814423</td>\n      <td>-1.266467</td>\n      <td>36.792161</td>\n      <td>Rider_Id_858</td>\n      <td>4761</td>\n      <td>1120</td>\n      <td>14.1</td>\n      <td>1010</td>\n    </tr>\n    <tr>\n      <th>...</th>\n      <td>...</td>\n      <td>...</td>\n      <td>...</td>\n      <td>...</td>\n      <td>...</td>\n      <td>...</td>\n      <td>...</td>\n      <td>...</td>\n      <td>...</td>\n      <td>...</td>\n      <td>...</td>\n      <td>...</td>\n      <td>...</td>\n      <td>...</td>\n      <td>...</td>\n      <td>...</td>\n      <td>...</td>\n      <td>...</td>\n      <td>...</td>\n      <td>...</td>\n      <td>...</td>\n    </tr>\n    <tr>\n      <th>7063</th>\n      <td>Order_No_3612</td>\n      <td>User_Id_2587</td>\n      <td>Bike</td>\n      <td>3</td>\n      <td>Business</td>\n      <td>7</td>\n      <td>1</td>\n      <td>10:35:49 AM</td>\n      <td>7</td>\n      <td>1</td>\n      <td>...</td>\n      <td>NaN</td>\n      <td>-1.258414</td>\n      <td>36.804800</td>\n      <td>-1.288780</td>\n      <td>36.816831</td>\n      <td>Rider_Id_362</td>\n      <td>1018</td>\n      <td>504</td>\n      <td>13.1</td>\n      <td>87</td>\n    </tr>\n    <tr>\n      <th>7064</th>\n      <td>Order_No_7657</td>\n      <td>User_Id_3547</td>\n      <td>Bike</td>\n      <td>3</td>\n      <td>Business</td>\n      <td>10</td>\n      <td>3</td>\n      <td>2:59:42 PM</td>\n      <td>10</td>\n      <td>3</td>\n      <td>...</td>\n      <td>NaN</td>\n      <td>-1.276141</td>\n      <td>36.771084</td>\n      <td>-1.316098</td>\n      <td>36.913164</td>\n      <td>Rider_Id_669</td>\n      <td>6728</td>\n      <td>2702</td>\n      <td>13.9</td>\n      <td>2027</td>\n    </tr>\n    <tr>\n      <th>7065</th>\n      <td>Order_No_1969</td>\n      <td>User_Id_136</td>\n      <td>Bike</td>\n      <td>3</td>\n      <td>Business</td>\n      <td>5</td>\n      <td>3</td>\n      <td>2:45:12 PM</td>\n      <td>5</td>\n      <td>3</td>\n      <td>...</td>\n      <td>NaN</td>\n      <td>-1.301446</td>\n      <td>36.766138</td>\n      <td>-1.264960</td>\n      <td>36.798178</td>\n      <td>Rider_Id_379</td>\n      <td>1601</td>\n      <td>1337</td>\n      <td>13.7</td>\n      <td>441</td>\n    </tr>\n    <tr>\n      <th>7066</th>\n      <td>Order_No_10591</td>\n      <td>User_Id_1979</td>\n      <td>Bike</td>\n      <td>3</td>\n      <td>Personal</td>\n      <td>29</td>\n      <td>2</td>\n      <td>3:18:26 PM</td>\n      <td>29</td>\n      <td>2</td>\n      <td>...</td>\n      <td>NaN</td>\n      <td>-1.248404</td>\n      <td>36.678276</td>\n      <td>-1.272027</td>\n      <td>36.817411</td>\n      <td>Rider_Id_474</td>\n      <td>225</td>\n      <td>878</td>\n      <td>14.1</td>\n      <td>66</td>\n    </tr>\n    <tr>\n      <th>7067</th>\n      <td>Order_No_1603</td>\n      <td>User_Id_1721</td>\n      <td>Bike</td>\n      <td>3</td>\n      <td>Business</td>\n      <td>4</td>\n      <td>2</td>\n      <td>3:37:09 PM</td>\n      <td>4</td>\n      <td>2</td>\n      <td>...</td>\n      <td>NaN</td>\n      <td>-1.255189</td>\n      <td>36.782203</td>\n      <td>-1.300406</td>\n      <td>36.829741</td>\n      <td>Rider_Id_76</td>\n      <td>847</td>\n      <td>297</td>\n      <td>14.0</td>\n      <td>108</td>\n    </tr>\n  </tbody>\n</table>\n<p>7068 rows × 29 columns</p>\n</div>"
     },
     "metadata": {},
     "execution_count": 50
    }
   ],
   "source": [
    "imputer(test, 'Temperature')"
   ]
  },
  {
   "cell_type": "code",
   "execution_count": 51,
   "metadata": {
    "colab": {
     "base_uri": "https://localhost:8080/",
     "height": 841
    },
    "colab_type": "code",
    "executionInfo": {
     "elapsed": 49864,
     "status": "ok",
     "timestamp": 1590332450595,
     "user": {
      "displayName": "abdullah shaikh",
      "photoUrl": "",
      "userId": "08883111522238731033"
     },
     "user_tz": -120
    },
    "id": "ba2WJFPzyVKA",
    "outputId": "9d89e816-a353-4bb1-ac63-d938722f2863"
   },
   "outputs": [
    {
     "output_type": "execute_result",
     "data": {
      "text/plain": "            Order_No       User_Id Vehicle_Type  Platform_Type  \\\n0     Order_No_19248  User_Id_3355         Bike              3   \n1     Order_No_12736  User_Id_3647         Bike              3   \n2       Order_No_768  User_Id_2154         Bike              3   \n3     Order_No_15332  User_Id_2910         Bike              3   \n4     Order_No_21373  User_Id_1205         Bike              3   \n...              ...           ...          ...            ...   \n7063   Order_No_3612  User_Id_2587         Bike              3   \n7064   Order_No_7657  User_Id_3547         Bike              3   \n7065   Order_No_1969   User_Id_136         Bike              3   \n7066  Order_No_10591  User_Id_1979         Bike              3   \n7067   Order_No_1603  User_Id_1721         Bike              3   \n\n     Personal_or_Business  Placement_Day_of_Month  Placement_Weekday  \\\n0                Business                      27                  3   \n1                Business                      17                  5   \n2                Business                      27                  4   \n3                Business                      17                  1   \n4                Business                      11                  2   \n...                   ...                     ...                ...   \n7063             Business                       7                  1   \n7064             Business                      10                  3   \n7065             Business                       5                  3   \n7066             Personal                      29                  2   \n7067             Business                       4                  2   \n\n     Placement_Time  Confirmation_Day_of_Month  Confirmation_Weekday  ...  \\\n0        4:44:10 PM                         27                     3  ...   \n1       12:57:35 PM                         17                     5  ...   \n2       11:08:14 AM                         27                     4  ...   \n3        1:51:35 PM                         17                     1  ...   \n4       11:30:28 AM                         11                     2  ...   \n...             ...                        ...                   ...  ...   \n7063    10:35:49 AM                          7                     1  ...   \n7064     2:59:42 PM                         10                     3  ...   \n7065     2:45:12 PM                          5                     3  ...   \n7066     3:18:26 PM                         29                     2  ...   \n7067     3:37:09 PM                          4                     2  ...   \n\n     Precipitation_in_millimeters  Pickup_Lat  Pickup_Long Destination_Lat  \\\n0                             1.7   -1.333275    36.870815       -1.305249   \n1                             6.9   -1.272639    36.794723       -1.277007   \n2                             1.7   -1.290894    36.822971       -1.276574   \n3                             6.9   -1.290503    36.809646       -1.303382   \n4                             9.7   -1.281081    36.814423       -1.266467   \n...                           ...         ...          ...             ...   \n7063                          1.2   -1.258414    36.804800       -1.288780   \n7064                          1.6   -1.276141    36.771084       -1.316098   \n7065                          2.5   -1.301446    36.766138       -1.264960   \n7066                          4.0   -1.248404    36.678276       -1.272027   \n7067                         30.8   -1.255189    36.782203       -1.300406   \n\n      Destination_Long      Rider_Id No_Of_Orders   Age  Average_Rating  \\\n0            36.822390  Rider_Id_192          439  1511            13.3   \n1            36.823907  Rider_Id_868          488   273            14.4   \n2            36.851365   Rider_Id_26          833   460            13.1   \n3            36.790658  Rider_Id_685          487   560            13.7   \n4            36.792161  Rider_Id_858         4761  1120            14.1   \n...                ...           ...          ...   ...             ...   \n7063         36.816831  Rider_Id_362         1018   504            13.1   \n7064         36.913164  Rider_Id_669         6728  2702            13.9   \n7065         36.798178  Rider_Id_379         1601  1337            13.7   \n7066         36.817411  Rider_Id_474          225   878            14.1   \n7067         36.829741   Rider_Id_76          847   297            14.0   \n\n      No_of_Ratings  \n0               171  \n1                45  \n2                67  \n3                44  \n4              1010  \n...             ...  \n7063             87  \n7064           2027  \n7065            441  \n7066             66  \n7067            108  \n\n[7068 rows x 29 columns]",
      "text/html": "<div>\n<style scoped>\n    .dataframe tbody tr th:only-of-type {\n        vertical-align: middle;\n    }\n\n    .dataframe tbody tr th {\n        vertical-align: top;\n    }\n\n    .dataframe thead th {\n        text-align: right;\n    }\n</style>\n<table border=\"1\" class=\"dataframe\">\n  <thead>\n    <tr style=\"text-align: right;\">\n      <th></th>\n      <th>Order_No</th>\n      <th>User_Id</th>\n      <th>Vehicle_Type</th>\n      <th>Platform_Type</th>\n      <th>Personal_or_Business</th>\n      <th>Placement_Day_of_Month</th>\n      <th>Placement_Weekday</th>\n      <th>Placement_Time</th>\n      <th>Confirmation_Day_of_Month</th>\n      <th>Confirmation_Weekday</th>\n      <th>...</th>\n      <th>Precipitation_in_millimeters</th>\n      <th>Pickup_Lat</th>\n      <th>Pickup_Long</th>\n      <th>Destination_Lat</th>\n      <th>Destination_Long</th>\n      <th>Rider_Id</th>\n      <th>No_Of_Orders</th>\n      <th>Age</th>\n      <th>Average_Rating</th>\n      <th>No_of_Ratings</th>\n    </tr>\n  </thead>\n  <tbody>\n    <tr>\n      <th>0</th>\n      <td>Order_No_19248</td>\n      <td>User_Id_3355</td>\n      <td>Bike</td>\n      <td>3</td>\n      <td>Business</td>\n      <td>27</td>\n      <td>3</td>\n      <td>4:44:10 PM</td>\n      <td>27</td>\n      <td>3</td>\n      <td>...</td>\n      <td>1.7</td>\n      <td>-1.333275</td>\n      <td>36.870815</td>\n      <td>-1.305249</td>\n      <td>36.822390</td>\n      <td>Rider_Id_192</td>\n      <td>439</td>\n      <td>1511</td>\n      <td>13.3</td>\n      <td>171</td>\n    </tr>\n    <tr>\n      <th>1</th>\n      <td>Order_No_12736</td>\n      <td>User_Id_3647</td>\n      <td>Bike</td>\n      <td>3</td>\n      <td>Business</td>\n      <td>17</td>\n      <td>5</td>\n      <td>12:57:35 PM</td>\n      <td>17</td>\n      <td>5</td>\n      <td>...</td>\n      <td>6.9</td>\n      <td>-1.272639</td>\n      <td>36.794723</td>\n      <td>-1.277007</td>\n      <td>36.823907</td>\n      <td>Rider_Id_868</td>\n      <td>488</td>\n      <td>273</td>\n      <td>14.4</td>\n      <td>45</td>\n    </tr>\n    <tr>\n      <th>2</th>\n      <td>Order_No_768</td>\n      <td>User_Id_2154</td>\n      <td>Bike</td>\n      <td>3</td>\n      <td>Business</td>\n      <td>27</td>\n      <td>4</td>\n      <td>11:08:14 AM</td>\n      <td>27</td>\n      <td>4</td>\n      <td>...</td>\n      <td>1.7</td>\n      <td>-1.290894</td>\n      <td>36.822971</td>\n      <td>-1.276574</td>\n      <td>36.851365</td>\n      <td>Rider_Id_26</td>\n      <td>833</td>\n      <td>460</td>\n      <td>13.1</td>\n      <td>67</td>\n    </tr>\n    <tr>\n      <th>3</th>\n      <td>Order_No_15332</td>\n      <td>User_Id_2910</td>\n      <td>Bike</td>\n      <td>3</td>\n      <td>Business</td>\n      <td>17</td>\n      <td>1</td>\n      <td>1:51:35 PM</td>\n      <td>17</td>\n      <td>1</td>\n      <td>...</td>\n      <td>6.9</td>\n      <td>-1.290503</td>\n      <td>36.809646</td>\n      <td>-1.303382</td>\n      <td>36.790658</td>\n      <td>Rider_Id_685</td>\n      <td>487</td>\n      <td>560</td>\n      <td>13.7</td>\n      <td>44</td>\n    </tr>\n    <tr>\n      <th>4</th>\n      <td>Order_No_21373</td>\n      <td>User_Id_1205</td>\n      <td>Bike</td>\n      <td>3</td>\n      <td>Business</td>\n      <td>11</td>\n      <td>2</td>\n      <td>11:30:28 AM</td>\n      <td>11</td>\n      <td>2</td>\n      <td>...</td>\n      <td>9.7</td>\n      <td>-1.281081</td>\n      <td>36.814423</td>\n      <td>-1.266467</td>\n      <td>36.792161</td>\n      <td>Rider_Id_858</td>\n      <td>4761</td>\n      <td>1120</td>\n      <td>14.1</td>\n      <td>1010</td>\n    </tr>\n    <tr>\n      <th>...</th>\n      <td>...</td>\n      <td>...</td>\n      <td>...</td>\n      <td>...</td>\n      <td>...</td>\n      <td>...</td>\n      <td>...</td>\n      <td>...</td>\n      <td>...</td>\n      <td>...</td>\n      <td>...</td>\n      <td>...</td>\n      <td>...</td>\n      <td>...</td>\n      <td>...</td>\n      <td>...</td>\n      <td>...</td>\n      <td>...</td>\n      <td>...</td>\n      <td>...</td>\n      <td>...</td>\n    </tr>\n    <tr>\n      <th>7063</th>\n      <td>Order_No_3612</td>\n      <td>User_Id_2587</td>\n      <td>Bike</td>\n      <td>3</td>\n      <td>Business</td>\n      <td>7</td>\n      <td>1</td>\n      <td>10:35:49 AM</td>\n      <td>7</td>\n      <td>1</td>\n      <td>...</td>\n      <td>1.2</td>\n      <td>-1.258414</td>\n      <td>36.804800</td>\n      <td>-1.288780</td>\n      <td>36.816831</td>\n      <td>Rider_Id_362</td>\n      <td>1018</td>\n      <td>504</td>\n      <td>13.1</td>\n      <td>87</td>\n    </tr>\n    <tr>\n      <th>7064</th>\n      <td>Order_No_7657</td>\n      <td>User_Id_3547</td>\n      <td>Bike</td>\n      <td>3</td>\n      <td>Business</td>\n      <td>10</td>\n      <td>3</td>\n      <td>2:59:42 PM</td>\n      <td>10</td>\n      <td>3</td>\n      <td>...</td>\n      <td>1.6</td>\n      <td>-1.276141</td>\n      <td>36.771084</td>\n      <td>-1.316098</td>\n      <td>36.913164</td>\n      <td>Rider_Id_669</td>\n      <td>6728</td>\n      <td>2702</td>\n      <td>13.9</td>\n      <td>2027</td>\n    </tr>\n    <tr>\n      <th>7065</th>\n      <td>Order_No_1969</td>\n      <td>User_Id_136</td>\n      <td>Bike</td>\n      <td>3</td>\n      <td>Business</td>\n      <td>5</td>\n      <td>3</td>\n      <td>2:45:12 PM</td>\n      <td>5</td>\n      <td>3</td>\n      <td>...</td>\n      <td>2.5</td>\n      <td>-1.301446</td>\n      <td>36.766138</td>\n      <td>-1.264960</td>\n      <td>36.798178</td>\n      <td>Rider_Id_379</td>\n      <td>1601</td>\n      <td>1337</td>\n      <td>13.7</td>\n      <td>441</td>\n    </tr>\n    <tr>\n      <th>7066</th>\n      <td>Order_No_10591</td>\n      <td>User_Id_1979</td>\n      <td>Bike</td>\n      <td>3</td>\n      <td>Personal</td>\n      <td>29</td>\n      <td>2</td>\n      <td>3:18:26 PM</td>\n      <td>29</td>\n      <td>2</td>\n      <td>...</td>\n      <td>4.0</td>\n      <td>-1.248404</td>\n      <td>36.678276</td>\n      <td>-1.272027</td>\n      <td>36.817411</td>\n      <td>Rider_Id_474</td>\n      <td>225</td>\n      <td>878</td>\n      <td>14.1</td>\n      <td>66</td>\n    </tr>\n    <tr>\n      <th>7067</th>\n      <td>Order_No_1603</td>\n      <td>User_Id_1721</td>\n      <td>Bike</td>\n      <td>3</td>\n      <td>Business</td>\n      <td>4</td>\n      <td>2</td>\n      <td>3:37:09 PM</td>\n      <td>4</td>\n      <td>2</td>\n      <td>...</td>\n      <td>30.8</td>\n      <td>-1.255189</td>\n      <td>36.782203</td>\n      <td>-1.300406</td>\n      <td>36.829741</td>\n      <td>Rider_Id_76</td>\n      <td>847</td>\n      <td>297</td>\n      <td>14.0</td>\n      <td>108</td>\n    </tr>\n  </tbody>\n</table>\n<p>7068 rows × 29 columns</p>\n</div>"
     },
     "metadata": {},
     "execution_count": 51
    }
   ],
   "source": [
    "imputer(test, 'Precipitation_in_millimeters')"
   ]
  },
  {
   "cell_type": "code",
   "execution_count": 52,
   "metadata": {
    "colab": {
     "base_uri": "https://localhost:8080/",
     "height": 1000
    },
    "colab_type": "code",
    "executionInfo": {
     "elapsed": 49842,
     "status": "ok",
     "timestamp": 1590332450597,
     "user": {
      "displayName": "abdullah shaikh",
      "photoUrl": "",
      "userId": "08883111522238731033"
     },
     "user_tz": -120
    },
    "id": "j2Q1L_PyyVKD",
    "outputId": "c40958b4-66fe-4bc9-d22e-10e76ba2bee8"
   },
   "outputs": [
    {
     "output_type": "stream",
     "name": "stdout",
     "text": "<class 'pandas.core.frame.DataFrame'>\nInt64Index: 7068 entries, 0 to 7067\nData columns (total 29 columns):\n #   Column                          Non-Null Count  Dtype  \n---  ------                          --------------  -----  \n 0   Order_No                        7068 non-null   object \n 1   User_Id                         7068 non-null   object \n 2   Vehicle_Type                    7068 non-null   object \n 3   Platform_Type                   7068 non-null   int64  \n 4   Personal_or_Business            7068 non-null   object \n 5   Placement_Day_of_Month          7068 non-null   int64  \n 6   Placement_Weekday               7068 non-null   int64  \n 7   Placement_Time                  7068 non-null   object \n 8   Confirmation_Day_of_Month       7068 non-null   int64  \n 9   Confirmation_Weekday            7068 non-null   int64  \n 10  Confirmation_Time               7068 non-null   object \n 11  Arrival_at_Pickup_Day_of_Month  7068 non-null   int64  \n 12  Arrival_at_Pickup_Weekday       7068 non-null   int64  \n 13  Arrival_at_Pickup_Time          7068 non-null   object \n 14  Pickup_Day_of_Month             7068 non-null   int64  \n 15  Pickup_Weekday                  7068 non-null   int64  \n 16  Pickup_Time                     7068 non-null   object \n 17  Distance_KM                     7068 non-null   int64  \n 18  Temperature                     7068 non-null   float64\n 19  Precipitation_in_millimeters    6396 non-null   float64\n 20  Pickup_Lat                      7068 non-null   float64\n 21  Pickup_Long                     7068 non-null   float64\n 22  Destination_Lat                 7068 non-null   float64\n 23  Destination_Long                7068 non-null   float64\n 24  Rider_Id                        7068 non-null   object \n 25  No_Of_Orders                    7068 non-null   int64  \n 26  Age                             7068 non-null   int64  \n 27  Average_Rating                  7068 non-null   float64\n 28  No_of_Ratings                   7068 non-null   int64  \ndtypes: float64(7), int64(13), object(9)\nmemory usage: 1.9+ MB\n"
    }
   ],
   "source": [
    "test.info()"
   ]
  },
  {
   "cell_type": "markdown",
   "metadata": {
    "colab_type": "text",
    "id": "vJarK4mZyVKG"
   },
   "source": [
    "It can be seen that the temperature values have been successfully imputed; however the precipitation still has null values. An investigation is now conducted to find out why is this the case. "
   ]
  },
  {
   "cell_type": "code",
   "execution_count": 53,
   "metadata": {
    "colab": {
     "base_uri": "https://localhost:8080/",
     "height": 841
    },
    "colab_type": "code",
    "executionInfo": {
     "elapsed": 49786,
     "status": "ok",
     "timestamp": 1590332450598,
     "user": {
      "displayName": "abdullah shaikh",
      "photoUrl": "",
      "userId": "08883111522238731033"
     },
     "user_tz": -120
    },
    "id": "AB5OamnKyVKG",
    "outputId": "8152a48d-0350-4b47-f48b-99d32dcf7768"
   },
   "outputs": [
    {
     "output_type": "execute_result",
     "data": {
      "text/plain": "            Order_No       User_Id Vehicle_Type  Platform_Type  \\\n7     Order_No_18436  User_Id_3764         Bike              3   \n8      Order_No_2288  User_Id_2866         Bike              3   \n15    Order_No_14832  User_Id_3721         Bike              1   \n18     Order_No_6065   User_Id_635         Bike              3   \n24     Order_No_1930   User_Id_393         Bike              3   \n...              ...           ...          ...            ...   \n7041  Order_No_14381  User_Id_2358         Bike              4   \n7050  Order_No_15488   User_Id_186         Bike              3   \n7054  Order_No_14258  User_Id_2801         Bike              3   \n7061    Order_No_294   User_Id_393         Bike              3   \n7062  Order_No_16972   User_Id_391         Bike              3   \n\n     Personal_or_Business  Placement_Day_of_Month  Placement_Weekday  \\\n7                Business                      28                  4   \n8                Business                      28                  4   \n15               Personal                      14                  1   \n18               Business                      14                  1   \n24               Business                      14                  4   \n...                   ...                     ...                ...   \n7041             Business                      16                  2   \n7050             Business                      28                  4   \n7054             Business                      28                  4   \n7061             Business                      14                  4   \n7062             Business                      28                  4   \n\n     Placement_Time  Confirmation_Day_of_Month  Confirmation_Weekday  ...  \\\n7        8:51:13 AM                         28                     4  ...   \n8        8:58:21 AM                         28                     4  ...   \n15       2:47:50 PM                         14                     1  ...   \n18      10:10:26 AM                         14                     1  ...   \n24       9:53:04 AM                         14                     4  ...   \n...             ...                        ...                   ...  ...   \n7041    11:53:39 AM                         16                     2  ...   \n7050    11:07:20 AM                         28                     4  ...   \n7054    12:31:52 PM                         28                     4  ...   \n7061     8:56:06 AM                         14                     4  ...   \n7062    10:31:28 AM                         28                     4  ...   \n\n     Precipitation_in_millimeters  Pickup_Lat  Pickup_Long Destination_Lat  \\\n7                             NaN   -1.273539    36.833775       -1.297299   \n8                             NaN   -1.255189    36.782203       -1.285770   \n15                            NaN   -1.304382    36.784059       -1.285264   \n18                            NaN   -1.260234    36.799055       -1.301738   \n24                            NaN   -1.316711    36.830156       -1.300406   \n...                           ...         ...          ...             ...   \n7041                          NaN   -1.302222    36.758730       -1.296310   \n7050                          NaN   -1.282582    36.809235       -1.257147   \n7054                          NaN   -1.265018    36.792672       -1.259542   \n7061                          NaN   -1.316711    36.830156       -1.277071   \n7062                          NaN   -1.300921    36.828195       -1.278406   \n\n      Destination_Long      Rider_Id No_Of_Orders   Age  Average_Rating  \\\n7            36.789446   Rider_Id_62         2072  1151            13.5   \n8            36.759172  Rider_Id_177          526   286            13.6   \n15           36.822413  Rider_Id_544         2142   952            13.7   \n18           36.770681   Rider_Id_65         3054  1527            13.9   \n24           36.829741  Rider_Id_842         2035   964            13.9   \n...                ...           ...          ...   ...             ...   \n7041         36.768822  Rider_Id_156         2067  1745            14.3   \n7050         36.795063  Rider_Id_462         1850   998            14.4   \n7054         36.787118  Rider_Id_576         1486   454            14.2   \n7061         36.823109   Rider_Id_15         2316   873            13.9   \n7062         36.822293  Rider_Id_166          173   253            13.5   \n\n      No_of_Ratings  \n7               571  \n8                70  \n15              491  \n18              995  \n24              560  \n...             ...  \n7041            547  \n7050            360  \n7054            151  \n7061            552  \n7062             16  \n\n[672 rows x 29 columns]",
      "text/html": "<div>\n<style scoped>\n    .dataframe tbody tr th:only-of-type {\n        vertical-align: middle;\n    }\n\n    .dataframe tbody tr th {\n        vertical-align: top;\n    }\n\n    .dataframe thead th {\n        text-align: right;\n    }\n</style>\n<table border=\"1\" class=\"dataframe\">\n  <thead>\n    <tr style=\"text-align: right;\">\n      <th></th>\n      <th>Order_No</th>\n      <th>User_Id</th>\n      <th>Vehicle_Type</th>\n      <th>Platform_Type</th>\n      <th>Personal_or_Business</th>\n      <th>Placement_Day_of_Month</th>\n      <th>Placement_Weekday</th>\n      <th>Placement_Time</th>\n      <th>Confirmation_Day_of_Month</th>\n      <th>Confirmation_Weekday</th>\n      <th>...</th>\n      <th>Precipitation_in_millimeters</th>\n      <th>Pickup_Lat</th>\n      <th>Pickup_Long</th>\n      <th>Destination_Lat</th>\n      <th>Destination_Long</th>\n      <th>Rider_Id</th>\n      <th>No_Of_Orders</th>\n      <th>Age</th>\n      <th>Average_Rating</th>\n      <th>No_of_Ratings</th>\n    </tr>\n  </thead>\n  <tbody>\n    <tr>\n      <th>7</th>\n      <td>Order_No_18436</td>\n      <td>User_Id_3764</td>\n      <td>Bike</td>\n      <td>3</td>\n      <td>Business</td>\n      <td>28</td>\n      <td>4</td>\n      <td>8:51:13 AM</td>\n      <td>28</td>\n      <td>4</td>\n      <td>...</td>\n      <td>NaN</td>\n      <td>-1.273539</td>\n      <td>36.833775</td>\n      <td>-1.297299</td>\n      <td>36.789446</td>\n      <td>Rider_Id_62</td>\n      <td>2072</td>\n      <td>1151</td>\n      <td>13.5</td>\n      <td>571</td>\n    </tr>\n    <tr>\n      <th>8</th>\n      <td>Order_No_2288</td>\n      <td>User_Id_2866</td>\n      <td>Bike</td>\n      <td>3</td>\n      <td>Business</td>\n      <td>28</td>\n      <td>4</td>\n      <td>8:58:21 AM</td>\n      <td>28</td>\n      <td>4</td>\n      <td>...</td>\n      <td>NaN</td>\n      <td>-1.255189</td>\n      <td>36.782203</td>\n      <td>-1.285770</td>\n      <td>36.759172</td>\n      <td>Rider_Id_177</td>\n      <td>526</td>\n      <td>286</td>\n      <td>13.6</td>\n      <td>70</td>\n    </tr>\n    <tr>\n      <th>15</th>\n      <td>Order_No_14832</td>\n      <td>User_Id_3721</td>\n      <td>Bike</td>\n      <td>1</td>\n      <td>Personal</td>\n      <td>14</td>\n      <td>1</td>\n      <td>2:47:50 PM</td>\n      <td>14</td>\n      <td>1</td>\n      <td>...</td>\n      <td>NaN</td>\n      <td>-1.304382</td>\n      <td>36.784059</td>\n      <td>-1.285264</td>\n      <td>36.822413</td>\n      <td>Rider_Id_544</td>\n      <td>2142</td>\n      <td>952</td>\n      <td>13.7</td>\n      <td>491</td>\n    </tr>\n    <tr>\n      <th>18</th>\n      <td>Order_No_6065</td>\n      <td>User_Id_635</td>\n      <td>Bike</td>\n      <td>3</td>\n      <td>Business</td>\n      <td>14</td>\n      <td>1</td>\n      <td>10:10:26 AM</td>\n      <td>14</td>\n      <td>1</td>\n      <td>...</td>\n      <td>NaN</td>\n      <td>-1.260234</td>\n      <td>36.799055</td>\n      <td>-1.301738</td>\n      <td>36.770681</td>\n      <td>Rider_Id_65</td>\n      <td>3054</td>\n      <td>1527</td>\n      <td>13.9</td>\n      <td>995</td>\n    </tr>\n    <tr>\n      <th>24</th>\n      <td>Order_No_1930</td>\n      <td>User_Id_393</td>\n      <td>Bike</td>\n      <td>3</td>\n      <td>Business</td>\n      <td>14</td>\n      <td>4</td>\n      <td>9:53:04 AM</td>\n      <td>14</td>\n      <td>4</td>\n      <td>...</td>\n      <td>NaN</td>\n      <td>-1.316711</td>\n      <td>36.830156</td>\n      <td>-1.300406</td>\n      <td>36.829741</td>\n      <td>Rider_Id_842</td>\n      <td>2035</td>\n      <td>964</td>\n      <td>13.9</td>\n      <td>560</td>\n    </tr>\n    <tr>\n      <th>...</th>\n      <td>...</td>\n      <td>...</td>\n      <td>...</td>\n      <td>...</td>\n      <td>...</td>\n      <td>...</td>\n      <td>...</td>\n      <td>...</td>\n      <td>...</td>\n      <td>...</td>\n      <td>...</td>\n      <td>...</td>\n      <td>...</td>\n      <td>...</td>\n      <td>...</td>\n      <td>...</td>\n      <td>...</td>\n      <td>...</td>\n      <td>...</td>\n      <td>...</td>\n      <td>...</td>\n    </tr>\n    <tr>\n      <th>7041</th>\n      <td>Order_No_14381</td>\n      <td>User_Id_2358</td>\n      <td>Bike</td>\n      <td>4</td>\n      <td>Business</td>\n      <td>16</td>\n      <td>2</td>\n      <td>11:53:39 AM</td>\n      <td>16</td>\n      <td>2</td>\n      <td>...</td>\n      <td>NaN</td>\n      <td>-1.302222</td>\n      <td>36.758730</td>\n      <td>-1.296310</td>\n      <td>36.768822</td>\n      <td>Rider_Id_156</td>\n      <td>2067</td>\n      <td>1745</td>\n      <td>14.3</td>\n      <td>547</td>\n    </tr>\n    <tr>\n      <th>7050</th>\n      <td>Order_No_15488</td>\n      <td>User_Id_186</td>\n      <td>Bike</td>\n      <td>3</td>\n      <td>Business</td>\n      <td>28</td>\n      <td>4</td>\n      <td>11:07:20 AM</td>\n      <td>28</td>\n      <td>4</td>\n      <td>...</td>\n      <td>NaN</td>\n      <td>-1.282582</td>\n      <td>36.809235</td>\n      <td>-1.257147</td>\n      <td>36.795063</td>\n      <td>Rider_Id_462</td>\n      <td>1850</td>\n      <td>998</td>\n      <td>14.4</td>\n      <td>360</td>\n    </tr>\n    <tr>\n      <th>7054</th>\n      <td>Order_No_14258</td>\n      <td>User_Id_2801</td>\n      <td>Bike</td>\n      <td>3</td>\n      <td>Business</td>\n      <td>28</td>\n      <td>4</td>\n      <td>12:31:52 PM</td>\n      <td>28</td>\n      <td>4</td>\n      <td>...</td>\n      <td>NaN</td>\n      <td>-1.265018</td>\n      <td>36.792672</td>\n      <td>-1.259542</td>\n      <td>36.787118</td>\n      <td>Rider_Id_576</td>\n      <td>1486</td>\n      <td>454</td>\n      <td>14.2</td>\n      <td>151</td>\n    </tr>\n    <tr>\n      <th>7061</th>\n      <td>Order_No_294</td>\n      <td>User_Id_393</td>\n      <td>Bike</td>\n      <td>3</td>\n      <td>Business</td>\n      <td>14</td>\n      <td>4</td>\n      <td>8:56:06 AM</td>\n      <td>14</td>\n      <td>4</td>\n      <td>...</td>\n      <td>NaN</td>\n      <td>-1.316711</td>\n      <td>36.830156</td>\n      <td>-1.277071</td>\n      <td>36.823109</td>\n      <td>Rider_Id_15</td>\n      <td>2316</td>\n      <td>873</td>\n      <td>13.9</td>\n      <td>552</td>\n    </tr>\n    <tr>\n      <th>7062</th>\n      <td>Order_No_16972</td>\n      <td>User_Id_391</td>\n      <td>Bike</td>\n      <td>3</td>\n      <td>Business</td>\n      <td>28</td>\n      <td>4</td>\n      <td>10:31:28 AM</td>\n      <td>28</td>\n      <td>4</td>\n      <td>...</td>\n      <td>NaN</td>\n      <td>-1.300921</td>\n      <td>36.828195</td>\n      <td>-1.278406</td>\n      <td>36.822293</td>\n      <td>Rider_Id_166</td>\n      <td>173</td>\n      <td>253</td>\n      <td>13.5</td>\n      <td>16</td>\n    </tr>\n  </tbody>\n</table>\n<p>672 rows × 29 columns</p>\n</div>"
     },
     "metadata": {},
     "execution_count": 53
    }
   ],
   "source": [
    "test[test['Precipitation_in_millimeters'].isnull()]"
   ]
  },
  {
   "cell_type": "markdown",
   "metadata": {
    "colab_type": "text",
    "id": "A8gKzA4TyVKK"
   },
   "source": [
    "After investigating, it has been found that all the null values fall on specific days of the month. This gives cause to believe that it may not have rained on those days at all. Hence the precipitation on that day will be imputed with the value zero. "
   ]
  },
  {
   "cell_type": "code",
   "execution_count": 54,
   "metadata": {
    "colab": {},
    "colab_type": "code",
    "id": "3Nz5-zB5yVKL"
   },
   "outputs": [],
   "source": [
    "test['Precipitation_in_millimeters'].fillna(0, inplace=True)"
   ]
  },
  {
   "cell_type": "code",
   "execution_count": 55,
   "metadata": {
    "colab": {
     "base_uri": "https://localhost:8080/",
     "height": 1000
    },
    "colab_type": "code",
    "executionInfo": {
     "elapsed": 49747,
     "status": "ok",
     "timestamp": 1590332450600,
     "user": {
      "displayName": "abdullah shaikh",
      "photoUrl": "",
      "userId": "08883111522238731033"
     },
     "user_tz": -120
    },
    "id": "EEhzDq69yVKN",
    "outputId": "9d391e7f-a87f-4b30-b42e-b32f9e6d16e7"
   },
   "outputs": [
    {
     "output_type": "stream",
     "name": "stdout",
     "text": "<class 'pandas.core.frame.DataFrame'>\nInt64Index: 7068 entries, 0 to 7067\nData columns (total 29 columns):\n #   Column                          Non-Null Count  Dtype  \n---  ------                          --------------  -----  \n 0   Order_No                        7068 non-null   object \n 1   User_Id                         7068 non-null   object \n 2   Vehicle_Type                    7068 non-null   object \n 3   Platform_Type                   7068 non-null   int64  \n 4   Personal_or_Business            7068 non-null   object \n 5   Placement_Day_of_Month          7068 non-null   int64  \n 6   Placement_Weekday               7068 non-null   int64  \n 7   Placement_Time                  7068 non-null   object \n 8   Confirmation_Day_of_Month       7068 non-null   int64  \n 9   Confirmation_Weekday            7068 non-null   int64  \n 10  Confirmation_Time               7068 non-null   object \n 11  Arrival_at_Pickup_Day_of_Month  7068 non-null   int64  \n 12  Arrival_at_Pickup_Weekday       7068 non-null   int64  \n 13  Arrival_at_Pickup_Time          7068 non-null   object \n 14  Pickup_Day_of_Month             7068 non-null   int64  \n 15  Pickup_Weekday                  7068 non-null   int64  \n 16  Pickup_Time                     7068 non-null   object \n 17  Distance_KM                     7068 non-null   int64  \n 18  Temperature                     7068 non-null   float64\n 19  Precipitation_in_millimeters    7068 non-null   float64\n 20  Pickup_Lat                      7068 non-null   float64\n 21  Pickup_Long                     7068 non-null   float64\n 22  Destination_Lat                 7068 non-null   float64\n 23  Destination_Long                7068 non-null   float64\n 24  Rider_Id                        7068 non-null   object \n 25  No_Of_Orders                    7068 non-null   int64  \n 26  Age                             7068 non-null   int64  \n 27  Average_Rating                  7068 non-null   float64\n 28  No_of_Ratings                   7068 non-null   int64  \ndtypes: float64(7), int64(13), object(9)\nmemory usage: 1.9+ MB\n"
    }
   ],
   "source": [
    "test.info()"
   ]
  },
  {
   "cell_type": "markdown",
   "metadata": {
    "colab_type": "text",
    "id": "r4Ye5t2GyVKQ"
   },
   "source": [
    "It has now been verified that all missing values have been successfully imputed."
   ]
  },
  {
   "cell_type": "markdown",
   "metadata": {
    "colab_type": "text",
    "id": "UN49_LfvzU1A"
   },
   "source": [
    "### Encoding our data"
   ]
  },
  {
   "cell_type": "markdown",
   "metadata": {
    "colab_type": "text",
    "id": "wGFFLhoEzU1G"
   },
   "source": [
    "Text data and numerical categorical data has to first be transformed into numbers."
   ]
  },
  {
   "cell_type": "markdown",
   "metadata": {
    "colab_type": "text",
    "id": "5KvViUkD0hZ3"
   },
   "source": [
    "The `convert_time(input_df, column_name)` function built earlier will be used to take care of the time columns."
   ]
  },
  {
   "cell_type": "code",
   "execution_count": 56,
   "metadata": {
    "colab": {
     "base_uri": "https://localhost:8080/",
     "height": 841
    },
    "colab_type": "code",
    "executionInfo": {
     "elapsed": 51922,
     "status": "ok",
     "timestamp": 1590332452795,
     "user": {
      "displayName": "abdullah shaikh",
      "photoUrl": "",
      "userId": "08883111522238731033"
     },
     "user_tz": -120
    },
    "id": "mORIIEv6zU1K",
    "outputId": "04a690b6-2eb0-4655-af89-c838ae224665"
   },
   "outputs": [
    {
     "output_type": "execute_result",
     "data": {
      "text/plain": "            Order_No       User_Id Vehicle_Type  Platform_Type  \\\n0     Order_No_19248  User_Id_3355         Bike              3   \n1     Order_No_12736  User_Id_3647         Bike              3   \n2       Order_No_768  User_Id_2154         Bike              3   \n3     Order_No_15332  User_Id_2910         Bike              3   \n4     Order_No_21373  User_Id_1205         Bike              3   \n...              ...           ...          ...            ...   \n7063   Order_No_3612  User_Id_2587         Bike              3   \n7064   Order_No_7657  User_Id_3547         Bike              3   \n7065   Order_No_1969   User_Id_136         Bike              3   \n7066  Order_No_10591  User_Id_1979         Bike              3   \n7067   Order_No_1603  User_Id_1721         Bike              3   \n\n     Personal_or_Business  Placement_Day_of_Month  Placement_Weekday  \\\n0                Business                      27                  3   \n1                Business                      17                  5   \n2                Business                      27                  4   \n3                Business                      17                  1   \n4                Business                      11                  2   \n...                   ...                     ...                ...   \n7063             Business                       7                  1   \n7064             Business                      10                  3   \n7065             Business                       5                  3   \n7066             Personal                      29                  2   \n7067             Business                       4                  2   \n\n     Placement_Time  Confirmation_Day_of_Month  Confirmation_Weekday  ...  \\\n0           Evening                         27                     3  ...   \n1         Afternoon                         17                     5  ...   \n2           Morning                         27                     4  ...   \n3         Afternoon                         17                     1  ...   \n4           Morning                         11                     2  ...   \n...             ...                        ...                   ...  ...   \n7063        Morning                          7                     1  ...   \n7064      Afternoon                         10                     3  ...   \n7065      Afternoon                          5                     3  ...   \n7066      Afternoon                         29                     2  ...   \n7067      Afternoon                          4                     2  ...   \n\n     Precipitation_in_millimeters  Pickup_Lat  Pickup_Long Destination_Lat  \\\n0                             1.7   -1.333275    36.870815       -1.305249   \n1                             6.9   -1.272639    36.794723       -1.277007   \n2                             1.7   -1.290894    36.822971       -1.276574   \n3                             6.9   -1.290503    36.809646       -1.303382   \n4                             9.7   -1.281081    36.814423       -1.266467   \n...                           ...         ...          ...             ...   \n7063                          1.2   -1.258414    36.804800       -1.288780   \n7064                          1.6   -1.276141    36.771084       -1.316098   \n7065                          2.5   -1.301446    36.766138       -1.264960   \n7066                          4.0   -1.248404    36.678276       -1.272027   \n7067                         30.8   -1.255189    36.782203       -1.300406   \n\n      Destination_Long      Rider_Id No_Of_Orders   Age  Average_Rating  \\\n0            36.822390  Rider_Id_192          439  1511            13.3   \n1            36.823907  Rider_Id_868          488   273            14.4   \n2            36.851365   Rider_Id_26          833   460            13.1   \n3            36.790658  Rider_Id_685          487   560            13.7   \n4            36.792161  Rider_Id_858         4761  1120            14.1   \n...                ...           ...          ...   ...             ...   \n7063         36.816831  Rider_Id_362         1018   504            13.1   \n7064         36.913164  Rider_Id_669         6728  2702            13.9   \n7065         36.798178  Rider_Id_379         1601  1337            13.7   \n7066         36.817411  Rider_Id_474          225   878            14.1   \n7067         36.829741   Rider_Id_76          847   297            14.0   \n\n      No_of_Ratings  \n0               171  \n1                45  \n2                67  \n3                44  \n4              1010  \n...             ...  \n7063             87  \n7064           2027  \n7065            441  \n7066             66  \n7067            108  \n\n[7068 rows x 29 columns]",
      "text/html": "<div>\n<style scoped>\n    .dataframe tbody tr th:only-of-type {\n        vertical-align: middle;\n    }\n\n    .dataframe tbody tr th {\n        vertical-align: top;\n    }\n\n    .dataframe thead th {\n        text-align: right;\n    }\n</style>\n<table border=\"1\" class=\"dataframe\">\n  <thead>\n    <tr style=\"text-align: right;\">\n      <th></th>\n      <th>Order_No</th>\n      <th>User_Id</th>\n      <th>Vehicle_Type</th>\n      <th>Platform_Type</th>\n      <th>Personal_or_Business</th>\n      <th>Placement_Day_of_Month</th>\n      <th>Placement_Weekday</th>\n      <th>Placement_Time</th>\n      <th>Confirmation_Day_of_Month</th>\n      <th>Confirmation_Weekday</th>\n      <th>...</th>\n      <th>Precipitation_in_millimeters</th>\n      <th>Pickup_Lat</th>\n      <th>Pickup_Long</th>\n      <th>Destination_Lat</th>\n      <th>Destination_Long</th>\n      <th>Rider_Id</th>\n      <th>No_Of_Orders</th>\n      <th>Age</th>\n      <th>Average_Rating</th>\n      <th>No_of_Ratings</th>\n    </tr>\n  </thead>\n  <tbody>\n    <tr>\n      <th>0</th>\n      <td>Order_No_19248</td>\n      <td>User_Id_3355</td>\n      <td>Bike</td>\n      <td>3</td>\n      <td>Business</td>\n      <td>27</td>\n      <td>3</td>\n      <td>Evening</td>\n      <td>27</td>\n      <td>3</td>\n      <td>...</td>\n      <td>1.7</td>\n      <td>-1.333275</td>\n      <td>36.870815</td>\n      <td>-1.305249</td>\n      <td>36.822390</td>\n      <td>Rider_Id_192</td>\n      <td>439</td>\n      <td>1511</td>\n      <td>13.3</td>\n      <td>171</td>\n    </tr>\n    <tr>\n      <th>1</th>\n      <td>Order_No_12736</td>\n      <td>User_Id_3647</td>\n      <td>Bike</td>\n      <td>3</td>\n      <td>Business</td>\n      <td>17</td>\n      <td>5</td>\n      <td>Afternoon</td>\n      <td>17</td>\n      <td>5</td>\n      <td>...</td>\n      <td>6.9</td>\n      <td>-1.272639</td>\n      <td>36.794723</td>\n      <td>-1.277007</td>\n      <td>36.823907</td>\n      <td>Rider_Id_868</td>\n      <td>488</td>\n      <td>273</td>\n      <td>14.4</td>\n      <td>45</td>\n    </tr>\n    <tr>\n      <th>2</th>\n      <td>Order_No_768</td>\n      <td>User_Id_2154</td>\n      <td>Bike</td>\n      <td>3</td>\n      <td>Business</td>\n      <td>27</td>\n      <td>4</td>\n      <td>Morning</td>\n      <td>27</td>\n      <td>4</td>\n      <td>...</td>\n      <td>1.7</td>\n      <td>-1.290894</td>\n      <td>36.822971</td>\n      <td>-1.276574</td>\n      <td>36.851365</td>\n      <td>Rider_Id_26</td>\n      <td>833</td>\n      <td>460</td>\n      <td>13.1</td>\n      <td>67</td>\n    </tr>\n    <tr>\n      <th>3</th>\n      <td>Order_No_15332</td>\n      <td>User_Id_2910</td>\n      <td>Bike</td>\n      <td>3</td>\n      <td>Business</td>\n      <td>17</td>\n      <td>1</td>\n      <td>Afternoon</td>\n      <td>17</td>\n      <td>1</td>\n      <td>...</td>\n      <td>6.9</td>\n      <td>-1.290503</td>\n      <td>36.809646</td>\n      <td>-1.303382</td>\n      <td>36.790658</td>\n      <td>Rider_Id_685</td>\n      <td>487</td>\n      <td>560</td>\n      <td>13.7</td>\n      <td>44</td>\n    </tr>\n    <tr>\n      <th>4</th>\n      <td>Order_No_21373</td>\n      <td>User_Id_1205</td>\n      <td>Bike</td>\n      <td>3</td>\n      <td>Business</td>\n      <td>11</td>\n      <td>2</td>\n      <td>Morning</td>\n      <td>11</td>\n      <td>2</td>\n      <td>...</td>\n      <td>9.7</td>\n      <td>-1.281081</td>\n      <td>36.814423</td>\n      <td>-1.266467</td>\n      <td>36.792161</td>\n      <td>Rider_Id_858</td>\n      <td>4761</td>\n      <td>1120</td>\n      <td>14.1</td>\n      <td>1010</td>\n    </tr>\n    <tr>\n      <th>...</th>\n      <td>...</td>\n      <td>...</td>\n      <td>...</td>\n      <td>...</td>\n      <td>...</td>\n      <td>...</td>\n      <td>...</td>\n      <td>...</td>\n      <td>...</td>\n      <td>...</td>\n      <td>...</td>\n      <td>...</td>\n      <td>...</td>\n      <td>...</td>\n      <td>...</td>\n      <td>...</td>\n      <td>...</td>\n      <td>...</td>\n      <td>...</td>\n      <td>...</td>\n      <td>...</td>\n    </tr>\n    <tr>\n      <th>7063</th>\n      <td>Order_No_3612</td>\n      <td>User_Id_2587</td>\n      <td>Bike</td>\n      <td>3</td>\n      <td>Business</td>\n      <td>7</td>\n      <td>1</td>\n      <td>Morning</td>\n      <td>7</td>\n      <td>1</td>\n      <td>...</td>\n      <td>1.2</td>\n      <td>-1.258414</td>\n      <td>36.804800</td>\n      <td>-1.288780</td>\n      <td>36.816831</td>\n      <td>Rider_Id_362</td>\n      <td>1018</td>\n      <td>504</td>\n      <td>13.1</td>\n      <td>87</td>\n    </tr>\n    <tr>\n      <th>7064</th>\n      <td>Order_No_7657</td>\n      <td>User_Id_3547</td>\n      <td>Bike</td>\n      <td>3</td>\n      <td>Business</td>\n      <td>10</td>\n      <td>3</td>\n      <td>Afternoon</td>\n      <td>10</td>\n      <td>3</td>\n      <td>...</td>\n      <td>1.6</td>\n      <td>-1.276141</td>\n      <td>36.771084</td>\n      <td>-1.316098</td>\n      <td>36.913164</td>\n      <td>Rider_Id_669</td>\n      <td>6728</td>\n      <td>2702</td>\n      <td>13.9</td>\n      <td>2027</td>\n    </tr>\n    <tr>\n      <th>7065</th>\n      <td>Order_No_1969</td>\n      <td>User_Id_136</td>\n      <td>Bike</td>\n      <td>3</td>\n      <td>Business</td>\n      <td>5</td>\n      <td>3</td>\n      <td>Afternoon</td>\n      <td>5</td>\n      <td>3</td>\n      <td>...</td>\n      <td>2.5</td>\n      <td>-1.301446</td>\n      <td>36.766138</td>\n      <td>-1.264960</td>\n      <td>36.798178</td>\n      <td>Rider_Id_379</td>\n      <td>1601</td>\n      <td>1337</td>\n      <td>13.7</td>\n      <td>441</td>\n    </tr>\n    <tr>\n      <th>7066</th>\n      <td>Order_No_10591</td>\n      <td>User_Id_1979</td>\n      <td>Bike</td>\n      <td>3</td>\n      <td>Personal</td>\n      <td>29</td>\n      <td>2</td>\n      <td>Afternoon</td>\n      <td>29</td>\n      <td>2</td>\n      <td>...</td>\n      <td>4.0</td>\n      <td>-1.248404</td>\n      <td>36.678276</td>\n      <td>-1.272027</td>\n      <td>36.817411</td>\n      <td>Rider_Id_474</td>\n      <td>225</td>\n      <td>878</td>\n      <td>14.1</td>\n      <td>66</td>\n    </tr>\n    <tr>\n      <th>7067</th>\n      <td>Order_No_1603</td>\n      <td>User_Id_1721</td>\n      <td>Bike</td>\n      <td>3</td>\n      <td>Business</td>\n      <td>4</td>\n      <td>2</td>\n      <td>Afternoon</td>\n      <td>4</td>\n      <td>2</td>\n      <td>...</td>\n      <td>30.8</td>\n      <td>-1.255189</td>\n      <td>36.782203</td>\n      <td>-1.300406</td>\n      <td>36.829741</td>\n      <td>Rider_Id_76</td>\n      <td>847</td>\n      <td>297</td>\n      <td>14.0</td>\n      <td>108</td>\n    </tr>\n  </tbody>\n</table>\n<p>7068 rows × 29 columns</p>\n</div>"
     },
     "metadata": {},
     "execution_count": 56
    }
   ],
   "source": [
    "convert_time(test, 'Pickup_Time')\n",
    "convert_time(test, 'Placement_Time')\n",
    "convert_time(test, 'Confirmation_Time')\n",
    "convert_time(test, 'Arrival_at_Pickup_Time')"
   ]
  },
  {
   "cell_type": "markdown",
   "metadata": {
    "colab_type": "text",
    "id": "B5fHzR92zU1P"
   },
   "source": [
    "Time has now converted into categories according to the time of day. However, text data is to be converted into numerical data before it can be fed into the machine learning model.\n",
    "\n",
    "To facilitate this transformation from textual-categorical data to numerical equivalents, we use dummy variable encoding. "
   ]
  },
  {
   "cell_type": "code",
   "execution_count": 57,
   "metadata": {
    "colab": {},
    "colab_type": "code",
    "id": "fnHqhSNszU1Q"
   },
   "outputs": [],
   "source": [
    "columns = ['Personal_or_Business', 'Platform_Type', 'Arrival_at_Pickup_Time',\n",
    "           'Confirmation_Time', 'Placement_Time', \n",
    "           'Pickup_Time']\n",
    "test_dummies = pd.get_dummies(test, columns=columns, drop_first=True) \n",
    "\n",
    "# Again make sure that all the column names have underscores instead of whitespaces\n",
    "test_dummies.columns = [col.replace(\" \", \"_\") for col in test_dummies.columns]"
   ]
  },
  {
   "cell_type": "code",
   "execution_count": 58,
   "metadata": {
    "colab": {},
    "colab_type": "code",
    "id": "HKG7rh36zU1Z"
   },
   "outputs": [],
   "source": [
    "test_dummies.set_index('Order_No', inplace=True)"
   ]
  },
  {
   "cell_type": "code",
   "execution_count": 59,
   "metadata": {
    "colab": {
     "base_uri": "https://localhost:8080/",
     "height": 473
    },
    "colab_type": "code",
    "executionInfo": {
     "elapsed": 51841,
     "status": "ok",
     "timestamp": 1590332452799,
     "user": {
      "displayName": "abdullah shaikh",
      "photoUrl": "",
      "userId": "08883111522238731033"
     },
     "user_tz": -120
    },
    "id": "zXhdxVMCzU1c",
    "outputId": "f63ca7cf-f38e-4853-fdd7-5330c6610658"
   },
   "outputs": [
    {
     "output_type": "execute_result",
     "data": {
      "text/plain": "                     User_Id Vehicle_Type  Placement_Day_of_Month  \\\nOrder_No                                                            \nOrder_No_19248  User_Id_3355         Bike                      27   \nOrder_No_12736  User_Id_3647         Bike                      17   \nOrder_No_768    User_Id_2154         Bike                      27   \nOrder_No_15332  User_Id_2910         Bike                      17   \nOrder_No_21373  User_Id_1205         Bike                      11   \n\n                Placement_Weekday  Confirmation_Day_of_Month  \\\nOrder_No                                                       \nOrder_No_19248                  3                         27   \nOrder_No_12736                  5                         17   \nOrder_No_768                    4                         27   \nOrder_No_15332                  1                         17   \nOrder_No_21373                  2                         11   \n\n                Confirmation_Weekday  Arrival_at_Pickup_Day_of_Month  \\\nOrder_No                                                               \nOrder_No_19248                     3                              27   \nOrder_No_12736                     5                              17   \nOrder_No_768                       4                              27   \nOrder_No_15332                     1                              17   \nOrder_No_21373                     2                              11   \n\n                Arrival_at_Pickup_Weekday  Pickup_Day_of_Month  \\\nOrder_No                                                         \nOrder_No_19248                          3                   27   \nOrder_No_12736                          5                   17   \nOrder_No_768                            4                   27   \nOrder_No_15332                          1                   17   \nOrder_No_21373                          2                   11   \n\n                Pickup_Weekday  ...  Confirmation_Time_Morning  \\\nOrder_No                        ...                              \nOrder_No_19248               3  ...                          0   \nOrder_No_12736               5  ...                          0   \nOrder_No_768                 4  ...                          1   \nOrder_No_15332               1  ...                          0   \nOrder_No_21373               2  ...                          1   \n\n                Confirmation_Time_Night  Placement_Time_EarlyMorning  \\\nOrder_No                                                               \nOrder_No_19248                        0                            0   \nOrder_No_12736                        0                            0   \nOrder_No_768                          0                            0   \nOrder_No_15332                        0                            0   \nOrder_No_21373                        0                            0   \n\n                Placement_Time_Evening  Placement_Time_Morning  \\\nOrder_No                                                         \nOrder_No_19248                       1                       0   \nOrder_No_12736                       0                       0   \nOrder_No_768                         0                       1   \nOrder_No_15332                       0                       0   \nOrder_No_21373                       0                       1   \n\n                Placement_Time_Night  Pickup_Time_EarlyMorning  \\\nOrder_No                                                         \nOrder_No_19248                     0                         0   \nOrder_No_12736                     0                         0   \nOrder_No_768                       0                         0   \nOrder_No_15332                     0                         0   \nOrder_No_21373                     0                         0   \n\n               Pickup_Time_Evening  Pickup_Time_Morning  Pickup_Time_Night  \nOrder_No                                                                    \nOrder_No_19248                   1                    0                  0  \nOrder_No_12736                   0                    0                  0  \nOrder_No_768                     0                    1                  0  \nOrder_No_15332                   0                    0                  0  \nOrder_No_21373                   0                    1                  0  \n\n[5 rows x 42 columns]",
      "text/html": "<div>\n<style scoped>\n    .dataframe tbody tr th:only-of-type {\n        vertical-align: middle;\n    }\n\n    .dataframe tbody tr th {\n        vertical-align: top;\n    }\n\n    .dataframe thead th {\n        text-align: right;\n    }\n</style>\n<table border=\"1\" class=\"dataframe\">\n  <thead>\n    <tr style=\"text-align: right;\">\n      <th></th>\n      <th>User_Id</th>\n      <th>Vehicle_Type</th>\n      <th>Placement_Day_of_Month</th>\n      <th>Placement_Weekday</th>\n      <th>Confirmation_Day_of_Month</th>\n      <th>Confirmation_Weekday</th>\n      <th>Arrival_at_Pickup_Day_of_Month</th>\n      <th>Arrival_at_Pickup_Weekday</th>\n      <th>Pickup_Day_of_Month</th>\n      <th>Pickup_Weekday</th>\n      <th>...</th>\n      <th>Confirmation_Time_Morning</th>\n      <th>Confirmation_Time_Night</th>\n      <th>Placement_Time_EarlyMorning</th>\n      <th>Placement_Time_Evening</th>\n      <th>Placement_Time_Morning</th>\n      <th>Placement_Time_Night</th>\n      <th>Pickup_Time_EarlyMorning</th>\n      <th>Pickup_Time_Evening</th>\n      <th>Pickup_Time_Morning</th>\n      <th>Pickup_Time_Night</th>\n    </tr>\n    <tr>\n      <th>Order_No</th>\n      <th></th>\n      <th></th>\n      <th></th>\n      <th></th>\n      <th></th>\n      <th></th>\n      <th></th>\n      <th></th>\n      <th></th>\n      <th></th>\n      <th></th>\n      <th></th>\n      <th></th>\n      <th></th>\n      <th></th>\n      <th></th>\n      <th></th>\n      <th></th>\n      <th></th>\n      <th></th>\n      <th></th>\n    </tr>\n  </thead>\n  <tbody>\n    <tr>\n      <th>Order_No_19248</th>\n      <td>User_Id_3355</td>\n      <td>Bike</td>\n      <td>27</td>\n      <td>3</td>\n      <td>27</td>\n      <td>3</td>\n      <td>27</td>\n      <td>3</td>\n      <td>27</td>\n      <td>3</td>\n      <td>...</td>\n      <td>0</td>\n      <td>0</td>\n      <td>0</td>\n      <td>1</td>\n      <td>0</td>\n      <td>0</td>\n      <td>0</td>\n      <td>1</td>\n      <td>0</td>\n      <td>0</td>\n    </tr>\n    <tr>\n      <th>Order_No_12736</th>\n      <td>User_Id_3647</td>\n      <td>Bike</td>\n      <td>17</td>\n      <td>5</td>\n      <td>17</td>\n      <td>5</td>\n      <td>17</td>\n      <td>5</td>\n      <td>17</td>\n      <td>5</td>\n      <td>...</td>\n      <td>0</td>\n      <td>0</td>\n      <td>0</td>\n      <td>0</td>\n      <td>0</td>\n      <td>0</td>\n      <td>0</td>\n      <td>0</td>\n      <td>0</td>\n      <td>0</td>\n    </tr>\n    <tr>\n      <th>Order_No_768</th>\n      <td>User_Id_2154</td>\n      <td>Bike</td>\n      <td>27</td>\n      <td>4</td>\n      <td>27</td>\n      <td>4</td>\n      <td>27</td>\n      <td>4</td>\n      <td>27</td>\n      <td>4</td>\n      <td>...</td>\n      <td>1</td>\n      <td>0</td>\n      <td>0</td>\n      <td>0</td>\n      <td>1</td>\n      <td>0</td>\n      <td>0</td>\n      <td>0</td>\n      <td>1</td>\n      <td>0</td>\n    </tr>\n    <tr>\n      <th>Order_No_15332</th>\n      <td>User_Id_2910</td>\n      <td>Bike</td>\n      <td>17</td>\n      <td>1</td>\n      <td>17</td>\n      <td>1</td>\n      <td>17</td>\n      <td>1</td>\n      <td>17</td>\n      <td>1</td>\n      <td>...</td>\n      <td>0</td>\n      <td>0</td>\n      <td>0</td>\n      <td>0</td>\n      <td>0</td>\n      <td>0</td>\n      <td>0</td>\n      <td>0</td>\n      <td>0</td>\n      <td>0</td>\n    </tr>\n    <tr>\n      <th>Order_No_21373</th>\n      <td>User_Id_1205</td>\n      <td>Bike</td>\n      <td>11</td>\n      <td>2</td>\n      <td>11</td>\n      <td>2</td>\n      <td>11</td>\n      <td>2</td>\n      <td>11</td>\n      <td>2</td>\n      <td>...</td>\n      <td>1</td>\n      <td>0</td>\n      <td>0</td>\n      <td>0</td>\n      <td>1</td>\n      <td>0</td>\n      <td>0</td>\n      <td>0</td>\n      <td>1</td>\n      <td>0</td>\n    </tr>\n  </tbody>\n</table>\n<p>5 rows × 42 columns</p>\n</div>"
     },
     "metadata": {},
     "execution_count": 59
    }
   ],
   "source": [
    "test_dummies.head()"
   ]
  },
  {
   "cell_type": "markdown",
   "metadata": {
    "colab_type": "text",
    "id": "-zWeIqjTzU1e"
   },
   "source": [
    "The final `test_dummies` DataFrame is obtained. "
   ]
  },
  {
   "cell_type": "markdown",
   "metadata": {
    "colab_type": "text",
    "id": "chv7_bnZ2aUz"
   },
   "source": [
    "### Getting X_test"
   ]
  },
  {
   "cell_type": "code",
   "execution_count": 60,
   "metadata": {
    "colab": {},
    "colab_type": "code",
    "id": "fmeh38gx2gOT"
   },
   "outputs": [],
   "source": [
    "X_test = test_dummies[X_corr_names]"
   ]
  },
  {
   "cell_type": "markdown",
   "metadata": {
    "colab_type": "text",
    "id": "tkl63PJiMA6Q"
   },
   "source": [
    "Our final `X_test` data is obtained."
   ]
  },
  {
   "cell_type": "markdown",
   "metadata": {
    "colab_type": "text",
    "id": "MuS0ZlWIFpQX"
   },
   "source": [
    "### Getting X_test_scaled (Feature Scaling)"
   ]
  },
  {
   "cell_type": "code",
   "execution_count": 61,
   "metadata": {
    "colab": {},
    "colab_type": "code",
    "id": "F85k9MjMFpQ9"
   },
   "outputs": [],
   "source": [
    "X_test_standardised = scaler.transform(X_test.iloc[:, :3]) # Only the first 3 columns are standardized"
   ]
  },
  {
   "cell_type": "markdown",
   "metadata": {
    "colab_type": "text",
    "id": "R2UWbEEnIxgJ"
   },
   "source": [
    "Note that it is important to fit the scalers to the training data only, not to the test dataset. Only then can you use them to transform the training set and the test set.\n",
    "\n",
    "You learn the means and standard deviation of the training set, and then:\n",
    "\n",
    "1. Standardize the training set using the training set means and standard deviations.\n",
    "2. Standardize the test set using the training set means and standard deviations.\n",
    "\n",
    "This is just following the general principle: any thing you learn, must be learned from the model's training data."
   ]
  },
  {
   "cell_type": "code",
   "execution_count": 62,
   "metadata": {
    "colab": {
     "base_uri": "https://localhost:8080/",
     "height": 453
    },
    "colab_type": "code",
    "executionInfo": {
     "elapsed": 51777,
     "status": "ok",
     "timestamp": 1590332452801,
     "user": {
      "displayName": "abdullah shaikh",
      "photoUrl": "",
      "userId": "08883111522238731033"
     },
     "user_tz": -120
    },
    "id": "qdp-twbdFpRA",
    "outputId": "18d463f5-ea0a-439a-cf08-d554a04b7422"
   },
   "outputs": [
    {
     "output_type": "execute_result",
     "data": {
      "text/plain": "                Distance_KM  No_Of_Orders  Average_Rating\nOrder_No                                                 \nOrder_No_19248    -0.265757     -0.796193       -0.635904\nOrder_No_12736    -0.794967     -0.765067        0.564904\nOrder_No_768      -0.794967     -0.545918       -0.854233\nOrder_No_15332    -0.794967     -0.765703       -0.199247\nOrder_No_21373    -0.618564      1.949204        0.237411",
      "text/html": "<div>\n<style scoped>\n    .dataframe tbody tr th:only-of-type {\n        vertical-align: middle;\n    }\n\n    .dataframe tbody tr th {\n        vertical-align: top;\n    }\n\n    .dataframe thead th {\n        text-align: right;\n    }\n</style>\n<table border=\"1\" class=\"dataframe\">\n  <thead>\n    <tr style=\"text-align: right;\">\n      <th></th>\n      <th>Distance_KM</th>\n      <th>No_Of_Orders</th>\n      <th>Average_Rating</th>\n    </tr>\n    <tr>\n      <th>Order_No</th>\n      <th></th>\n      <th></th>\n      <th></th>\n    </tr>\n  </thead>\n  <tbody>\n    <tr>\n      <th>Order_No_19248</th>\n      <td>-0.265757</td>\n      <td>-0.796193</td>\n      <td>-0.635904</td>\n    </tr>\n    <tr>\n      <th>Order_No_12736</th>\n      <td>-0.794967</td>\n      <td>-0.765067</td>\n      <td>0.564904</td>\n    </tr>\n    <tr>\n      <th>Order_No_768</th>\n      <td>-0.794967</td>\n      <td>-0.545918</td>\n      <td>-0.854233</td>\n    </tr>\n    <tr>\n      <th>Order_No_15332</th>\n      <td>-0.794967</td>\n      <td>-0.765703</td>\n      <td>-0.199247</td>\n    </tr>\n    <tr>\n      <th>Order_No_21373</th>\n      <td>-0.618564</td>\n      <td>1.949204</td>\n      <td>0.237411</td>\n    </tr>\n  </tbody>\n</table>\n</div>"
     },
     "metadata": {},
     "execution_count": 62
    }
   ],
   "source": [
    "# Convert the scaled predictor values into a DataFrame\n",
    "X_test_standardised = pd.DataFrame(X_test_standardised,columns=X_test.columns[:3], index=X_test.index)\n",
    "X_test_standardised.head()"
   ]
  },
  {
   "cell_type": "code",
   "execution_count": 63,
   "metadata": {
    "colab": {},
    "colab_type": "code",
    "id": "2DjxfS4QFpRI"
   },
   "outputs": [],
   "source": [
    "# The columns not transformed are now added to this DataFrame to obtain X_test_scaled\n",
    "X_test_scaled = X_test_standardised.join(X_test.iloc[:,-5:], how='inner')"
   ]
  },
  {
   "cell_type": "code",
   "execution_count": 64,
   "metadata": {
    "colab": {},
    "colab_type": "code",
    "id": "TMcLyd-UM_hx"
   },
   "outputs": [
    {
     "output_type": "execute_result",
     "data": {
      "text/plain": "                Distance_KM  No_Of_Orders  Average_Rating  \\\nOrder_No                                                    \nOrder_No_19248    -0.265757     -0.796193       -0.635904   \nOrder_No_12736    -0.794967     -0.765067        0.564904   \nOrder_No_768      -0.794967     -0.545918       -0.854233   \nOrder_No_15332    -0.794967     -0.765703       -0.199247   \nOrder_No_21373    -0.618564      1.949204        0.237411   \n\n                Personal_or_Business_Personal  Pickup_Time_EarlyMorning  \\\nOrder_No                                                                  \nOrder_No_19248                              0                         0   \nOrder_No_12736                              0                         0   \nOrder_No_768                                0                         0   \nOrder_No_15332                              0                         0   \nOrder_No_21373                              0                         0   \n\n                Pickup_Time_Evening  Pickup_Time_Morning  Pickup_Time_Night  \nOrder_No                                                                     \nOrder_No_19248                    1                    0                  0  \nOrder_No_12736                    0                    0                  0  \nOrder_No_768                      0                    1                  0  \nOrder_No_15332                    0                    0                  0  \nOrder_No_21373                    0                    1                  0  ",
      "text/html": "<div>\n<style scoped>\n    .dataframe tbody tr th:only-of-type {\n        vertical-align: middle;\n    }\n\n    .dataframe tbody tr th {\n        vertical-align: top;\n    }\n\n    .dataframe thead th {\n        text-align: right;\n    }\n</style>\n<table border=\"1\" class=\"dataframe\">\n  <thead>\n    <tr style=\"text-align: right;\">\n      <th></th>\n      <th>Distance_KM</th>\n      <th>No_Of_Orders</th>\n      <th>Average_Rating</th>\n      <th>Personal_or_Business_Personal</th>\n      <th>Pickup_Time_EarlyMorning</th>\n      <th>Pickup_Time_Evening</th>\n      <th>Pickup_Time_Morning</th>\n      <th>Pickup_Time_Night</th>\n    </tr>\n    <tr>\n      <th>Order_No</th>\n      <th></th>\n      <th></th>\n      <th></th>\n      <th></th>\n      <th></th>\n      <th></th>\n      <th></th>\n      <th></th>\n    </tr>\n  </thead>\n  <tbody>\n    <tr>\n      <th>Order_No_19248</th>\n      <td>-0.265757</td>\n      <td>-0.796193</td>\n      <td>-0.635904</td>\n      <td>0</td>\n      <td>0</td>\n      <td>1</td>\n      <td>0</td>\n      <td>0</td>\n    </tr>\n    <tr>\n      <th>Order_No_12736</th>\n      <td>-0.794967</td>\n      <td>-0.765067</td>\n      <td>0.564904</td>\n      <td>0</td>\n      <td>0</td>\n      <td>0</td>\n      <td>0</td>\n      <td>0</td>\n    </tr>\n    <tr>\n      <th>Order_No_768</th>\n      <td>-0.794967</td>\n      <td>-0.545918</td>\n      <td>-0.854233</td>\n      <td>0</td>\n      <td>0</td>\n      <td>0</td>\n      <td>1</td>\n      <td>0</td>\n    </tr>\n    <tr>\n      <th>Order_No_15332</th>\n      <td>-0.794967</td>\n      <td>-0.765703</td>\n      <td>-0.199247</td>\n      <td>0</td>\n      <td>0</td>\n      <td>0</td>\n      <td>0</td>\n      <td>0</td>\n    </tr>\n    <tr>\n      <th>Order_No_21373</th>\n      <td>-0.618564</td>\n      <td>1.949204</td>\n      <td>0.237411</td>\n      <td>0</td>\n      <td>0</td>\n      <td>0</td>\n      <td>1</td>\n      <td>0</td>\n    </tr>\n  </tbody>\n</table>\n</div>"
     },
     "metadata": {},
     "execution_count": 64
    }
   ],
   "source": [
    "X_test_scaled.head()"
   ]
  },
  {
   "cell_type": "markdown",
   "metadata": {
    "colab_type": "text",
    "id": "UAJdZIXfFpRL"
   },
   "source": [
    "The final `X_test_scaled` is now obtained."
   ]
  },
  {
   "cell_type": "markdown",
   "metadata": {},
   "source": [
    "# Training the Linear Regression model on the whole dataset\n"
   ]
  },
  {
   "cell_type": "code",
   "execution_count": 65,
   "metadata": {},
   "outputs": [
    {
     "output_type": "execute_result",
     "data": {
      "text/plain": "LinearRegression(copy_X=True, fit_intercept=True, n_jobs=None, normalize=False)"
     },
     "metadata": {},
     "execution_count": 65
    }
   ],
   "source": [
    "from sklearn.linear_model import LinearRegression\n",
    "lin_reg = LinearRegression()\n",
    "lin_reg.fit(X_train_scaled, y_train)"
   ]
  },
  {
   "cell_type": "markdown",
   "metadata": {},
   "source": [
    "# Predicting the train set results"
   ]
  },
  {
   "cell_type": "code",
   "execution_count": 66,
   "metadata": {},
   "outputs": [],
   "source": [
    "y_pred = lin_reg.predict(X_test)"
   ]
  },
  {
   "cell_type": "markdown",
   "metadata": {},
   "source": [
    "# Training a polynomial regression model on the whole dataset"
   ]
  },
  {
   "cell_type": "code",
   "execution_count": 67,
   "metadata": {},
   "outputs": [
    {
     "output_type": "execute_result",
     "data": {
      "text/plain": "LinearRegression(copy_X=True, fit_intercept=True, n_jobs=None, normalize=False)"
     },
     "metadata": {},
     "execution_count": 67
    }
   ],
   "source": [
    "from sklearn.preprocessing import PolynomialFeatures\n",
    "poly_reg = PolynomialFeatures(degree = 4)\n",
    "X_poly = poly_reg.fit_transform(X_train_scaled)\n",
    "lin_reg_2 = LinearRegression()\n",
    "lin_reg_2.fit(X_poly, y_train)"
   ]
  },
  {
   "cell_type": "markdown",
   "metadata": {},
   "source": [
    "# Predicting the polynomial train set results"
   ]
  },
  {
   "cell_type": "code",
   "execution_count": 68,
   "metadata": {},
   "outputs": [
    {
     "output_type": "stream",
     "name": "stdout",
     "text": "[1.95e+11 2.93e+11 2.44e+12 ... 2.95e+03 1.38e+03 2.13e+03]\n"
    }
   ],
   "source": [
    "y_pred = lin_reg_2.predict(poly_reg.transform(X_test))\n",
    "np.set_printoptions(precision=2)\n",
    "print(np.concatenate((y_pred, y_train)))"
   ]
  },
  {
   "cell_type": "code",
   "execution_count": 69,
   "metadata": {},
   "outputs": [],
   "source": [
    "#extract the model intercept\n",
    "beta_0 = float(lin_reg_2.intercept_)"
   ]
  },
  {
   "cell_type": "code",
   "execution_count": 70,
   "metadata": {},
   "outputs": [
    {
     "output_type": "stream",
     "name": "stdout",
     "text": "1610.990447764528\n"
    }
   ],
   "source": [
    "print(beta_0)"
   ]
  },
  {
   "cell_type": "markdown",
   "metadata": {},
   "source": [
    "# Support Vector Regression"
   ]
  },
  {
   "cell_type": "markdown",
   "metadata": {},
   "source": [
    "## SVR Model 1"
   ]
  },
  {
   "cell_type": "markdown",
   "metadata": {},
   "source": [
    "An attempt is now made to building this model using Support Vector Regression."
   ]
  },
  {
   "cell_type": "code",
   "execution_count": 71,
   "metadata": {},
   "outputs": [
    {
     "output_type": "execute_result",
     "data": {
      "text/plain": "SVR(C=1.0, cache_size=200, coef0=0.0, degree=3, epsilon=0.1, gamma='scale',\n    kernel='rbf', max_iter=-1, shrinking=True, tol=0.001, verbose=False)"
     },
     "metadata": {},
     "execution_count": 71
    }
   ],
   "source": [
    "from sklearn.svm import SVR\n",
    "svr = SVR(kernel = 'rbf')\n",
    "svr.fit(X_train_scaled, y_train)"
   ]
  },
  {
   "cell_type": "markdown",
   "metadata": {},
   "source": [
    "The model is trained on the training set. For now, all parameters are left at their default values. They will be tweaked to optimize the model. "
   ]
  },
  {
   "cell_type": "code",
   "execution_count": 72,
   "metadata": {},
   "outputs": [],
   "source": [
    "y_pred = svr.predict(X_test_scaled)"
   ]
  },
  {
   "cell_type": "markdown",
   "metadata": {},
   "source": [
    "`y_pred` values are the predicted delivery times of the test set based on the model trained above.\n",
    "\n",
    "Since the actual delivery times were not provided by Sendy, we cannot compute the RMSE (the metric used to evaluate model performance). This is obtained by making a submission to Zindi. "
   ]
  },
  {
   "cell_type": "markdown",
   "metadata": {},
   "source": [
    "### Submission to Zindi"
   ]
  },
  {
   "cell_type": "code",
   "execution_count": 73,
   "metadata": {},
   "outputs": [],
   "source": [
    "predictions = pd.DataFrame(y_pred, columns=['Time from Pickup to Arrival'], index = X_test_scaled.index)\n",
    "predictions.reset_index(inplace=True)"
   ]
  },
  {
   "cell_type": "code",
   "execution_count": 74,
   "metadata": {},
   "outputs": [
    {
     "output_type": "execute_result",
     "data": {
      "text/plain": "            Order_No  Time from Pickup to Arrival\n0     Order_No_19248                  1345.131578\n1     Order_No_12736                   971.829452\n2       Order_No_768                  1057.304196\n3     Order_No_15332                   973.422982\n4     Order_No_21373                  1150.461660\n...              ...                          ...\n7063   Order_No_3612                  1045.129967\n7064   Order_No_7657                  1688.023828\n7065   Order_No_1969                  1448.126962\n7066  Order_No_10591                  2009.035090\n7067   Order_No_1603                  1260.132646\n\n[7068 rows x 2 columns]",
      "text/html": "<div>\n<style scoped>\n    .dataframe tbody tr th:only-of-type {\n        vertical-align: middle;\n    }\n\n    .dataframe tbody tr th {\n        vertical-align: top;\n    }\n\n    .dataframe thead th {\n        text-align: right;\n    }\n</style>\n<table border=\"1\" class=\"dataframe\">\n  <thead>\n    <tr style=\"text-align: right;\">\n      <th></th>\n      <th>Order_No</th>\n      <th>Time from Pickup to Arrival</th>\n    </tr>\n  </thead>\n  <tbody>\n    <tr>\n      <th>0</th>\n      <td>Order_No_19248</td>\n      <td>1345.131578</td>\n    </tr>\n    <tr>\n      <th>1</th>\n      <td>Order_No_12736</td>\n      <td>971.829452</td>\n    </tr>\n    <tr>\n      <th>2</th>\n      <td>Order_No_768</td>\n      <td>1057.304196</td>\n    </tr>\n    <tr>\n      <th>3</th>\n      <td>Order_No_15332</td>\n      <td>973.422982</td>\n    </tr>\n    <tr>\n      <th>4</th>\n      <td>Order_No_21373</td>\n      <td>1150.461660</td>\n    </tr>\n    <tr>\n      <th>...</th>\n      <td>...</td>\n      <td>...</td>\n    </tr>\n    <tr>\n      <th>7063</th>\n      <td>Order_No_3612</td>\n      <td>1045.129967</td>\n    </tr>\n    <tr>\n      <th>7064</th>\n      <td>Order_No_7657</td>\n      <td>1688.023828</td>\n    </tr>\n    <tr>\n      <th>7065</th>\n      <td>Order_No_1969</td>\n      <td>1448.126962</td>\n    </tr>\n    <tr>\n      <th>7066</th>\n      <td>Order_No_10591</td>\n      <td>2009.035090</td>\n    </tr>\n    <tr>\n      <th>7067</th>\n      <td>Order_No_1603</td>\n      <td>1260.132646</td>\n    </tr>\n  </tbody>\n</table>\n<p>7068 rows × 2 columns</p>\n</div>"
     },
     "metadata": {},
     "execution_count": 74
    }
   ],
   "source": [
    "predictions"
   ]
  },
  {
   "cell_type": "code",
   "execution_count": 75,
   "metadata": {},
   "outputs": [],
   "source": [
    "predictions.to_csv('SVR_Attempt1', index=False)"
   ]
  },
  {
   "cell_type": "markdown",
   "metadata": {},
   "source": [
    "This model obtained an RMSE of approximately 832. However, this can be improved by means of hyperparametric tuning. "
   ]
  },
  {
   "cell_type": "markdown",
   "metadata": {},
   "source": [
    "## SVR Model 2"
   ]
  },
  {
   "cell_type": "markdown",
   "metadata": {},
   "source": [
    "Now, optimizing of the model takes place. Here's a summary:\n",
    "\n",
    "1. `param_grid`:\n",
    "\n",
    "* `kernel`: One among 'linear', 'poly', or 'rbf' will be used\n",
    "\n",
    "*  `C`: Regularization parameter. The strength of the regularization is inversely proportional to C. Penalty imposed is a squared l2 penalty. Possible optimum values = [1, 10, 100, 1000]\n",
    "\n",
    "* `epsilon`: Specifies the epsilon-tube within which no penalty is associated in the training loss function with points predicted within a distance epsilon from the actual value. Possible optimum values = [0.01, 0.05, 0.1, 0.2, 0.3, 0.4, 0.5]\n",
    "\n",
    "*   `degree`: Degree of the polynomial kernel function (‘poly’). Ignored by all other kernels. Possible optimum values = [2, 3, 4, 5]\n",
    "\n",
    "*   `gamma`: Kernel coefficient for ‘rbf’ and ‘poly’. Since default 'scale' is a very small number, our possible optimum values = [1e-6, 1e-5, 1e-4, 1e-3, 1e-2, 0.01, 0.05, 0.1, 0.2, 0.3, 0.4, 0.5]\n",
    "\n",
    "\n",
    "\n",
    "\n",
    "\n",
    "\n"
   ]
  },
  {
   "cell_type": "markdown",
   "metadata": {},
   "source": [
    "2. `scoring`:\n",
    "‘neg_root_mean_squared_error’ since our performance metric is the RMSE.\n",
    "\n",
    "3. `cv`: The cross-validation splitting is set to 3-fold (The standard is 10-fold, but 10 would have increased the runtime; 3 is sufficient). \n",
    "\n",
    "4. `n_jobs`: -1 means using all processors (to improve runtime by ensuring all CPUs are used). \n"
   ]
  },
  {
   "cell_type": "code",
   "execution_count": 76,
   "metadata": {},
   "outputs": [],
   "source": [
    "from sklearn.model_selection import GridSearchCV\n",
    "parameters = [{'kernel': ['linear'], 'C': [1, 10, 100, 1000], \n",
    "               'epsilon': [0.01, 0.05, 0.1, 0.2, 0.3, 0.4, 0.5]},\n",
    "              {'kernel': ['rbf'], 'C': [1, 10, 100, 1000], \n",
    "               'epsilon': [0.01, 0.05, 0.1, 0.2, 0.3, 0.4, 0.5],\n",
    "               'gamma': [1e-6, 1e-5, 1e-4, 1e-3, 1e-2, 0.01, 0.05, 0.1, 0.2, 0.3, 0.4, 0.5]},\n",
    "              {'kernel': ['poly'], 'C': [1, 10, 100, 1000],\n",
    "               'epsilon': [0.01, 0.05, 0.1, 0.2, 0.3, 0.4, 0.5],\n",
    "               'gamma': [1e-6, 1e-5, 1e-4, 1e-3, 1e-2, 0.01, 0.05, 0.1, 0.2, 0.3, 0.4, 0.5],\n",
    "               'degree': [2, 3, 4, 5]}]\n",
    "\n",
    "grid_search = GridSearchCV(estimator = svr,\n",
    "                           param_grid = parameters,\n",
    "                           scoring = 'neg_root_mean_squared_error',\n",
    "                           cv = 3,\n",
    "                           n_jobs = -1)"
   ]
  },
  {
   "cell_type": "markdown",
   "metadata": {},
   "source": [
    "The following lines of code took 24633 seconds to load. For purposes of the smooth running of this notebook, they will be included in a text cell. \n",
    "\n",
    "```\n",
    "grid_search = grid_search.fit(X_train_scaled, y_train)\n",
    "best_parameters = grid_search.best_params_\n",
    "best_parameters\n",
    "```\n",
    "\n",
    "The output:\n",
    "\n",
    "\n",
    "\n",
    "```\n",
    "{'C': 1000, 'epsilon': 0.3, 'gamma': 0.1, 'kernel': 'rbf'}\n",
    "```\n",
    "\n",
    "\n",
    "\n"
   ]
  },
  {
   "cell_type": "markdown",
   "metadata": {},
   "source": [
    "The model is now built using SVR and the said hyperparameters. "
   ]
  },
  {
   "cell_type": "code",
   "execution_count": 77,
   "metadata": {},
   "outputs": [
    {
     "output_type": "execute_result",
     "data": {
      "text/plain": "SVR(C=1000, cache_size=200, coef0=0.0, degree=3, epsilon=0.3, gamma=0.1,\n    kernel='rbf', max_iter=-1, shrinking=True, tol=0.001, verbose=False)"
     },
     "metadata": {},
     "execution_count": 77
    }
   ],
   "source": [
    "from sklearn.svm import SVR\n",
    "svr = SVR(kernel = 'rbf', C = 1000, epsilon=0.3, gamma=0.1)\n",
    "svr.fit(X_train_scaled, y_train)"
   ]
  },
  {
   "cell_type": "code",
   "execution_count": 78,
   "metadata": {},
   "outputs": [],
   "source": [
    "y_pred = svr.predict(X_test_scaled)"
   ]
  },
  {
   "cell_type": "markdown",
   "metadata": {},
   "source": [
    "A submission is now made to Zindi to determine the RMSE "
   ]
  },
  {
   "cell_type": "markdown",
   "metadata": {},
   "source": [
    "### Submission to Zindi "
   ]
  },
  {
   "cell_type": "code",
   "execution_count": 79,
   "metadata": {},
   "outputs": [],
   "source": [
    "predictions = pd.DataFrame(y_pred, columns=['Time from Pickup to Arrival'], index = X_test_scaled.index)\n",
    "predictions.reset_index(inplace=True)"
   ]
  },
  {
   "cell_type": "code",
   "execution_count": 80,
   "metadata": {},
   "outputs": [
    {
     "output_type": "execute_result",
     "data": {
      "text/plain": "            Order_No  Time from Pickup to Arrival\n0     Order_No_19248                  1409.768507\n1     Order_No_12736                   964.840012\n2       Order_No_768                   960.986670\n3     Order_No_15332                   963.503651\n4     Order_No_21373                  1035.060710\n...              ...                          ...\n7063   Order_No_3612                   950.936860\n7064   Order_No_7657                  2717.454483\n7065   Order_No_1969                  1478.836142\n7066  Order_No_10591                  2296.935266\n7067   Order_No_1603                  1297.578788\n\n[7068 rows x 2 columns]",
      "text/html": "<div>\n<style scoped>\n    .dataframe tbody tr th:only-of-type {\n        vertical-align: middle;\n    }\n\n    .dataframe tbody tr th {\n        vertical-align: top;\n    }\n\n    .dataframe thead th {\n        text-align: right;\n    }\n</style>\n<table border=\"1\" class=\"dataframe\">\n  <thead>\n    <tr style=\"text-align: right;\">\n      <th></th>\n      <th>Order_No</th>\n      <th>Time from Pickup to Arrival</th>\n    </tr>\n  </thead>\n  <tbody>\n    <tr>\n      <th>0</th>\n      <td>Order_No_19248</td>\n      <td>1409.768507</td>\n    </tr>\n    <tr>\n      <th>1</th>\n      <td>Order_No_12736</td>\n      <td>964.840012</td>\n    </tr>\n    <tr>\n      <th>2</th>\n      <td>Order_No_768</td>\n      <td>960.986670</td>\n    </tr>\n    <tr>\n      <th>3</th>\n      <td>Order_No_15332</td>\n      <td>963.503651</td>\n    </tr>\n    <tr>\n      <th>4</th>\n      <td>Order_No_21373</td>\n      <td>1035.060710</td>\n    </tr>\n    <tr>\n      <th>...</th>\n      <td>...</td>\n      <td>...</td>\n    </tr>\n    <tr>\n      <th>7063</th>\n      <td>Order_No_3612</td>\n      <td>950.936860</td>\n    </tr>\n    <tr>\n      <th>7064</th>\n      <td>Order_No_7657</td>\n      <td>2717.454483</td>\n    </tr>\n    <tr>\n      <th>7065</th>\n      <td>Order_No_1969</td>\n      <td>1478.836142</td>\n    </tr>\n    <tr>\n      <th>7066</th>\n      <td>Order_No_10591</td>\n      <td>2296.935266</td>\n    </tr>\n    <tr>\n      <th>7067</th>\n      <td>Order_No_1603</td>\n      <td>1297.578788</td>\n    </tr>\n  </tbody>\n</table>\n<p>7068 rows × 2 columns</p>\n</div>"
     },
     "metadata": {},
     "execution_count": 80
    }
   ],
   "source": [
    "predictions"
   ]
  },
  {
   "cell_type": "code",
   "execution_count": 81,
   "metadata": {},
   "outputs": [],
   "source": [
    "predictions.to_csv('SVR_Attempt2', index=False)"
   ]
  },
  {
   "cell_type": "markdown",
   "metadata": {},
   "source": [
    "This model obtained an RMSE of approximately 785. A drastic improvement after the hyperparameters were tweaked.\n",
    "\n",
    "No further attempts are made using the SVR method, as using GridSearch fully optimized this model. "
   ]
  },
  {
   "cell_type": "markdown",
   "metadata": {},
   "source": [
    "#  Decision Tree  "
   ]
  },
  {
   "cell_type": "code",
   "execution_count": 82,
   "metadata": {},
   "outputs": [],
   "source": [
    "from sklearn.tree import DecisionTreeRegressor\n",
    "regr_tree = DecisionTreeRegressor(max_depth=5,random_state=42)"
   ]
  },
  {
   "cell_type": "code",
   "execution_count": 83,
   "metadata": {},
   "outputs": [
    {
     "output_type": "execute_result",
     "data": {
      "text/plain": "DecisionTreeRegressor(ccp_alpha=0.0, criterion='mse', max_depth=5,\n                      max_features=None, max_leaf_nodes=None,\n                      min_impurity_decrease=0.0, min_impurity_split=None,\n                      min_samples_leaf=1, min_samples_split=2,\n                      min_weight_fraction_leaf=0.0, presort='deprecated',\n                      random_state=42, splitter='best')"
     },
     "metadata": {},
     "execution_count": 83
    }
   ],
   "source": [
    "regr_tree.fit(X_train,y_train)"
   ]
  },
  {
   "cell_type": "markdown",
   "metadata": {},
   "source": [
    "Fit the model to get the first set of predictions"
   ]
  },
  {
   "cell_type": "code",
   "execution_count": 84,
   "metadata": {},
   "outputs": [],
   "source": [
    "y_pred = regr_tree.predict(X_test)\n",
    "Predictions1 = pd.DataFrame(data=y_pred, index=X_test.index,\n",
    "                      columns=['Time from Pickup to Arrival']).astype(int)"
   ]
  },
  {
   "cell_type": "code",
   "execution_count": 85,
   "metadata": {},
   "outputs": [
    {
     "output_type": "execute_result",
     "data": {
      "text/plain": "                Time from Pickup to Arrival\nOrder_No                                   \nOrder_No_19248                         1531\nOrder_No_12736                         1120\nOrder_No_768                           1444\nOrder_No_15332                         1120\nOrder_No_21373                         1229\n...                                     ...\nOrder_No_3612                          1444\nOrder_No_7657                          2609\nOrder_No_1969                          1684\nOrder_No_10591                         2609\nOrder_No_1603                          1531\n\n[7068 rows x 1 columns]",
      "text/html": "<div>\n<style scoped>\n    .dataframe tbody tr th:only-of-type {\n        vertical-align: middle;\n    }\n\n    .dataframe tbody tr th {\n        vertical-align: top;\n    }\n\n    .dataframe thead th {\n        text-align: right;\n    }\n</style>\n<table border=\"1\" class=\"dataframe\">\n  <thead>\n    <tr style=\"text-align: right;\">\n      <th></th>\n      <th>Time from Pickup to Arrival</th>\n    </tr>\n    <tr>\n      <th>Order_No</th>\n      <th></th>\n    </tr>\n  </thead>\n  <tbody>\n    <tr>\n      <th>Order_No_19248</th>\n      <td>1531</td>\n    </tr>\n    <tr>\n      <th>Order_No_12736</th>\n      <td>1120</td>\n    </tr>\n    <tr>\n      <th>Order_No_768</th>\n      <td>1444</td>\n    </tr>\n    <tr>\n      <th>Order_No_15332</th>\n      <td>1120</td>\n    </tr>\n    <tr>\n      <th>Order_No_21373</th>\n      <td>1229</td>\n    </tr>\n    <tr>\n      <th>...</th>\n      <td>...</td>\n    </tr>\n    <tr>\n      <th>Order_No_3612</th>\n      <td>1444</td>\n    </tr>\n    <tr>\n      <th>Order_No_7657</th>\n      <td>2609</td>\n    </tr>\n    <tr>\n      <th>Order_No_1969</th>\n      <td>1684</td>\n    </tr>\n    <tr>\n      <th>Order_No_10591</th>\n      <td>2609</td>\n    </tr>\n    <tr>\n      <th>Order_No_1603</th>\n      <td>1531</td>\n    </tr>\n  </tbody>\n</table>\n<p>7068 rows × 1 columns</p>\n</div>"
     },
     "metadata": {},
     "execution_count": 85
    }
   ],
   "source": [
    "Predictions1"
   ]
  },
  {
   "cell_type": "markdown",
   "metadata": {},
   "source": [
    "The first model that was fitted will overfit since it does not have the optimal inputs, to combat this, we do a grid search to find the optmal model"
   ]
  },
  {
   "cell_type": "markdown",
   "metadata": {},
   "source": [
    "## Decision tree Grid search"
   ]
  },
  {
   "cell_type": "code",
   "execution_count": 86,
   "metadata": {},
   "outputs": [
    {
     "output_type": "stream",
     "name": "stdout",
     "text": "RMSE 794.1637296672849\nBest Parameters: {'ccp_alpha': 0.1, 'criterion': 'mse', 'max_depth': 6, 'random_state': 42}\n"
    }
   ],
   "source": [
    "from sklearn.model_selection import GridSearchCV\n",
    "parameters = [{'criterion': ['mse'], 'max_depth': [1,2,3,4,5,6,7,8,9,10],\n",
    "             'ccp_alpha':[0.1,0.2,0.3,0.4,0.5,0.6,0.7,0.8,0.9,1],\n",
    "             'random_state': [42]}]\n",
    "grid_search = GridSearchCV(estimator = regr_tree,\n",
    "                           param_grid = parameters,\n",
    "                           scoring = 'neg_mean_squared_error',\n",
    "                           cv = 10,\n",
    "                           n_jobs = -1)\n",
    "grid_search_DT = grid_search.fit(X_train, y_train)\n",
    "best_accuracy = grid_search.best_score_\n",
    "best_parameters = grid_search.best_params_\n",
    "print(\"RMSE\",np.sqrt(-best_accuracy))\n",
    "print(\"Best Parameters:\", best_parameters)"
   ]
  },
  {
   "cell_type": "markdown",
   "metadata": {},
   "source": [
    "As expected, the RMSE reduces considerably. One again we obtain predictions using the test set"
   ]
  },
  {
   "cell_type": "code",
   "execution_count": 88,
   "metadata": {},
   "outputs": [],
   "source": [
    "y_pred = grid_search_DT.predict(X_test)\n",
    "Predictions2 = pd.DataFrame(data=y_pred, index=X_test.index,\n",
    "                      columns=['Time from Pickup to Arrival']).astype(int)"
   ]
  },
  {
   "cell_type": "code",
   "execution_count": 89,
   "metadata": {},
   "outputs": [
    {
     "output_type": "execute_result",
     "data": {
      "text/plain": "                Time from Pickup to Arrival\nOrder_No                                   \nOrder_No_19248                         1656\nOrder_No_12736                         1213\nOrder_No_768                           1316\nOrder_No_15332                         1213\nOrder_No_21373                         1235\n...                                     ...\nOrder_No_3612                          1316\nOrder_No_7657                          2629\nOrder_No_1969                          1668\nOrder_No_10591                         2629\nOrder_No_1603                          1488\n\n[7068 rows x 1 columns]",
      "text/html": "<div>\n<style scoped>\n    .dataframe tbody tr th:only-of-type {\n        vertical-align: middle;\n    }\n\n    .dataframe tbody tr th {\n        vertical-align: top;\n    }\n\n    .dataframe thead th {\n        text-align: right;\n    }\n</style>\n<table border=\"1\" class=\"dataframe\">\n  <thead>\n    <tr style=\"text-align: right;\">\n      <th></th>\n      <th>Time from Pickup to Arrival</th>\n    </tr>\n    <tr>\n      <th>Order_No</th>\n      <th></th>\n    </tr>\n  </thead>\n  <tbody>\n    <tr>\n      <th>Order_No_19248</th>\n      <td>1656</td>\n    </tr>\n    <tr>\n      <th>Order_No_12736</th>\n      <td>1213</td>\n    </tr>\n    <tr>\n      <th>Order_No_768</th>\n      <td>1316</td>\n    </tr>\n    <tr>\n      <th>Order_No_15332</th>\n      <td>1213</td>\n    </tr>\n    <tr>\n      <th>Order_No_21373</th>\n      <td>1235</td>\n    </tr>\n    <tr>\n      <th>...</th>\n      <td>...</td>\n    </tr>\n    <tr>\n      <th>Order_No_3612</th>\n      <td>1316</td>\n    </tr>\n    <tr>\n      <th>Order_No_7657</th>\n      <td>2629</td>\n    </tr>\n    <tr>\n      <th>Order_No_1969</th>\n      <td>1668</td>\n    </tr>\n    <tr>\n      <th>Order_No_10591</th>\n      <td>2629</td>\n    </tr>\n    <tr>\n      <th>Order_No_1603</th>\n      <td>1488</td>\n    </tr>\n  </tbody>\n</table>\n<p>7068 rows × 1 columns</p>\n</div>"
     },
     "metadata": {},
     "execution_count": 89
    }
   ],
   "source": [
    "Predictions2"
   ]
  },
  {
   "cell_type": "markdown",
   "metadata": {},
   "source": [
    "## Random Forest "
   ]
  },
  {
   "cell_type": "markdown",
   "metadata": {},
   "source": [
    "A random forest is fitted to the training set"
   ]
  },
  {
   "cell_type": "code",
   "execution_count": 91,
   "metadata": {},
   "outputs": [
    {
     "output_type": "execute_result",
     "data": {
      "text/plain": "RandomForestRegressor(bootstrap=True, ccp_alpha=0.0, criterion='mse',\n                      max_depth=None, max_features='auto', max_leaf_nodes=None,\n                      max_samples=None, min_impurity_decrease=0.0,\n                      min_impurity_split=None, min_samples_leaf=1,\n                      min_samples_split=2, min_weight_fraction_leaf=0.0,\n                      n_estimators=20, n_jobs=None, oob_score=False,\n                      random_state=None, verbose=0, warm_start=False)"
     },
     "metadata": {},
     "execution_count": 91
    }
   ],
   "source": [
    "from sklearn.ensemble import RandomForestRegressor\n",
    "RF = RandomForestRegressor(n_estimators=20)\n",
    "RF.fit(X_train,y_train)"
   ]
  },
  {
   "cell_type": "code",
   "execution_count": 92,
   "metadata": {},
   "outputs": [],
   "source": [
    "y_pred = RF.predict(X_test)"
   ]
  },
  {
   "cell_type": "code",
   "execution_count": 93,
   "metadata": {},
   "outputs": [],
   "source": [
    "Predictions3 = pd.DataFrame(data=y_pred, index=X_test.index,\n",
    "                      columns=['Time from Pickup to Arrival']).astype(int)"
   ]
  },
  {
   "cell_type": "code",
   "execution_count": 94,
   "metadata": {},
   "outputs": [
    {
     "output_type": "execute_result",
     "data": {
      "text/plain": "                Time from Pickup to Arrival\nOrder_No                                   \nOrder_No_19248                         1024\nOrder_No_12736                         1391\nOrder_No_768                           1093\nOrder_No_15332                         1209\nOrder_No_21373                         1114\n...                                     ...\nOrder_No_3612                          2482\nOrder_No_7657                          2773\nOrder_No_1969                          1185\nOrder_No_10591                         2402\nOrder_No_1603                          1489\n\n[7068 rows x 1 columns]",
      "text/html": "<div>\n<style scoped>\n    .dataframe tbody tr th:only-of-type {\n        vertical-align: middle;\n    }\n\n    .dataframe tbody tr th {\n        vertical-align: top;\n    }\n\n    .dataframe thead th {\n        text-align: right;\n    }\n</style>\n<table border=\"1\" class=\"dataframe\">\n  <thead>\n    <tr style=\"text-align: right;\">\n      <th></th>\n      <th>Time from Pickup to Arrival</th>\n    </tr>\n    <tr>\n      <th>Order_No</th>\n      <th></th>\n    </tr>\n  </thead>\n  <tbody>\n    <tr>\n      <th>Order_No_19248</th>\n      <td>1024</td>\n    </tr>\n    <tr>\n      <th>Order_No_12736</th>\n      <td>1391</td>\n    </tr>\n    <tr>\n      <th>Order_No_768</th>\n      <td>1093</td>\n    </tr>\n    <tr>\n      <th>Order_No_15332</th>\n      <td>1209</td>\n    </tr>\n    <tr>\n      <th>Order_No_21373</th>\n      <td>1114</td>\n    </tr>\n    <tr>\n      <th>...</th>\n      <td>...</td>\n    </tr>\n    <tr>\n      <th>Order_No_3612</th>\n      <td>2482</td>\n    </tr>\n    <tr>\n      <th>Order_No_7657</th>\n      <td>2773</td>\n    </tr>\n    <tr>\n      <th>Order_No_1969</th>\n      <td>1185</td>\n    </tr>\n    <tr>\n      <th>Order_No_10591</th>\n      <td>2402</td>\n    </tr>\n    <tr>\n      <th>Order_No_1603</th>\n      <td>1489</td>\n    </tr>\n  </tbody>\n</table>\n<p>7068 rows × 1 columns</p>\n</div>"
     },
     "metadata": {},
     "execution_count": 94
    }
   ],
   "source": [
    "Predictions3"
   ]
  },
  {
   "cell_type": "markdown",
   "metadata": {},
   "source": [
    "Even though the RMSE appears to be low, it is because the model overfits since it is does not have optimal parameters, once more, a grid search is executed"
   ]
  },
  {
   "cell_type": "markdown",
   "metadata": {},
   "source": [
    "## Random Forest Grid search"
   ]
  },
  {
   "cell_type": "code",
   "execution_count": 96,
   "metadata": {},
   "outputs": [
    {
     "output_type": "stream",
     "name": "stdout",
     "text": "RMSE 784.0158648033887\nBest Parameters: {'criterion': 'mse', 'max_depth': 9, 'n_estimators': 20, 'random_state': 42}\n"
    }
   ],
   "source": [
    "from sklearn.model_selection import GridSearchCV\n",
    "parameters = [{'criterion': ['mse'], 'max_depth': [3,4,5,6,7,8,9,10],\n",
    "            'n_estimators' : [20],\n",
    "             'random_state': [42]}]\n",
    "grid_search = GridSearchCV(estimator = RF,\n",
    "                           param_grid = parameters,\n",
    "                           scoring = 'neg_mean_squared_error',\n",
    "                           cv = 10,\n",
    "                           n_jobs = -1)\n",
    "\n",
    "grid_search_RF = grid_search.fit(X_train, y_train)\n",
    "best_accuracy = grid_search.best_score_\n",
    "best_parameters = grid_search.best_params_\n",
    "print(\"RMSE\",np.sqrt(-best_accuracy))\n",
    "print(\"Best Parameters:\", best_parameters)"
   ]
  },
  {
   "cell_type": "code",
   "execution_count": 97,
   "metadata": {},
   "outputs": [],
   "source": [
    "y_pred = grid_search_RF.predict(X_test)\n",
    "Predictions4 = pd.DataFrame(data=y_pred, index=X_test.index,\n",
    "                      columns=['Time from Pickup to Arrival']).astype(int)"
   ]
  },
  {
   "cell_type": "code",
   "execution_count": 98,
   "metadata": {},
   "outputs": [
    {
     "output_type": "execute_result",
     "data": {
      "text/plain": "                Time from Pickup to Arrival\nOrder_No                                   \nOrder_No_19248                         1580\nOrder_No_12736                         1214\nOrder_No_768                           1226\nOrder_No_15332                         1211\nOrder_No_21373                         1181\n...                                     ...\nOrder_No_3612                          1553\nOrder_No_7657                          2785\nOrder_No_1969                          1626\nOrder_No_10591                         2360\nOrder_No_1603                          1508\n\n[7068 rows x 1 columns]",
      "text/html": "<div>\n<style scoped>\n    .dataframe tbody tr th:only-of-type {\n        vertical-align: middle;\n    }\n\n    .dataframe tbody tr th {\n        vertical-align: top;\n    }\n\n    .dataframe thead th {\n        text-align: right;\n    }\n</style>\n<table border=\"1\" class=\"dataframe\">\n  <thead>\n    <tr style=\"text-align: right;\">\n      <th></th>\n      <th>Time from Pickup to Arrival</th>\n    </tr>\n    <tr>\n      <th>Order_No</th>\n      <th></th>\n    </tr>\n  </thead>\n  <tbody>\n    <tr>\n      <th>Order_No_19248</th>\n      <td>1580</td>\n    </tr>\n    <tr>\n      <th>Order_No_12736</th>\n      <td>1214</td>\n    </tr>\n    <tr>\n      <th>Order_No_768</th>\n      <td>1226</td>\n    </tr>\n    <tr>\n      <th>Order_No_15332</th>\n      <td>1211</td>\n    </tr>\n    <tr>\n      <th>Order_No_21373</th>\n      <td>1181</td>\n    </tr>\n    <tr>\n      <th>...</th>\n      <td>...</td>\n    </tr>\n    <tr>\n      <th>Order_No_3612</th>\n      <td>1553</td>\n    </tr>\n    <tr>\n      <th>Order_No_7657</th>\n      <td>2785</td>\n    </tr>\n    <tr>\n      <th>Order_No_1969</th>\n      <td>1626</td>\n    </tr>\n    <tr>\n      <th>Order_No_10591</th>\n      <td>2360</td>\n    </tr>\n    <tr>\n      <th>Order_No_1603</th>\n      <td>1508</td>\n    </tr>\n  </tbody>\n</table>\n<p>7068 rows × 1 columns</p>\n</div>"
     },
     "metadata": {},
     "execution_count": 98
    }
   ],
   "source": [
    "Predictions4"
   ]
  }
 ],
 "metadata": {
  "colab": {
   "name": "Predict_Regression.ipynb",
   "provenance": []
  },
  "kernelspec": {
   "display_name": "Python 3",
   "language": "python",
   "name": "python3"
  },
  "language_info": {
   "codemirror_mode": {
    "name": "ipython",
    "version": 3
   },
   "file_extension": ".py",
   "mimetype": "text/x-python",
   "name": "python",
   "nbconvert_exporter": "python",
   "pygments_lexer": "ipython3",
   "version": "3.7.6-final"
  }
 },
 "nbformat": 4,
 "nbformat_minor": 1
}